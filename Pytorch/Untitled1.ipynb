{
 "cells": [
  {
   "cell_type": "code",
   "execution_count": 1,
   "id": "46fd4549",
   "metadata": {
    "ExecuteTime": {
     "end_time": "2024-04-29T07:45:47.449387Z",
     "start_time": "2024-04-29T07:45:42.610344Z"
    }
   },
   "outputs": [],
   "source": [
    "import torch"
   ]
  },
  {
   "cell_type": "code",
   "execution_count": null,
   "id": "02e29cf9",
   "metadata": {
    "ExecuteTime": {
     "end_time": "2024-04-29T02:21:12.051159Z",
     "start_time": "2024-04-29T02:21:12.035379Z"
    }
   },
   "outputs": [],
   "source": [
    "x = torch.arange(12,dtype = torch.float32).reshape(3,4)\n",
    "y = torch.randn(3,4)\n",
    "print(x)\n",
    "print(y)"
   ]
  },
  {
   "cell_type": "code",
   "execution_count": null,
   "id": "5f8b5f65",
   "metadata": {
    "ExecuteTime": {
     "end_time": "2024-04-29T02:27:23.459929Z",
     "start_time": "2024-04-29T02:27:23.441701Z"
    }
   },
   "outputs": [],
   "source": [
    "x[:,-2:]"
   ]
  },
  {
   "cell_type": "code",
   "execution_count": null,
   "id": "6a4bb8ff",
   "metadata": {
    "ExecuteTime": {
     "end_time": "2024-04-29T02:32:53.249602Z",
     "start_time": "2024-04-29T02:32:53.226601Z"
    }
   },
   "outputs": [],
   "source": [
    "before = id(y)\n",
    "y = y + x\n",
    "id(y) == before"
   ]
  },
  {
   "cell_type": "code",
   "execution_count": null,
   "id": "c5774ebf",
   "metadata": {
    "ExecuteTime": {
     "end_time": "2024-04-29T02:36:06.619314Z",
     "start_time": "2024-04-29T02:36:06.600713Z"
    }
   },
   "outputs": [],
   "source": [
    "z = torch.zeros_like(y)\n",
    "print(id(z))\n",
    "z += x\n",
    "print(id(z))"
   ]
  },
  {
   "cell_type": "code",
   "execution_count": null,
   "id": "59834214",
   "metadata": {
    "ExecuteTime": {
     "end_time": "2024-04-29T02:38:35.589876Z",
     "start_time": "2024-04-29T02:38:35.566058Z"
    }
   },
   "outputs": [],
   "source": [
    "torch.tensor(x.numpy())"
   ]
  },
  {
   "cell_type": "code",
   "execution_count": null,
   "id": "a7fefa07",
   "metadata": {
    "ExecuteTime": {
     "end_time": "2024-04-29T02:39:12.757321Z",
     "start_time": "2024-04-29T02:39:12.751204Z"
    }
   },
   "outputs": [],
   "source": [
    "a = torch.tensor([34])"
   ]
  },
  {
   "cell_type": "code",
   "execution_count": null,
   "id": "63652ceb",
   "metadata": {
    "ExecuteTime": {
     "end_time": "2024-04-29T02:49:38.967504Z",
     "start_time": "2024-04-29T02:49:38.958268Z"
    }
   },
   "outputs": [],
   "source": [
    "test = torch.randn(2,3,4)\n",
    "print(test)\n",
    "test.transpose(1,0)"
   ]
  },
  {
   "cell_type": "code",
   "execution_count": null,
   "id": "daab8556",
   "metadata": {
    "ExecuteTime": {
     "end_time": "2024-04-29T03:09:52.579122Z",
     "start_time": "2024-04-29T03:09:52.574916Z"
    }
   },
   "outputs": [],
   "source": [
    "x = torch.arange(4.0)"
   ]
  },
  {
   "cell_type": "code",
   "execution_count": null,
   "id": "0b5c2279",
   "metadata": {
    "ExecuteTime": {
     "end_time": "2024-04-29T03:10:25.255963Z",
     "start_time": "2024-04-29T03:10:25.239468Z"
    }
   },
   "outputs": [],
   "source": [
    "x.requires_grad_(True)"
   ]
  },
  {
   "cell_type": "code",
   "execution_count": null,
   "id": "1f5eb999",
   "metadata": {
    "ExecuteTime": {
     "end_time": "2024-04-29T03:13:17.823006Z",
     "start_time": "2024-04-29T03:13:17.800869Z"
    }
   },
   "outputs": [],
   "source": [
    "y = 2*torch.dot(x,x)\n",
    "y"
   ]
  },
  {
   "cell_type": "code",
   "execution_count": null,
   "id": "f5cd4603",
   "metadata": {
    "ExecuteTime": {
     "end_time": "2024-04-29T03:13:36.337149Z",
     "start_time": "2024-04-29T03:13:36.306315Z"
    }
   },
   "outputs": [],
   "source": [
    "y.backward()"
   ]
  },
  {
   "cell_type": "code",
   "execution_count": null,
   "id": "b2344a9f",
   "metadata": {
    "ExecuteTime": {
     "end_time": "2024-04-29T03:14:54.705356Z",
     "start_time": "2024-04-29T03:14:54.690051Z"
    }
   },
   "outputs": [],
   "source": [
    "x.grad.zero_()"
   ]
  },
  {
   "cell_type": "code",
   "execution_count": null,
   "id": "803f2d4c",
   "metadata": {
    "ExecuteTime": {
     "end_time": "2024-04-29T03:17:27.306418Z",
     "start_time": "2024-04-29T03:17:27.291760Z"
    }
   },
   "outputs": [],
   "source": [
    "y = x.sum()\n",
    "y.backward()"
   ]
  },
  {
   "cell_type": "code",
   "execution_count": null,
   "id": "c1c2c0d7",
   "metadata": {
    "ExecuteTime": {
     "end_time": "2024-04-29T06:27:46.852011Z",
     "start_time": "2024-04-29T06:27:46.846854Z"
    }
   },
   "outputs": [],
   "source": [
    "x1 = torch.tensor(1,dtype = torch.float,requires_grad = True)"
   ]
  },
  {
   "cell_type": "code",
   "execution_count": null,
   "id": "04f06dfe",
   "metadata": {
    "ExecuteTime": {
     "end_time": "2024-04-29T06:16:23.985382Z",
     "start_time": "2024-04-29T06:16:23.979301Z"
    }
   },
   "outputs": [],
   "source": [
    "g1 = torch.autograd.grad(x1**2 , x1)[0]"
   ]
  },
  {
   "cell_type": "code",
   "execution_count": null,
   "id": "b1f999b2",
   "metadata": {
    "ExecuteTime": {
     "end_time": "2024-04-29T06:27:50.270038Z",
     "start_time": "2024-04-29T06:27:50.263578Z"
    }
   },
   "outputs": [],
   "source": [
    "(x1 ** 2).backward()"
   ]
  },
  {
   "cell_type": "code",
   "execution_count": null,
   "id": "c7a9dd1c",
   "metadata": {},
   "outputs": [],
   "source": []
  },
  {
   "cell_type": "code",
   "execution_count": null,
   "id": "0a36fce1",
   "metadata": {
    "ExecuteTime": {
     "end_time": "2024-04-29T06:34:08.603421Z",
     "start_time": "2024-04-29T06:34:08.587510Z"
    }
   },
   "outputs": [],
   "source": [
    "x = torch.tensor(1,dtype = torch.float,requires_grad = True)"
   ]
  },
  {
   "cell_type": "code",
   "execution_count": null,
   "id": "79ac75f9",
   "metadata": {
    "ExecuteTime": {
     "end_time": "2024-04-29T06:35:46.627268Z",
     "start_time": "2024-04-29T06:35:46.204408Z"
    }
   },
   "outputs": [],
   "source": [
    "optimizer = torch.optim.Adam([x], lr = 0.001)"
   ]
  },
  {
   "cell_type": "code",
   "execution_count": null,
   "id": "a9c855c6",
   "metadata": {
    "ExecuteTime": {
     "end_time": "2024-04-29T06:37:09.074773Z",
     "start_time": "2024-04-29T06:37:09.060123Z"
    }
   },
   "outputs": [],
   "source": [
    "it_time = 100\n",
    "coordinates1 = torch.zeros((it_time,2),dtype = torch.float64)"
   ]
  },
  {
   "cell_type": "code",
   "execution_count": null,
   "id": "6acd9874",
   "metadata": {
    "ExecuteTime": {
     "end_time": "2024-04-29T06:39:16.360300Z",
     "start_time": "2024-04-29T06:39:16.298862Z"
    }
   },
   "outputs": [],
   "source": [
    "for t in range(it_time):\n",
    "    y = x**2;\n",
    "    coordinates1[t,0] = x.data\n",
    "    coordinates1[t,1] = y.data\n",
    "    y.backward()\n",
    "    optimizer.step()\n",
    "    optimizer.zero_grad()"
   ]
  },
  {
   "cell_type": "code",
   "execution_count": null,
   "id": "ded8786f",
   "metadata": {
    "ExecuteTime": {
     "end_time": "2024-04-29T06:42:48.972389Z",
     "start_time": "2024-04-29T06:42:48.579899Z"
    }
   },
   "outputs": [],
   "source": [
    "import matplotlib.pyplot as plt"
   ]
  },
  {
   "cell_type": "code",
   "execution_count": null,
   "id": "e44d1ef1",
   "metadata": {
    "ExecuteTime": {
     "end_time": "2024-04-29T06:44:26.580367Z",
     "start_time": "2024-04-29T06:44:26.418221Z"
    }
   },
   "outputs": [],
   "source": [
    "plt.plot(coordinates1[:,0],coordinates1[:,1])"
   ]
  },
  {
   "cell_type": "code",
   "execution_count": 2,
   "id": "c63af618",
   "metadata": {
    "ExecuteTime": {
     "end_time": "2024-04-29T07:45:56.601928Z",
     "start_time": "2024-04-29T07:45:56.587222Z"
    }
   },
   "outputs": [],
   "source": [
    "x = torch.ones(2, 2, requires_grad=True)"
   ]
  },
  {
   "cell_type": "code",
   "execution_count": 7,
   "id": "8cfe2418",
   "metadata": {
    "ExecuteTime": {
     "end_time": "2024-04-29T07:47:16.867572Z",
     "start_time": "2024-04-29T07:47:16.857359Z"
    }
   },
   "outputs": [
    {
     "name": "stdout",
     "output_type": "stream",
     "text": [
      "tensor([[3., 3.],\n",
      "        [3., 3.]], grad_fn=<AddBackward0>)\n"
     ]
    }
   ],
   "source": [
    "y = x + 2\n",
    "print(y)"
   ]
  },
  {
   "cell_type": "code",
   "execution_count": 10,
   "id": "53ddc0f1",
   "metadata": {
    "ExecuteTime": {
     "end_time": "2024-04-29T07:48:03.511514Z",
     "start_time": "2024-04-29T07:48:03.497989Z"
    }
   },
   "outputs": [
    {
     "name": "stdout",
     "output_type": "stream",
     "text": [
      "tensor([[27., 27.],\n",
      "        [27., 27.]], grad_fn=<MulBackward0>) tensor(27., grad_fn=<MeanBackward0>)\n"
     ]
    }
   ],
   "source": [
    "z = y * y * 3\n",
    "out = z.mean()\n",
    "\n",
    "print(z, out)"
   ]
  },
  {
   "cell_type": "code",
   "execution_count": 13,
   "id": "d771b207",
   "metadata": {
    "ExecuteTime": {
     "end_time": "2024-04-29T08:06:17.955715Z",
     "start_time": "2024-04-29T08:06:17.932713Z"
    }
   },
   "outputs": [
    {
     "name": "stdout",
     "output_type": "stream",
     "text": [
      "Net(\n",
      "  (conv1): Conv2d(1, 6, kernel_size=(5, 5), stride=(1, 1))\n",
      "  (conv2): Conv2d(6, 16, kernel_size=(5, 5), stride=(1, 1))\n",
      "  (fc1): Linear(in_features=400, out_features=120, bias=True)\n",
      "  (fc2): Linear(in_features=120, out_features=84, bias=True)\n",
      "  (fc3): Linear(in_features=84, out_features=10, bias=True)\n",
      ")\n"
     ]
    }
   ],
   "source": [
    "import torch\n",
    "import torch.nn as nn\n",
    "import torch.nn.functional as F\n",
    "\n",
    "\n",
    "class Net(nn.Module):\n",
    "\n",
    "    def __init__(self):\n",
    "        super(Net, self).__init__()\n",
    "        # 1 input image channel, 6 output channels, 5x5 square convolution\n",
    "        # kernel\n",
    "        self.conv1 = nn.Conv2d(1, 6, 5)\n",
    "        self.conv2 = nn.Conv2d(6, 16, 5)\n",
    "        # an affine operation: y = Wx + b\n",
    "        self.fc1 = nn.Linear(16 * 5 * 5, 120)\n",
    "        self.fc2 = nn.Linear(120, 84)\n",
    "        self.fc3 = nn.Linear(84, 10)\n",
    "\n",
    "    def forward(self, x):\n",
    "        # Max pooling over a (2, 2) window\n",
    "        x = F.max_pool2d(F.relu(self.conv1(x)), (2, 2))\n",
    "        # If the size is a square you can only specify a single number\n",
    "        x = F.max_pool2d(F.relu(self.conv2(x)), 2)\n",
    "        x = x.view(-1, self.num_flat_features(x))\n",
    "        x = F.relu(self.fc1(x))\n",
    "        x = F.relu(self.fc2(x))\n",
    "        x = self.fc3(x)\n",
    "        return x\n",
    "\n",
    "    def num_flat_features(self, x):\n",
    "        size = x.size()[1:]  # all dimensions except the batch dimension\n",
    "        num_features = 1\n",
    "        for s in size:\n",
    "            num_features *= s\n",
    "        return num_features\n",
    "\n",
    "\n",
    "net = Net()\n",
    "print(net)"
   ]
  },
  {
   "cell_type": "code",
   "execution_count": null,
   "id": "aae47583",
   "metadata": {},
   "outputs": [],
   "source": []
  }
 ],
 "metadata": {
  "kernelspec": {
   "display_name": "Python 3 (ipykernel)",
   "language": "python",
   "name": "python3"
  },
  "language_info": {
   "codemirror_mode": {
    "name": "ipython",
    "version": 3
   },
   "file_extension": ".py",
   "mimetype": "text/x-python",
   "name": "python",
   "nbconvert_exporter": "python",
   "pygments_lexer": "ipython3",
   "version": "3.10.14"
  },
  "toc": {
   "base_numbering": 1,
   "nav_menu": {},
   "number_sections": true,
   "sideBar": true,
   "skip_h1_title": false,
   "title_cell": "Table of Contents",
   "title_sidebar": "Contents",
   "toc_cell": false,
   "toc_position": {},
   "toc_section_display": true,
   "toc_window_display": false
  }
 },
 "nbformat": 4,
 "nbformat_minor": 5
}
