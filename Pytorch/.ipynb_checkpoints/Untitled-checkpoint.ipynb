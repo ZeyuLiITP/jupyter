{
 "cells": [
  {
   "cell_type": "code",
   "execution_count": null,
   "id": "34de25ec",
   "metadata": {
    "ExecuteTime": {
     "end_time": "2024-04-29T07:15:25.476982Z",
     "start_time": "2024-04-29T07:15:21.419707Z"
    }
   },
   "outputs": [],
   "source": [
    "import torch\n",
    "import torch.nn as nn\n",
    "import seaborn as sns"
   ]
  },
  {
   "cell_type": "code",
   "execution_count": null,
   "id": "077fdd5d",
   "metadata": {
    "ExecuteTime": {
     "end_time": "2024-04-29T07:15:27.933420Z",
     "start_time": "2024-04-29T07:15:27.914853Z"
    }
   },
   "outputs": [],
   "source": [
    "import numpy as np\n",
    "import pandas as pd\n",
    "import matplotlib.pyplot as plt\n",
    "%matplotlib inline"
   ]
  },
  {
   "cell_type": "code",
   "execution_count": null,
   "id": "ecf560c5",
   "metadata": {
    "ExecuteTime": {
     "end_time": "2024-04-29T07:15:29.964652Z",
     "start_time": "2024-04-29T07:15:29.907118Z"
    }
   },
   "outputs": [],
   "source": [
    "flight_data = sns.load_dataset(\"flights\")"
   ]
  },
  {
   "cell_type": "code",
   "execution_count": null,
   "id": "875b805e",
   "metadata": {
    "ExecuteTime": {
     "end_time": "2024-04-28T06:17:36.720131Z",
     "start_time": "2024-04-28T06:17:36.713762Z"
    }
   },
   "outputs": [],
   "source": [
    "flight_data.iloc[:132]"
   ]
  },
  {
   "cell_type": "code",
   "execution_count": null,
   "id": "7a52aae6",
   "metadata": {
    "ExecuteTime": {
     "end_time": "2024-04-29T07:15:32.552819Z",
     "start_time": "2024-04-29T07:15:32.546898Z"
    }
   },
   "outputs": [],
   "source": [
    "fig_size = plt.rcParams[\"figure.figsize\"]\n",
    "fig_size[0] = 15\n",
    "fig_size[1] = 5\n",
    "plt.rcParams[\"figure.figsize\"] = fig_size\n",
    "#通过修改自带的字典增加了默认图形大小"
   ]
  },
  {
   "cell_type": "code",
   "execution_count": null,
   "id": "d16ba239",
   "metadata": {
    "ExecuteTime": {
     "end_time": "2024-04-29T07:15:36.940346Z",
     "start_time": "2024-04-29T07:15:36.766871Z"
    }
   },
   "outputs": [],
   "source": [
    "plt.title('Month vs Passenger')\n",
    "plt.ylabel('Total Passengers')\n",
    "plt.xlabel('Months')\n",
    "plt.grid(True)\n",
    "plt.autoscale(axis='x',tight=True)\n",
    "plt.plot(flight_data['passengers'])"
   ]
  },
  {
   "cell_type": "code",
   "execution_count": null,
   "id": "00cdab11",
   "metadata": {
    "ExecuteTime": {
     "end_time": "2024-04-28T06:30:58.573196Z",
     "start_time": "2024-04-28T06:30:58.564479Z"
    }
   },
   "outputs": [],
   "source": [
    "flight_data.columns"
   ]
  },
  {
   "cell_type": "code",
   "execution_count": null,
   "id": "fce12f0b",
   "metadata": {
    "ExecuteTime": {
     "end_time": "2024-04-29T07:15:43.150343Z",
     "start_time": "2024-04-29T07:15:43.146223Z"
    }
   },
   "outputs": [],
   "source": [
    "all_data = flight_data['passengers'].values.astype(float)"
   ]
  },
  {
   "cell_type": "code",
   "execution_count": null,
   "id": "4ad9c52e",
   "metadata": {
    "ExecuteTime": {
     "end_time": "2024-04-29T07:15:53.786307Z",
     "start_time": "2024-04-29T07:15:53.778727Z"
    }
   },
   "outputs": [],
   "source": [
    "test_data_size = 12"
   ]
  },
  {
   "cell_type": "code",
   "execution_count": null,
   "id": "12e2b85e",
   "metadata": {
    "ExecuteTime": {
     "end_time": "2024-04-29T07:15:54.897346Z",
     "start_time": "2024-04-29T07:15:54.890561Z"
    }
   },
   "outputs": [],
   "source": [
    "train_data = all_data[:-test_data_size]\n",
    "test_data = all_data[-test_data_size:]"
   ]
  },
  {
   "cell_type": "code",
   "execution_count": null,
   "id": "0385be7b",
   "metadata": {
    "ExecuteTime": {
     "end_time": "2024-04-29T07:15:56.561859Z",
     "start_time": "2024-04-29T07:15:56.321984Z"
    }
   },
   "outputs": [],
   "source": [
    "from sklearn.preprocessing import MinMaxScaler"
   ]
  },
  {
   "cell_type": "code",
   "execution_count": null,
   "id": "74e46941",
   "metadata": {
    "ExecuteTime": {
     "end_time": "2024-04-29T07:15:57.350115Z",
     "start_time": "2024-04-29T07:15:57.345463Z"
    }
   },
   "outputs": [],
   "source": [
    "scaler = MinMaxScaler(feature_range=(-1, 1))\n",
    "train_data_normalized = scaler.fit_transform(train_data .reshape(-1, 1))"
   ]
  },
  {
   "cell_type": "code",
   "execution_count": null,
   "id": "5c4f2863",
   "metadata": {
    "ExecuteTime": {
     "end_time": "2024-04-29T07:15:58.616160Z",
     "start_time": "2024-04-29T07:15:58.601609Z"
    }
   },
   "outputs": [],
   "source": [
    "train_data_normalized = torch.FloatTensor(train_data_normalized).view(-1)"
   ]
  },
  {
   "cell_type": "code",
   "execution_count": null,
   "id": "6391f607",
   "metadata": {
    "ExecuteTime": {
     "end_time": "2024-04-29T07:15:59.088552Z",
     "start_time": "2024-04-29T07:15:59.083290Z"
    }
   },
   "outputs": [],
   "source": [
    "train_window = 12"
   ]
  },
  {
   "cell_type": "code",
   "execution_count": null,
   "id": "b96e2554",
   "metadata": {
    "ExecuteTime": {
     "end_time": "2024-04-29T07:16:05.823325Z",
     "start_time": "2024-04-29T07:16:05.818820Z"
    }
   },
   "outputs": [],
   "source": [
    "def create_inout_sequences(inputdata,tw):\n",
    "    result = [(inputdata[i:i + tw],inputdata[i+tw]) for i in range(len(inputdata) - tw)]\n",
    "    return result"
   ]
  },
  {
   "cell_type": "code",
   "execution_count": null,
   "id": "c28b0908",
   "metadata": {
    "ExecuteTime": {
     "end_time": "2024-04-29T07:16:06.931052Z",
     "start_time": "2024-04-29T07:16:06.914749Z"
    }
   },
   "outputs": [],
   "source": [
    "train_inout_seq = create_inout_sequences(train_data_normalized, train_window)"
   ]
  },
  {
   "cell_type": "code",
   "execution_count": null,
   "id": "4b71094c",
   "metadata": {
    "ExecuteTime": {
     "end_time": "2024-04-28T07:36:48.974397Z",
     "start_time": "2024-04-28T07:36:48.964749Z"
    }
   },
   "outputs": [],
   "source": [
    "train_inout_seq[0]"
   ]
  },
  {
   "cell_type": "code",
   "execution_count": null,
   "id": "56dbbbbd",
   "metadata": {
    "ExecuteTime": {
     "end_time": "2024-04-29T07:16:28.001076Z",
     "start_time": "2024-04-29T07:16:27.994821Z"
    }
   },
   "outputs": [],
   "source": [
    "class LSTM(nn.Module):\n",
    "    def __init__(self, input_size=1, hidden_layer_size=100, output_size=1,in_features=100,out_features=1):\n",
    "        super().__init__()\n",
    "        self.hidden_layer_size = hidden_layer_size\n",
    "        self.lstm = nn.LSTM(input_size, hidden_layer_size)\n",
    "        self.linear = nn.Linear(in_features,out_features,bias=True);\n",
    "        \n",
    "    def forward(self, input_seq):\n",
    "        lstm_out, self.hidden_cell = self.lstm(input_seq.view(len(input_seq) ,1, -1), self.hidden_cell)\n",
    "        print(self.hidden_cell[0])\n",
    "        predictions = self.linear(lstm_out.view(len(input_seq), -1))\n",
    "        return predictions[-1]"
   ]
  },
  {
   "cell_type": "code",
   "execution_count": null,
   "id": "36c16856",
   "metadata": {},
   "outputs": [],
   "source": [
    "model.hidden"
   ]
  },
  {
   "cell_type": "code",
   "execution_count": null,
   "id": "cbd756cf",
   "metadata": {
    "ExecuteTime": {
     "end_time": "2024-04-29T07:17:50.776866Z",
     "start_time": "2024-04-29T07:17:50.769174Z"
    }
   },
   "outputs": [],
   "source": [
    "model = LSTM()\n",
    "loss_function = nn.MSELoss()\n",
    "optimizer = torch.optim.Adam(model.parameters(), lr=0.001)"
   ]
  },
  {
   "cell_type": "code",
   "execution_count": null,
   "id": "01726c26",
   "metadata": {
    "ExecuteTime": {
     "end_time": "2024-04-29T07:17:54.329522Z",
     "start_time": "2024-04-29T07:17:54.322119Z"
    }
   },
   "outputs": [],
   "source": [
    "seq"
   ]
  },
  {
   "cell_type": "code",
   "execution_count": null,
   "id": "da368bf3",
   "metadata": {
    "ExecuteTime": {
     "end_time": "2024-04-29T07:16:48.479945Z",
     "start_time": "2024-04-29T07:16:32.746064Z"
    }
   },
   "outputs": [],
   "source": [
    "epochs = 15\n",
    "for i in range(epochs):\n",
    "    for seq, labels in train_inout_seq:\n",
    "        optimizer.zero_grad()\n",
    "        model.hidden_cell = (torch.zeros(1, 1, model.hidden_layer_size),\n",
    "                        torch.zeros(1, 1, model.hidden_layer_size))\n",
    "\n",
    "        y_pred = model(seq)\n",
    "\n",
    "        single_loss = loss_function(y_pred, labels)\n",
    "        single_loss.backward()\n",
    "        optimizer.step()\n",
    "\n",
    "    if i%25 == 1:\n",
    "        print(f'epoch: {i:3} loss: {single_loss.item():10.8f}')\n",
    "\n",
    "print(f'epoch: {i:3} loss: {single_loss.item():10.10f}')"
   ]
  },
  {
   "cell_type": "code",
   "execution_count": null,
   "id": "0eb3c197",
   "metadata": {
    "ExecuteTime": {
     "end_time": "2024-04-28T08:33:03.708714Z",
     "start_time": "2024-04-28T08:33:03.689659Z"
    }
   },
   "outputs": [],
   "source": [
    "bs , T, i_size , h_size = 2,3,4,5\n",
    "input_data = torch.randn(bs,T,i_size)\n",
    "c0 = torch.randn(bs,h_size);\n",
    "h0 = torch.randn(bs,h_size)"
   ]
  },
  {
   "cell_type": "code",
   "execution_count": null,
   "id": "b6cedafd",
   "metadata": {
    "ExecuteTime": {
     "end_time": "2024-04-28T08:21:18.207669Z",
     "start_time": "2024-04-28T08:21:18.200884Z"
    }
   },
   "outputs": [],
   "source": [
    "lstm_layer = nn.LSTM(i_size,h_size,batch_first = True)"
   ]
  },
  {
   "cell_type": "code",
   "execution_count": null,
   "id": "c7e94fb6",
   "metadata": {
    "ExecuteTime": {
     "end_time": "2024-04-28T08:41:53.457198Z",
     "start_time": "2024-04-28T08:41:53.450440Z"
    }
   },
   "outputs": [],
   "source": [
    "output ,(hn,cn) = lstm_layer(input_data,(h0.unsqueeze(0),c0.unsqueeze(0)))"
   ]
  },
  {
   "cell_type": "code",
   "execution_count": null,
   "id": "507283a9",
   "metadata": {
    "ExecuteTime": {
     "end_time": "2024-04-28T08:42:25.176002Z",
     "start_time": "2024-04-28T08:42:25.169267Z"
    }
   },
   "outputs": [],
   "source": [
    "hn"
   ]
  },
  {
   "cell_type": "code",
   "execution_count": null,
   "id": "94169ee7",
   "metadata": {},
   "outputs": [],
   "source": []
  }
 ],
 "metadata": {
  "kernelspec": {
   "display_name": "Python 3 (ipykernel)",
   "language": "python",
   "name": "python3"
  },
  "language_info": {
   "codemirror_mode": {
    "name": "ipython",
    "version": 3
   },
   "file_extension": ".py",
   "mimetype": "text/x-python",
   "name": "python",
   "nbconvert_exporter": "python",
   "pygments_lexer": "ipython3",
   "version": "3.10.14"
  },
  "toc": {
   "base_numbering": 1,
   "nav_menu": {},
   "number_sections": true,
   "sideBar": true,
   "skip_h1_title": false,
   "title_cell": "Table of Contents",
   "title_sidebar": "Contents",
   "toc_cell": false,
   "toc_position": {},
   "toc_section_display": true,
   "toc_window_display": false
  }
 },
 "nbformat": 4,
 "nbformat_minor": 5
}
