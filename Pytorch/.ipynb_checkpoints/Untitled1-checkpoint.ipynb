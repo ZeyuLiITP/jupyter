{
 "cells": [
  {
   "cell_type": "code",
   "execution_count": null,
   "id": "6b8bb13a",
   "metadata": {
    "ExecuteTime": {
     "end_time": "2024-04-29T06:12:46.084133Z",
     "start_time": "2024-04-29T06:12:44.699831Z"
    }
   },
   "outputs": [],
   "source": [
    "import torch"
   ]
  },
  {
   "cell_type": "code",
   "execution_count": null,
   "id": "e47edeac",
   "metadata": {
    "ExecuteTime": {
     "end_time": "2024-04-29T02:21:12.051159Z",
     "start_time": "2024-04-29T02:21:12.035379Z"
    }
   },
   "outputs": [],
   "source": [
    "x = torch.arange(12,dtype = torch.float32).reshape(3,4)\n",
    "y = torch.randn(3,4)\n",
    "print(x)\n",
    "print(y)"
   ]
  },
  {
   "cell_type": "code",
   "execution_count": null,
   "id": "8d48249b",
   "metadata": {
    "ExecuteTime": {
     "end_time": "2024-04-29T02:27:23.459929Z",
     "start_time": "2024-04-29T02:27:23.441701Z"
    }
   },
   "outputs": [],
   "source": [
    "x[:,-2:]"
   ]
  },
  {
   "cell_type": "code",
   "execution_count": null,
   "id": "94ad2845",
   "metadata": {
    "ExecuteTime": {
     "end_time": "2024-04-29T02:32:53.249602Z",
     "start_time": "2024-04-29T02:32:53.226601Z"
    }
   },
   "outputs": [],
   "source": [
    "before = id(y)\n",
    "y = y + x\n",
    "id(y) == before"
   ]
  },
  {
   "cell_type": "code",
   "execution_count": null,
   "id": "8d8f5d29",
   "metadata": {
    "ExecuteTime": {
     "end_time": "2024-04-29T02:36:06.619314Z",
     "start_time": "2024-04-29T02:36:06.600713Z"
    }
   },
   "outputs": [],
   "source": [
    "z = torch.zeros_like(y)\n",
    "print(id(z))\n",
    "z += x\n",
    "print(id(z))"
   ]
  },
  {
   "cell_type": "code",
   "execution_count": null,
   "id": "3f91e981",
   "metadata": {
    "ExecuteTime": {
     "end_time": "2024-04-29T02:38:35.589876Z",
     "start_time": "2024-04-29T02:38:35.566058Z"
    }
   },
   "outputs": [],
   "source": [
    "torch.tensor(x.numpy())"
   ]
  },
  {
   "cell_type": "code",
   "execution_count": null,
   "id": "00fa0448",
   "metadata": {
    "ExecuteTime": {
     "end_time": "2024-04-29T02:39:12.757321Z",
     "start_time": "2024-04-29T02:39:12.751204Z"
    }
   },
   "outputs": [],
   "source": [
    "a = torch.tensor([34])"
   ]
  },
  {
   "cell_type": "code",
   "execution_count": null,
   "id": "db730284",
   "metadata": {
    "ExecuteTime": {
     "end_time": "2024-04-29T02:49:38.967504Z",
     "start_time": "2024-04-29T02:49:38.958268Z"
    }
   },
   "outputs": [],
   "source": [
    "test = torch.randn(2,3,4)\n",
    "print(test)\n",
    "test.transpose(1,0)"
   ]
  },
  {
   "cell_type": "code",
   "execution_count": null,
   "id": "528a723f",
   "metadata": {
    "ExecuteTime": {
     "end_time": "2024-04-29T03:09:52.579122Z",
     "start_time": "2024-04-29T03:09:52.574916Z"
    }
   },
   "outputs": [],
   "source": [
    "x = torch.arange(4.0)"
   ]
  },
  {
   "cell_type": "code",
   "execution_count": null,
   "id": "2c7775a3",
   "metadata": {
    "ExecuteTime": {
     "end_time": "2024-04-29T03:10:25.255963Z",
     "start_time": "2024-04-29T03:10:25.239468Z"
    }
   },
   "outputs": [],
   "source": [
    "x.requires_grad_(True)"
   ]
  },
  {
   "cell_type": "code",
   "execution_count": null,
   "id": "8631b5ed",
   "metadata": {
    "ExecuteTime": {
     "end_time": "2024-04-29T03:13:17.823006Z",
     "start_time": "2024-04-29T03:13:17.800869Z"
    }
   },
   "outputs": [],
   "source": [
    "y = 2*torch.dot(x,x)\n",
    "y"
   ]
  },
  {
   "cell_type": "code",
   "execution_count": null,
   "id": "135f0236",
   "metadata": {
    "ExecuteTime": {
     "end_time": "2024-04-29T03:13:36.337149Z",
     "start_time": "2024-04-29T03:13:36.306315Z"
    }
   },
   "outputs": [],
   "source": [
    "y.backward()"
   ]
  },
  {
   "cell_type": "code",
   "execution_count": null,
   "id": "a6f8b0a6",
   "metadata": {
    "ExecuteTime": {
     "end_time": "2024-04-29T03:14:54.705356Z",
     "start_time": "2024-04-29T03:14:54.690051Z"
    }
   },
   "outputs": [],
   "source": [
    "x.grad.zero_()"
   ]
  },
  {
   "cell_type": "code",
   "execution_count": null,
   "id": "445fc4c2",
   "metadata": {
    "ExecuteTime": {
     "end_time": "2024-04-29T03:17:27.306418Z",
     "start_time": "2024-04-29T03:17:27.291760Z"
    }
   },
   "outputs": [],
   "source": [
    "y = x.sum()\n",
    "y.backward()"
   ]
  },
  {
   "cell_type": "code",
   "execution_count": null,
   "id": "a648b672",
   "metadata": {
    "ExecuteTime": {
     "end_time": "2024-04-29T06:27:46.852011Z",
     "start_time": "2024-04-29T06:27:46.846854Z"
    }
   },
   "outputs": [],
   "source": [
    "x1 = torch.tensor(1,dtype = torch.float,requires_grad = True)"
   ]
  },
  {
   "cell_type": "code",
   "execution_count": null,
   "id": "97191e71",
   "metadata": {
    "ExecuteTime": {
     "end_time": "2024-04-29T06:16:23.985382Z",
     "start_time": "2024-04-29T06:16:23.979301Z"
    }
   },
   "outputs": [],
   "source": [
    "g1 = torch.autograd.grad(x1**2 , x1)[0]"
   ]
  },
  {
   "cell_type": "code",
   "execution_count": null,
   "id": "699d5c85",
   "metadata": {
    "ExecuteTime": {
     "end_time": "2024-04-29T06:27:50.270038Z",
     "start_time": "2024-04-29T06:27:50.263578Z"
    }
   },
   "outputs": [],
   "source": [
    "(x1 ** 2).backward()"
   ]
  },
  {
   "cell_type": "code",
   "execution_count": null,
   "id": "e3474b99",
   "metadata": {},
   "outputs": [],
   "source": []
  },
  {
   "cell_type": "code",
   "execution_count": null,
   "id": "aca97586",
   "metadata": {
    "ExecuteTime": {
     "end_time": "2024-04-29T06:34:08.603421Z",
     "start_time": "2024-04-29T06:34:08.587510Z"
    }
   },
   "outputs": [],
   "source": [
    "x = torch.tensor(1,dtype = torch.float,requires_grad = True)"
   ]
  },
  {
   "cell_type": "code",
   "execution_count": null,
   "id": "2d916712",
   "metadata": {
    "ExecuteTime": {
     "end_time": "2024-04-29T06:35:46.627268Z",
     "start_time": "2024-04-29T06:35:46.204408Z"
    }
   },
   "outputs": [],
   "source": [
    "optimizer = torch.optim.Adam([x], lr = 0.001)"
   ]
  },
  {
   "cell_type": "code",
   "execution_count": null,
   "id": "dfd89a60",
   "metadata": {
    "ExecuteTime": {
     "end_time": "2024-04-29T06:37:09.074773Z",
     "start_time": "2024-04-29T06:37:09.060123Z"
    }
   },
   "outputs": [],
   "source": [
    "it_time = 100\n",
    "coordinates1 = torch.zeros((it_time,2),dtype = torch.float64)"
   ]
  },
  {
   "cell_type": "code",
   "execution_count": null,
   "id": "e2e93a9f",
   "metadata": {
    "ExecuteTime": {
     "end_time": "2024-04-29T06:39:16.360300Z",
     "start_time": "2024-04-29T06:39:16.298862Z"
    }
   },
   "outputs": [],
   "source": [
    "for t in range(it_time):\n",
    "    y = x**2;\n",
    "    coordinates1[t,0] = x.data\n",
    "    coordinates1[t,1] = y.data\n",
    "    y.backward()\n",
    "    optimizer.step()\n",
    "    optimizer.zero_grad()"
   ]
  },
  {
   "cell_type": "code",
   "execution_count": null,
   "id": "1d0565cd",
   "metadata": {
    "ExecuteTime": {
     "end_time": "2024-04-29T06:42:48.972389Z",
     "start_time": "2024-04-29T06:42:48.579899Z"
    }
   },
   "outputs": [],
   "source": [
    "import matplotlib.pyplot as plt"
   ]
  },
  {
   "cell_type": "code",
   "execution_count": null,
   "id": "c072debe",
   "metadata": {
    "ExecuteTime": {
     "end_time": "2024-04-29T06:44:26.580367Z",
     "start_time": "2024-04-29T06:44:26.418221Z"
    }
   },
   "outputs": [],
   "source": [
    "plt.plot(coordinates1[:,0],coordinates1[:,1])"
   ]
  },
  {
   "cell_type": "code",
   "execution_count": null,
   "id": "289935a2",
   "metadata": {},
   "outputs": [],
   "source": []
  }
 ],
 "metadata": {
  "kernelspec": {
   "display_name": "Python 3 (ipykernel)",
   "language": "python",
   "name": "python3"
  },
  "language_info": {
   "codemirror_mode": {
    "name": "ipython",
    "version": 3
   },
   "file_extension": ".py",
   "mimetype": "text/x-python",
   "name": "python",
   "nbconvert_exporter": "python",
   "pygments_lexer": "ipython3",
   "version": "3.10.14"
  },
  "toc": {
   "base_numbering": 1,
   "nav_menu": {},
   "number_sections": true,
   "sideBar": true,
   "skip_h1_title": false,
   "title_cell": "Table of Contents",
   "title_sidebar": "Contents",
   "toc_cell": false,
   "toc_position": {},
   "toc_section_display": true,
   "toc_window_display": false
  }
 },
 "nbformat": 4,
 "nbformat_minor": 5
}
