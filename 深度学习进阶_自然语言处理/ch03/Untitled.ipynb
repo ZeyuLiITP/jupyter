{
 "cells": [
  {
   "cell_type": "code",
   "execution_count": 1,
   "id": "367555a6",
   "metadata": {
    "ExecuteTime": {
     "end_time": "2024-04-13T06:57:02.061175Z",
     "start_time": "2024-04-13T06:57:01.734287Z"
    }
   },
   "outputs": [],
   "source": [
    "import numpy as np"
   ]
  },
  {
   "cell_type": "code",
   "execution_count": 3,
   "id": "1f9f936e",
   "metadata": {
    "ExecuteTime": {
     "end_time": "2024-04-13T06:57:14.470883Z",
     "start_time": "2024-04-13T06:57:14.444160Z"
    }
   },
   "outputs": [
    {
     "data": {
      "text/plain": [
       "6"
      ]
     },
     "execution_count": 3,
     "metadata": {},
     "output_type": "execute_result"
    }
   ],
   "source": [
    "np.random.choice(10)"
   ]
  },
  {
   "cell_type": "code",
   "execution_count": 10,
   "id": "fc6ccd17",
   "metadata": {
    "ExecuteTime": {
     "end_time": "2024-04-13T07:01:12.432857Z",
     "start_time": "2024-04-13T07:01:12.410788Z"
    }
   },
   "outputs": [],
   "source": [
    "words = ['uyo','df','ceec','edgdv','xcare','xceece']\n",
    "p = [0.5,0.1,0.05,0.2,0.05,0.1]"
   ]
  },
  {
   "cell_type": "code",
   "execution_count": null,
   "id": "0ca95531",
   "metadata": {},
   "outputs": [],
   "source": []
  },
  {
   "cell_type": "code",
   "execution_count": 9,
   "id": "b033903a",
   "metadata": {
    "ExecuteTime": {
     "end_time": "2024-04-13T07:00:49.702865Z",
     "start_time": "2024-04-13T07:00:49.691835Z"
    }
   },
   "outputs": [
    {
     "data": {
      "text/plain": [
       "array(['uyo', 'edgdv', 'xceece', 'ceec'], dtype='<U6')"
      ]
     },
     "execution_count": 9,
     "metadata": {},
     "output_type": "execute_result"
    }
   ],
   "source": [
    "np.random.choice(words, size=4,replace = False)"
   ]
  },
  {
   "cell_type": "code",
   "execution_count": 17,
   "id": "2458d353",
   "metadata": {
    "ExecuteTime": {
     "end_time": "2024-04-13T07:01:54.249617Z",
     "start_time": "2024-04-13T07:01:54.234051Z"
    }
   },
   "outputs": [
    {
     "data": {
      "text/plain": [
       "'uyo'"
      ]
     },
     "execution_count": 17,
     "metadata": {},
     "output_type": "execute_result"
    }
   ],
   "source": [
    "np.random.choice(words, p=p)"
   ]
  },
  {
   "cell_type": "code",
   "execution_count": null,
   "id": "09380812",
   "metadata": {},
   "outputs": [],
   "source": []
  }
 ],
 "metadata": {
  "kernelspec": {
   "display_name": "Python 3 (ipykernel)",
   "language": "python",
   "name": "python3"
  },
  "language_info": {
   "codemirror_mode": {
    "name": "ipython",
    "version": 3
   },
   "file_extension": ".py",
   "mimetype": "text/x-python",
   "name": "python",
   "nbconvert_exporter": "python",
   "pygments_lexer": "ipython3",
   "version": "3.10.14"
  },
  "toc": {
   "base_numbering": 1,
   "nav_menu": {},
   "number_sections": true,
   "sideBar": true,
   "skip_h1_title": false,
   "title_cell": "Table of Contents",
   "title_sidebar": "Contents",
   "toc_cell": false,
   "toc_position": {},
   "toc_section_display": true,
   "toc_window_display": false
  }
 },
 "nbformat": 4,
 "nbformat_minor": 5
}
