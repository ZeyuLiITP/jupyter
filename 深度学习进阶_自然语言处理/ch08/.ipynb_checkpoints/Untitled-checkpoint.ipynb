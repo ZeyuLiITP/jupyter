{
 "cells": [
  {
   "cell_type": "code",
   "execution_count": null,
   "id": "c4d2b35f",
   "metadata": {
    "ExecuteTime": {
     "end_time": "2024-04-26T02:33:39.960131Z",
     "start_time": "2024-04-26T02:33:39.834592Z"
    }
   },
   "outputs": [],
   "source": [
    "import numpy as np"
   ]
  },
  {
   "cell_type": "code",
   "execution_count": null,
   "id": "9ea5729f",
   "metadata": {
    "ExecuteTime": {
     "end_time": "2024-04-26T02:34:25.108810Z",
     "start_time": "2024-04-26T02:34:25.096009Z"
    }
   },
   "outputs": [],
   "source": [
    "T,H = 5,4\n",
    "hs = np.random.randn(T,H)\n",
    "a = np.array([0.8,0.1,0.03,0.05,0.02])"
   ]
  },
  {
   "cell_type": "code",
   "execution_count": null,
   "id": "238bcf0c",
   "metadata": {
    "ExecuteTime": {
     "end_time": "2024-04-26T02:35:31.220517Z",
     "start_time": "2024-04-26T02:35:31.208955Z"
    }
   },
   "outputs": [],
   "source": [
    "ar = a.reshape(5,1).repeat(4,axis = 1)"
   ]
  },
  {
   "cell_type": "code",
   "execution_count": null,
   "id": "67b0ff39",
   "metadata": {
    "ExecuteTime": {
     "end_time": "2024-04-26T02:43:06.223182Z",
     "start_time": "2024-04-26T02:43:06.215143Z"
    }
   },
   "outputs": [],
   "source": [
    "hs * (a.reshape(5,1))"
   ]
  },
  {
   "cell_type": "code",
   "execution_count": null,
   "id": "96402853",
   "metadata": {},
   "outputs": [],
   "source": []
  }
 ],
 "metadata": {
  "kernelspec": {
   "display_name": "Python 3 (ipykernel)",
   "language": "python",
   "name": "python3"
  },
  "language_info": {
   "codemirror_mode": {
    "name": "ipython",
    "version": 3
   },
   "file_extension": ".py",
   "mimetype": "text/x-python",
   "name": "python",
   "nbconvert_exporter": "python",
   "pygments_lexer": "ipython3",
   "version": "3.10.14"
  },
  "toc": {
   "base_numbering": 1,
   "nav_menu": {},
   "number_sections": true,
   "sideBar": true,
   "skip_h1_title": false,
   "title_cell": "Table of Contents",
   "title_sidebar": "Contents",
   "toc_cell": false,
   "toc_position": {},
   "toc_section_display": true,
   "toc_window_display": false
  }
 },
 "nbformat": 4,
 "nbformat_minor": 5
}
