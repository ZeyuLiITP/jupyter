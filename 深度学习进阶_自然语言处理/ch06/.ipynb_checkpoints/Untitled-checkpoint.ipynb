{
 "cells": [
  {
   "cell_type": "code",
   "execution_count": 1,
   "id": "c68eb18e",
   "metadata": {
    "ExecuteTime": {
     "end_time": "2024-04-23T06:11:25.329841Z",
     "start_time": "2024-04-23T06:11:25.214194Z"
    }
   },
   "outputs": [],
   "source": [
    "import numpy as np"
   ]
  },
  {
   "cell_type": "code",
   "execution_count": 2,
   "id": "2e07e2de",
   "metadata": {
    "ExecuteTime": {
     "end_time": "2024-04-23T06:29:23.573997Z",
     "start_time": "2024-04-23T06:29:23.568461Z"
    }
   },
   "outputs": [],
   "source": [
    "import sys"
   ]
  },
  {
   "cell_type": "code",
   "execution_count": 3,
   "id": "8eea5f8b",
   "metadata": {
    "ExecuteTime": {
     "end_time": "2024-04-23T06:29:43.625329Z",
     "start_time": "2024-04-23T06:29:43.621290Z"
    }
   },
   "outputs": [],
   "source": [
    "sys.path.append('..')"
   ]
  },
  {
   "cell_type": "code",
   "execution_count": 4,
   "id": "7630bfdc",
   "metadata": {
    "ExecuteTime": {
     "end_time": "2024-04-23T06:30:09.767294Z",
     "start_time": "2024-04-23T06:30:09.759776Z"
    }
   },
   "outputs": [],
   "source": [
    "from common.functions import sigmoid"
   ]
  },
  {
   "cell_type": "code",
   "execution_count": null,
   "id": "d6f51084",
   "metadata": {},
   "outputs": [],
   "source": [
    "class LSTM:\n",
    "    def __init__(self,Wx,Wh,b):\n",
    "        self.params = [Wx,Wh,b]\n",
    "        self.grads = [np.zeros_like(Wx),np.zeros_like(Wh),np.zeros_like(b)]\n",
    "        self.cache = None;\n",
    "        \n",
    "    def forward(self,x,h_prev, c_prev):\n",
    "        Wx , Wh, b = self.params\n",
    "        N, D = x.shape;\n",
    "        N, H = h_prev.shape;\n",
    "        \n",
    "        A = np.dot(x,Wx) + np.dot(h_prev,Wh) + b;\n",
    "        f = A[:,H]\n",
    "        g = A[:,H:2*H];\n",
    "        i = A[:,2*H:3*H];\n",
    "        o = A[:,3*H:]\n",
    "        \n",
    "        f = sigmoid(f);\n",
    "        g = np.tanh(g);\n",
    "        i = sigmoid(i);\n",
    "        o = sigmoid(o);\n",
    "        \n",
    "        c_next = f*c_prev + g*i\n",
    "        h_next = np.tanh(c_next) * o\n",
    "        self.cache = (x, h_prev , c_prev, i ,f ,g,o, c_next);\n",
    "        return h_next,c_next"
   ]
  },
  {
   "cell_type": "code",
   "execution_count": 5,
   "id": "79a34ddf",
   "metadata": {
    "ExecuteTime": {
     "end_time": "2024-04-23T06:40:15.540225Z",
     "start_time": "2024-04-23T06:40:15.533817Z"
    }
   },
   "outputs": [
    {
     "name": "stdout",
     "output_type": "stream",
     "text": [
      "[1 2 3 4 5 6]\n",
      "[[1 2 5 6]\n",
      " [3 4 7 8]]\n"
     ]
    }
   ],
   "source": [
    "# 创建两个一维数组\n",
    "array1 = np.array([1, 2, 3])\n",
    "array2 = np.array([4, 5, 6])\n",
    "\n",
    "# 创建两个二维数组\n",
    "array3 = np.array([[1, 2], [3, 4]])\n",
    "array4 = np.array([[5, 6], [7, 8]])\n",
    "\n",
    "# 使用np.hstack沿水平方向堆叠数组\n",
    "stacked_array1 = np.hstack((array1, array2))\n",
    "stacked_array2 = np.hstack((array3, array4))\n",
    "\n",
    "# 输出堆叠后的数组\n",
    "print(stacked_array1)  # 输出: [1 2 3 4 5 6]\n",
    "print(stacked_array2)  # 输出:\n"
   ]
  },
  {
   "cell_type": "code",
   "execution_count": 6,
   "id": "1f3db95c",
   "metadata": {
    "ExecuteTime": {
     "end_time": "2024-04-23T06:47:05.182830Z",
     "start_time": "2024-04-23T06:47:05.171064Z"
    }
   },
   "outputs": [],
   "source": [
    "def f(x,y):\n",
    "    return x+y"
   ]
  },
  {
   "cell_type": "code",
   "execution_count": 10,
   "id": "906d3ac5",
   "metadata": {
    "ExecuteTime": {
     "end_time": "2024-04-23T06:47:24.088348Z",
     "start_time": "2024-04-23T06:47:24.081902Z"
    }
   },
   "outputs": [
    {
     "data": {
      "text/plain": [
       "3"
      ]
     },
     "execution_count": 10,
     "metadata": {},
     "output_type": "execute_result"
    }
   ],
   "source": [
    "f(*[1,2])"
   ]
  },
  {
   "cell_type": "code",
   "execution_count": null,
   "id": "22a15b84",
   "metadata": {},
   "outputs": [],
   "source": []
  }
 ],
 "metadata": {
  "kernelspec": {
   "display_name": "Python 3 (ipykernel)",
   "language": "python",
   "name": "python3"
  },
  "language_info": {
   "codemirror_mode": {
    "name": "ipython",
    "version": 3
   },
   "file_extension": ".py",
   "mimetype": "text/x-python",
   "name": "python",
   "nbconvert_exporter": "python",
   "pygments_lexer": "ipython3",
   "version": "3.10.14"
  },
  "toc": {
   "base_numbering": 1,
   "nav_menu": {},
   "number_sections": true,
   "sideBar": true,
   "skip_h1_title": false,
   "title_cell": "Table of Contents",
   "title_sidebar": "Contents",
   "toc_cell": false,
   "toc_position": {},
   "toc_section_display": true,
   "toc_window_display": false
  }
 },
 "nbformat": 4,
 "nbformat_minor": 5
}
