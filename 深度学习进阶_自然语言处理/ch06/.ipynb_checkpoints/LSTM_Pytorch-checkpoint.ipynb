{
 "cells": [
  {
   "cell_type": "code",
   "execution_count": 1,
   "id": "08c56141",
   "metadata": {
    "ExecuteTime": {
     "end_time": "2024-05-06T07:37:08.204600Z",
     "start_time": "2024-05-06T07:37:07.223346Z"
    }
   },
   "outputs": [],
   "source": [
    "import torch\n",
    "from torch import nn\n",
    "import numpy as np\n",
    "import sys\n",
    "sys.path.append('..')\n",
    "from dataset import ptb\n",
    "\n",
    "def to_one_hot(t_train, vocab_size):\n",
    "    # 使用NumPy的eye函数创建一个独热编码矩阵\n",
    "    one_hot_matrix = np.eye(vocab_size)[t_train]\n",
    "    return torch.tensor(one_hot_matrix)"
   ]
  },
  {
   "cell_type": "code",
   "execution_count": 2,
   "id": "ae9e2626",
   "metadata": {
    "ExecuteTime": {
     "end_time": "2024-05-06T07:37:09.213985Z",
     "start_time": "2024-05-06T07:37:09.209131Z"
    }
   },
   "outputs": [],
   "source": [
    "# 设定超参数\n",
    "batch_size = 20\n",
    "wordvec_size = 100\n",
    "hidden_size = 100  # RNN的隐藏状态向量的元素个数\n",
    "time_size = 35  # RNN的展开大小\n",
    "lr = 20.0\n",
    "max_epoch = 1\n",
    "max_grad = 0.25"
   ]
  },
  {
   "cell_type": "code",
   "execution_count": null,
   "id": "2037dc6c",
   "metadata": {
    "ExecuteTime": {
     "end_time": "2024-05-05T03:47:33.081630Z",
     "start_time": "2024-05-05T03:47:33.046569Z"
    }
   },
   "outputs": [],
   "source": [
    "corpus, word_to_id, id_to_word = ptb.load_data('train')\n",
    "corpus_test, _, _ = ptb.load_data('test')\n",
    "vocab_size = len(word_to_id)\n",
    "xs = corpus[:-1]\n",
    "ts = corpus[1:]\n",
    "data_size = len(xs)"
   ]
  },
  {
   "cell_type": "code",
   "execution_count": null,
   "id": "27fc10c7",
   "metadata": {
    "ExecuteTime": {
     "end_time": "2024-05-05T03:47:35.620289Z",
     "start_time": "2024-05-05T03:47:35.615473Z"
    }
   },
   "outputs": [],
   "source": [
    "max_iters = data_size // (batch_size * time_size)\n",
    "jump = (data_size - 1) // batch_size\n",
    "offsets = [i * jump for i in range(batch_size)]\n",
    "time_idx = 0"
   ]
  },
  {
   "cell_type": "code",
   "execution_count": null,
   "id": "04b842f2",
   "metadata": {
    "ExecuteTime": {
     "end_time": "2024-05-04T06:08:12.949085Z",
     "start_time": "2024-05-04T06:08:12.942540Z"
    }
   },
   "outputs": [],
   "source": []
  },
  {
   "cell_type": "code",
   "execution_count": null,
   "id": "a2fcc832",
   "metadata": {
    "ExecuteTime": {
     "end_time": "2024-05-04T02:49:55.510390Z",
     "start_time": "2024-05-04T02:49:55.501719Z"
    }
   },
   "outputs": [],
   "source": []
  },
  {
   "cell_type": "markdown",
   "id": "b200092d",
   "metadata": {
    "ExecuteTime": {
     "end_time": "2024-05-04T03:21:00.159223Z",
     "start_time": "2024-05-04T03:21:00.149005Z"
    }
   },
   "source": [
    "# Normal LSTM"
   ]
  },
  {
   "cell_type": "code",
   "execution_count": null,
   "id": "411942d5",
   "metadata": {
    "ExecuteTime": {
     "end_time": "2024-05-05T03:47:38.481617Z",
     "start_time": "2024-05-05T03:47:38.455901Z"
    }
   },
   "outputs": [],
   "source": [
    "class lstm_torch(nn.Module):\n",
    "    \n",
    "    def __init__(self,vocab_size, wordvec_size, hidden_size):\n",
    "        super().__init__()\n",
    "        self.embed = nn.Embedding(vocab_size,wordvec_size)\n",
    "        nn.init.xavier_normal_(self.embed.weight)\n",
    "        \n",
    "        self.lstm = nn.LSTM(wordvec_size, hidden_size, batch_first = True)\n",
    "        nn.init.xavier_normal_(self.lstm.weight_hh_l0)\n",
    "        nn.init.xavier_normal_(self.lstm.weight_ih_l0)\n",
    "        \n",
    "        self.linear = nn.Linear(hidden_size, vocab_size)\n",
    "        nn.init.xavier_normal_(self.linear.weight)\n",
    "    \n",
    "    def forward(self, seq, h_0 ,c_0 ):\n",
    "        N , T  = seq.size()\n",
    "        word_embed = self.embed(seq);\n",
    "        out , (h_0 , c_0) = self.lstm(word_embed, (h_0 , c_0))\n",
    "        out = out.reshape(N*T,-1);\n",
    "        out= self.linear(out)\n",
    "        \n",
    "        return out , (h_0 , c_0)"
   ]
  },
  {
   "cell_type": "code",
   "execution_count": null,
   "id": "67686436",
   "metadata": {},
   "outputs": [],
   "source": [
    "torch.nn.utils.clip_grad_value_(model.parameters(), clip_value = max_grad)"
   ]
  },
  {
   "cell_type": "code",
   "execution_count": null,
   "id": "a3aecedf",
   "metadata": {
    "ExecuteTime": {
     "end_time": "2024-05-05T03:47:46.913554Z",
     "start_time": "2024-05-05T03:47:45.840217Z"
    }
   },
   "outputs": [],
   "source": [
    "model = lstm_torch(vocab_size,wordvec_size,hidden_size)\n",
    "h_0 = torch.zeros((1,batch_size,hidden_size))\n",
    "c_0 = torch.zeros((1,batch_size,hidden_size))\n",
    "criterion = nn.CrossEntropyLoss()\n",
    "optimizer = torch.optim.Adam(model.parameters(), lr=0.01)"
   ]
  },
  {
   "cell_type": "code",
   "execution_count": null,
   "id": "83b5425e",
   "metadata": {
    "ExecuteTime": {
     "end_time": "2024-05-05T03:47:48.507834Z",
     "start_time": "2024-05-05T03:47:48.503787Z"
    }
   },
   "outputs": [],
   "source": [
    "time_idx=0\n",
    "ppl_list = []\n",
    "total_loss = 0\n",
    "loss_count = 0"
   ]
  },
  {
   "cell_type": "code",
   "execution_count": null,
   "id": "69ef9559",
   "metadata": {
    "ExecuteTime": {
     "end_time": "2024-05-05T02:12:51.790997Z",
     "start_time": "2024-05-05T02:12:26.644899Z"
    },
    "code_folding": [
     0
    ]
   },
   "outputs": [],
   "source": [
    "for iter in range(max_iters):\n",
    "    batch_x = np.empty((batch_size, time_size), dtype='i')\n",
    "    batch_t = np.empty((batch_size, time_size), dtype='i')\n",
    "    for t in range(time_size):\n",
    "        for i , offset in enumerate(offsets):\n",
    "            batch_x[i,t] = xs[( time_idx + offset) % data_size]\n",
    "            batch_t[i,t] = ts[( time_idx + offset) % data_size]\n",
    "        time_idx +=1\n",
    "        \n",
    "    \n",
    "    batch_x_tensor = torch.tensor(batch_x)\n",
    "    batch_t_tensor = torch.tensor(batch_t)\n",
    "    batch_t_tensor = to_one_hot(batch_t_tensor, vocab_size)\n",
    "    out , (h_0 , c_0) = model(batch_x_tensor, h_0, c_0)\n",
    "    batch_t_tensor = batch_t_tensor.reshape(batch_size*time_size,-1)\n",
    "    \n",
    "    loss = criterion(out, batch_t_tensor) #要保证第二个维度是 vocab_size\n",
    "    h_0 = h_0.detach()\n",
    "    c_0 = c_0.detach()\n",
    "    \n",
    "    model.zero_grad()\n",
    "    loss.backward(retain_graph=True)\n",
    "    torch.nn.utils.clip_grad_value_(model.parameters(), clip_value = max_grad)\n",
    "    \n",
    "    optimizer.step()\n",
    "    total_loss += loss\n",
    "    loss_count += 1\n",
    "    \n",
    "    if iter % 20 ==0:\n",
    "        ppl = torch.exp(total_loss / loss_count)\n",
    "        print('epoch {} | iter: {}/1327 | pp: {} | loss:{}'.format(1,iter+1,ppl,loss.item()))\n",
    "        ppl_list.append(float(ppl))\n",
    "        total_loss, loss_count = 0, 0\n",
    "\n"
   ]
  },
  {
   "cell_type": "code",
   "execution_count": null,
   "id": "35a7e4f1",
   "metadata": {
    "ExecuteTime": {
     "end_time": "2024-05-05T04:04:50.606990Z",
     "start_time": "2024-05-05T03:47:55.144121Z"
    }
   },
   "outputs": [],
   "source": [
    "for epoch in range(4):\n",
    "    for iter in range(max_iters):\n",
    "        batch_x = np.empty((batch_size, time_size), dtype='i')\n",
    "        batch_t = np.empty((batch_size, time_size), dtype='i')\n",
    "        for t in range(time_size):\n",
    "            for i , offset in enumerate(offsets):\n",
    "                batch_x[i,t] = xs[( time_idx + offset) % data_size]\n",
    "                batch_t[i,t] = ts[( time_idx + offset) % data_size]\n",
    "            time_idx +=1\n",
    "        \n",
    "    \n",
    "        batch_x_tensor = torch.tensor(batch_x)\n",
    "        batch_t_tensor = torch.tensor(batch_t)\n",
    "        batch_t_tensor = to_one_hot(batch_t_tensor, vocab_size)\n",
    "        out , (h_0 , c_0) = model(batch_x_tensor, h_0, c_0)\n",
    "        batch_t_tensor = batch_t_tensor.reshape(batch_size*time_size,-1)\n",
    "    \n",
    "        loss = criterion(out, batch_t_tensor) #要保证第二个维度是 vocab_size\n",
    "        \n",
    "    \n",
    "        optimizer.zero_grad()\n",
    "        loss.backward(retain_graph=True)\n",
    "        #torch.nn.utils.clip_grad_value_(model.parameters(), clip_value = max_grad)\n",
    "    \n",
    "        optimizer.step()\n",
    "        h_0 = h_0.detach()\n",
    "        c_0 = c_0.detach()  #BPTT截断反向传播\n",
    "        total_loss += loss\n",
    "        loss_count += 1\n",
    "    \n",
    "        if iter % 20 ==0:\n",
    "            ppl = torch.exp(total_loss / loss_count)\n",
    "            print('epoch {} | iter: {}/1327 | pp: {} | loss:{}'.format(epoch+1,iter+1,ppl,loss.item()))\n",
    "            ppl_list.append(float(ppl))\n",
    "            total_loss, loss_count = 0, 0"
   ]
  },
  {
   "cell_type": "code",
   "execution_count": null,
   "id": "c9706a6e",
   "metadata": {},
   "outputs": [],
   "source": []
  },
  {
   "cell_type": "code",
   "execution_count": null,
   "id": "427a4d85",
   "metadata": {
    "ExecuteTime": {
     "end_time": "2024-05-05T06:10:52.213862Z",
     "start_time": "2024-05-05T06:10:52.206508Z"
    }
   },
   "outputs": [],
   "source": [
    "import numpy as np"
   ]
  },
  {
   "cell_type": "code",
   "execution_count": null,
   "id": "64ffed76",
   "metadata": {
    "ExecuteTime": {
     "end_time": "2024-05-05T06:12:28.958073Z",
     "start_time": "2024-05-05T06:12:28.948561Z"
    }
   },
   "outputs": [],
   "source": [
    "a = np.array([1,2,3,4,2])\n",
    "b = np.array([3,5,7,4])\n",
    "np.intersect1d(a,b)"
   ]
  },
  {
   "cell_type": "code",
   "execution_count": null,
   "id": "73db9d60",
   "metadata": {
    "ExecuteTime": {
     "end_time": "2024-05-05T06:12:30.829261Z",
     "start_time": "2024-05-05T06:12:30.821957Z"
    }
   },
   "outputs": [],
   "source": [
    "np.setdiff1d(a,b)"
   ]
  },
  {
   "cell_type": "markdown",
   "id": "2183c003",
   "metadata": {},
   "source": [
    "# Better LSTM"
   ]
  },
  {
   "cell_type": "code",
   "execution_count": 3,
   "id": "6be14026",
   "metadata": {
    "ExecuteTime": {
     "end_time": "2024-05-06T07:37:15.634357Z",
     "start_time": "2024-05-06T07:37:15.623984Z"
    }
   },
   "outputs": [],
   "source": [
    "class better_lstm_torch(nn.Module):\n",
    "    \n",
    "    def __init__(self,vocab_size, wordvec_size, hidden_size):\n",
    "        super().__init__()\n",
    "        self.embed = nn.Embedding(vocab_size,wordvec_size)\n",
    "        nn.init.xavier_normal_(self.embed.weight)\n",
    "        \n",
    "        self.lstm1 = nn.LSTM(wordvec_size, hidden_size, batch_first = True)\n",
    "        nn.init.xavier_normal_(self.lstm1.weight_hh_l0)\n",
    "        nn.init.xavier_normal_(self.lstm1.weight_ih_l0)\n",
    "        \n",
    "        self.dropout = nn.Dropout(0.5)\n",
    "        \n",
    "        self.lstm2 = nn.LSTM(hidden_size, hidden_size, batch_first = True)\n",
    "        nn.init.xavier_normal_(self.lstm2.weight_hh_l0)\n",
    "        nn.init.xavier_normal_(self.lstm2.weight_ih_l0)\n",
    "        \n",
    "        \n",
    "        self.linear = nn.Linear(hidden_size, vocab_size)\n",
    "\n",
    "        for para1 , para2 in zip(self.embed.parameters(), self.linear.parameters()):\n",
    "            para2.data = para1.data\n",
    "    \n",
    "    \n",
    "    def forward(self, seq, h_00 ,c_00 , h_01, c_01 ):\n",
    "        N , T  = seq.size()\n",
    "        out = self.embed(seq);\n",
    "        out , (h_00 , c_00) = self.lstm1(out, (h_00 , c_00))\n",
    "        out = self.dropout(out)\n",
    "        \n",
    "        out , (h_01 , c_01) = self.lstm2(out, (h_01 , c_01))\n",
    "        out = out.reshape(N*T,-1);\n",
    "        out= self.linear(out)\n",
    "        \n",
    "        return out , (h_00 , c_00) , (h_01 , c_01)"
   ]
  },
  {
   "cell_type": "code",
   "execution_count": 12,
   "id": "a51ca6b8",
   "metadata": {
    "ExecuteTime": {
     "end_time": "2024-05-06T07:44:22.630523Z",
     "start_time": "2024-05-06T07:44:22.624231Z"
    }
   },
   "outputs": [],
   "source": [
    "model = better_lstm_torch(14,10,10)"
   ]
  },
  {
   "cell_type": "code",
   "execution_count": null,
   "id": "01671bd1",
   "metadata": {},
   "outputs": [],
   "source": [
    "xs = torch.randint()"
   ]
  }
 ],
 "metadata": {
  "kernelspec": {
   "display_name": "Python 3 (ipykernel)",
   "language": "python",
   "name": "python3"
  },
  "language_info": {
   "codemirror_mode": {
    "name": "ipython",
    "version": 3
   },
   "file_extension": ".py",
   "mimetype": "text/x-python",
   "name": "python",
   "nbconvert_exporter": "python",
   "pygments_lexer": "ipython3",
   "version": "3.10.14"
  },
  "toc": {
   "base_numbering": 1,
   "nav_menu": {},
   "number_sections": true,
   "sideBar": true,
   "skip_h1_title": false,
   "title_cell": "Table of Contents",
   "title_sidebar": "Contents",
   "toc_cell": false,
   "toc_position": {},
   "toc_section_display": true,
   "toc_window_display": false
  }
 },
 "nbformat": 4,
 "nbformat_minor": 5
}
