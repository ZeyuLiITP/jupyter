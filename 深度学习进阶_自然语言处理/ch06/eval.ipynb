{
 "cells": [
  {
   "cell_type": "code",
   "execution_count": 1,
   "id": "59d42b39-9832-4d1a-ac67-7834076f71e1",
   "metadata": {},
   "outputs": [],
   "source": [
    "# coding: utf-8\n",
    "import sys\n",
    "sys.path.append('..')\n",
    "from rnnlm import Rnnlm\n",
    "from better_rnnlm import BetterRnnlm\n",
    "from dataset import ptb\n",
    "from common.util import eval_perplexity"
   ]
  },
  {
   "cell_type": "code",
   "execution_count": 2,
   "id": "b78e157b-1726-4c03-8a92-4a0f356cb113",
   "metadata": {},
   "outputs": [
    {
     "name": "stdout",
     "output_type": "stream",
     "text": [
      "evaluating perplexity ...\n",
      "234 / 235\n",
      "test perplexity:  76.23598252728591\n"
     ]
    }
   ],
   "source": [
    "if __name__ == '__main__':\n",
    "    # model = Rnnlm()\n",
    "    model = BetterRnnlm()\n",
    "\n",
    "    # 读入训练完的超参数\n",
    "    model.load_params()\n",
    "\n",
    "    corpus, _, _ = ptb.load_data('test')\n",
    "\n",
    "    model.reset_state()\n",
    "    ppl_test = eval_perplexity(model, corpus)\n",
    "    print('test perplexity: ', ppl_test)"
   ]
  },
  {
   "cell_type": "markdown",
   "id": "71fa7bbc-f4c3-4e66-8999-6e2c66d605ee",
   "metadata": {},
   "source": [
    "读取保存的权重，可以直接测试，有rnnlm的权重和BetterRnnlm的权重"
   ]
  },
  {
   "cell_type": "code",
   "execution_count": null,
   "id": "dd8e38bb-e432-4a83-a181-80d7fe1117ce",
   "metadata": {},
   "outputs": [],
   "source": []
  }
 ],
 "metadata": {
  "kernelspec": {
   "display_name": "Python 3 (ipykernel)",
   "language": "python",
   "name": "python3"
  },
  "language_info": {
   "codemirror_mode": {
    "name": "ipython",
    "version": 3
   },
   "file_extension": ".py",
   "mimetype": "text/x-python",
   "name": "python",
   "nbconvert_exporter": "python",
   "pygments_lexer": "ipython3",
   "version": "3.10.14"
  },
  "toc": {
   "base_numbering": 1,
   "nav_menu": {},
   "number_sections": true,
   "sideBar": true,
   "skip_h1_title": false,
   "title_cell": "Table of Contents",
   "title_sidebar": "Contents",
   "toc_cell": false,
   "toc_position": {},
   "toc_section_display": true,
   "toc_window_display": false
  },
  "widgets": {
   "application/vnd.jupyter.widget-state+json": {
    "state": {},
    "version_major": 2,
    "version_minor": 0
   }
  }
 },
 "nbformat": 4,
 "nbformat_minor": 5
}
