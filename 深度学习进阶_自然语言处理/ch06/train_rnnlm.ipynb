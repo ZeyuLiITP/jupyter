{
 "cells": [
  {
   "cell_type": "code",
   "execution_count": null,
   "id": "bed7dea9-803d-418f-9ebc-3479de36670f",
   "metadata": {
    "ExecuteTime": {
     "end_time": "2024-04-23T07:03:30.960678Z",
     "start_time": "2024-04-23T07:03:29.486296Z"
    }
   },
   "outputs": [],
   "source": [
    "# coding: utf-8\n",
    "import sys\n",
    "sys.path.append('..')\n",
    "from common.optimizer import SGD\n",
    "from common.trainer import RnnlmTrainer\n",
    "from common.util import eval_perplexity\n",
    "from dataset import ptb\n",
    "from rnnlm import Rnnlm"
   ]
  },
  {
   "cell_type": "code",
   "execution_count": null,
   "id": "6db2c323-d19f-49a7-9905-f3c40a8d539a",
   "metadata": {
    "ExecuteTime": {
     "end_time": "2024-04-23T07:03:40.329968Z",
     "start_time": "2024-04-23T07:03:40.325753Z"
    }
   },
   "outputs": [],
   "source": [
    "# 设定超参数\n",
    "batch_size = 20\n",
    "wordvec_size = 100\n",
    "hidden_size = 100  # RNN的隐藏状态向量的元素个数\n",
    "time_size = 35  # RNN的展开大小\n",
    "lr = 20.0\n",
    "max_epoch = 4\n",
    "max_grad = 0.25"
   ]
  },
  {
   "cell_type": "code",
   "execution_count": null,
   "id": "4712fd1a-4f14-4463-9fdf-f783d1668d62",
   "metadata": {
    "ExecuteTime": {
     "end_time": "2024-04-23T07:03:46.891014Z",
     "start_time": "2024-04-23T07:03:45.854299Z"
    }
   },
   "outputs": [],
   "source": [
    "# 读入训练数据\n",
    "corpus, word_to_id, id_to_word = ptb.load_data('train')\n",
    "corpus_test, _, _ = ptb.load_data('test')\n",
    "vocab_size = len(word_to_id)\n",
    "xs = corpus[:-1]\n",
    "ts = corpus[1:]"
   ]
  },
  {
   "cell_type": "code",
   "execution_count": null,
   "id": "85f02e88",
   "metadata": {
    "ExecuteTime": {
     "end_time": "2024-04-23T07:04:25.560511Z",
     "start_time": "2024-04-23T07:04:25.551219Z"
    }
   },
   "outputs": [],
   "source": [
    "vocab_size"
   ]
  },
  {
   "cell_type": "code",
   "execution_count": null,
   "id": "c0a0a0a2-b379-48a3-967d-d383b523d595",
   "metadata": {},
   "outputs": [],
   "source": [
    "# 生成模型\n",
    "model = Rnnlm(vocab_size, wordvec_size, hidden_size)\n",
    "optimizer = SGD(lr)\n",
    "trainer = RnnlmTrainer(model, optimizer)"
   ]
  },
  {
   "cell_type": "code",
   "execution_count": null,
   "id": "488eed7c-0d65-4871-b52d-711e6aeb7698",
   "metadata": {},
   "outputs": [],
   "source": [
    "# 应用梯度裁剪进行学习\n",
    "trainer.fit(xs, ts, max_epoch, batch_size, time_size, max_grad,\n",
    "            eval_interval=20)\n",
    "trainer.plot(ylim=(0, 500))"
   ]
  },
  {
   "cell_type": "code",
   "execution_count": null,
   "id": "5096b49d-27e5-402b-855e-55a864868200",
   "metadata": {},
   "outputs": [],
   "source": []
  }
 ],
 "metadata": {
  "kernelspec": {
   "display_name": "Python 3 (ipykernel)",
   "language": "python",
   "name": "python3"
  },
  "language_info": {
   "codemirror_mode": {
    "name": "ipython",
    "version": 3
   },
   "file_extension": ".py",
   "mimetype": "text/x-python",
   "name": "python",
   "nbconvert_exporter": "python",
   "pygments_lexer": "ipython3",
   "version": "3.10.14"
  },
  "toc": {
   "base_numbering": 1,
   "nav_menu": {},
   "number_sections": true,
   "sideBar": true,
   "skip_h1_title": false,
   "title_cell": "Table of Contents",
   "title_sidebar": "Contents",
   "toc_cell": false,
   "toc_position": {},
   "toc_section_display": true,
   "toc_window_display": false
  },
  "widgets": {
   "application/vnd.jupyter.widget-state+json": {
    "state": {},
    "version_major": 2,
    "version_minor": 0
   }
  }
 },
 "nbformat": 4,
 "nbformat_minor": 5
}
