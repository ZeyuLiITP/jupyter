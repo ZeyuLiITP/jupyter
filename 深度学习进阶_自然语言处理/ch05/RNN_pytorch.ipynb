{
 "cells": [
  {
   "cell_type": "code",
   "execution_count": null,
   "id": "a7153cc2",
   "metadata": {
    "ExecuteTime": {
     "end_time": "2024-05-02T06:08:07.013765Z",
     "start_time": "2024-05-02T06:08:05.257167Z"
    }
   },
   "outputs": [],
   "source": [
    "import sys\n",
    "sys.path.append('..')\n",
    "import matplotlib.pyplot as plt\n",
    "import numpy as np\n",
    "import torch\n",
    "from torch import nn\n",
    "from common.time_layers import *\n",
    "from dataset import ptb\n",
    "def to_one_hot(t_train, vocab_size):\n",
    "    # 使用NumPy的eye函数创建一个独热编码矩阵\n",
    "    one_hot_matrix = np.eye(vocab_size)[t_train]\n",
    "    return torch.tensor(one_hot_matrix)"
   ]
  },
  {
   "cell_type": "code",
   "execution_count": null,
   "id": "d8b83f8c",
   "metadata": {
    "ExecuteTime": {
     "end_time": "2024-05-02T06:08:24.952696Z",
     "start_time": "2024-05-02T06:08:24.938774Z"
    }
   },
   "outputs": [],
   "source": [
    "corpus, word_to_id, id_to_word = ptb.load_data('train')\n",
    "\n",
    "corpus_size = 1000;\n",
    "\n",
    "corpus = corpus[:corpus_size]\n",
    "vocab_size = int(max(corpus) + 1)\n",
    "\n",
    "batch_size = 10 \n",
    "time_size = 5\n",
    "wordvec_size = 100 #H_in\n",
    "hidden_size = 100  #H_out\n",
    "\n",
    "x_train = np.array([corpus[i:i+time_size] for i in range(len(corpus)-time_size) ])\n",
    "t_train = np.array([corpus[i:i+time_size] for i in range(1, (len(corpus)-time_size+1)) ])"
   ]
  },
  {
   "cell_type": "code",
   "execution_count": null,
   "id": "20993ce8",
   "metadata": {
    "ExecuteTime": {
     "end_time": "2024-05-02T03:34:38.778410Z",
     "start_time": "2024-05-02T03:34:38.749123Z"
    }
   },
   "outputs": [],
   "source": []
  },
  {
   "cell_type": "code",
   "execution_count": null,
   "id": "a3201588",
   "metadata": {},
   "outputs": [],
   "source": []
  },
  {
   "cell_type": "code",
   "execution_count": null,
   "id": "4586ed81",
   "metadata": {
    "ExecuteTime": {
     "end_time": "2024-05-02T06:08:27.328728Z",
     "start_time": "2024-05-02T06:08:27.320554Z"
    }
   },
   "outputs": [],
   "source": [
    "class torch_rnn(nn.Module):\n",
    "    def __init__(self, vocab_size, word_vec_size, hidden_size):\n",
    "        super().__init__()\n",
    "        self.V = vocab_size;\n",
    "        self.H_in = word_vec_size\n",
    "        self.H_out = hidden_size\n",
    "        \n",
    "        self.embed = nn.Embedding(vocab_size,word_vec_size)\n",
    "        \n",
    "        self.rnn = nn.RNN(word_vec_size, hidden_size, batch_first = True)\n",
    "        self.linear = nn.Linear(hidden_size, vocab_size)\n",
    "        nn.init.xavier_normal_(self.rnn.weight_hh_l0)\n",
    "        nn.init.xavier_normal_(self.rnn.weight_ih_l0)\n",
    "        \n",
    "        \n",
    "    def forward(self,seq, h_prev):\n",
    "        N , T  = seq.size()\n",
    "        \n",
    "        word_embed = self.embed(seq);\n",
    "        out, h_prev = self.rnn(word_embed, h_prev)\n",
    "        out = out.reshape(N*T,-1);\n",
    "        \n",
    "        out= self.linear(out).reshape(N,T,vocab_size)\n",
    "        \n",
    "        return out , h_prev\n",
    "    "
   ]
  },
  {
   "cell_type": "code",
   "execution_count": null,
   "id": "5a99c955",
   "metadata": {
    "ExecuteTime": {
     "end_time": "2024-05-02T06:08:43.382566Z",
     "start_time": "2024-05-02T06:08:42.691180Z"
    }
   },
   "outputs": [],
   "source": [
    "model = torch_rnn( vocab_size, wordvec_size , hidden_size )\n",
    "h_prev = torch.zeros((1,batch_size,hidden_size))\n",
    "criterion = nn.CrossEntropyLoss()\n",
    "optimizer = torch.optim.Adam(model.parameters(),0.001)"
   ]
  },
  {
   "cell_type": "code",
   "execution_count": null,
   "id": "315a06f9",
   "metadata": {
    "ExecuteTime": {
     "end_time": "2024-05-02T02:40:33.662605Z",
     "start_time": "2024-05-02T02:40:33.652736Z"
    }
   },
   "outputs": [],
   "source": []
  },
  {
   "cell_type": "code",
   "execution_count": null,
   "id": "7ec9fc4b",
   "metadata": {
    "ExecuteTime": {
     "end_time": "2024-05-02T06:09:37.264011Z",
     "start_time": "2024-05-02T06:09:17.817728Z"
    }
   },
   "outputs": [],
   "source": [
    "l=[]\n",
    "for i in range(2500):\n",
    "    mini_batch_mask =  np.random.choice(len(x_train),batch_size)\n",
    "    x_train_mini_batch = torch.tensor(x_train[mini_batch_mask])\n",
    "    t_train_mini_batch = torch.tensor(t_train[mini_batch_mask])\n",
    "    t_train_mini_batch = to_one_hot(t_train_mini_batch,vocab_size)\n",
    "    \n",
    "    out , h_prev = model(x_train_mini_batch,h_prev)\n",
    "    h_prev = h_prev.detach()\n",
    "    out = out.reshape(50,-1)\n",
    "    t_train_mini_batch = t_train_mini_batch.reshape(50,-1)\n",
    "    loss = criterion(out,t_train_mini_batch) #要保证第二个维度是 vocab_size\n",
    "    model.zero_grad()\n",
    "    loss.backward()\n",
    "    optimizer.step()\n",
    "    \n",
    "    if i % 100 ==0:\n",
    "        print('{},{}'.format(i,loss.item()))\n",
    "        l.append(loss.item())\n",
    "        "
   ]
  },
  {
   "cell_type": "code",
   "execution_count": null,
   "id": "6613a1f0",
   "metadata": {},
   "outputs": [],
   "source": []
  }
 ],
 "metadata": {
  "kernelspec": {
   "display_name": "Python 3 (ipykernel)",
   "language": "python",
   "name": "python3"
  },
  "language_info": {
   "codemirror_mode": {
    "name": "ipython",
    "version": 3
   },
   "file_extension": ".py",
   "mimetype": "text/x-python",
   "name": "python",
   "nbconvert_exporter": "python",
   "pygments_lexer": "ipython3",
   "version": "3.10.14"
  },
  "toc": {
   "base_numbering": 1,
   "nav_menu": {},
   "number_sections": true,
   "sideBar": true,
   "skip_h1_title": false,
   "title_cell": "Table of Contents",
   "title_sidebar": "Contents",
   "toc_cell": false,
   "toc_position": {},
   "toc_section_display": true,
   "toc_window_display": false
  }
 },
 "nbformat": 4,
 "nbformat_minor": 5
}
