{
 "cells": [
  {
   "cell_type": "code",
   "execution_count": 1,
   "id": "a7153cc2",
   "metadata": {
    "ExecuteTime": {
     "end_time": "2024-05-02T03:34:34.433644Z",
     "start_time": "2024-05-02T03:34:33.116911Z"
    }
   },
   "outputs": [],
   "source": [
    "import sys\n",
    "sys.path.append('..')\n",
    "import matplotlib.pyplot as plt\n",
    "import numpy as np\n",
    "import torch\n",
    "from torch import nn\n",
    "from common.time_layers import *"
   ]
  },
  {
   "cell_type": "code",
   "execution_count": 2,
   "id": "880d6a3a",
   "metadata": {
    "ExecuteTime": {
     "end_time": "2024-05-02T03:34:35.238463Z",
     "start_time": "2024-05-02T03:34:35.230876Z"
    }
   },
   "outputs": [],
   "source": [
    "from dataset import ptb"
   ]
  },
  {
   "cell_type": "code",
   "execution_count": 3,
   "id": "c6d5ace9",
   "metadata": {
    "ExecuteTime": {
     "end_time": "2024-05-02T03:34:35.961607Z",
     "start_time": "2024-05-02T03:34:35.957168Z"
    }
   },
   "outputs": [],
   "source": [
    "def to_one_hot(t_train, vocab_size):\n",
    "    # 使用NumPy的eye函数创建一个独热编码矩阵\n",
    "    one_hot_matrix = np.eye(vocab_size)[t_train]\n",
    "    return torch.tensor(one_hot_matrix)"
   ]
  },
  {
   "cell_type": "code",
   "execution_count": 4,
   "id": "d8b83f8c",
   "metadata": {
    "ExecuteTime": {
     "end_time": "2024-05-02T03:34:37.070679Z",
     "start_time": "2024-05-02T03:34:37.061568Z"
    }
   },
   "outputs": [],
   "source": [
    "corpus, word_to_id, id_to_word = ptb.load_data('train')"
   ]
  },
  {
   "cell_type": "code",
   "execution_count": 5,
   "id": "548aaf6a",
   "metadata": {
    "ExecuteTime": {
     "end_time": "2024-05-02T03:34:37.361280Z",
     "start_time": "2024-05-02T03:34:37.354302Z"
    }
   },
   "outputs": [],
   "source": [
    "corpus_size = 1000;\n",
    "\n",
    "corpus = corpus[:corpus_size]\n",
    "vocab_size = int(max(corpus) + 1)"
   ]
  },
  {
   "cell_type": "code",
   "execution_count": 6,
   "id": "554419b3",
   "metadata": {
    "ExecuteTime": {
     "end_time": "2024-05-02T03:34:38.095941Z",
     "start_time": "2024-05-02T03:34:38.092850Z"
    }
   },
   "outputs": [],
   "source": [
    "batch_size = 10 \n",
    "time_size = 5\n",
    "wordvec_size = 100 #H_in\n",
    "hidden_size = 100  #H_out"
   ]
  },
  {
   "cell_type": "code",
   "execution_count": 7,
   "id": "20993ce8",
   "metadata": {
    "ExecuteTime": {
     "end_time": "2024-05-02T03:34:38.778410Z",
     "start_time": "2024-05-02T03:34:38.749123Z"
    }
   },
   "outputs": [],
   "source": [
    "x_train = np.array([corpus[i:i+time_size] for i in range(len(corpus)-time_size) ])\n",
    "t_train = np.array([corpus[i:i+time_size] for i in range(1, (len(corpus)-time_size+1)) ])"
   ]
  },
  {
   "cell_type": "code",
   "execution_count": null,
   "id": "5a2af09a",
   "metadata": {},
   "outputs": [],
   "source": []
  },
  {
   "cell_type": "code",
   "execution_count": 8,
   "id": "4586ed81",
   "metadata": {
    "ExecuteTime": {
     "end_time": "2024-05-02T03:34:40.011281Z",
     "start_time": "2024-05-02T03:34:39.999176Z"
    }
   },
   "outputs": [],
   "source": [
    "class torch_rnn(nn.Module):\n",
    "    def __init__(self, vocab_size, word_vec_size, hidden_size):\n",
    "        super().__init__()\n",
    "        self.V = vocab_size;\n",
    "        self.H_in = word_vec_size\n",
    "        self.H_out = hidden_size\n",
    "        \n",
    "        self.embed = nn.Embedding(vocab_size,word_vec_size)\n",
    "        \n",
    "        self.rnn = nn.RNN(word_vec_size, hidden_size, batch_first = True)\n",
    "        self.linear = nn.Linear(hidden_size, vocab_size)\n",
    "        nn.init.xavier_normal_(self.rnn.weight_hh_l0)\n",
    "        nn.init.xavier_normal_(self.rnn.weight_ih_l0)\n",
    "        \n",
    "        \n",
    "    def forward(self,seq, h_prev):\n",
    "        N , T  = seq.size()\n",
    "        \n",
    "        word_embed = self.embed(seq);\n",
    "        out, h_prev = self.rnn(word_embed, h_prev)\n",
    "        out = out.reshape(N*T,-1);\n",
    "        \n",
    "        out= self.linear(out).reshape(N,T,vocab_size)\n",
    "        \n",
    "        return out , h_prev\n",
    "    "
   ]
  },
  {
   "cell_type": "code",
   "execution_count": null,
   "id": "6394d98d",
   "metadata": {
    "ExecuteTime": {
     "end_time": "2024-05-01T08:37:54.950068Z",
     "start_time": "2024-05-01T08:37:54.934151Z"
    }
   },
   "outputs": [],
   "source": [
    "h_prev = h_prev.detach()"
   ]
  },
  {
   "cell_type": "code",
   "execution_count": 9,
   "id": "5a99c955",
   "metadata": {
    "ExecuteTime": {
     "end_time": "2024-05-02T03:34:42.090331Z",
     "start_time": "2024-05-02T03:34:41.478118Z"
    }
   },
   "outputs": [],
   "source": [
    "model = torch_rnn( vocab_size, wordvec_size , hidden_size )\n",
    "\n",
    "h_prev = torch.zeros((1,batch_size,hidden_size))\n",
    "criterion = nn.CrossEntropyLoss()\n",
    "optimizer = torch.optim.Adam(model.parameters(),0.001)"
   ]
  },
  {
   "cell_type": "code",
   "execution_count": null,
   "id": "6dff56ec",
   "metadata": {
    "ExecuteTime": {
     "end_time": "2024-05-02T02:40:33.662605Z",
     "start_time": "2024-05-02T02:40:33.652736Z"
    }
   },
   "outputs": [],
   "source": []
  },
  {
   "cell_type": "code",
   "execution_count": null,
   "id": "7ec9fc4b",
   "metadata": {
    "ExecuteTime": {
     "end_time": "2024-05-02T03:31:06.175872Z",
     "start_time": "2024-05-02T03:30:50.494904Z"
    }
   },
   "outputs": [],
   "source": [
    "l=[]\n",
    "for i in range(2000):\n",
    "    mini_batch_mask =  np.random.choice(len(x_train),batch_size)\n",
    "    x_train_mini_batch = torch.tensor(x_train[mini_batch_mask])\n",
    "    t_train_mini_batch = torch.tensor(t_train[mini_batch_mask])\n",
    "    t_train_mini_batch = to_one_hot(t_train_mini_batch,vocab_size)\n",
    "    \n",
    "    out , h_prev = model(x_train_mini_batch,h_prev)\n",
    "    h_prev = h_prev.detach()\n",
    "    out = out.reshape(50,-1)\n",
    "    t_train_mini_batch = t_train_mini_batch.reshape(50,-1)\n",
    "    loss = criterion(out,t_train_mini_batch)\n",
    "    model.zero_grad()\n",
    "    loss.backward()\n",
    "    optimizer.step()\n",
    "    \n",
    "    if i % 100 ==0:\n",
    "        print('{},{}'.format(i,loss.item()))\n",
    "        l.append(loss.item())\n",
    "        "
   ]
  },
  {
   "cell_type": "code",
   "execution_count": 32,
   "id": "c59af7c4",
   "metadata": {
    "ExecuteTime": {
     "end_time": "2024-05-02T03:53:48.064776Z",
     "start_time": "2024-05-02T03:53:48.053531Z"
    }
   },
   "outputs": [],
   "source": [
    "mini_batch_mask =  np.random.choice(len(x_train),batch_size)\n",
    "x_train_mini_batch = torch.tensor(x_train[mini_batch_mask])\n",
    "t_train_mini_batch = torch.tensor(t_train[mini_batch_mask])\n",
    "t_train_mini_batch = to_one_hot(t_train_mini_batch,vocab_size)"
   ]
  },
  {
   "cell_type": "code",
   "execution_count": 33,
   "id": "89b4556e",
   "metadata": {
    "ExecuteTime": {
     "end_time": "2024-05-02T03:53:48.951969Z",
     "start_time": "2024-05-02T03:53:48.945035Z"
    }
   },
   "outputs": [],
   "source": [
    "forward_result , _ = model(x_train_mini_batch,h_prev)"
   ]
  },
  {
   "cell_type": "code",
   "execution_count": 44,
   "id": "6f59fd6e",
   "metadata": {
    "ExecuteTime": {
     "end_time": "2024-05-02T06:06:46.422894Z",
     "start_time": "2024-05-02T06:06:46.418402Z"
    }
   },
   "outputs": [],
   "source": [
    "criterion = nn.CrossEntropyLoss(reduction='none')"
   ]
  },
  {
   "cell_type": "code",
   "execution_count": 45,
   "id": "db7ccce0",
   "metadata": {
    "ExecuteTime": {
     "end_time": "2024-05-02T06:06:46.669314Z",
     "start_time": "2024-05-02T06:06:46.656266Z"
    }
   },
   "outputs": [],
   "source": [
    "new_x = forward_result.transpose(1,2)\n",
    "new_t = t_train_mini_batch.transpose(1,2)"
   ]
  },
  {
   "cell_type": "code",
   "execution_count": 46,
   "id": "53a69509",
   "metadata": {
    "ExecuteTime": {
     "end_time": "2024-05-02T06:06:47.163123Z",
     "start_time": "2024-05-02T06:06:47.155192Z"
    }
   },
   "outputs": [
    {
     "data": {
      "text/plain": [
       "tensor([[5.7835, 6.1071, 5.7297, 5.6669, 5.5844],\n",
       "        [6.2151, 6.5559, 6.2362, 5.3358, 6.7672],\n",
       "        [6.4210, 5.5016, 6.0551, 5.4235, 6.5461],\n",
       "        [5.9969, 6.2635, 5.9914, 5.9319, 5.9670],\n",
       "        [6.5554, 6.8403, 6.4465, 6.1170, 6.0386],\n",
       "        [6.2232, 6.5928, 6.1808, 6.0438, 6.1969],\n",
       "        [6.3392, 6.6295, 6.2462, 5.8307, 6.3711],\n",
       "        [6.4425, 6.0292, 5.8082, 5.9066, 5.8918],\n",
       "        [6.3996, 5.7258, 5.9119, 6.4474, 5.5766],\n",
       "        [5.5639, 6.0213, 5.8543, 6.1256, 5.9571]], dtype=torch.float64,\n",
       "       grad_fn=<NegBackward0>)"
      ]
     },
     "execution_count": 46,
     "metadata": {},
     "output_type": "execute_result"
    }
   ],
   "source": [
    "criterion(new_x,new_t)"
   ]
  },
  {
   "cell_type": "code",
   "execution_count": 16,
   "id": "081c66f0",
   "metadata": {
    "ExecuteTime": {
     "end_time": "2024-05-02T03:37:51.058924Z",
     "start_time": "2024-05-02T03:37:51.052619Z"
    }
   },
   "outputs": [],
   "source": [
    "loss_func_none = nn.CrossEntropyLoss(reduction=\"none\")\n",
    "loss_func_mean = nn.CrossEntropyLoss(reduction=\"mean\")\n",
    "loss_func_sum = nn.CrossEntropyLoss(reduction=\"sum\")"
   ]
  },
  {
   "cell_type": "code",
   "execution_count": 22,
   "id": "3b514202",
   "metadata": {
    "ExecuteTime": {
     "end_time": "2024-05-02T03:40:05.540216Z",
     "start_time": "2024-05-02T03:40:03.516921Z"
    },
    "collapsed": true
   },
   "outputs": [
    {
     "ename": "RuntimeError",
     "evalue": "Expected target size [10, 418], got [10, 5]",
     "output_type": "error",
     "traceback": [
      "\u001b[1;31m---------------------------------------------------------------------------\u001b[0m",
      "\u001b[1;31mRuntimeError\u001b[0m                              Traceback (most recent call last)",
      "Cell \u001b[1;32mIn[22], line 1\u001b[0m\n\u001b[1;32m----> 1\u001b[0m \u001b[43mloss_func_sum\u001b[49m\u001b[43m(\u001b[49m\u001b[43mforward_result\u001b[49m\u001b[43m,\u001b[49m\u001b[43mt_train_mini_batch\u001b[49m\u001b[43m)\u001b[49m\n",
      "File \u001b[1;32mD:\\Anaconda\\lib\\site-packages\\torch\\nn\\modules\\module.py:1511\u001b[0m, in \u001b[0;36mModule._wrapped_call_impl\u001b[1;34m(self, *args, **kwargs)\u001b[0m\n\u001b[0;32m   1509\u001b[0m     \u001b[38;5;28;01mreturn\u001b[39;00m \u001b[38;5;28mself\u001b[39m\u001b[38;5;241m.\u001b[39m_compiled_call_impl(\u001b[38;5;241m*\u001b[39margs, \u001b[38;5;241m*\u001b[39m\u001b[38;5;241m*\u001b[39mkwargs)  \u001b[38;5;66;03m# type: ignore[misc]\u001b[39;00m\n\u001b[0;32m   1510\u001b[0m \u001b[38;5;28;01melse\u001b[39;00m:\n\u001b[1;32m-> 1511\u001b[0m     \u001b[38;5;28;01mreturn\u001b[39;00m \u001b[38;5;28mself\u001b[39m\u001b[38;5;241m.\u001b[39m_call_impl(\u001b[38;5;241m*\u001b[39margs, \u001b[38;5;241m*\u001b[39m\u001b[38;5;241m*\u001b[39mkwargs)\n",
      "File \u001b[1;32mD:\\Anaconda\\lib\\site-packages\\torch\\nn\\modules\\module.py:1520\u001b[0m, in \u001b[0;36mModule._call_impl\u001b[1;34m(self, *args, **kwargs)\u001b[0m\n\u001b[0;32m   1515\u001b[0m \u001b[38;5;66;03m# If we don't have any hooks, we want to skip the rest of the logic in\u001b[39;00m\n\u001b[0;32m   1516\u001b[0m \u001b[38;5;66;03m# this function, and just call forward.\u001b[39;00m\n\u001b[0;32m   1517\u001b[0m \u001b[38;5;28;01mif\u001b[39;00m \u001b[38;5;129;01mnot\u001b[39;00m (\u001b[38;5;28mself\u001b[39m\u001b[38;5;241m.\u001b[39m_backward_hooks \u001b[38;5;129;01mor\u001b[39;00m \u001b[38;5;28mself\u001b[39m\u001b[38;5;241m.\u001b[39m_backward_pre_hooks \u001b[38;5;129;01mor\u001b[39;00m \u001b[38;5;28mself\u001b[39m\u001b[38;5;241m.\u001b[39m_forward_hooks \u001b[38;5;129;01mor\u001b[39;00m \u001b[38;5;28mself\u001b[39m\u001b[38;5;241m.\u001b[39m_forward_pre_hooks\n\u001b[0;32m   1518\u001b[0m         \u001b[38;5;129;01mor\u001b[39;00m _global_backward_pre_hooks \u001b[38;5;129;01mor\u001b[39;00m _global_backward_hooks\n\u001b[0;32m   1519\u001b[0m         \u001b[38;5;129;01mor\u001b[39;00m _global_forward_hooks \u001b[38;5;129;01mor\u001b[39;00m _global_forward_pre_hooks):\n\u001b[1;32m-> 1520\u001b[0m     \u001b[38;5;28;01mreturn\u001b[39;00m forward_call(\u001b[38;5;241m*\u001b[39margs, \u001b[38;5;241m*\u001b[39m\u001b[38;5;241m*\u001b[39mkwargs)\n\u001b[0;32m   1522\u001b[0m \u001b[38;5;28;01mtry\u001b[39;00m:\n\u001b[0;32m   1523\u001b[0m     result \u001b[38;5;241m=\u001b[39m \u001b[38;5;28;01mNone\u001b[39;00m\n",
      "File \u001b[1;32mD:\\Anaconda\\lib\\site-packages\\torch\\nn\\modules\\loss.py:1179\u001b[0m, in \u001b[0;36mCrossEntropyLoss.forward\u001b[1;34m(self, input, target)\u001b[0m\n\u001b[0;32m   1178\u001b[0m \u001b[38;5;28;01mdef\u001b[39;00m \u001b[38;5;21mforward\u001b[39m(\u001b[38;5;28mself\u001b[39m, \u001b[38;5;28minput\u001b[39m: Tensor, target: Tensor) \u001b[38;5;241m-\u001b[39m\u001b[38;5;241m>\u001b[39m Tensor:\n\u001b[1;32m-> 1179\u001b[0m     \u001b[38;5;28;01mreturn\u001b[39;00m \u001b[43mF\u001b[49m\u001b[38;5;241;43m.\u001b[39;49m\u001b[43mcross_entropy\u001b[49m\u001b[43m(\u001b[49m\u001b[38;5;28;43minput\u001b[39;49m\u001b[43m,\u001b[49m\u001b[43m \u001b[49m\u001b[43mtarget\u001b[49m\u001b[43m,\u001b[49m\u001b[43m \u001b[49m\u001b[43mweight\u001b[49m\u001b[38;5;241;43m=\u001b[39;49m\u001b[38;5;28;43mself\u001b[39;49m\u001b[38;5;241;43m.\u001b[39;49m\u001b[43mweight\u001b[49m\u001b[43m,\u001b[49m\n\u001b[0;32m   1180\u001b[0m \u001b[43m                           \u001b[49m\u001b[43mignore_index\u001b[49m\u001b[38;5;241;43m=\u001b[39;49m\u001b[38;5;28;43mself\u001b[39;49m\u001b[38;5;241;43m.\u001b[39;49m\u001b[43mignore_index\u001b[49m\u001b[43m,\u001b[49m\u001b[43m \u001b[49m\u001b[43mreduction\u001b[49m\u001b[38;5;241;43m=\u001b[39;49m\u001b[38;5;28;43mself\u001b[39;49m\u001b[38;5;241;43m.\u001b[39;49m\u001b[43mreduction\u001b[49m\u001b[43m,\u001b[49m\n\u001b[0;32m   1181\u001b[0m \u001b[43m                           \u001b[49m\u001b[43mlabel_smoothing\u001b[49m\u001b[38;5;241;43m=\u001b[39;49m\u001b[38;5;28;43mself\u001b[39;49m\u001b[38;5;241;43m.\u001b[39;49m\u001b[43mlabel_smoothing\u001b[49m\u001b[43m)\u001b[49m\n",
      "File \u001b[1;32mD:\\Anaconda\\lib\\site-packages\\torch\\nn\\functional.py:3059\u001b[0m, in \u001b[0;36mcross_entropy\u001b[1;34m(input, target, weight, size_average, ignore_index, reduce, reduction, label_smoothing)\u001b[0m\n\u001b[0;32m   3057\u001b[0m \u001b[38;5;28;01mif\u001b[39;00m size_average \u001b[38;5;129;01mis\u001b[39;00m \u001b[38;5;129;01mnot\u001b[39;00m \u001b[38;5;28;01mNone\u001b[39;00m \u001b[38;5;129;01mor\u001b[39;00m reduce \u001b[38;5;129;01mis\u001b[39;00m \u001b[38;5;129;01mnot\u001b[39;00m \u001b[38;5;28;01mNone\u001b[39;00m:\n\u001b[0;32m   3058\u001b[0m     reduction \u001b[38;5;241m=\u001b[39m _Reduction\u001b[38;5;241m.\u001b[39mlegacy_get_string(size_average, reduce)\n\u001b[1;32m-> 3059\u001b[0m \u001b[38;5;28;01mreturn\u001b[39;00m \u001b[43mtorch\u001b[49m\u001b[38;5;241;43m.\u001b[39;49m\u001b[43m_C\u001b[49m\u001b[38;5;241;43m.\u001b[39;49m\u001b[43m_nn\u001b[49m\u001b[38;5;241;43m.\u001b[39;49m\u001b[43mcross_entropy_loss\u001b[49m\u001b[43m(\u001b[49m\u001b[38;5;28;43minput\u001b[39;49m\u001b[43m,\u001b[49m\u001b[43m \u001b[49m\u001b[43mtarget\u001b[49m\u001b[43m,\u001b[49m\u001b[43m \u001b[49m\u001b[43mweight\u001b[49m\u001b[43m,\u001b[49m\u001b[43m \u001b[49m\u001b[43m_Reduction\u001b[49m\u001b[38;5;241;43m.\u001b[39;49m\u001b[43mget_enum\u001b[49m\u001b[43m(\u001b[49m\u001b[43mreduction\u001b[49m\u001b[43m)\u001b[49m\u001b[43m,\u001b[49m\u001b[43m \u001b[49m\u001b[43mignore_index\u001b[49m\u001b[43m,\u001b[49m\u001b[43m \u001b[49m\u001b[43mlabel_smoothing\u001b[49m\u001b[43m)\u001b[49m\n",
      "\u001b[1;31mRuntimeError\u001b[0m: Expected target size [10, 418], got [10, 5]"
     ]
    }
   ],
   "source": [
    "loss_func_sum(forward_result,t_train_mini_batch)"
   ]
  },
  {
   "cell_type": "code",
   "execution_count": 29,
   "id": "fb64927e",
   "metadata": {
    "ExecuteTime": {
     "end_time": "2024-05-02T03:49:01.568800Z",
     "start_time": "2024-05-02T03:49:01.555157Z"
    }
   },
   "outputs": [
    {
     "name": "stdout",
     "output_type": "stream",
     "text": [
      "pre_data: torch.Size([4, 4])\n",
      "tgt_index_data: torch.Size([4])\n",
      "tgt_onehot_data: torch.Size([4, 4])\n"
     ]
    }
   ],
   "source": [
    "loss_func = nn.CrossEntropyLoss(reduction=\"none\")\n",
    "pre_data = torch.tensor([[0.8, 0.5, 0.2, 0.5],\n",
    "                         [0.2, 0.9, 0.3, 0.2],\n",
    "                         [0.4, 0.3, 0.7, 0.1],\n",
    "                         [0.1, 0.2, 0.4, 0.8]], dtype=torch.float)\n",
    "tgt_index_data = torch.tensor([0,\n",
    "                               1,\n",
    "                               2,\n",
    "                               3], dtype=torch.long)\n",
    "tgt_onehot_data = torch.tensor([[1, 0, 0, 0],\n",
    "                                [0, 1, 0, 0],\n",
    "                                [0, 0, 1, 0],\n",
    "                                [0, 0, 0, 1]], dtype=torch.float)\n",
    "print(\"pre_data: {}\".format(pre_data.size()))\n",
    "print(\"tgt_index_data: {}\".format(tgt_index_data.size()))\n",
    "print(\"tgt_onehot_data: {}\".format(tgt_onehot_data.size()))"
   ]
  },
  {
   "cell_type": "code",
   "execution_count": 30,
   "id": "38f0fe13",
   "metadata": {
    "ExecuteTime": {
     "end_time": "2024-05-02T03:49:05.729280Z",
     "start_time": "2024-05-02T03:49:05.722733Z"
    }
   },
   "outputs": [
    {
     "name": "stdout",
     "output_type": "stream",
     "text": [
      "tensor([[0.8000, 0.5000, 0.2000, 0.5000],\n",
      "        [0.2000, 0.9000, 0.3000, 0.2000]])\n",
      "tensor([0, 1])\n",
      "tensor([[1., 0., 0., 0.],\n",
      "        [0., 1., 0., 0.]])\n"
     ]
    }
   ],
   "source": [
    "pre = pre_data[0:2]\n",
    "tgt_index = tgt_index_data[0:2]\n",
    "tgt_onehot = tgt_onehot_data[0:2]\n",
    "print(pre)\n",
    "print(tgt_index)\n",
    "print(tgt_onehot)"
   ]
  },
  {
   "cell_type": "code",
   "execution_count": 31,
   "id": "bb47844e",
   "metadata": {
    "ExecuteTime": {
     "end_time": "2024-05-02T03:49:49.181092Z",
     "start_time": "2024-05-02T03:49:49.166315Z"
    }
   },
   "outputs": [
    {
     "name": "stdout",
     "output_type": "stream",
     "text": [
      "tensor([[[0.8000, 0.2000],\n",
      "         [0.5000, 0.9000],\n",
      "         [0.2000, 0.3000],\n",
      "         [0.5000, 0.2000]],\n",
      "\n",
      "        [[0.4000, 0.1000],\n",
      "         [0.3000, 0.2000],\n",
      "         [0.7000, 0.4000],\n",
      "         [0.1000, 0.8000]]])\n",
      "tensor([[0, 1],\n",
      "        [2, 3]])\n",
      "tensor([[[1., 0.],\n",
      "         [0., 1.],\n",
      "         [0., 0.],\n",
      "         [0., 0.]],\n",
      "\n",
      "        [[0., 0.],\n",
      "         [0., 0.],\n",
      "         [1., 0.],\n",
      "         [0., 1.]]])\n"
     ]
    }
   ],
   "source": [
    "pre = torch.stack((pre_data[0:2].transpose(0, 1), pre_data[2:4].transpose(0, 1)))\n",
    "tgt_index = torch.stack((tgt_index_data[0:2], tgt_index_data[2:4]))\n",
    "tgt_onehot = torch.stack((tgt_onehot_data[0:2].transpose(0, 1), tgt_onehot_data[2:4].transpose(0, 1)))\n",
    "print(pre)\n",
    "print(tgt_index)\n",
    "print(tgt_onehot)"
   ]
  },
  {
   "cell_type": "code",
   "execution_count": null,
   "id": "f9c891f5",
   "metadata": {},
   "outputs": [],
   "source": []
  }
 ],
 "metadata": {
  "kernelspec": {
   "display_name": "Python 3 (ipykernel)",
   "language": "python",
   "name": "python3"
  },
  "language_info": {
   "codemirror_mode": {
    "name": "ipython",
    "version": 3
   },
   "file_extension": ".py",
   "mimetype": "text/x-python",
   "name": "python",
   "nbconvert_exporter": "python",
   "pygments_lexer": "ipython3",
   "version": "3.10.14"
  },
  "toc": {
   "base_numbering": 1,
   "nav_menu": {},
   "number_sections": true,
   "sideBar": true,
   "skip_h1_title": false,
   "title_cell": "Table of Contents",
   "title_sidebar": "Contents",
   "toc_cell": false,
   "toc_position": {},
   "toc_section_display": true,
   "toc_window_display": false
  }
 },
 "nbformat": 4,
 "nbformat_minor": 5
}
