{
 "cells": [
  {
   "cell_type": "markdown",
   "id": "beccd06e-73e7-4512-9298-4782e53e6213",
   "metadata": {},
   "source": [
    "使用PTB数据集，但是仅使用其前1000个单词，因为在本节实现的RNNLM中，即便使用所有的训练数据，也得不出好的结果。"
   ]
  },
  {
   "cell_type": "code",
   "execution_count": null,
   "id": "d18592b9-53f3-4cf4-97db-67ad45a69f2c",
   "metadata": {
    "ExecuteTime": {
     "end_time": "2024-05-02T06:34:46.760413Z",
     "start_time": "2024-05-02T06:34:46.425643Z"
    }
   },
   "outputs": [],
   "source": [
    "# coding: utf-8\n",
    "import sys\n",
    "sys.path.append('..')\n",
    "import matplotlib.pyplot as plt\n",
    "import numpy as np\n",
    "from common.optimizer import SGD\n",
    "from dataset import ptb\n",
    "from simple_rnnlm import SimpleRnnlm"
   ]
  },
  {
   "cell_type": "markdown",
   "id": "a800a0b7-bfba-44e5-85d7-7dd4b42b6b91",
   "metadata": {},
   "source": [
    "设定超参数"
   ]
  },
  {
   "cell_type": "code",
   "execution_count": null,
   "id": "5aa2f3dc-20b5-4b63-a45c-21acf6663c1b",
   "metadata": {
    "ExecuteTime": {
     "end_time": "2024-05-02T06:34:48.334531Z",
     "start_time": "2024-05-02T06:34:48.330459Z"
    }
   },
   "outputs": [],
   "source": [
    "batch_size = 10\n",
    "wordvec_size = 100\n",
    "hidden_size = 100\n",
    "time_size = 5  # Truncated BPTT的时间跨度大小\n",
    "lr = 0.1\n",
    "max_epoch = 100"
   ]
  },
  {
   "cell_type": "markdown",
   "id": "d86bea08-a5b3-4f6e-91f4-836d0230f35e",
   "metadata": {},
   "source": [
    "读入训练数据（缩小了数据集）\n",
    "\n",
    "**这里的vocab_size 一定是1000个单词的种类数**\n",
    "\n",
    "**因为单词和id的统计转换是按顺序进行的，而1000个单词也是按顺序进行的**"
   ]
  },
  {
   "cell_type": "code",
   "execution_count": null,
   "id": "4922cd73-f288-4afd-98e8-7b41dfac9c44",
   "metadata": {
    "ExecuteTime": {
     "end_time": "2024-05-02T06:34:49.749993Z",
     "start_time": "2024-05-02T06:34:49.729646Z"
    }
   },
   "outputs": [],
   "source": [
    "corpus, word_to_id, id_to_word = ptb.load_data('train')\n",
    "corpus_size = 1000\n",
    "corpus = corpus[:corpus_size]\n",
    "# print(corpus)\n",
    "vocab_size = int(max(corpus) + 1)\n",
    "print(vocab_size)"
   ]
  },
  {
   "cell_type": "code",
   "execution_count": null,
   "id": "ef4c95f8",
   "metadata": {},
   "outputs": [],
   "source": []
  },
  {
   "cell_type": "markdown",
   "id": "61242fb3-804d-494b-bcf7-2703e9639d3c",
   "metadata": {},
   "source": [
    "输入值 和 输出的监督标签应该偏移一个值，因为是预测下一个位置"
   ]
  },
  {
   "cell_type": "code",
   "execution_count": null,
   "id": "01602dd8-e04d-4694-a464-ef71768bdc06",
   "metadata": {
    "ExecuteTime": {
     "end_time": "2024-05-02T06:34:51.216384Z",
     "start_time": "2024-05-02T06:34:51.195179Z"
    }
   },
   "outputs": [],
   "source": [
    "xs = corpus[:-1]\n",
    "ts = corpus[1:]\n",
    "data_size = len(xs)\n",
    "print(data_size)\n",
    "print('corpus size: %d, vocabulary size: %d' % (corpus_size, vocab_size))"
   ]
  },
  {
   "cell_type": "markdown",
   "id": "252a32b8-730b-4136-950a-f8ec256862fc",
   "metadata": {},
   "source": [
    "学习用的参数"
   ]
  },
  {
   "cell_type": "code",
   "execution_count": null,
   "id": "30b2ca26-ce4c-48af-a00c-7ad4684e8c1d",
   "metadata": {
    "ExecuteTime": {
     "end_time": "2024-05-02T06:34:52.943582Z",
     "start_time": "2024-05-02T06:34:52.938583Z"
    }
   },
   "outputs": [],
   "source": [
    "max_iters = data_size // (batch_size * time_size)\n",
    "time_idx = 0\n",
    "total_loss = 0\n",
    "loss_count = 0\n",
    "ppl_list = []  # perplexity 困惑度"
   ]
  },
  {
   "cell_type": "markdown",
   "id": "62b5fe66-8096-4cda-bc06-bb1762eef253",
   "metadata": {},
   "source": [
    "生成模型"
   ]
  },
  {
   "cell_type": "code",
   "execution_count": null,
   "id": "c70e4ae5-30e1-487c-ad38-0924d63fd0ce",
   "metadata": {
    "ExecuteTime": {
     "end_time": "2024-05-02T06:35:13.510082Z",
     "start_time": "2024-05-02T06:35:13.497370Z"
    }
   },
   "outputs": [],
   "source": [
    "model = SimpleRnnlm(vocab_size, wordvec_size, hidden_size)\n",
    "optimizer = SGD(lr)"
   ]
  },
  {
   "cell_type": "markdown",
   "id": "9f2d2741-46be-4284-9212-c993b35f26f4",
   "metadata": {},
   "source": [
    "计算读入mini-batch的各笔样本数据的开始位置"
   ]
  },
  {
   "cell_type": "code",
   "execution_count": null,
   "id": "15a2f8ea-83f4-470b-af06-b4f54bb69e14",
   "metadata": {
    "ExecuteTime": {
     "end_time": "2024-05-02T06:35:15.895447Z",
     "start_time": "2024-05-02T06:35:15.891099Z"
    }
   },
   "outputs": [],
   "source": [
    "jump = (corpus_size - 1) // batch_size\n",
    "offsets = [i * jump for i in range(batch_size)]"
   ]
  },
  {
   "cell_type": "code",
   "execution_count": null,
   "id": "438ec04b",
   "metadata": {
    "ExecuteTime": {
     "end_time": "2024-05-02T06:20:02.803509Z",
     "start_time": "2024-05-02T06:20:02.791205Z"
    }
   },
   "outputs": [],
   "source": [
    "max_iters"
   ]
  },
  {
   "cell_type": "code",
   "execution_count": null,
   "id": "8a54d804",
   "metadata": {
    "ExecuteTime": {
     "end_time": "2024-05-02T06:40:47.295726Z",
     "start_time": "2024-05-02T06:40:47.289139Z"
    }
   },
   "outputs": [],
   "source": [
    "range(max_iters)"
   ]
  },
  {
   "cell_type": "code",
   "execution_count": null,
   "id": "4e699585",
   "metadata": {
    "ExecuteTime": {
     "end_time": "2024-05-02T06:55:02.654761Z",
     "start_time": "2024-05-02T06:55:02.645031Z"
    }
   },
   "outputs": [],
   "source": [
    "time_idx=0"
   ]
  },
  {
   "cell_type": "code",
   "execution_count": null,
   "id": "a9f54e4a",
   "metadata": {
    "ExecuteTime": {
     "end_time": "2024-05-02T06:51:47.266412Z",
     "start_time": "2024-05-02T06:51:47.262720Z"
    }
   },
   "outputs": [],
   "source": [
    "x_all =[]"
   ]
  },
  {
   "cell_type": "code",
   "execution_count": null,
   "id": "dffe5364",
   "metadata": {
    "ExecuteTime": {
     "end_time": "2024-05-02T06:55:04.541908Z",
     "start_time": "2024-05-02T06:55:04.109218Z"
    }
   },
   "outputs": [],
   "source": [
    "for epoch in range(max_epoch):\n",
    "    for iter in range(max_iters):\n",
    "        batch_x = np.empty((batch_size, time_size), dtype='i')\n",
    "        batch_t = np.empty((batch_size, time_size), dtype='i')\n",
    "        for t in range(time_size):\n",
    "            for i, offset in enumerate(offsets):\n",
    "                batch_x[i, t] = (offset + time_idx) % data_size\n",
    "                batch_t[i, t] = (offset + time_idx) % data_size\n",
    "                print((offset + time_idx) % data_size)\n",
    "            time_idx += 1\n",
    "        x_all.append(batch_x[0])"
   ]
  },
  {
   "cell_type": "code",
   "execution_count": null,
   "id": "2e5861e3",
   "metadata": {
    "ExecuteTime": {
     "end_time": "2024-05-02T06:55:09.326946Z",
     "start_time": "2024-05-02T06:55:09.236971Z"
    }
   },
   "outputs": [],
   "source": [
    "x_all"
   ]
  },
  {
   "cell_type": "markdown",
   "id": "7ed86e51-868e-4484-b426-25060afd83de",
   "metadata": {},
   "source": [
    "当读入语料库的位置超过语料库大小时，为了回到语料库的开头处，将当前位置除以语料库大小后的余数作为索引使用。"
   ]
  },
  {
   "cell_type": "code",
   "execution_count": null,
   "id": "6f32244a-a31f-4699-831b-6907e8a1afc8",
   "metadata": {
    "ExecuteTime": {
     "end_time": "2024-05-02T06:37:13.675032Z",
     "start_time": "2024-05-02T06:37:08.810809Z"
    }
   },
   "outputs": [],
   "source": [
    "for epoch in range(max_epoch):\n",
    "    for iter in range(max_iters):\n",
    "        # 获取mini-batch\n",
    "        batch_x = np.empty((batch_size, time_size), dtype='i')\n",
    "        batch_t = np.empty((batch_size, time_size), dtype='i')\n",
    "        for t in range(time_size):\n",
    "            for i, offset in enumerate(offsets):\n",
    "                batch_x[i, t] = xs[(offset + time_idx) % data_size]\n",
    "                batch_t[i, t] = ts[(offset + time_idx) % data_size]\n",
    "            time_idx += 1\n",
    "            \n",
    "        # 计算梯度，更新参数\n",
    "        loss = model.forward(batch_x, batch_t)\n",
    "        model.backward()\n",
    "        optimizer.update(model.params, model.grads)\n",
    "        total_loss += loss\n",
    "        loss_count += 1\n",
    "        \n",
    "    # 各个epoch的困惑度评价\n",
    "    ppl = np.exp(total_loss / loss_count)\n",
    "    print('| epoch %d | perplexity %.2f | loss %.2f'% (epoch+1, ppl,loss))\n",
    "    ppl_list.append(float(ppl))\n",
    "    total_loss, loss_count = 0, 0"
   ]
  },
  {
   "cell_type": "code",
   "execution_count": null,
   "id": "74c1efad-3a3a-4198-8806-5343e52837e1",
   "metadata": {
    "ExecuteTime": {
     "end_time": "2024-05-02T02:48:09.828330Z",
     "start_time": "2024-05-02T02:48:09.562558Z"
    }
   },
   "outputs": [],
   "source": [
    "x = np.arange(len(ppl_list))\n",
    "plt.plot(x, ppl_list, label='train')\n",
    "plt.xlabel('epochs')\n",
    "plt.ylabel('perplexity')\n",
    "plt.show()"
   ]
  },
  {
   "cell_type": "markdown",
   "id": "bb10b148-5c49-468e-9e19-ed9512ff3b3b",
   "metadata": {},
   "source": [
    "### 5.5.4 RNNLM的Trainer类"
   ]
  },
  {
   "cell_type": "markdown",
   "id": "b87ffb1a-5aae-40ac-9f56-aa0eae9066a0",
   "metadata": {},
   "source": [
    "见trainer的RnnlmTrainer"
   ]
  },
  {
   "cell_type": "code",
   "execution_count": null,
   "id": "dd2c3222-9c33-4ffe-85d8-bd437f460227",
   "metadata": {
    "ExecuteTime": {
     "end_time": "2024-05-01T09:23:20.334054Z",
     "start_time": "2024-05-01T09:23:20.296834Z"
    }
   },
   "outputs": [],
   "source": [
    "for iter in range(max_iters):\n",
    "        # 获取mini-batch\n",
    "        batch_x = np.empty((batch_size, time_size), dtype='i')\n",
    "        batch_t = np.empty((batch_size, time_size), dtype='i')\n",
    "        for t in range(time_size):\n",
    "            for i, offset in enumerate(offsets):\n",
    "                batch_x[i, t] = xs[(offset + time_idx) % data_size]\n",
    "                batch_t[i, t] = ts[(offset + time_idx) % data_size]\n",
    "            time_idx += 1\n",
    "            \n",
    "        # 计算梯度，更新参数\n",
    "        loss = model.forward(batch_x, batch_t)"
   ]
  },
  {
   "cell_type": "code",
   "execution_count": null,
   "id": "fb14b01e",
   "metadata": {
    "ExecuteTime": {
     "end_time": "2024-05-01T09:23:24.726821Z",
     "start_time": "2024-05-01T09:23:24.714229Z"
    }
   },
   "outputs": [],
   "source": [
    "loss"
   ]
  },
  {
   "cell_type": "code",
   "execution_count": null,
   "id": "732b8ee4",
   "metadata": {},
   "outputs": [],
   "source": []
  }
 ],
 "metadata": {
  "kernelspec": {
   "display_name": "Python 3 (ipykernel)",
   "language": "python",
   "name": "python3"
  },
  "language_info": {
   "codemirror_mode": {
    "name": "ipython",
    "version": 3
   },
   "file_extension": ".py",
   "mimetype": "text/x-python",
   "name": "python",
   "nbconvert_exporter": "python",
   "pygments_lexer": "ipython3",
   "version": "3.10.14"
  },
  "toc": {
   "base_numbering": 1,
   "nav_menu": {},
   "number_sections": true,
   "sideBar": true,
   "skip_h1_title": false,
   "title_cell": "Table of Contents",
   "title_sidebar": "Contents",
   "toc_cell": false,
   "toc_position": {},
   "toc_section_display": true,
   "toc_window_display": false
  },
  "widgets": {
   "application/vnd.jupyter.widget-state+json": {
    "state": {},
    "version_major": 2,
    "version_minor": 0
   }
  }
 },
 "nbformat": 4,
 "nbformat_minor": 5
}
