{
 "cells": [
  {
   "cell_type": "code",
   "execution_count": null,
   "id": "a90e1ec7",
   "metadata": {
    "ExecuteTime": {
     "end_time": "2024-04-21T08:24:46.255186Z",
     "start_time": "2024-04-21T08:24:45.329665Z"
    }
   },
   "outputs": [],
   "source": [
    "import numpy as np"
   ]
  },
  {
   "cell_type": "code",
   "execution_count": null,
   "id": "ac639c9b",
   "metadata": {
    "ExecuteTime": {
     "end_time": "2024-04-21T08:26:27.299552Z",
     "start_time": "2024-04-21T08:26:27.278140Z"
    }
   },
   "outputs": [],
   "source": [
    "class RNN:\n",
    "    def __init__(self, Wx,Wh,b):\n",
    "        self.params = [Wx,Wh,b];\n",
    "        self.grads = [np.zeros_like(Wx),np.zeros_like(Wh),np.zeros_like(b)];\n",
    "        self.cache = None;\n",
    "        \n",
    "        \n",
    "    def forward(self,x,h_prev):\n",
    "        Wx , Wh , b = self.params;\n",
    "        t = np.dot(Wx,x) + np.dot(Wh,h) + b\n",
    "        h_next = np.tanh(t);\n",
    "        \n",
    "        self.cache = (x,h_prev,h_next)\n",
    "        return h_next\n",
    "    \n",
    "    def backward(self,dh_next):\n",
    "        Wx , Wh , b = self.params;\n",
    "        x,h_prev,h_next = self.cache\n",
    "        dt = dh_next * (1-dh_next**2)\n",
    "        db = np.sum(dt,axis=0);\n",
    "        dWh = np.dot(h_prev.T,dt)\n",
    "        dh_prev = np.dot(dt,Wh.T)\n",
    "        dWx = np.dot(x.T,dt)\n",
    "        dx = np.dot(dt,Wx.T)\n",
    "        \n",
    "        self.grads[0][...] = dWx\n",
    "        self.grads[1][...] = dWh\n",
    "        self.grads[2][...] = db\n",
    "        return dx,dh_prev"
   ]
  },
  {
   "cell_type": "code",
   "execution_count": null,
   "id": "c26383b5",
   "metadata": {},
   "outputs": [],
   "source": [
    "class TimeRNN:\n",
    "    def __init__(self, Wx, Wh,b, stateful = False):\n",
    "        self.paramas = [Wx, Wh, b]\n",
    "        self.grads = [np.zeros_like(Wx),np.zeros_like(Wh),np.zeros_like(b)];\n",
    "        self.layers =[];\n",
    "        \n",
    "        self.h , self.dh = None,None;\n",
    "        self.stateful = stateful;\n",
    "        \n",
    "    def set_state(self,h):\n",
    "        self.h = h\n",
    "        \n",
    "    def reset_state(self):\n",
    "        self.h = None;\n",
    "        \n",
    "        \n",
    "    def forward(self,xs):\n",
    "        Wx, Wh,b = self.paramas;\n",
    "        N,T,D = xs.shape;\n",
    "        D,H = Wx.shape\n",
    "        \n",
    "        self.layers = [];\n",
    "        hs = np.empty((N,T,H),dtype='f');\n",
    "        if (not self.stateful) or (self.h is None):\n",
    "            self.h = np.zeros((N,H),dtype = 'f')\n",
    "            \n",
    "        for t in range(T):\n",
    "            layer = RNN(*self.paramas)\n",
    "            self.h = layer.forward(xs[:,t,:],self.h)\n",
    "            hs[:,t,:] = self.h\n",
    "            self.layers.append(layer)\n",
    "        return hs\n",
    "\n",
    "    def backward(self,dhs):\n",
    "        Wx, Wh,b = self.paramas;\n",
    "        N,T,H = dhs.shape;\n",
    "        D,H = Wx.shape\n",
    "        \n",
    "        dxs = np.empty((N,T,D)，dtype = 'f')\n",
    "        dh = 0;\n",
    "        grads = [0,0,0];\n",
    "        \n",
    "        for t in reversed(range(T)):\n",
    "            layer = self.layers[t]\n",
    "            dx , dh = layer.backward(dhs[:,t,:] + dh)\n",
    "            dxs[:,t,:] = dx\n",
    "            \n",
    "            for i , grad in enumerate(layer.grads):\n",
    "                grads[i] += grad\n",
    "        for i , grad in enumerate(grads):\n",
    "            self.grads[i][...] = grad\n",
    "        self.dh = dh;\n",
    "        \n",
    "        return dxs"
   ]
  },
  {
   "cell_type": "code",
   "execution_count": null,
   "id": "2a6d95c2",
   "metadata": {
    "ExecuteTime": {
     "end_time": "2024-04-21T11:16:17.106091Z",
     "start_time": "2024-04-21T11:16:17.098739Z"
    }
   },
   "outputs": [],
   "source": [
    "enumerate(range(10))"
   ]
  },
  {
   "cell_type": "code",
   "execution_count": null,
   "id": "90c507fc",
   "metadata": {
    "ExecuteTime": {
     "end_time": "2024-04-21T09:07:53.774403Z",
     "start_time": "2024-04-21T09:07:53.770167Z"
    }
   },
   "outputs": [],
   "source": [
    "test1 = np.random.randn(2,3,4)\n",
    "print(test1)"
   ]
  },
  {
   "cell_type": "code",
   "execution_count": null,
   "id": "ad671cac",
   "metadata": {
    "ExecuteTime": {
     "end_time": "2024-04-21T09:07:56.561075Z",
     "start_time": "2024-04-21T09:07:56.554868Z"
    }
   },
   "outputs": [],
   "source": [
    "test1[:,1,:]"
   ]
  },
  {
   "cell_type": "code",
   "execution_count": null,
   "id": "453e6a4e",
   "metadata": {
    "ExecuteTime": {
     "end_time": "2024-04-21T09:08:39.247571Z",
     "start_time": "2024-04-21T09:08:39.243888Z"
    }
   },
   "outputs": [],
   "source": [
    "test2= np.random.randn(2,4)\n",
    "print(test2)"
   ]
  },
  {
   "cell_type": "code",
   "execution_count": null,
   "id": "7735af4e",
   "metadata": {
    "ExecuteTime": {
     "end_time": "2024-04-21T09:08:46.396646Z",
     "start_time": "2024-04-21T09:08:46.385688Z"
    }
   },
   "outputs": [],
   "source": [
    "test1[:,1,:] = test2 "
   ]
  },
  {
   "cell_type": "code",
   "execution_count": null,
   "id": "4d0ec95c",
   "metadata": {
    "ExecuteTime": {
     "end_time": "2024-04-21T09:09:27.295654Z",
     "start_time": "2024-04-21T09:09:27.282286Z"
    }
   },
   "outputs": [],
   "source": [
    "test1"
   ]
  },
  {
   "cell_type": "code",
   "execution_count": null,
   "id": "8553d464",
   "metadata": {
    "ExecuteTime": {
     "end_time": "2024-04-21T09:09:22.149443Z",
     "start_time": "2024-04-21T09:09:22.145841Z"
    }
   },
   "outputs": [],
   "source": [
    "test2[0] = 0"
   ]
  },
  {
   "cell_type": "code",
   "execution_count": null,
   "id": "5e39a740",
   "metadata": {
    "ExecuteTime": {
     "end_time": "2024-04-21T09:09:25.161371Z",
     "start_time": "2024-04-21T09:09:25.153540Z"
    }
   },
   "outputs": [],
   "source": [
    "test2"
   ]
  },
  {
   "cell_type": "code",
   "execution_count": 1,
   "id": "ffb25955",
   "metadata": {
    "ExecuteTime": {
     "end_time": "2024-04-30T06:19:59.010017Z",
     "start_time": "2024-04-30T06:19:57.840814Z"
    }
   },
   "outputs": [],
   "source": [
    "import torch\n",
    "from torch import nn"
   ]
  },
  {
   "cell_type": "code",
   "execution_count": null,
   "id": "a06b35b6",
   "metadata": {
    "ExecuteTime": {
     "end_time": "2024-04-30T03:31:19.294801Z",
     "start_time": "2024-04-30T03:31:19.289909Z"
    }
   },
   "outputs": [],
   "source": [
    "testrnncell = nn.RNNCell(3,5)"
   ]
  },
  {
   "cell_type": "code",
   "execution_count": null,
   "id": "b392eeb2",
   "metadata": {
    "ExecuteTime": {
     "end_time": "2024-04-30T03:45:50.446812Z",
     "start_time": "2024-04-30T03:45:50.435659Z"
    }
   },
   "outputs": [],
   "source": [
    "xinput = torch.randn(5,2,3)\n",
    "hx = torch.randn(2,5)"
   ]
  },
  {
   "cell_type": "code",
   "execution_count": null,
   "id": "adf504ff",
   "metadata": {
    "ExecuteTime": {
     "end_time": "2024-04-30T03:48:22.857535Z",
     "start_time": "2024-04-30T03:48:22.852049Z"
    }
   },
   "outputs": [],
   "source": [
    "output = []\n",
    "for i in range(5):\n",
    "    hx = testrnncell(xinput[i],hx)\n",
    "    output.append(hx)"
   ]
  },
  {
   "cell_type": "code",
   "execution_count": 2,
   "id": "a9db9c2f",
   "metadata": {
    "ExecuteTime": {
     "end_time": "2024-04-30T06:20:37.530059Z",
     "start_time": "2024-04-30T06:20:37.519715Z"
    }
   },
   "outputs": [],
   "source": [
    "timernn = nn.RNN(3,5)"
   ]
  },
  {
   "cell_type": "code",
   "execution_count": 6,
   "id": "c79fbf82",
   "metadata": {
    "ExecuteTime": {
     "end_time": "2024-04-30T06:22:19.556167Z",
     "start_time": "2024-04-30T06:22:19.543625Z"
    }
   },
   "outputs": [],
   "source": [
    "xs = torch.randn(5,3,3)\n",
    "h0 = torch.randn(1,3,5)"
   ]
  },
  {
   "cell_type": "code",
   "execution_count": 13,
   "id": "fb9ea3d7",
   "metadata": {
    "ExecuteTime": {
     "end_time": "2024-04-30T06:33:48.065165Z",
     "start_time": "2024-04-30T06:33:48.044304Z"
    }
   },
   "outputs": [],
   "source": [
    "hs , hout = timernn(xs,h0)"
   ]
  },
  {
   "cell_type": "code",
   "execution_count": 16,
   "id": "4a38d025",
   "metadata": {
    "ExecuteTime": {
     "end_time": "2024-04-30T06:35:18.850903Z",
     "start_time": "2024-04-30T06:35:18.844968Z"
    }
   },
   "outputs": [
    {
     "data": {
      "text/plain": [
       "torch.Size([1, 3, 5])"
      ]
     },
     "execution_count": 16,
     "metadata": {},
     "output_type": "execute_result"
    }
   ],
   "source": [
    "hout.shape"
   ]
  },
  {
   "cell_type": "code",
   "execution_count": null,
   "id": "aea3b69a",
   "metadata": {},
   "outputs": [],
   "source": []
  }
 ],
 "metadata": {
  "kernelspec": {
   "display_name": "Python 3 (ipykernel)",
   "language": "python",
   "name": "python3"
  },
  "language_info": {
   "codemirror_mode": {
    "name": "ipython",
    "version": 3
   },
   "file_extension": ".py",
   "mimetype": "text/x-python",
   "name": "python",
   "nbconvert_exporter": "python",
   "pygments_lexer": "ipython3",
   "version": "3.10.14"
  },
  "toc": {
   "base_numbering": 1,
   "nav_menu": {},
   "number_sections": true,
   "sideBar": true,
   "skip_h1_title": false,
   "title_cell": "Table of Contents",
   "title_sidebar": "Contents",
   "toc_cell": false,
   "toc_position": {},
   "toc_section_display": true,
   "toc_window_display": false
  }
 },
 "nbformat": 4,
 "nbformat_minor": 5
}
