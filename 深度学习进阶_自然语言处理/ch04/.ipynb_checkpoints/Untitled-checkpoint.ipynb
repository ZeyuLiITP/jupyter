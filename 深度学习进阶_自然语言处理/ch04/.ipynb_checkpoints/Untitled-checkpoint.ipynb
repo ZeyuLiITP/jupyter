{
 "cells": [
  {
   "cell_type": "code",
   "execution_count": 1,
   "id": "5ea11b46",
   "metadata": {
    "ExecuteTime": {
     "end_time": "2024-04-18T07:29:26.762296Z",
     "start_time": "2024-04-18T07:29:26.656177Z"
    }
   },
   "outputs": [],
   "source": [
    "import numpy as np"
   ]
  },
  {
   "cell_type": "code",
   "execution_count": 2,
   "id": "87a4be4c",
   "metadata": {
    "ExecuteTime": {
     "end_time": "2024-04-18T07:29:26.973680Z",
     "start_time": "2024-04-18T07:29:26.965781Z"
    }
   },
   "outputs": [],
   "source": [
    "class Embedding:\n",
    "    def __init__(self,W):\n",
    "        self.params = [W];\n",
    "        self.grads = [np.zeros_like(W)]\n",
    "        self.idx = None;\n",
    "        \n",
    "    def forward(self,idx):\n",
    "        W , =self.params;\n",
    "        self.idx = idx \n",
    "        out = W[idx]\n",
    "        \n",
    "        return out\n",
    "    \n",
    "    def backward(self,dout):\n",
    "        dW, = self.grads;\n",
    "        dW[...] = 0;\n",
    "        #for i, word_id in enumerate(self.idx):\n",
    "            #dW[word_id] += dout[i]\n",
    "        np.add.at(dW , self.idx, dout);\n",
    "        return None"
   ]
  },
  {
   "cell_type": "code",
   "execution_count": null,
   "id": "d49687a8",
   "metadata": {},
   "outputs": [],
   "source": [
    "class EmbeddingDot:\n",
    "    def __init__(self,W):\n",
    "        self.embed = Embedding(W);\n",
    "        self.params = self.embed.params\n",
    "        self.grads = self.embed.grads\n",
    "        self.cache = None;\n",
    "        \n",
    "    def forward(self,h,idx):\n",
    "        "
   ]
  },
  {
   "cell_type": "code",
   "execution_count": null,
   "id": "21ad63f1",
   "metadata": {
    "ExecuteTime": {
     "end_time": "2024-04-15T01:43:58.060925Z",
     "start_time": "2024-04-15T01:43:58.056365Z"
    }
   },
   "outputs": [],
   "source": [
    "W = np.random.randn(10,10)"
   ]
  },
  {
   "cell_type": "code",
   "execution_count": null,
   "id": "65dc46c4",
   "metadata": {
    "ExecuteTime": {
     "end_time": "2024-04-15T01:43:58.788993Z",
     "start_time": "2024-04-15T01:43:58.785210Z"
    }
   },
   "outputs": [],
   "source": [
    "testebedd = Ebedding(W)"
   ]
  },
  {
   "cell_type": "code",
   "execution_count": null,
   "id": "01694423",
   "metadata": {
    "ExecuteTime": {
     "end_time": "2024-04-15T01:43:59.631733Z",
     "start_time": "2024-04-15T01:43:59.609451Z"
    }
   },
   "outputs": [],
   "source": [
    "testebedd.forward([0,2,5,7])"
   ]
  },
  {
   "cell_type": "code",
   "execution_count": null,
   "id": "f026255c",
   "metadata": {
    "ExecuteTime": {
     "end_time": "2024-04-15T01:44:02.380172Z",
     "start_time": "2024-04-15T01:44:02.377184Z"
    }
   },
   "outputs": [],
   "source": [
    "dout = np.random.randn(4,10)"
   ]
  },
  {
   "cell_type": "code",
   "execution_count": null,
   "id": "7cc5c838",
   "metadata": {
    "ExecuteTime": {
     "end_time": "2024-04-15T01:44:04.764030Z",
     "start_time": "2024-04-15T01:44:04.760619Z"
    }
   },
   "outputs": [],
   "source": [
    "testebedd.backward(dout)"
   ]
  },
  {
   "cell_type": "code",
   "execution_count": null,
   "id": "779317fe",
   "metadata": {
    "ExecuteTime": {
     "end_time": "2024-04-15T01:44:06.320164Z",
     "start_time": "2024-04-15T01:44:06.312539Z"
    }
   },
   "outputs": [],
   "source": [
    "testebedd.grads"
   ]
  },
  {
   "cell_type": "code",
   "execution_count": null,
   "id": "f17a4637",
   "metadata": {
    "ExecuteTime": {
     "end_time": "2024-04-15T01:41:02.535571Z",
     "start_time": "2024-04-15T01:41:02.530727Z"
    }
   },
   "outputs": [],
   "source": [
    " = np.add.at(,[0],np.random.randn(3))\n",
    "print(test)"
   ]
  },
  {
   "cell_type": "code",
   "execution_count": null,
   "id": "f657ba60",
   "metadata": {
    "ExecuteTime": {
     "end_time": "2024-04-15T01:41:26.622203Z",
     "start_time": "2024-04-15T01:41:26.619576Z"
    }
   },
   "outputs": [],
   "source": [
    "test = np.zeros((3,3))"
   ]
  },
  {
   "cell_type": "code",
   "execution_count": null,
   "id": "0587c18f",
   "metadata": {
    "ExecuteTime": {
     "end_time": "2024-04-15T01:42:00.925555Z",
     "start_time": "2024-04-15T01:42:00.921815Z"
    }
   },
   "outputs": [],
   "source": [
    "np.add.at(test,[0,2],np.random.randn(2,3))"
   ]
  },
  {
   "cell_type": "code",
   "execution_count": null,
   "id": "7fcb80be",
   "metadata": {
    "ExecuteTime": {
     "end_time": "2024-04-15T01:42:01.250707Z",
     "start_time": "2024-04-15T01:42:01.240684Z"
    }
   },
   "outputs": [],
   "source": [
    "test"
   ]
  },
  {
   "cell_type": "code",
   "execution_count": null,
   "id": "4a2b08e7",
   "metadata": {},
   "outputs": [],
   "source": []
  }
 ],
 "metadata": {
  "kernelspec": {
   "display_name": "Python 3 (ipykernel)",
   "language": "python",
   "name": "python3"
  },
  "language_info": {
   "codemirror_mode": {
    "name": "ipython",
    "version": 3
   },
   "file_extension": ".py",
   "mimetype": "text/x-python",
   "name": "python",
   "nbconvert_exporter": "python",
   "pygments_lexer": "ipython3",
   "version": "3.10.14"
  },
  "toc": {
   "base_numbering": 1,
   "nav_menu": {},
   "number_sections": true,
   "sideBar": true,
   "skip_h1_title": false,
   "title_cell": "Table of Contents",
   "title_sidebar": "Contents",
   "toc_cell": false,
   "toc_position": {},
   "toc_section_display": true,
   "toc_window_display": false
  }
 },
 "nbformat": 4,
 "nbformat_minor": 5
}
