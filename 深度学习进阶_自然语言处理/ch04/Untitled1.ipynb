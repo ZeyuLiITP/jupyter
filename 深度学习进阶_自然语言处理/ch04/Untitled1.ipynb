{
 "cells": [
  {
   "cell_type": "code",
   "execution_count": 1,
   "id": "61f7f60f",
   "metadata": {
    "ExecuteTime": {
     "end_time": "2024-04-21T07:40:16.826984Z",
     "start_time": "2024-04-21T07:40:14.182651Z"
    }
   },
   "outputs": [],
   "source": [
    "import torch\n",
    "import numpy as np"
   ]
  },
  {
   "cell_type": "code",
   "execution_count": null,
   "id": "29d09998",
   "metadata": {
    "ExecuteTime": {
     "end_time": "2024-04-21T06:50:38.170967Z",
     "start_time": "2024-04-21T06:50:38.166496Z"
    }
   },
   "outputs": [],
   "source": [
    "batch_size = 1;\n",
    "seq_len = 3;\n",
    "input_size = 4;\n",
    "hidden_size = 2;"
   ]
  },
  {
   "cell_type": "code",
   "execution_count": null,
   "id": "74aa9830",
   "metadata": {
    "ExecuteTime": {
     "end_time": "2024-04-21T06:51:00.385708Z",
     "start_time": "2024-04-21T06:51:00.355790Z"
    }
   },
   "outputs": [],
   "source": [
    "cell = torch.nn.RNNCell(input_size=input_size,hidden_size=hidden_size);"
   ]
  },
  {
   "cell_type": "code",
   "execution_count": null,
   "id": "53973373",
   "metadata": {
    "ExecuteTime": {
     "end_time": "2024-04-21T07:07:11.137103Z",
     "start_time": "2024-04-21T07:07:11.115264Z"
    }
   },
   "outputs": [],
   "source": [
    "dataset = torch.randn(seq_len,batch_size,input_size)\n",
    "hidden = torch.zeros(batch_size,hidden_size)"
   ]
  },
  {
   "cell_type": "code",
   "execution_count": null,
   "id": "f4e66761",
   "metadata": {
    "ExecuteTime": {
     "end_time": "2024-04-21T07:07:21.471007Z",
     "start_time": "2024-04-21T07:07:21.454221Z"
    }
   },
   "outputs": [],
   "source": []
  },
  {
   "cell_type": "code",
   "execution_count": null,
   "id": "794b6855",
   "metadata": {
    "ExecuteTime": {
     "end_time": "2024-04-21T07:20:54.238990Z",
     "start_time": "2024-04-21T07:20:54.226765Z"
    }
   },
   "outputs": [],
   "source": [
    "cell = torch.nn.RNN(input_size = input_size,hidden_size=hidden_size,num_layers = 1)"
   ]
  },
  {
   "cell_type": "code",
   "execution_count": null,
   "id": "e0f88bae",
   "metadata": {
    "ExecuteTime": {
     "end_time": "2024-04-21T07:23:38.661069Z",
     "start_time": "2024-04-21T07:23:38.657287Z"
    }
   },
   "outputs": [],
   "source": [
    "inputs = torch.randn(seq_len,batch_size,input_size)\n",
    "hidden = torch.zeros(1,batch_size,hidden_size)"
   ]
  },
  {
   "cell_type": "code",
   "execution_count": null,
   "id": "f07a68ec",
   "metadata": {
    "ExecuteTime": {
     "end_time": "2024-04-21T07:24:32.918199Z",
     "start_time": "2024-04-21T07:24:32.881262Z"
    }
   },
   "outputs": [],
   "source": [
    "out,hidden = cell(inputs,hidden)"
   ]
  },
  {
   "cell_type": "code",
   "execution_count": null,
   "id": "ffc9e4c2",
   "metadata": {
    "ExecuteTime": {
     "end_time": "2024-04-21T07:24:35.074385Z",
     "start_time": "2024-04-21T07:24:35.065380Z"
    }
   },
   "outputs": [],
   "source": [
    "out"
   ]
  },
  {
   "cell_type": "code",
   "execution_count": null,
   "id": "e6130140",
   "metadata": {
    "ExecuteTime": {
     "end_time": "2024-04-21T07:28:34.936405Z",
     "start_time": "2024-04-21T07:28:34.920579Z"
    }
   },
   "outputs": [],
   "source": [
    "cell.children"
   ]
  },
  {
   "cell_type": "code",
   "execution_count": null,
   "id": "b6aa57f2",
   "metadata": {},
   "outputs": [],
   "source": [
    "idx2char = "
   ]
  }
 ],
 "metadata": {
  "kernelspec": {
   "display_name": "Python 3 (ipykernel)",
   "language": "python",
   "name": "python3"
  },
  "language_info": {
   "codemirror_mode": {
    "name": "ipython",
    "version": 3
   },
   "file_extension": ".py",
   "mimetype": "text/x-python",
   "name": "python",
   "nbconvert_exporter": "python",
   "pygments_lexer": "ipython3",
   "version": "3.10.14"
  },
  "toc": {
   "base_numbering": 1,
   "nav_menu": {},
   "number_sections": true,
   "sideBar": true,
   "skip_h1_title": false,
   "title_cell": "Table of Contents",
   "title_sidebar": "Contents",
   "toc_cell": false,
   "toc_position": {},
   "toc_section_display": true,
   "toc_window_display": false
  }
 },
 "nbformat": 4,
 "nbformat_minor": 5
}
