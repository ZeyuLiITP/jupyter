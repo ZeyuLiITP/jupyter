{
 "cells": [
  {
   "cell_type": "code",
   "execution_count": null,
   "id": "b9bfdad8",
   "metadata": {},
   "outputs": [],
   "source": []
  },
  {
   "cell_type": "code",
   "execution_count": 4,
   "id": "2b90e6f8",
   "metadata": {
    "ExecuteTime": {
     "end_time": "2024-04-11T07:45:43.436757Z",
     "start_time": "2024-04-11T07:45:43.431297Z"
    }
   },
   "outputs": [],
   "source": [
    "text = 'You say goodby and I say hello.'"
   ]
  },
  {
   "cell_type": "code",
   "execution_count": null,
   "id": "8e10cd5a",
   "metadata": {
    "ExecuteTime": {
     "end_time": "2024-04-08T02:28:57.722387Z",
     "start_time": "2024-04-08T02:28:57.715036Z"
    }
   },
   "outputs": [],
   "source": [
    "text = text.lower()"
   ]
  },
  {
   "cell_type": "code",
   "execution_count": 3,
   "id": "22c7c99f",
   "metadata": {
    "ExecuteTime": {
     "end_time": "2024-04-11T07:45:41.283229Z",
     "start_time": "2024-04-11T07:45:40.561787Z"
    }
   },
   "outputs": [
    {
     "ename": "NameError",
     "evalue": "name 'text' is not defined",
     "output_type": "error",
     "traceback": [
      "\u001b[1;31m---------------------------------------------------------------------------\u001b[0m",
      "\u001b[1;31mNameError\u001b[0m                                 Traceback (most recent call last)",
      "Cell \u001b[1;32mIn[3], line 1\u001b[0m\n\u001b[1;32m----> 1\u001b[0m text \u001b[38;5;241m=\u001b[39m \u001b[43mtext\u001b[49m\u001b[38;5;241m.\u001b[39mreplace(\u001b[38;5;124m'\u001b[39m\u001b[38;5;124m.\u001b[39m\u001b[38;5;124m'\u001b[39m, \u001b[38;5;124m'\u001b[39m\u001b[38;5;124m .\u001b[39m\u001b[38;5;124m'\u001b[39m)\n",
      "\u001b[1;31mNameError\u001b[0m: name 'text' is not defined"
     ]
    }
   ],
   "source": [
    "text = text.replace('.', ' .')"
   ]
  },
  {
   "cell_type": "code",
   "execution_count": null,
   "id": "1ed31343",
   "metadata": {
    "ExecuteTime": {
     "end_time": "2024-04-08T02:37:39.279258Z",
     "start_time": "2024-04-08T02:37:39.265613Z"
    }
   },
   "outputs": [],
   "source": [
    "words = text.split(' ')"
   ]
  },
  {
   "cell_type": "code",
   "execution_count": null,
   "id": "35c71016",
   "metadata": {
    "ExecuteTime": {
     "end_time": "2024-04-08T02:37:39.778431Z",
     "start_time": "2024-04-08T02:37:39.759728Z"
    }
   },
   "outputs": [],
   "source": [
    "words"
   ]
  },
  {
   "cell_type": "code",
   "execution_count": null,
   "id": "85f8c423",
   "metadata": {
    "ExecuteTime": {
     "end_time": "2024-04-08T02:45:42.334446Z",
     "start_time": "2024-04-08T02:45:42.327167Z"
    }
   },
   "outputs": [],
   "source": [
    "word_to_id = {};\n",
    "id_to_word = {};"
   ]
  },
  {
   "cell_type": "code",
   "execution_count": null,
   "id": "8450646b",
   "metadata": {
    "ExecuteTime": {
     "end_time": "2024-04-08T02:49:23.877495Z",
     "start_time": "2024-04-08T02:49:23.870135Z"
    }
   },
   "outputs": [],
   "source": [
    "for word in words:\n",
    "    if word not in word_to_id:\n",
    "        new_id = len(word_to_id);\n",
    "        word_to_id[word] = new_id;\n",
    "        id_to_word[new_id] = word"
   ]
  },
  {
   "cell_type": "code",
   "execution_count": null,
   "id": "04b7bfec",
   "metadata": {
    "ExecuteTime": {
     "end_time": "2024-04-08T06:28:49.887585Z",
     "start_time": "2024-04-08T06:28:49.801323Z"
    }
   },
   "outputs": [],
   "source": [
    "import numpy as np"
   ]
  },
  {
   "cell_type": "code",
   "execution_count": null,
   "id": "6aa1c0b3",
   "metadata": {
    "ExecuteTime": {
     "end_time": "2024-04-08T02:58:28.175813Z",
     "start_time": "2024-04-08T02:58:28.172830Z"
    }
   },
   "outputs": [],
   "source": [
    "corpus = np.array([word_to_id[w] for w in words])"
   ]
  },
  {
   "cell_type": "code",
   "execution_count": null,
   "id": "16f7752d",
   "metadata": {
    "ExecuteTime": {
     "end_time": "2024-04-08T08:31:00.280560Z",
     "start_time": "2024-04-08T08:31:00.264094Z"
    }
   },
   "outputs": [],
   "source": [
    "del create_co_matrix"
   ]
  },
  {
   "cell_type": "code",
   "execution_count": null,
   "id": "b23adc66",
   "metadata": {
    "ExecuteTime": {
     "end_time": "2024-04-08T08:31:22.656093Z",
     "start_time": "2024-04-08T08:31:22.646094Z"
    },
    "code_folding": [
     0,
     3
    ]
   },
   "outputs": [],
   "source": [
    "def generate_list(i,lenth,window_size):\n",
    "    return list(range(max(0,i-window_size),i)) + list(range(i+1,min(i+window_size+1,lenth)))\n",
    "\n",
    "def my_create_co_matrix(corpus,vocab_size,window_size = 1):\n",
    "    return_list = np.zeros((vocab_size,vocab_size),dtype=int);\n",
    "    corpus_len = len(corpus);\n",
    "    \n",
    "    for i in range(vocab_size):\n",
    "        \n",
    "        word_appear_index = np.argwhere(corpus == i).flatten();\n",
    "        list2 = np.array([]).astype(int);\n",
    "        vocab_list=[];\n",
    "        if len(word_appear_index) != 0:\n",
    "            for j in word_appear_index:\n",
    "                list2 = np.append(list2,generate_list(j,corpus_len,window_size))\n",
    "                vocab_list = corpus[list2];\n",
    "            \n",
    "        if len(vocab_list) != 0:\n",
    "            for k in vocab_list:\n",
    "                return_list[i,k] += 1\n",
    "    return return_list\n",
    "\n"
   ]
  },
  {
   "cell_type": "code",
   "execution_count": 1,
   "id": "e1ea107c",
   "metadata": {
    "ExecuteTime": {
     "end_time": "2024-04-11T07:45:29.710393Z",
     "start_time": "2024-04-11T07:45:29.695911Z"
    }
   },
   "outputs": [],
   "source": [
    "import sys\n",
    "sys.path.append('..')"
   ]
  },
  {
   "cell_type": "code",
   "execution_count": 65,
   "id": "10d66447",
   "metadata": {
    "ExecuteTime": {
     "end_time": "2024-04-11T08:22:50.594780Z",
     "start_time": "2024-04-11T08:22:50.588768Z"
    }
   },
   "outputs": [],
   "source": [
    "from common.util import preprocess,cos_similarity,create_co_matrix , most_similar,ppmi,create_contexts_target,convert_one_hot"
   ]
  },
  {
   "cell_type": "code",
   "execution_count": null,
   "id": "474ef245",
   "metadata": {
    "ExecuteTime": {
     "end_time": "2024-04-09T06:34:24.133830Z",
     "start_time": "2024-04-09T06:34:24.128436Z"
    }
   },
   "outputs": [],
   "source": [
    "corpus , word_to_id, id_to_word = preprocess(text)"
   ]
  },
  {
   "cell_type": "code",
   "execution_count": null,
   "id": "c21c2858",
   "metadata": {
    "ExecuteTime": {
     "end_time": "2024-04-09T06:35:57.078879Z",
     "start_time": "2024-04-09T06:35:57.074416Z"
    }
   },
   "outputs": [],
   "source": [
    "vocab_size = len(word_to_id)"
   ]
  },
  {
   "cell_type": "code",
   "execution_count": null,
   "id": "72b96569",
   "metadata": {
    "ExecuteTime": {
     "end_time": "2024-04-09T06:36:02.141053Z",
     "start_time": "2024-04-09T06:36:02.122777Z"
    }
   },
   "outputs": [],
   "source": [
    "C=create_co_matrix(corpus,vocab_size)"
   ]
  },
  {
   "cell_type": "code",
   "execution_count": null,
   "id": "f654904d",
   "metadata": {
    "ExecuteTime": {
     "end_time": "2024-04-09T08:25:08.594593Z",
     "start_time": "2024-04-09T08:25:08.580533Z"
    }
   },
   "outputs": [],
   "source": [
    "most_similar('say',word_to_id,id_to_word,C,top=5)"
   ]
  },
  {
   "cell_type": "code",
   "execution_count": null,
   "id": "fa2de9ad",
   "metadata": {
    "ExecuteTime": {
     "end_time": "2024-04-09T08:05:54.462141Z",
     "start_time": "2024-04-09T08:05:54.448536Z"
    }
   },
   "outputs": [],
   "source": [
    "del most_similar"
   ]
  },
  {
   "cell_type": "code",
   "execution_count": null,
   "id": "f8d0f724",
   "metadata": {
    "ExecuteTime": {
     "end_time": "2024-04-09T08:17:50.816409Z",
     "start_time": "2024-04-09T08:17:50.813067Z"
    }
   },
   "outputs": [],
   "source": [
    "import numpy as np"
   ]
  },
  {
   "cell_type": "code",
   "execution_count": null,
   "id": "bd400ff4",
   "metadata": {
    "ExecuteTime": {
     "end_time": "2024-04-09T08:24:51.001777Z",
     "start_time": "2024-04-09T08:24:50.995728Z"
    },
    "code_folding": [
     0
    ]
   },
   "outputs": [],
   "source": [
    "def my_most_similar(query, word_to_id, id_to_word, word_matrix,top=5):\n",
    "    print('[query]' + ' ' + query)\n",
    "    query_id = word_to_id[query]\n",
    "    query_vector = word_matrix[query_id];\n",
    "    \n",
    "    cos_similar_value = np.array([cos_similarity(query_vector, word_matrix[ii]) for ii in range(len(word_matrix)) if ii != query_id])\n",
    "    vocab_id = np.array([ii for ii in range(len(word_to_id)) if ii != query_id])\n",
    "    vocab_name = np.array([id_to_word[ii] for ii in vocab_id])\n",
    "    \n",
    "    lower_order = (-cos_similar_value).argsort()\n",
    "    \n",
    "    for i in range(top):\n",
    "        index = lower_order[i]\n",
    "        print(vocab_name[index] + ': ' + str(cos_similar_value[index]))\n",
    "    "
   ]
  },
  {
   "cell_type": "code",
   "execution_count": null,
   "id": "ef386dcf",
   "metadata": {
    "ExecuteTime": {
     "end_time": "2024-04-09T08:25:20.364735Z",
     "start_time": "2024-04-09T08:25:20.354620Z"
    }
   },
   "outputs": [],
   "source": [
    "my_most_similar('say',word_to_id,id_to_word,C,5)"
   ]
  },
  {
   "cell_type": "code",
   "execution_count": null,
   "id": "69fba519",
   "metadata": {
    "ExecuteTime": {
     "end_time": "2024-04-09T08:42:16.332341Z",
     "start_time": "2024-04-09T08:42:16.317756Z"
    }
   },
   "outputs": [],
   "source": [
    "ppmi(C)"
   ]
  },
  {
   "cell_type": "code",
   "execution_count": null,
   "id": "49782f40",
   "metadata": {
    "ExecuteTime": {
     "end_time": "2024-04-09T09:04:34.397707Z",
     "start_time": "2024-04-09T09:04:34.389980Z"
    },
    "code_folding": [
     0
    ]
   },
   "outputs": [],
   "source": [
    "def my_ppmi(co_matrix , verbose = False, eps =1e-8):\n",
    "    N = np.sum(co_matrix);\n",
    "    pmi_mat = np.zeros_like((co_matrix),dtype=float)\n",
    "    vocab_len = len(co_matrix);\n",
    "    \n",
    "    for i in range(vocab_len):\n",
    "        for j in range(vocab_len):\n",
    "            pmi_mat[i,j] = max(np.log2(N*co_matrix[i,j]/(np.sum(co_matrix[i])*np.sum(co_matrix[j]))+eps),0)\n",
    "            \n",
    "    return pmi_mat"
   ]
  },
  {
   "cell_type": "code",
   "execution_count": null,
   "id": "9058837d",
   "metadata": {},
   "outputs": [],
   "source": []
  },
  {
   "cell_type": "code",
   "execution_count": 5,
   "id": "a3f043f4",
   "metadata": {
    "ExecuteTime": {
     "end_time": "2024-04-11T07:46:22.640587Z",
     "start_time": "2024-04-11T07:46:22.630747Z"
    }
   },
   "outputs": [],
   "source": [
    "corpus , word_to_id, id_to_word = preprocess(text)"
   ]
  },
  {
   "cell_type": "code",
   "execution_count": 48,
   "id": "819420c5",
   "metadata": {
    "ExecuteTime": {
     "end_time": "2024-04-11T08:14:11.236646Z",
     "start_time": "2024-04-11T08:14:11.232754Z"
    }
   },
   "outputs": [],
   "source": [
    "import numpy as np"
   ]
  },
  {
   "cell_type": "code",
   "execution_count": 62,
   "id": "8417b6e2",
   "metadata": {
    "ExecuteTime": {
     "end_time": "2024-04-11T08:21:11.641766Z",
     "start_time": "2024-04-11T08:21:11.630700Z"
    }
   },
   "outputs": [],
   "source": [
    "del create_contexts_target"
   ]
  },
  {
   "cell_type": "code",
   "execution_count": 63,
   "id": "5841a170",
   "metadata": {
    "ExecuteTime": {
     "end_time": "2024-04-11T08:21:14.947348Z",
     "start_time": "2024-04-11T08:21:14.926497Z"
    },
    "code_folding": [
     0
    ]
   },
   "outputs": [],
   "source": [
    "def my_create_contexts_target(corpus,window_size=1):\n",
    "    contextlist = [];\n",
    "    targetlist = [];\n",
    "    corpus_len = len(corpus);\n",
    "    \n",
    "    for i in range(window_size,corpus_len-window_size):\n",
    "        left_bound = max(0,i-window_size);\n",
    "        rightbound = min(i+window_size+1,corpus_len)\n",
    "        test = [corpus[ii] for ii in range(left_bound,rightbound) if ii!= i]\n",
    "        contextlist.append(test)\n",
    "        targetlist.append(corpus[i])\n",
    "    \n",
    "        \n",
    "    return np.array(contextlist) , np.array(targetlist)"
   ]
  },
  {
   "cell_type": "code",
   "execution_count": 66,
   "id": "55c79210",
   "metadata": {
    "ExecuteTime": {
     "end_time": "2024-04-11T08:23:31.877316Z",
     "start_time": "2024-04-11T08:23:31.870354Z"
    }
   },
   "outputs": [],
   "source": [
    "vocab_size = len(word_to_id)"
   ]
  },
  {
   "cell_type": "code",
   "execution_count": 71,
   "id": "43eefa4e",
   "metadata": {
    "ExecuteTime": {
     "end_time": "2024-04-11T08:24:47.418268Z",
     "start_time": "2024-04-11T08:24:47.413835Z"
    }
   },
   "outputs": [],
   "source": [
    "contexts,target= create_contexts_target(corpus,window_size=1)"
   ]
  },
  {
   "cell_type": "code",
   "execution_count": 72,
   "id": "49838b64",
   "metadata": {
    "ExecuteTime": {
     "end_time": "2024-04-11T08:24:47.714731Z",
     "start_time": "2024-04-11T08:24:47.698668Z"
    }
   },
   "outputs": [],
   "source": [
    "contexts = convert_one_hot(contexts,vocab_size)\n",
    "target = convert_one_hot(target,vocab_size)"
   ]
  },
  {
   "cell_type": "code",
   "execution_count": null,
   "id": "067531db",
   "metadata": {},
   "outputs": [],
   "source": []
  }
 ],
 "metadata": {
  "kernelspec": {
   "display_name": "Python 3 (ipykernel)",
   "language": "python",
   "name": "python3"
  },
  "language_info": {
   "codemirror_mode": {
    "name": "ipython",
    "version": 3
   },
   "file_extension": ".py",
   "mimetype": "text/x-python",
   "name": "python",
   "nbconvert_exporter": "python",
   "pygments_lexer": "ipython3",
   "version": "3.10.14"
  },
  "toc": {
   "base_numbering": 1,
   "nav_menu": {},
   "number_sections": true,
   "sideBar": true,
   "skip_h1_title": false,
   "title_cell": "Table of Contents",
   "title_sidebar": "Contents",
   "toc_cell": false,
   "toc_position": {},
   "toc_section_display": true,
   "toc_window_display": false
  }
 },
 "nbformat": 4,
 "nbformat_minor": 5
}
