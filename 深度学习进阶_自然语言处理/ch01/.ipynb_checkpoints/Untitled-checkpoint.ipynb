{
 "cells": [
  {
   "cell_type": "code",
   "execution_count": null,
   "id": "66af7aab",
   "metadata": {
    "ExecuteTime": {
     "end_time": "2024-04-08T01:50:32.508496Z",
     "start_time": "2024-04-08T01:50:32.502963Z"
    }
   },
   "outputs": [],
   "source": [
    "import numpy as np"
   ]
  },
  {
   "cell_type": "code",
   "execution_count": null,
   "id": "386ad0d5",
   "metadata": {
    "ExecuteTime": {
     "end_time": "2024-04-08T01:31:11.375932Z",
     "start_time": "2024-04-08T01:31:11.371139Z"
    }
   },
   "outputs": [],
   "source": [
    "D,N = 8,7"
   ]
  },
  {
   "cell_type": "code",
   "execution_count": null,
   "id": "2f7ce460",
   "metadata": {
    "ExecuteTime": {
     "end_time": "2024-04-08T01:43:05.195882Z",
     "start_time": "2024-04-08T01:43:05.192360Z"
    }
   },
   "outputs": [],
   "source": [
    "x = np.random.randint(1,5,(2,2))"
   ]
  },
  {
   "cell_type": "code",
   "execution_count": null,
   "id": "871d5dca",
   "metadata": {
    "ExecuteTime": {
     "end_time": "2024-04-08T01:42:44.323980Z",
     "start_time": "2024-04-08T01:42:44.320184Z"
    }
   },
   "outputs": [],
   "source": [
    "x = np.random.randint(1,10,(3,2))"
   ]
  },
  {
   "cell_type": "code",
   "execution_count": null,
   "id": "ea1cada8",
   "metadata": {
    "ExecuteTime": {
     "end_time": "2024-04-08T01:43:06.049341Z",
     "start_time": "2024-04-08T01:43:06.032253Z"
    }
   },
   "outputs": [],
   "source": [
    "x"
   ]
  },
  {
   "cell_type": "code",
   "execution_count": null,
   "id": "ec514f57",
   "metadata": {
    "ExecuteTime": {
     "end_time": "2024-04-08T01:43:20.832133Z",
     "start_time": "2024-04-08T01:43:20.824642Z"
    }
   },
   "outputs": [],
   "source": [
    "np.repeat(x,2,axis=1)"
   ]
  },
  {
   "cell_type": "code",
   "execution_count": null,
   "id": "627a15fd",
   "metadata": {
    "ExecuteTime": {
     "end_time": "2024-04-07T07:02:31.208710Z",
     "start_time": "2024-04-07T07:02:31.204474Z"
    }
   },
   "outputs": [],
   "source": [
    "y = np.repeat(x,N,axis=0)"
   ]
  },
  {
   "cell_type": "code",
   "execution_count": null,
   "id": "1413a377",
   "metadata": {
    "ExecuteTime": {
     "end_time": "2024-04-07T07:03:12.759328Z",
     "start_time": "2024-04-07T07:03:12.747549Z"
    }
   },
   "outputs": [],
   "source": [
    "np.sum(y,axis=0,keepdims=True)"
   ]
  },
  {
   "cell_type": "code",
   "execution_count": null,
   "id": "f8bf2b13",
   "metadata": {
    "ExecuteTime": {
     "end_time": "2024-04-08T01:51:32.720436Z",
     "start_time": "2024-04-08T01:51:32.709680Z"
    }
   },
   "outputs": [],
   "source": [
    "a = np.array([1,2,3])\n",
    "b = np.array([4,5,6])"
   ]
  },
  {
   "cell_type": "code",
   "execution_count": null,
   "id": "6887cc94",
   "metadata": {
    "ExecuteTime": {
     "end_time": "2024-04-08T01:50:39.194985Z",
     "start_time": "2024-04-08T01:50:39.191331Z"
    }
   },
   "outputs": [],
   "source": [
    "a = np.array([1, 2, 3])\n",
    "b = np.zeros((2, 3))\n",
    "b[...] = a  # 等同于 b[:, :] = a\n",
    "print(b)"
   ]
  },
  {
   "cell_type": "code",
   "execution_count": null,
   "id": "dfab4d2e",
   "metadata": {
    "ExecuteTime": {
     "end_time": "2024-04-08T01:51:36.691775Z",
     "start_time": "2024-04-08T01:51:36.687028Z"
    }
   },
   "outputs": [],
   "source": [
    "b = a"
   ]
  },
  {
   "cell_type": "code",
   "execution_count": null,
   "id": "6c2e9014",
   "metadata": {
    "ExecuteTime": {
     "end_time": "2024-04-08T01:51:28.013189Z",
     "start_time": "2024-04-08T01:51:28.005510Z"
    }
   },
   "outputs": [],
   "source": [
    "b"
   ]
  },
  {
   "cell_type": "code",
   "execution_count": null,
   "id": "7c567fd3",
   "metadata": {
    "ExecuteTime": {
     "end_time": "2024-04-08T01:51:38.686225Z",
     "start_time": "2024-04-08T01:51:38.678494Z"
    }
   },
   "outputs": [],
   "source": [
    "id(a)"
   ]
  },
  {
   "cell_type": "code",
   "execution_count": null,
   "id": "f076541d",
   "metadata": {
    "ExecuteTime": {
     "end_time": "2024-04-08T01:51:39.484742Z",
     "start_time": "2024-04-08T01:51:39.477575Z"
    }
   },
   "outputs": [],
   "source": [
    "id(b)"
   ]
  },
  {
   "cell_type": "code",
   "execution_count": null,
   "id": "ee53212f",
   "metadata": {
    "ExecuteTime": {
     "end_time": "2024-04-07T07:49:10.979356Z",
     "start_time": "2024-04-07T07:49:10.975116Z"
    }
   },
   "outputs": [],
   "source": [
    "b[0] = 4"
   ]
  },
  {
   "cell_type": "code",
   "execution_count": null,
   "id": "5be149b3",
   "metadata": {
    "ExecuteTime": {
     "end_time": "2024-04-07T08:19:50.225557Z",
     "start_time": "2024-04-07T08:19:50.213502Z"
    }
   },
   "outputs": [],
   "source": [
    "import sys "
   ]
  },
  {
   "cell_type": "code",
   "execution_count": null,
   "id": "b22143c2",
   "metadata": {
    "ExecuteTime": {
     "end_time": "2024-04-07T08:19:51.403637Z",
     "start_time": "2024-04-07T08:19:51.397290Z"
    }
   },
   "outputs": [],
   "source": [
    "sys.path.append('..')"
   ]
  },
  {
   "cell_type": "code",
   "execution_count": null,
   "id": "1fcfc0fa",
   "metadata": {
    "ExecuteTime": {
     "end_time": "2024-04-07T08:19:53.500552Z",
     "start_time": "2024-04-07T08:19:52.909839Z"
    }
   },
   "outputs": [],
   "source": [
    "from dataset import spiral\n",
    "import matplotlib.pyplot as plt"
   ]
  },
  {
   "cell_type": "code",
   "execution_count": null,
   "id": "9196ff6b",
   "metadata": {
    "ExecuteTime": {
     "end_time": "2024-04-07T08:19:54.763064Z",
     "start_time": "2024-04-07T08:19:54.757658Z"
    }
   },
   "outputs": [],
   "source": [
    "x,t = spiral.load_data()"
   ]
  },
  {
   "cell_type": "code",
   "execution_count": null,
   "id": "4cd910af",
   "metadata": {
    "ExecuteTime": {
     "end_time": "2024-04-07T08:20:07.954433Z",
     "start_time": "2024-04-07T08:20:07.949539Z"
    }
   },
   "outputs": [],
   "source": [
    "x.shape"
   ]
  },
  {
   "cell_type": "code",
   "execution_count": null,
   "id": "9f96743f",
   "metadata": {
    "ExecuteTime": {
     "end_time": "2024-04-07T08:21:53.711459Z",
     "start_time": "2024-04-07T08:21:53.701837Z"
    }
   },
   "outputs": [],
   "source": [
    "[]+[]"
   ]
  },
  {
   "cell_type": "code",
   "execution_count": null,
   "id": "df0f4cc1",
   "metadata": {},
   "outputs": [],
   "source": []
  }
 ],
 "metadata": {
  "kernelspec": {
   "display_name": "Python 3 (ipykernel)",
   "language": "python",
   "name": "python3"
  },
  "language_info": {
   "codemirror_mode": {
    "name": "ipython",
    "version": 3
   },
   "file_extension": ".py",
   "mimetype": "text/x-python",
   "name": "python",
   "nbconvert_exporter": "python",
   "pygments_lexer": "ipython3",
   "version": "3.10.14"
  },
  "toc": {
   "base_numbering": 1,
   "nav_menu": {},
   "number_sections": true,
   "sideBar": true,
   "skip_h1_title": false,
   "title_cell": "Table of Contents",
   "title_sidebar": "Contents",
   "toc_cell": false,
   "toc_position": {},
   "toc_section_display": true,
   "toc_window_display": false
  }
 },
 "nbformat": 4,
 "nbformat_minor": 5
}
