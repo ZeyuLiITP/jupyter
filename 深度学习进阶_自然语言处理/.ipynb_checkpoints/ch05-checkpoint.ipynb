{
 "cells": [
  {
   "cell_type": "code",
   "execution_count": 1,
   "id": "886cd68a",
   "metadata": {
    "ExecuteTime": {
     "end_time": "2024-04-20T06:17:01.147901Z",
     "start_time": "2024-04-20T06:17:01.024532Z"
    }
   },
   "outputs": [],
   "source": [
    "import numpy as np"
   ]
  },
  {
   "cell_type": "code",
   "execution_count": null,
   "id": "7d445c1f",
   "metadata": {},
   "outputs": [],
   "source": [
    "class RNN:\n",
    "    def __init__(self, Wx,Wh,b):\n",
    "        self.params = [Wx,Wh,b];\n",
    "        self.grads = [np.zeros_like(Wx),np.zeros_like(Wh),np.zeros_like(b)];\n",
    "        self.cache = None;\n",
    "        \n",
    "        \n",
    "    def forward(self,x,h_prev):\n",
    "        Wx , Wh , b = self.params;\n",
    "        t = np.dot(Wx,x) + np.dot(Wh,h) + b\n",
    "        h_next = np.tanh(t);\n",
    "        \n",
    "        return h_next"
   ]
  },
  {
   "cell_type": "code",
   "execution_count": 5,
   "id": "0548dd1c",
   "metadata": {
    "ExecuteTime": {
     "end_time": "2024-04-20T06:41:49.148102Z",
     "start_time": "2024-04-20T06:41:49.130104Z"
    }
   },
   "outputs": [
    {
     "data": {
      "text/plain": [
       "array([[3, 3, 3],\n",
       "       [3, 3, 3],\n",
       "       [3, 3, 3]])"
      ]
     },
     "execution_count": 5,
     "metadata": {},
     "output_type": "execute_result"
    }
   ],
   "source": [
    "np.full((3,3),3)"
   ]
  },
  {
   "cell_type": "code",
   "execution_count": null,
   "id": "2b4f488b",
   "metadata": {},
   "outputs": [],
   "source": []
  }
 ],
 "metadata": {
  "kernelspec": {
   "display_name": "Python 3 (ipykernel)",
   "language": "python",
   "name": "python3"
  },
  "language_info": {
   "codemirror_mode": {
    "name": "ipython",
    "version": 3
   },
   "file_extension": ".py",
   "mimetype": "text/x-python",
   "name": "python",
   "nbconvert_exporter": "python",
   "pygments_lexer": "ipython3",
   "version": "3.10.14"
  },
  "toc": {
   "base_numbering": 1,
   "nav_menu": {},
   "number_sections": true,
   "sideBar": true,
   "skip_h1_title": false,
   "title_cell": "Table of Contents",
   "title_sidebar": "Contents",
   "toc_cell": false,
   "toc_position": {},
   "toc_section_display": true,
   "toc_window_display": false
  }
 },
 "nbformat": 4,
 "nbformat_minor": 5
}
