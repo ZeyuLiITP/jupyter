{
 "cells": [
  {
   "cell_type": "code",
   "execution_count": null,
   "id": "f16c80b8",
   "metadata": {
    "ExecuteTime": {
     "end_time": "2024-04-24T07:09:02.191961Z",
     "start_time": "2024-04-24T07:09:02.175244Z"
    }
   },
   "outputs": [],
   "source": [
    "import sys\n",
    "sys.path.append('..')\n",
    "import numpy as np\n",
    "from common.functions import softmax"
   ]
  },
  {
   "cell_type": "code",
   "execution_count": null,
   "id": "877c4cad",
   "metadata": {
    "ExecuteTime": {
     "end_time": "2024-04-24T07:09:38.758163Z",
     "start_time": "2024-04-24T07:09:38.749234Z"
    }
   },
   "outputs": [],
   "source": [
    "from ch06.better_rnnlm import BetterRnnlm\n",
    "from ch06.rnnlm import Rnnlm"
   ]
  },
  {
   "cell_type": "code",
   "execution_count": null,
   "id": "67c6d62a",
   "metadata": {
    "ExecuteTime": {
     "end_time": "2024-04-24T06:27:09.826771Z",
     "start_time": "2024-04-24T06:27:09.815151Z"
    }
   },
   "outputs": [],
   "source": [
    "class RnnmGen(Rnnlm):\n",
    "    def generate(self,start_id , skip_ids = None, sample_size = 100):\n",
    "        word_ids = [start_id]\n",
    "        x = start_id;\n",
    "        \n",
    "        while len(word_ids) < sample_size:\n",
    "            x = np.array(x).reshape(1,1)\n",
    "            score = self.predict(x)\n",
    "            p =softmax(score.flatten())\n",
    "            \n",
    "            sampled = np.random.choice(len(p),size = 1 , p=p)\n",
    "            if (skip_ids is None) or (sampled not in skip_ids):\n",
    "                x = sampled;\n",
    "                word_ids.append(int(x))\n",
    "                \n",
    "        return word_ids"
   ]
  },
  {
   "cell_type": "code",
   "execution_count": null,
   "id": "2a9a462e",
   "metadata": {
    "ExecuteTime": {
     "end_time": "2024-04-24T06:52:42.444066Z",
     "start_time": "2024-04-24T06:52:42.432733Z"
    }
   },
   "outputs": [],
   "source": [
    "list('ssdfs,ghtgh')"
   ]
  },
  {
   "cell_type": "code",
   "execution_count": null,
   "id": "1b679802",
   "metadata": {
    "ExecuteTime": {
     "end_time": "2024-04-24T07:17:50.334700Z",
     "start_time": "2024-04-24T07:17:50.320420Z"
    }
   },
   "outputs": [],
   "source": [
    "np.random.choice(5)"
   ]
  },
  {
   "cell_type": "code",
   "execution_count": null,
   "id": "6278693c",
   "metadata": {},
   "outputs": [],
   "source": []
  }
 ],
 "metadata": {
  "kernelspec": {
   "display_name": "Python 3 (ipykernel)",
   "language": "python",
   "name": "python3"
  },
  "language_info": {
   "codemirror_mode": {
    "name": "ipython",
    "version": 3
   },
   "file_extension": ".py",
   "mimetype": "text/x-python",
   "name": "python",
   "nbconvert_exporter": "python",
   "pygments_lexer": "ipython3",
   "version": "3.10.14"
  },
  "toc": {
   "base_numbering": 1,
   "nav_menu": {},
   "number_sections": true,
   "sideBar": true,
   "skip_h1_title": false,
   "title_cell": "Table of Contents",
   "title_sidebar": "Contents",
   "toc_cell": false,
   "toc_position": {},
   "toc_section_display": true,
   "toc_window_display": false
  }
 },
 "nbformat": 4,
 "nbformat_minor": 5
}
