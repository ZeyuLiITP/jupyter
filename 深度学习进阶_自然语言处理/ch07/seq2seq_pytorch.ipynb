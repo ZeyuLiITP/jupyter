{
 "cells": [
  {
   "cell_type": "code",
   "execution_count": 1,
   "id": "6278693c",
   "metadata": {
    "ExecuteTime": {
     "end_time": "2024-05-08T08:58:06.003552Z",
     "start_time": "2024-05-08T08:58:05.781390Z"
    }
   },
   "outputs": [],
   "source": [
    "# coding: utf-8\n",
    "import sys\n",
    "sys.path.append('..')\n",
    "from dataset import sequence\n",
    "\n",
    "\n",
    "(x_train, t_train), (x_test, t_test) = \\\n",
    "    sequence.load_data('addition.txt', seed=1984)\n",
    "char_to_id, id_to_char = sequence.get_vocab()\n",
    "\n",
    "def to_one_hot(t_train, vocab_size):\n",
    "    # 使用NumPy的eye函数创建一个独热编码矩阵\n",
    "    one_hot_matrix = np.eye(vocab_size)[t_train]\n",
    "    return torch.tensor(one_hot_matrix)\n"
   ]
  },
  {
   "cell_type": "code",
   "execution_count": 2,
   "id": "bbccbac4",
   "metadata": {
    "ExecuteTime": {
     "end_time": "2024-05-08T08:58:07.796975Z",
     "start_time": "2024-05-08T08:58:06.556808Z"
    }
   },
   "outputs": [],
   "source": [
    "import sys\n",
    "sys.path.append('..')\n",
    "import matplotlib.pyplot as plt\n",
    "import numpy as np\n",
    "import torch\n",
    "from torch import nn\n",
    "from common.time_layers import *\n",
    "from dataset import ptb"
   ]
  },
  {
   "cell_type": "code",
   "execution_count": 3,
   "id": "262e0e6f",
   "metadata": {
    "ExecuteTime": {
     "end_time": "2024-05-08T08:58:07.812818Z",
     "start_time": "2024-05-08T08:58:07.800101Z"
    }
   },
   "outputs": [],
   "source": [
    "vocab_size = len(char_to_id) \n",
    "wordvec_size = 16\n",
    "hidden_size = 128\n",
    "batch_size = 128\n",
    "max_epoch = 25\n",
    "max_grad = 5.0"
   ]
  },
  {
   "cell_type": "code",
   "execution_count": 4,
   "id": "e9be2ad2",
   "metadata": {
    "ExecuteTime": {
     "end_time": "2024-05-08T08:58:17.552456Z",
     "start_time": "2024-05-08T08:58:17.542566Z"
    }
   },
   "outputs": [],
   "source": [
    "class Encoder(nn.Module):\n",
    "    def __init__(self,vocab_size , wordvec_size , hidden_size):\n",
    "        super().__init__()\n",
    "        self.embed = nn.Embedding(vocab_size,wordvec_size)\n",
    "        self.lstm = nn.LSTM(wordvec_size, hidden_size, batch_first = True)\n",
    "        \n",
    "    def forward(self, seq, h_0, c_0):\n",
    "        N , T  = seq.size()\n",
    "        out = self.embed(seq)\n",
    "        out , (h_0 , c_0) = self.lstm(out, (h_0 , c_0))\n",
    "        \n",
    "        return h_0"
   ]
  },
  {
   "cell_type": "code",
   "execution_count": 5,
   "id": "ca7c5da6",
   "metadata": {
    "ExecuteTime": {
     "end_time": "2024-05-08T08:58:19.664297Z",
     "start_time": "2024-05-08T08:58:19.644914Z"
    }
   },
   "outputs": [],
   "source": [
    "class Decoder(nn.Module):\n",
    "    def __init__(self, vocab_size, wordvec_size, hidden_size):\n",
    "        super().__init__()\n",
    "        self.embed = nn.Embedding(vocab_size,wordvec_size)\n",
    "        self.lstm = nn.LSTM(wordvec_size, hidden_size, batch_first = True)\n",
    "        self.linear = nn.Linear(hidden_size,vocab_size)\n",
    "        \n",
    "        \n",
    "    def forward(self, seq, h_0, c_0):\n",
    "        N , T  = seq.size()\n",
    "        out = self.embed(seq)\n",
    "        out , (h_0 , c_0) = self.lstm(out, (h_0 , c_0))\n",
    "        out = out.reshape(N*T,-1);\n",
    "        out = self.linear(out)\n",
    "        \n",
    "        return out "
   ]
  },
  {
   "cell_type": "code",
   "execution_count": 10,
   "id": "2e7fba8c",
   "metadata": {
    "ExecuteTime": {
     "end_time": "2024-05-08T08:59:54.316313Z",
     "start_time": "2024-05-08T08:59:54.310767Z"
    }
   },
   "outputs": [],
   "source": [
    "class seq2seq(nn.Module):\n",
    "    def __init__(self, vocab_size, wordvec_size, hidden_size):\n",
    "        super().__init__()\n",
    "        self.hidden_size = hidden_size\n",
    "        self.encoder = Encoder(vocab_size, wordvec_size, hidden_size)\n",
    "        self.decoder = Decoder(vocab_size, wordvec_size, hidden_size)\n",
    "        \n",
    "        \n",
    "    def forward(self, xs , decoder_xs , encoder_h_0, encoder_c_0, decoder_c_0):\n",
    "        N , T  = decoder_xs.size()\n",
    "        h = self.encoder(xs,encoder_h_0,encoder_c_0 )\n",
    "        out = self.decoder(decoder_xs, h,decoder_c_0)\n",
    "        \n",
    "        return out \n",
    "        "
   ]
  },
  {
   "cell_type": "code",
   "execution_count": 7,
   "id": "89462e11",
   "metadata": {
    "ExecuteTime": {
     "end_time": "2024-05-08T08:58:46.594577Z",
     "start_time": "2024-05-08T08:58:46.589908Z"
    }
   },
   "outputs": [],
   "source": [
    "mask = np.random.choice(x_train.shape[0],batch_size)"
   ]
  },
  {
   "cell_type": "code",
   "execution_count": 8,
   "id": "f2f58211",
   "metadata": {
    "ExecuteTime": {
     "end_time": "2024-05-08T08:58:50.339187Z",
     "start_time": "2024-05-08T08:58:50.334593Z"
    }
   },
   "outputs": [],
   "source": []
  },
  {
   "cell_type": "code",
   "execution_count": null,
   "id": "82423fc3",
   "metadata": {
    "ExecuteTime": {
     "end_time": "2024-05-08T07:58:57.950755Z",
     "start_time": "2024-05-08T07:58:57.937933Z"
    }
   },
   "outputs": [],
   "source": [
    "test_encoder = Encoder( vocab_size, wordvec_size, hidden_size)\n",
    "test_decoder = Decoder( vocab_size, wordvec_size, hidden_size)"
   ]
  },
  {
   "cell_type": "code",
   "execution_count": null,
   "id": "8a5b92dd",
   "metadata": {
    "ExecuteTime": {
     "end_time": "2024-05-08T07:58:59.001206Z",
     "start_time": "2024-05-08T07:58:58.977405Z"
    }
   },
   "outputs": [],
   "source": [
    "h_0 = test_encoder(seq, h_0, c_01)\n",
    "c_02 = torch.zeros(1, batch_size, hidden_size)"
   ]
  },
  {
   "cell_type": "code",
   "execution_count": null,
   "id": "35dc9cfd",
   "metadata": {
    "ExecuteTime": {
     "end_time": "2024-05-08T08:14:05.837385Z",
     "start_time": "2024-05-08T08:14:05.832132Z"
    }
   },
   "outputs": [],
   "source": []
  },
  {
   "cell_type": "code",
   "execution_count": null,
   "id": "863406a3",
   "metadata": {
    "ExecuteTime": {
     "end_time": "2024-05-08T08:14:44.019534Z",
     "start_time": "2024-05-08T08:14:44.014942Z"
    }
   },
   "outputs": [],
   "source": []
  },
  {
   "cell_type": "code",
   "execution_count": 11,
   "id": "74af7d86",
   "metadata": {
    "ExecuteTime": {
     "end_time": "2024-05-08T08:59:56.970626Z",
     "start_time": "2024-05-08T08:59:56.949860Z"
    }
   },
   "outputs": [],
   "source": [
    "test_seq2seq = seq2seq(vocab_size, wordvec_size, hidden_size)"
   ]
  },
  {
   "cell_type": "code",
   "execution_count": 22,
   "id": "b3e2131f",
   "metadata": {
    "ExecuteTime": {
     "end_time": "2024-05-08T09:10:39.862218Z",
     "start_time": "2024-05-08T09:10:39.851002Z"
    }
   },
   "outputs": [],
   "source": [
    "seq = torch.from_numpy(x_train[mask])\n",
    "encoder_h_0 = torch.zeros(1, batch_size, hidden_size)\n",
    "encoder_c_0 = torch.zeros(1, batch_size, hidden_size)\n",
    "tseq = torch.from_numpy(t_train[mask])[:,:-1]\n",
    "decoder_c_0 = torch.zeros(1, batch_size, hidden_size)\n"
   ]
  },
  {
   "cell_type": "code",
   "execution_count": 31,
   "id": "c199383d",
   "metadata": {
    "ExecuteTime": {
     "end_time": "2024-05-08T09:14:07.663941Z",
     "start_time": "2024-05-08T09:14:07.659477Z"
    }
   },
   "outputs": [],
   "source": [
    "tseqtrue = to_one_hot(t_train[mask][:,1:],vocab_size)\n",
    "tseqtrue = tseqtrue.reshape(-1,vocab_size)"
   ]
  },
  {
   "cell_type": "code",
   "execution_count": 32,
   "id": "33c83450",
   "metadata": {
    "ExecuteTime": {
     "end_time": "2024-05-08T09:14:17.332126Z",
     "start_time": "2024-05-08T09:14:17.322948Z"
    }
   },
   "outputs": [
    {
     "data": {
      "text/plain": [
       "tensor([[0., 1., 0.,  ..., 0., 0., 0.],\n",
       "        [0., 0., 0.,  ..., 0., 0., 0.],\n",
       "        [0., 0., 0.,  ..., 0., 0., 1.],\n",
       "        ...,\n",
       "        [0., 0., 0.,  ..., 0., 0., 0.],\n",
       "        [1., 0., 0.,  ..., 0., 0., 0.],\n",
       "        [0., 0., 0.,  ..., 0., 0., 0.]], dtype=torch.float64)"
      ]
     },
     "execution_count": 32,
     "metadata": {},
     "output_type": "execute_result"
    }
   ],
   "source": [
    "tseqtrue"
   ]
  },
  {
   "cell_type": "code",
   "execution_count": 23,
   "id": "819f1ddc",
   "metadata": {
    "ExecuteTime": {
     "end_time": "2024-05-08T09:10:41.897270Z",
     "start_time": "2024-05-08T09:10:41.867379Z"
    }
   },
   "outputs": [],
   "source": [
    " out = test_seq2seq(seq ,tseq, encoder_h_0,encoder_c_0,decoder_c_0)"
   ]
  },
  {
   "cell_type": "code",
   "execution_count": 24,
   "id": "d6969172",
   "metadata": {
    "ExecuteTime": {
     "end_time": "2024-05-08T09:11:21.412890Z",
     "start_time": "2024-05-08T09:11:21.394586Z"
    }
   },
   "outputs": [],
   "source": [
    "cri = nn.CrossEntropyLoss()"
   ]
  },
  {
   "cell_type": "code",
   "execution_count": 34,
   "id": "7adddb5d",
   "metadata": {
    "ExecuteTime": {
     "end_time": "2024-05-08T09:18:34.777765Z",
     "start_time": "2024-05-08T09:18:34.769591Z"
    }
   },
   "outputs": [],
   "source": [
    "loss = cri(out,tseqtrue)"
   ]
  },
  {
   "cell_type": "code",
   "execution_count": 35,
   "id": "b46f9c91",
   "metadata": {
    "ExecuteTime": {
     "end_time": "2024-05-08T09:18:41.004847Z",
     "start_time": "2024-05-08T09:18:40.922197Z"
    }
   },
   "outputs": [],
   "source": [
    "loss.backward()"
   ]
  },
  {
   "cell_type": "code",
   "execution_count": 25,
   "id": "4d14a3d3",
   "metadata": {
    "ExecuteTime": {
     "end_time": "2024-05-08T09:11:55.925931Z",
     "start_time": "2024-05-08T09:11:55.895223Z"
    }
   },
   "outputs": [],
   "source": [
    "def to_one_hot(t_train, vocab_size):\n",
    "    # 使用NumPy的eye函数创建一个独热编码矩阵\n",
    "    one_hot_matrix = np.eye(vocab_size)[t_train]\n",
    "    return torch.tensor(one_hot_matrix)"
   ]
  },
  {
   "cell_type": "code",
   "execution_count": null,
   "id": "a7cfad11",
   "metadata": {},
   "outputs": [],
   "source": []
  }
 ],
 "metadata": {
  "kernelspec": {
   "display_name": "Python 3 (ipykernel)",
   "language": "python",
   "name": "python3"
  },
  "language_info": {
   "codemirror_mode": {
    "name": "ipython",
    "version": 3
   },
   "file_extension": ".py",
   "mimetype": "text/x-python",
   "name": "python",
   "nbconvert_exporter": "python",
   "pygments_lexer": "ipython3",
   "version": "3.10.14"
  },
  "toc": {
   "base_numbering": 1,
   "nav_menu": {},
   "number_sections": true,
   "sideBar": true,
   "skip_h1_title": false,
   "title_cell": "Table of Contents",
   "title_sidebar": "Contents",
   "toc_cell": false,
   "toc_position": {},
   "toc_section_display": true,
   "toc_window_display": false
  }
 },
 "nbformat": 4,
 "nbformat_minor": 5
}
