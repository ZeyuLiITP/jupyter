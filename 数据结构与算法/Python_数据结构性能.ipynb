{
 "cells": [
  {
   "cell_type": "code",
   "execution_count": 1,
   "id": "5f43a722",
   "metadata": {
    "ExecuteTime": {
     "end_time": "2024-04-25T12:33:02.145246Z",
     "start_time": "2024-04-25T12:33:02.138194Z"
    }
   },
   "outputs": [],
   "source": [
    "import timeit"
   ]
  },
  {
   "cell_type": "code",
   "execution_count": 2,
   "id": "15b1721b",
   "metadata": {
    "ExecuteTime": {
     "end_time": "2024-04-25T12:34:19.633983Z",
     "start_time": "2024-04-25T12:34:19.622601Z"
    }
   },
   "outputs": [],
   "source": [
    "def test1():\n",
    "    l = [];\n",
    "    for i in range(1000):\n",
    "        l = l + [i]"
   ]
  },
  {
   "cell_type": "code",
   "execution_count": 8,
   "id": "d56e14bb",
   "metadata": {
    "ExecuteTime": {
     "end_time": "2024-04-25T12:37:54.540607Z",
     "start_time": "2024-04-25T12:37:54.537168Z"
    }
   },
   "outputs": [],
   "source": [
    "def test2():\n",
    "    l = list(range(1000));"
   ]
  },
  {
   "cell_type": "code",
   "execution_count": 3,
   "id": "9d8d331c",
   "metadata": {
    "ExecuteTime": {
     "end_time": "2024-04-25T12:34:50.016007Z",
     "start_time": "2024-04-25T12:34:50.005599Z"
    }
   },
   "outputs": [],
   "source": [
    "t1 = timeit.Timer('test1()','from __main__ import test1')"
   ]
  },
  {
   "cell_type": "code",
   "execution_count": 9,
   "id": "e1b177c9",
   "metadata": {
    "ExecuteTime": {
     "end_time": "2024-04-25T12:37:57.397136Z",
     "start_time": "2024-04-25T12:37:57.392979Z"
    }
   },
   "outputs": [],
   "source": [
    "t2 = timeit.Timer('test2()','from __main__ import test2')"
   ]
  },
  {
   "cell_type": "code",
   "execution_count": 10,
   "id": "e9b4fee7",
   "metadata": {
    "ExecuteTime": {
     "end_time": "2024-04-25T12:37:58.381896Z",
     "start_time": "2024-04-25T12:37:58.360857Z"
    }
   },
   "outputs": [
    {
     "data": {
      "text/plain": [
       "0.008638199884444475"
      ]
     },
     "execution_count": 10,
     "metadata": {},
     "output_type": "execute_result"
    }
   ],
   "source": [
    "t2.timeit(number=1000)"
   ]
  },
  {
   "cell_type": "code",
   "execution_count": null,
   "id": "59ada023",
   "metadata": {},
   "outputs": [],
   "source": []
  }
 ],
 "metadata": {
  "kernelspec": {
   "display_name": "Python 3 (ipykernel)",
   "language": "python",
   "name": "python3"
  },
  "language_info": {
   "codemirror_mode": {
    "name": "ipython",
    "version": 3
   },
   "file_extension": ".py",
   "mimetype": "text/x-python",
   "name": "python",
   "nbconvert_exporter": "python",
   "pygments_lexer": "ipython3",
   "version": "3.10.14"
  },
  "toc": {
   "base_numbering": 1,
   "nav_menu": {},
   "number_sections": true,
   "sideBar": true,
   "skip_h1_title": false,
   "title_cell": "Table of Contents",
   "title_sidebar": "Contents",
   "toc_cell": false,
   "toc_position": {},
   "toc_section_display": true,
   "toc_window_display": false
  }
 },
 "nbformat": 4,
 "nbformat_minor": 5
}
