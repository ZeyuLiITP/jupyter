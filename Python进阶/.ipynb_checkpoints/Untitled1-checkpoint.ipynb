{
 "cells": [
  {
   "cell_type": "code",
   "execution_count": null,
   "id": "57a5a67c",
   "metadata": {},
   "outputs": [],
   "source": [
    "def lengthOfLongestSubstring(s: str) -> int:\n",
    "    if not s: return 0\n",
    "    \n",
    "    n = len(s);\n",
    "    lookup = set();\n",
    "    left = 0;\n",
    "    cur_len = 0;\n",
    "    max_len = 0;\n",
    "    for i in range(n):\n",
    "        cur_len += 1;\n",
    "        while s[i] in lookup:\n",
    "            lookup.remove(s[left])\n",
    "            left += 1\n",
    "            cur_len -=1\n",
    "        if cur_len > max_len:max_len = cur_len\n",
    "        lookup.add(s[i])\n",
    "        \n",
    "    return max_len"
   ]
  },
  {
   "cell_type": "code",
   "execution_count": null,
   "id": "60be73f3",
   "metadata": {
    "ExecuteTime": {
     "end_time": "2024-04-28T12:46:20.267510Z",
     "start_time": "2024-04-28T12:46:20.256363Z"
    }
   },
   "outputs": [],
   "source": [
    "def findMedianSortedArrays(num1,num2):\n",
    "    num = sorted(num1+num2);\n",
    "    n = len(num);\n",
    "    if n%2 ==1 :\n",
    "        return num[int((n+1)/2)-1]\n",
    "    else:\n",
    "        return (num[n//2 - 1] + num[n//2])/2"
   ]
  },
  {
   "cell_type": "code",
   "execution_count": null,
   "id": "9c8ee4d3",
   "metadata": {
    "ExecuteTime": {
     "end_time": "2024-04-28T12:49:51.615283Z",
     "start_time": "2024-04-28T12:49:51.609525Z"
    }
   },
   "outputs": [],
   "source": [
    "findMedianSortedArrays([1,2],[3,4])"
   ]
  },
  {
   "cell_type": "code",
   "execution_count": null,
   "id": "dffed314",
   "metadata": {
    "ExecuteTime": {
     "end_time": "2024-04-28T12:52:02.948208Z",
     "start_time": "2024-04-28T12:52:02.936019Z"
    }
   },
   "outputs": [],
   "source": [
    "def findMedianSortedArrays1(nums1, nums2):\n",
    "        \"\"\"\n",
    "        :type nums1: List[int]\n",
    "        :type nums2: List[int]\n",
    "        :rtype: float\n",
    "        \"\"\"\n",
    "        num = sorted(nums1+nums2);\n",
    "        n = len(num);\n",
    "        if n%2 ==1 :\n",
    "            return float(num[int((n+1)/2)-1])\n",
    "        else:\n",
    "            return (num[n//2 - 1] + num[n//2])/2"
   ]
  },
  {
   "cell_type": "code",
   "execution_count": null,
   "id": "09e6c8c2",
   "metadata": {
    "ExecuteTime": {
     "end_time": "2024-04-28T12:52:03.165795Z",
     "start_time": "2024-04-28T12:52:03.152209Z"
    }
   },
   "outputs": [],
   "source": [
    "type(findMedianSortedArrays1([1,2],[3]))"
   ]
  },
  {
   "cell_type": "code",
   "execution_count": null,
   "id": "ed8e6797",
   "metadata": {
    "ExecuteTime": {
     "end_time": "2024-04-28T13:24:00.336743Z",
     "start_time": "2024-04-28T13:24:00.320823Z"
    }
   },
   "outputs": [],
   "source": [
    "def seqsearchorder(alist,item):\n",
    "    found = False;\n",
    "    for i in range(len(alist)):\n",
    "        if alist[i] == item:\n",
    "            found = True\n",
    "            return found\n",
    "            \n",
    "        elif alist[i] > item:\n",
    "            return found\n",
    "        \n",
    "    return found"
   ]
  },
  {
   "cell_type": "code",
   "execution_count": null,
   "id": "fd8d3fc7",
   "metadata": {
    "ExecuteTime": {
     "end_time": "2024-04-28T13:24:08.949326Z",
     "start_time": "2024-04-28T13:24:08.942567Z"
    }
   },
   "outputs": [],
   "source": [
    "seqsearchorder([1,2,3] ,4)"
   ]
  },
  {
   "cell_type": "code",
   "execution_count": null,
   "id": "8e671233",
   "metadata": {},
   "outputs": [],
   "source": []
  }
 ],
 "metadata": {
  "kernelspec": {
   "display_name": "Python 3 (ipykernel)",
   "language": "python",
   "name": "python3"
  },
  "language_info": {
   "codemirror_mode": {
    "name": "ipython",
    "version": 3
   },
   "file_extension": ".py",
   "mimetype": "text/x-python",
   "name": "python",
   "nbconvert_exporter": "python",
   "pygments_lexer": "ipython3",
   "version": "3.10.14"
  },
  "toc": {
   "base_numbering": 1,
   "nav_menu": {},
   "number_sections": true,
   "sideBar": true,
   "skip_h1_title": false,
   "title_cell": "Table of Contents",
   "title_sidebar": "Contents",
   "toc_cell": false,
   "toc_position": {},
   "toc_section_display": true,
   "toc_window_display": false
  }
 },
 "nbformat": 4,
 "nbformat_minor": 5
}
