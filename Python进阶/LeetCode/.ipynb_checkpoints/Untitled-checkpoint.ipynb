{
 "cells": [
  {
   "cell_type": "code",
   "execution_count": 4,
   "id": "c6095c09",
   "metadata": {
    "ExecuteTime": {
     "end_time": "2024-04-29T13:05:24.144482Z",
     "start_time": "2024-04-29T13:05:24.140063Z"
    }
   },
   "outputs": [],
   "source": [
    "def longestPalindrome(s):\n",
    "    if not s : return ''\n",
    "    longest = s[0]\n",
    "    for i in range(len(s)):\n",
    "        str1 = s[i];\n",
    "        str2 = s[i];\n",
    "        str3 = s[i];\n",
    "        for j in range(i+1,len(s)):\n",
    "            str1 = str1 + s[j]\n",
    "            str2 = s[j] + str2\n",
    "            \n",
    "            if str1 == str2:\n",
    "                str3 = str1\n",
    "                if len(str3) > len(longest):\n",
    "                    longest = str3\n",
    "    return longest"
   ]
  },
  {
   "cell_type": "code",
   "execution_count": 14,
   "id": "7419f02c",
   "metadata": {
    "ExecuteTime": {
     "end_time": "2024-04-29T13:25:11.969820Z",
     "start_time": "2024-04-29T13:25:11.950287Z"
    }
   },
   "outputs": [],
   "source": [
    "def longestPalindrome( s):\n",
    "        res = ''\n",
    "        for i in range(len(s)):\n",
    "            start = max(i - len(res) -1, 0)\n",
    "            temp = s[start: i+1]\n",
    "            if temp == temp[::-1]:\n",
    "                res = temp\n",
    "            else:\n",
    "                temp = temp[1:]\n",
    "                if temp == temp[::-1]:\n",
    "                    res = temp\n",
    "        return res\n"
   ]
  },
  {
   "cell_type": "code",
   "execution_count": 22,
   "id": "4a475f30",
   "metadata": {
    "ExecuteTime": {
     "end_time": "2024-04-29T13:32:48.266933Z",
     "start_time": "2024-04-29T13:32:48.261919Z"
    }
   },
   "outputs": [
    {
     "data": {
      "text/plain": [
       "'abcdcba'"
      ]
     },
     "execution_count": 22,
     "metadata": {},
     "output_type": "execute_result"
    }
   ],
   "source": [
    "longestPalindrome('abcdcba')"
   ]
  },
  {
   "cell_type": "code",
   "execution_count": null,
   "id": "18b279a4",
   "metadata": {},
   "outputs": [],
   "source": []
  }
 ],
 "metadata": {
  "kernelspec": {
   "display_name": "Python 3 (ipykernel)",
   "language": "python",
   "name": "python3"
  },
  "language_info": {
   "codemirror_mode": {
    "name": "ipython",
    "version": 3
   },
   "file_extension": ".py",
   "mimetype": "text/x-python",
   "name": "python",
   "nbconvert_exporter": "python",
   "pygments_lexer": "ipython3",
   "version": "3.10.14"
  },
  "toc": {
   "base_numbering": 1,
   "nav_menu": {},
   "number_sections": true,
   "sideBar": true,
   "skip_h1_title": false,
   "title_cell": "Table of Contents",
   "title_sidebar": "Contents",
   "toc_cell": false,
   "toc_position": {},
   "toc_section_display": true,
   "toc_window_display": false
  }
 },
 "nbformat": 4,
 "nbformat_minor": 5
}
