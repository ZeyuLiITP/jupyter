{
 "cells": [
  {
   "cell_type": "markdown",
   "id": "eb99638d",
   "metadata": {},
   "source": [
    "# 异常处理"
   ]
  },
  {
   "cell_type": "code",
   "execution_count": null,
   "id": "c5271295",
   "metadata": {
    "ExecuteTime": {
     "end_time": "2024-04-20T11:43:05.654724Z",
     "start_time": "2024-04-20T11:43:05.636889Z"
    }
   },
   "outputs": [],
   "source": [
    "#异常捕获  try except else\n",
    "dic = {'dc':'cecec'}\n",
    "\n",
    "try:\n",
    "    print (dic['dc'])\n",
    "    \n",
    "except Exception :\n",
    "    print('abnormal')\n",
    "else:\n",
    "    print('normal')\n",
    "    \n",
    "#把except理解成if,"
   ]
  },
  {
   "cell_type": "code",
   "execution_count": null,
   "id": "aa1f8e74",
   "metadata": {
    "ExecuteTime": {
     "end_time": "2024-04-20T11:44:39.731556Z",
     "start_time": "2024-04-20T11:44:39.723859Z"
    }
   },
   "outputs": [],
   "source": [
    "#异常捕获  try except finally\n",
    "dic = {'dc':'cecec'}\n",
    "\n",
    "try:\n",
    "    print('a')\n",
    "    \n",
    "except NameError:\n",
    "    print('abnormal')\n",
    "finally:\n",
    "    print('normal')\n",
    "    \n",
    "#把except理解成if,"
   ]
  },
  {
   "cell_type": "code",
   "execution_count": null,
   "id": "1280550c",
   "metadata": {
    "ExecuteTime": {
     "end_time": "2024-04-20T11:51:24.844828Z",
     "start_time": "2024-04-20T11:51:22.441877Z"
    }
   },
   "outputs": [],
   "source": [
    "try:\n",
    "    n = int(input('请输入一个整数：'))\n",
    "    print(10/n)\n",
    "    \n",
    "except ValueError:\n",
    "    print('not a int')\n",
    "    \n",
    "except Exception:\n",
    "    print('unknowon')\n",
    "    \n",
    "else:\n",
    "    print('no abnormal')\n",
    "    \n",
    "finally:\n",
    "    print('anyway')\n",
    "#finally 不管是否发生异常都会执行"
   ]
  },
  {
   "cell_type": "code",
   "execution_count": null,
   "id": "cea04047",
   "metadata": {
    "ExecuteTime": {
     "end_time": "2024-04-20T12:08:31.450452Z",
     "start_time": "2024-04-20T12:08:31.437450Z"
    }
   },
   "outputs": [],
   "source": [
    "def funa():\n",
    "    raise Exception('throw abnormal')\n",
    "    print('dfdf')"
   ]
  },
  {
   "cell_type": "code",
   "execution_count": null,
   "id": "8f7c7d2e",
   "metadata": {
    "ExecuteTime": {
     "end_time": "2024-04-20T12:16:37.308393Z",
     "start_time": "2024-04-20T12:16:35.372171Z"
    }
   },
   "outputs": [],
   "source": [
    "def user():\n",
    "    pwd = input('输入密码：')\n",
    "    if len(pwd) >= 6:\n",
    "        return pwd\n",
    "\n",
    "    ex = Exception('length not enough')\n",
    "    raise ex\n",
    "    \n",
    "try:\n",
    "    upwd = user();\n",
    "    print(upwd)\n",
    "    \n",
    "except Exception as e:\n",
    "    print(f'abnormal: {e}')"
   ]
  },
  {
   "cell_type": "code",
   "execution_count": null,
   "id": "5b1c62a8",
   "metadata": {
    "ExecuteTime": {
     "end_time": "2024-04-21T01:06:42.432583Z",
     "start_time": "2024-04-21T01:06:42.413421Z"
    }
   },
   "outputs": [],
   "source": [
    "name = 'world';\n",
    "f'hello {name}'"
   ]
  },
  {
   "cell_type": "markdown",
   "id": "2d319d05",
   "metadata": {},
   "source": [
    "# 模块"
   ]
  },
  {
   "cell_type": "code",
   "execution_count": null,
   "id": "cd056fda",
   "metadata": {
    "ExecuteTime": {
     "end_time": "2024-04-23T12:23:07.122328Z",
     "start_time": "2024-04-23T12:23:07.117260Z"
    }
   },
   "outputs": [],
   "source": [
    "import test1"
   ]
  },
  {
   "cell_type": "code",
   "execution_count": null,
   "id": "70371840",
   "metadata": {
    "ExecuteTime": {
     "end_time": "2024-04-23T12:22:37.585438Z",
     "start_time": "2024-04-23T12:22:37.577774Z"
    }
   },
   "outputs": [],
   "source": [
    "__name__"
   ]
  },
  {
   "cell_type": "code",
   "execution_count": null,
   "id": "52f22cc6",
   "metadata": {
    "ExecuteTime": {
     "end_time": "2024-04-24T13:25:37.247582Z",
     "start_time": "2024-04-24T13:25:37.238475Z"
    }
   },
   "outputs": [],
   "source": [
    "def lengthOfLongestSubstring(s):\n",
    "        \"\"\"\n",
    "        :type s: str\n",
    "        :rtype: int\n",
    "        \"\"\"\n",
    "        interval = [];\n",
    "        \n",
    "        for i in range(len(s)):\n",
    "            if s.count(s[i]) == 1:\n",
    "                interval.append(len(s) - i)\n",
    "            \n",
    "        return max(interval)"
   ]
  },
  {
   "cell_type": "code",
   "execution_count": null,
   "id": "878144e5",
   "metadata": {
    "ExecuteTime": {
     "end_time": "2024-04-24T13:18:02.002010Z",
     "start_time": "2024-04-24T13:18:01.991304Z"
    }
   },
   "outputs": [],
   "source": [
    "def lengthOfLongestSubstring(s):\n",
    "        \"\"\"\n",
    "        :type s: str\n",
    "        :rtype: int\n",
    "        \"\"\"\n",
    "        interval = 0;\n",
    "        \n",
    "        for i in range(len(s)):\n",
    "            lencache = 0\n",
    "            for j in range(i+1,len(s)):\n",
    "                lencache += 1;\n",
    "                if s[j] == s[i] and lencache > interval:\n",
    "                    interval = lencache\n",
    "                    break\n",
    "                        \n",
    "                        \n",
    "                else:\n",
    "                    interval = lencache\n",
    "        return interval"
   ]
  },
  {
   "cell_type": "code",
   "execution_count": null,
   "id": "774f7229",
   "metadata": {
    "ExecuteTime": {
     "end_time": "2024-04-25T13:05:15.067970Z",
     "start_time": "2024-04-25T13:05:15.063480Z"
    }
   },
   "outputs": [],
   "source": [
    "def lengthOfLongestSubstring( s):\n",
    "    interval = 0\n",
    "    for i in range(len(s)):\n",
    "        sublist = s[i];\n",
    "        for j in range(i+1,len(s)):\n",
    "            if s[j] not in sublist:\n",
    "                sublist += s[j]\n",
    "            else:\n",
    "                break\n",
    "        print(sublist)        \n",
    "        interval = max(interval,len(sublist))\n",
    "        \n",
    "    return interval"
   ]
  },
  {
   "cell_type": "code",
   "execution_count": null,
   "id": "c9d2e4b0",
   "metadata": {
    "ExecuteTime": {
     "end_time": "2024-04-25T13:05:15.505350Z",
     "start_time": "2024-04-25T13:05:15.494932Z"
    }
   },
   "outputs": [],
   "source": [
    "lengthOfLongestSubstring(\"abcabcbb\")"
   ]
  },
  {
   "cell_type": "code",
   "execution_count": null,
   "id": "dd62d3e7",
   "metadata": {
    "ExecuteTime": {
     "end_time": "2024-04-24T13:34:01.281495Z",
     "start_time": "2024-04-24T13:34:01.275096Z"
    }
   },
   "outputs": [],
   "source": [
    "max(1,2,4)"
   ]
  },
  {
   "cell_type": "code",
   "execution_count": null,
   "id": "56398a32",
   "metadata": {
    "ExecuteTime": {
     "end_time": "2024-04-24T13:31:00.713703Z",
     "start_time": "2024-04-24T13:31:00.701531Z"
    }
   },
   "outputs": [],
   "source": [
    "xx+='%'"
   ]
  },
  {
   "cell_type": "code",
   "execution_count": null,
   "id": "682bfc9a",
   "metadata": {
    "ExecuteTime": {
     "end_time": "2024-04-25T12:00:21.447391Z",
     "start_time": "2024-04-25T12:00:21.444379Z"
    }
   },
   "outputs": [],
   "source": [
    "def funb(n):\n",
    "    if n > 0:\n",
    "        return funb(n-1) + n\n",
    "    else:\n",
    "        return 0"
   ]
  },
  {
   "cell_type": "code",
   "execution_count": null,
   "id": "eff5d9b1",
   "metadata": {
    "ExecuteTime": {
     "end_time": "2024-04-25T12:05:48.053531Z",
     "start_time": "2024-04-25T12:05:48.045854Z"
    }
   },
   "outputs": [],
   "source": [
    "def funa(n):\n",
    "    if n>2:\n",
    "        return funa(n-1) + funa(n-2)\n",
    "    else:\n",
    "        return 1\n",
    "        "
   ]
  },
  {
   "cell_type": "code",
   "execution_count": null,
   "id": "08058c80",
   "metadata": {
    "ExecuteTime": {
     "end_time": "2024-04-27T11:57:37.231946Z",
     "start_time": "2024-04-27T11:57:37.224403Z"
    }
   },
   "outputs": [],
   "source": [
    "def test1():\n",
    "    print('test1')"
   ]
  },
  {
   "cell_type": "code",
   "execution_count": null,
   "id": "38e64fcd",
   "metadata": {
    "ExecuteTime": {
     "end_time": "2024-04-27T11:57:48.988531Z",
     "start_time": "2024-04-27T11:57:48.985135Z"
    }
   },
   "outputs": [],
   "source": [
    "res = test1"
   ]
  },
  {
   "cell_type": "code",
   "execution_count": null,
   "id": "e82b21bc",
   "metadata": {
    "ExecuteTime": {
     "end_time": "2024-04-27T11:58:18.904406Z",
     "start_time": "2024-04-27T11:58:18.897951Z"
    }
   },
   "outputs": [],
   "source": [
    "id(test1) == id(res)"
   ]
  },
  {
   "cell_type": "code",
   "execution_count": null,
   "id": "749dad17",
   "metadata": {
    "ExecuteTime": {
     "end_time": "2024-04-27T12:15:13.987354Z",
     "start_time": "2024-04-27T12:15:13.981156Z"
    }
   },
   "outputs": [],
   "source": [
    "def outF(n):\n",
    "    \n",
    "    def inF(x):\n",
    "        return n + x + 1\n",
    "    \n",
    "    return inF"
   ]
  },
  {
   "cell_type": "code",
   "execution_count": null,
   "id": "e596d5f4",
   "metadata": {
    "ExecuteTime": {
     "end_time": "2024-04-27T12:24:42.543262Z",
     "start_time": "2024-04-27T12:24:42.538517Z"
    }
   },
   "outputs": [],
   "source": [
    "def outer():\n",
    "\n",
    "    def inner(n):\n",
    "        print('inner函数',n)\n",
    "        \n",
    "    return inner"
   ]
  },
  {
   "cell_type": "code",
   "execution_count": null,
   "id": "5250fb60",
   "metadata": {
    "ExecuteTime": {
     "end_time": "2024-04-27T12:24:43.172616Z",
     "start_time": "2024-04-27T12:24:43.161608Z"
    }
   },
   "outputs": [],
   "source": [
    "test = outer()"
   ]
  },
  {
   "cell_type": "code",
   "execution_count": null,
   "id": "04378d4c",
   "metadata": {
    "ExecuteTime": {
     "end_time": "2024-04-27T12:24:47.557630Z",
     "start_time": "2024-04-27T12:24:47.552999Z"
    }
   },
   "outputs": [],
   "source": [
    "test(1)"
   ]
  },
  {
   "cell_type": "code",
   "execution_count": null,
   "id": "4b4b9481",
   "metadata": {
    "ExecuteTime": {
     "end_time": "2024-04-28T11:49:44.321833Z",
     "start_time": "2024-04-28T11:49:44.312630Z"
    }
   },
   "outputs": [],
   "source": [
    "def logger(func):\n",
    "    def wrapper(*args):\n",
    "        print('我准备开始计算{}函数'.format(func.__name__))\n",
    "        func(*args)\n",
    "        print('计算完了')\n",
    "        \n",
    "    return wrapper"
   ]
  },
  {
   "cell_type": "code",
   "execution_count": null,
   "id": "1380e443",
   "metadata": {
    "ExecuteTime": {
     "end_time": "2024-04-28T11:58:27.515296Z",
     "start_time": "2024-04-28T11:58:27.510175Z"
    }
   },
   "outputs": [],
   "source": [
    "@logger\n",
    "def add(x,y):\n",
    "    print('{}+{}={}'.format(x,y,x+y))"
   ]
  },
  {
   "cell_type": "code",
   "execution_count": null,
   "id": "cc0a7a99",
   "metadata": {
    "ExecuteTime": {
     "end_time": "2024-04-28T11:49:46.668236Z",
     "start_time": "2024-04-28T11:49:46.654015Z"
    }
   },
   "outputs": [],
   "source": [
    "te = logger(add)"
   ]
  },
  {
   "cell_type": "code",
   "execution_count": null,
   "id": "62b439ca",
   "metadata": {
    "ExecuteTime": {
     "end_time": "2024-04-29T11:04:53.364842Z",
     "start_time": "2024-04-29T11:04:53.348646Z"
    }
   },
   "outputs": [],
   "source": [
    "'add1({},{})'.format(34,3435)"
   ]
  },
  {
   "cell_type": "code",
   "execution_count": null,
   "id": "b9311f0b",
   "metadata": {
    "ExecuteTime": {
     "end_time": "2024-04-29T11:05:33.793787Z",
     "start_time": "2024-04-29T11:05:33.785233Z"
    }
   },
   "outputs": [],
   "source": [
    "def test(fn):\n",
    "    def inner():\n",
    "        print('inner')\n",
    "        fn()\n",
    "    return inner"
   ]
  },
  {
   "cell_type": "code",
   "execution_count": null,
   "id": "8ee79118",
   "metadata": {
    "ExecuteTime": {
     "end_time": "2024-04-29T11:06:10.800422Z",
     "start_time": "2024-04-29T11:06:10.796522Z"
    }
   },
   "outputs": [],
   "source": [
    "@test\n",
    "def test1():\n",
    "    print('dfef')"
   ]
  },
  {
   "cell_type": "code",
   "execution_count": null,
   "id": "9adcc519",
   "metadata": {
    "ExecuteTime": {
     "end_time": "2024-04-29T11:07:43.590605Z",
     "start_time": "2024-04-29T11:07:43.583639Z"
    }
   },
   "outputs": [],
   "source": [
    "def exam(fn):\n",
    "    def inner(a,b):\n",
    "        print('inner:{},{}'.format(a,b))\n",
    "        fn(a,b)\n",
    "    return inner"
   ]
  },
  {
   "cell_type": "code",
   "execution_count": null,
   "id": "f2e6f5fe",
   "metadata": {
    "ExecuteTime": {
     "end_time": "2024-04-29T11:08:24.417350Z",
     "start_time": "2024-04-29T11:08:24.410831Z"
    }
   },
   "outputs": [],
   "source": []
  },
  {
   "cell_type": "code",
   "execution_count": null,
   "id": "b0d5aee4",
   "metadata": {
    "ExecuteTime": {
     "end_time": "2024-04-29T11:08:34.258397Z",
     "start_time": "2024-04-29T11:08:34.244145Z"
    }
   },
   "outputs": [],
   "source": [
    "test(12,2)"
   ]
  },
  {
   "cell_type": "code",
   "execution_count": null,
   "id": "f43f069e",
   "metadata": {
    "ExecuteTime": {
     "end_time": "2024-04-29T11:15:43.970373Z",
     "start_time": "2024-04-29T11:15:43.961908Z"
    }
   },
   "outputs": [],
   "source": [
    "def exam(fun):\n",
    "    def funa(x,y):\n",
    "        print('hello'.format(x,y))\n",
    "        def inner(a,b):\n",
    "            print('inner函数中值：'.format(a,b))\n",
    "            fun(a,b)\n",
    "        return inner\n",
    "        \n",
    "    return funa"
   ]
  },
  {
   "cell_type": "code",
   "execution_count": null,
   "id": "1692ebb8",
   "metadata": {
    "ExecuteTime": {
     "end_time": "2024-04-29T11:15:44.334783Z",
     "start_time": "2024-04-29T11:15:44.320859Z"
    }
   },
   "outputs": [],
   "source": [
    "@exam\n",
    "def test(a,b):\n",
    "    print('is:',a+b)"
   ]
  },
  {
   "cell_type": "code",
   "execution_count": null,
   "id": "731534ca",
   "metadata": {
    "ExecuteTime": {
     "end_time": "2024-04-29T11:23:44.425491Z",
     "start_time": "2024-04-29T11:23:44.419184Z"
    }
   },
   "outputs": [],
   "source": [
    "def funa(fn):\n",
    "    def inner(*args,**kargs):\n",
    "        print(f'开始计算{fn.__name__}')\n",
    "        fn(*args,**kargs)\n",
    "        print('over')\n",
    "    return inner"
   ]
  },
  {
   "cell_type": "code",
   "execution_count": null,
   "id": "20691e49",
   "metadata": {
    "ExecuteTime": {
     "end_time": "2024-04-29T11:24:05.695416Z",
     "start_time": "2024-04-29T11:24:05.685906Z"
    }
   },
   "outputs": [],
   "source": [
    "@funa\n",
    "def add(*args,**kargs):\n",
    "    print(args)\n",
    "    print(kargs)"
   ]
  },
  {
   "cell_type": "code",
   "execution_count": null,
   "id": "2b958f68",
   "metadata": {
    "ExecuteTime": {
     "end_time": "2024-04-29T11:25:14.875433Z",
     "start_time": "2024-04-29T11:25:14.866055Z"
    }
   },
   "outputs": [],
   "source": [
    "add(1,2,3,4,a=1,b=2,c=4)"
   ]
  },
  {
   "cell_type": "code",
   "execution_count": null,
   "id": "65f6077c",
   "metadata": {},
   "outputs": [],
   "source": []
  }
 ],
 "metadata": {
  "kernelspec": {
   "display_name": "Python 3 (ipykernel)",
   "language": "python",
   "name": "python3"
  },
  "language_info": {
   "codemirror_mode": {
    "name": "ipython",
    "version": 3
   },
   "file_extension": ".py",
   "mimetype": "text/x-python",
   "name": "python",
   "nbconvert_exporter": "python",
   "pygments_lexer": "ipython3",
   "version": "3.10.14"
  },
  "toc": {
   "base_numbering": 1,
   "nav_menu": {},
   "number_sections": true,
   "sideBar": true,
   "skip_h1_title": false,
   "title_cell": "Table of Contents",
   "title_sidebar": "Contents",
   "toc_cell": false,
   "toc_position": {
    "height": "calc(100% - 180px)",
    "left": "10px",
    "top": "150px",
    "width": "165px"
   },
   "toc_section_display": true,
   "toc_window_display": false
  }
 },
 "nbformat": 4,
 "nbformat_minor": 5
}
