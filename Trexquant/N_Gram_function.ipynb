{
 "cells": [
  {
   "cell_type": "code",
   "execution_count": null,
   "id": "b6b7204e",
   "metadata": {
    "code_folding": [
     8,
     22
    ]
   },
   "outputs": [],
   "source": [
    "import urllib\n",
    "import re\n",
    "import random\n",
    "import string\n",
    "import operator\n",
    "from collections import Counter,defaultdict\n",
    "import numpy as np\n",
    "\n",
    "def text_filter(text: str) -> str:\n",
    "    \"\"\"\n",
    "    文本过滤器：过滤掉文本数据中的标点符号和其他特殊字符\n",
    "    :param text: 待过滤的文本\n",
    "    :return: 过滤后的文本\n",
    "    \"\"\"\n",
    "    # 使用正则表达式去除标点符号和其他特殊字符\n",
    "    cleaned_text = re.sub(r'[^\\w\\s]', '', text)\n",
    "    \n",
    "    # 将过滤后的文本转换为小写\n",
    "    cleaned_text = cleaned_text.lower()\n",
    "    \n",
    "    return cleaned_text\n",
    "\n",
    "def slide_word(text: str, l: int = 5) -> list:\n",
    "    \"\"\"\n",
    "    滑动取词器\n",
    "    Input: text='abcd',l=2\n",
    "    Output: ['ab','bc','cd']\n",
    "    :param text: 过滤后的文本 （只包含小写数字/字母）\n",
    "    :param l: 滑动窗口长度，默认为 5\n",
    "    :return:\n",
    "    \"\"\"\n",
    "    # 使用正则表达式去除标点符号和其他特殊字符\n",
    "    tf = re.sub(r'[^\\w\\s]', '', text)\n",
    "    \n",
    "    # 使用切片操作生成滑动窗口\n",
    "    result = [tf[i:i + l] for i in range(len(tf) - l + 1)]\n",
    "    \n",
    "    return result"
   ]
  },
  {
   "cell_type": "code",
   "execution_count": null,
   "id": "96f7ae5e",
   "metadata": {},
   "outputs": [],
   "source": [
    "#function that calculates unigram prob:\n",
    "def unigram_prob(word_list_string, used_letter_list):\n",
    "    deleted_string = word_list_string\n",
    "    for used_letter in used_letter_list:\n",
    "        #delete the letters which are used \n",
    "        deleted_string = re.sub(used_letter,'',deleted_string)\n",
    "        \n",
    "    deleted_string_len = len(deleted_string)\n",
    "    uniproblist = defaultdict(float);\n",
    "    count_letter = Counter(deleted_string).most_common();\n",
    "    \n",
    "    for letter , number in count_letter :\n",
    "        uniproblist[letter] = number/deleted_string_len\n",
    "        \n",
    "    return uniproblist"
   ]
  },
  {
   "cell_type": "code",
   "execution_count": null,
   "id": "e0ac6e2e",
   "metadata": {},
   "outputs": [],
   "source": [
    "def bigramprob(bigram_pattern, bigram_count):\n",
    "    '''\n",
    "    given a bigram_pattern , output the possibility for each letter in the masked letter \n",
    "    '''\n",
    "    \n",
    "    knownletter = re.sub('\\.','',bigram_pattern)\n",
    "    bigram_pattern_matched = list(filter(lambda x: ((re.match(bigram_pattern,x[0])) and ((not (re.match(knownletter+knownletter,x[0]))))),bigram_count))\n",
    "\n",
    "    bigramproblist = defaultdict(float);\n",
    "    total_len = sum([ii[1] for ii in bigram_pattern_matched]);\n",
    "    \n",
    "    for bigram , number in bigram_pattern_matched :\n",
    "        bigramproblist[re.sub(knownletter,'',bigram)] = number/total_len\n",
    "        \n",
    "    return bigramproblist"
   ]
  },
  {
   "cell_type": "code",
   "execution_count": null,
   "id": "728119df",
   "metadata": {
    "code_folding": [
     0,
     24
    ]
   },
   "outputs": [],
   "source": [
    "def possible_pattern_exact_pos(word,pos,n):\n",
    "    '''\n",
    "    give a masked word , and output all possible n-gram pattern for a exact masked letter \n",
    "    '''\n",
    "    shift = n-1\n",
    "    word_last_pos = len(word) - 1; \n",
    "    start = pos - shift;\n",
    "    start_list = list(range(start,start+n))\n",
    "    slice_list = [list(range(i,i+n)) for i in start_list ]\n",
    "    slice_list = list(filter((lambda x: x[0]>=0 and x[-1]<=word_last_pos) ,slice_list));\n",
    "    pattern_list = []\n",
    "    for poslist in slice_list:\n",
    "        pattern = '';\n",
    "        for pos in poslist:\n",
    "            pattern += word[pos]\n",
    "        \n",
    "        pattern_list.append(pattern)\n",
    "        \n",
    "    pattern_list = list(filter(lambda x: x.count('.') == 1 ,pattern_list))\n",
    "    return pattern_list\n",
    "\n",
    "#for a given masked word, we anaylse each masked letter's possion n-gram \n",
    "\n",
    "\n",
    "def possible_pattern(word):\n",
    "    mask_id = [];\n",
    "    for i in range(len(word)):\n",
    "        if word[i] == '.':\n",
    "            mask_id.append(i)\n",
    "            \n",
    "    pattern_list_all = [[] for i in mask_id];\n",
    "    \n",
    "    for inx , i in enumerate(mask_id):\n",
    "        for n in range(1,3):\n",
    "            pattern_list = possible_pattern_exact_pos(word,i,n)\n",
    "            if pattern_list != []:\n",
    "                pattern_list_all[inx] += pattern_list\n",
    "                \n",
    "        pattern_list_all[inx] = [(i,j) for j in pattern_list_all[inx]]\n",
    "            \n",
    "    return pattern_list_all"
   ]
  },
  {
   "cell_type": "code",
   "execution_count": null,
   "id": "db9a7d3c",
   "metadata": {
    "code_folding": [
     1
    ]
   },
   "outputs": [],
   "source": [
    "#define a fucntion that can calculate the posibility for fix pos\n",
    "def prob_fix_pos(pattern_list:list):\n",
    "    unigram_case = list(filter(lambda x: len(x[1])==1,pattern_list))\n",
    "    bigram_case = list(filter(lambda x: len(x[1])==2,pattern_list))\n",
    "    \n",
    "    bigram_prob_list = []\n",
    "    for i, pattern in bigram_case:\n",
    "        bigram_prob_list.append( bigramprob(pattern,bigram_count))\n",
    "    \n",
    "    ngram_prob_list = defaultdict(float);\n",
    "    bigram_prob_list_ave = defaultdict(float);\n",
    "    \n",
    "    if len(bigram_prob_list) == 1:\n",
    "        bigram_prob_list_ave = bigram_prob_list[0]\n",
    "        \n",
    "        \n",
    "    elif len(bigram_prob_list) > 1:\n",
    "        for key in bigram_prob_list[0]:\n",
    "            num = 0;\n",
    "            for i in range(len(bigram_prob_list)):\n",
    "                 num += bigram_prob_list[i][key]\n",
    "                    \n",
    "            bigram_prob_list_ave[key] = num/len(bigram_prob_list)\n",
    "                \n",
    "    if bigram_prob_list_ave == {}:\n",
    "        ngram_prob_list = unigram_prob_list\n",
    "        \n",
    "    else:\n",
    "        for key in unigram_prob_list.keys():\n",
    "            ngram_prob_list[key] = 0.3*unigram_prob_list[key] + 0.7*bigram_prob_list_ave[key]\n",
    "    \n",
    "    return ngram_prob_list"
   ]
  },
  {
   "cell_type": "code",
   "execution_count": null,
   "id": "2e5a5543",
   "metadata": {
    "code_folding": [
     0
    ]
   },
   "outputs": [],
   "source": [
    "def guess_letter(allpattern):\n",
    "    letter_prob_dic_list = [];\n",
    "    \n",
    "    for i in allpattern:\n",
    "        letter_prob_dic_list.append(prob_fix_pos(i))\n",
    "        \n",
    "    letter_prob_list = defaultdict(float);\n",
    "    \n",
    "    for key in letter_prob_dic_list[0].keys():\n",
    "        for i in range(len(letter_prob_dic_list)):\n",
    "            letter_prob_list[key] += letter_prob_dic_list[i][key]\n",
    "            \n",
    "    letter_prob_list = sorted(letter_prob_list.items(), key = lambda item: item[1],reverse=True)\n",
    "    \n",
    "    return letter_prob_list[0][0]"
   ]
  }
 ],
 "metadata": {
  "kernelspec": {
   "display_name": "Python 3 (ipykernel)",
   "language": "python",
   "name": "python3"
  },
  "language_info": {
   "codemirror_mode": {
    "name": "ipython",
    "version": 3
   },
   "file_extension": ".py",
   "mimetype": "text/x-python",
   "name": "python",
   "nbconvert_exporter": "python",
   "pygments_lexer": "ipython3",
   "version": "3.10.14"
  },
  "toc": {
   "base_numbering": 1,
   "nav_menu": {},
   "number_sections": true,
   "sideBar": true,
   "skip_h1_title": false,
   "title_cell": "Table of Contents",
   "title_sidebar": "Contents",
   "toc_cell": false,
   "toc_position": {},
   "toc_section_display": true,
   "toc_window_display": false
  }
 },
 "nbformat": 4,
 "nbformat_minor": 5
}
