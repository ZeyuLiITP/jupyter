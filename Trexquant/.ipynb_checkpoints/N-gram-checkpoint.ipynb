{
 "cells": [
  {
   "cell_type": "code",
   "execution_count": null,
   "id": "ee0543ab",
   "metadata": {
    "ExecuteTime": {
     "end_time": "2024-04-16T02:52:01.330912Z",
     "start_time": "2024-04-16T02:52:01.320350Z"
    },
    "code_folding": [
     11,
     25
    ]
   },
   "outputs": [],
   "source": [
    "#!/usr/bin/env python3\n",
    "# coding=utf-8\n",
    " \n",
    "import urllib\n",
    "import re\n",
    "import random\n",
    "import string\n",
    "import operator\n",
    "from collections import Counter,defaultdict\n",
    "\n",
    "\n",
    "def text_filter(text: str) -> str:\n",
    "    \"\"\"\n",
    "    文本过滤器：过滤掉文本数据中的标点符号和其他特殊字符\n",
    "    :param text: 待过滤的文本\n",
    "    :return: 过滤后的文本\n",
    "    \"\"\"\n",
    "    # 使用正则表达式去除标点符号和其他特殊字符\n",
    "    cleaned_text = re.sub(r'[^\\w\\s]', '', text)\n",
    "    \n",
    "    # 将过滤后的文本转换为小写\n",
    "    cleaned_text = cleaned_text.lower()\n",
    "    \n",
    "    return cleaned_text\n",
    "\n",
    "def slide_word(text: str, l: int = 5) -> list:\n",
    "    \"\"\"\n",
    "    滑动取词器\n",
    "    Input: text='abcd',l=2\n",
    "    Output: ['ab','bc','cd']\n",
    "    :param text: 过滤后的文本 （只包含小写数字/字母）\n",
    "    :param l: 滑动窗口长度，默认为 5\n",
    "    :return:\n",
    "    \"\"\"\n",
    "    # 使用正则表达式去除标点符号和其他特殊字符\n",
    "    tf = re.sub(r'[^\\w\\s]', '', text)\n",
    "    \n",
    "    # 使用切片操作生成滑动窗口\n",
    "    result = [tf[i:i + l] for i in range(len(tf) - l + 1)]\n",
    "    \n",
    "    return result"
   ]
  },
  {
   "cell_type": "code",
   "execution_count": null,
   "id": "ecc9dc66",
   "metadata": {},
   "outputs": [],
   "source": [
    "from N_gram_functions  import *"
   ]
  },
  {
   "cell_type": "code",
   "execution_count": null,
   "id": "415c6406",
   "metadata": {
    "ExecuteTime": {
     "end_time": "2024-04-16T02:52:03.960890Z",
     "start_time": "2024-04-16T02:52:03.882601Z"
    }
   },
   "outputs": [],
   "source": [
    "# The train set\n",
    "text_file = open(\"words_250000_train.txt\",\"r\")\n",
    "full_dictionary = text_file.read().splitlines()\n",
    "for i in range(len(full_dictionary)):\n",
    "    full_dictionary[i] = '@' + full_dictionary[i] + '#'\n",
    "\n",
    "#select out the words in train set that has the same length with masked word.(take len = 5 as example)\n",
    "dictionary_len5 = [ii for ii in full_dictionary if len(ii) == (5+2) ]\n",
    "dictionary_len5_string = \"\".join(dictionary_len5)"
   ]
  },
  {
   "cell_type": "code",
   "execution_count": null,
   "id": "166c43d3",
   "metadata": {
    "ExecuteTime": {
     "end_time": "2024-04-16T02:52:05.675474Z",
     "start_time": "2024-04-16T02:52:05.665286Z"
    }
   },
   "outputs": [],
   "source": [
    "#given a masked word\n",
    "word = '.....';\n",
    "used_letter_list = [];\n",
    "all_letter_list ='a b c d e f g h i j k l m n o p q r s t u v w x y z'.split(' ')"
   ]
  },
  {
   "cell_type": "code",
   "execution_count": null,
   "id": "b53372be",
   "metadata": {
    "ExecuteTime": {
     "end_time": "2024-04-16T02:52:09.678282Z",
     "start_time": "2024-04-16T02:52:09.666619Z"
    },
    "code_folding": []
   },
   "outputs": [],
   "source": [
    "#function that calculates unigram prob:\n",
    "def unigram_prob(word_list_string, used_letter_list):\n",
    "    deleted_string = re.sub('[@#]','',word_list_string) #delete @ and #\n",
    "    \n",
    "    for used_letter in used_letter_list:\n",
    "        #delete the letters which are used \n",
    "        deleted_string = re.sub(used_letter,'',deleted_string)\n",
    "        \n",
    "    deleted_string_len = len(deleted_string)\n",
    "    uniproblist = defaultdict(float);\n",
    "    count_letter = Counter(deleted_string).most_common();\n",
    "    \n",
    "    for letter , number in count_letter :\n",
    "        uniproblist[letter] = number/deleted_string_len\n",
    "        \n",
    "    return uniproblist"
   ]
  },
  {
   "cell_type": "code",
   "execution_count": null,
   "id": "bdaec8e3",
   "metadata": {
    "ExecuteTime": {
     "end_time": "2024-04-16T02:52:11.297353Z",
     "start_time": "2024-04-16T02:52:11.272116Z"
    }
   },
   "outputs": [],
   "source": [
    "unigram_prob_list = unigram_prob(dictionary_len5_string,used_letter_list)\n",
    "print(unigram_prob_list)"
   ]
  },
  {
   "cell_type": "code",
   "execution_count": null,
   "id": "89fc0eb8",
   "metadata": {
    "ExecuteTime": {
     "end_time": "2024-04-13T12:58:47.581195Z",
     "start_time": "2024-04-13T12:58:47.568000Z"
    }
   },
   "outputs": [],
   "source": [
    "#The first letter to be guessed will based on unigram "
   ]
  },
  {
   "cell_type": "code",
   "execution_count": null,
   "id": "df27007b",
   "metadata": {
    "ExecuteTime": {
     "end_time": "2024-04-13T12:58:47.598499Z",
     "start_time": "2024-04-13T12:58:47.582676Z"
    }
   },
   "outputs": [],
   "source": [
    "#if it is incorrect, circulate"
   ]
  },
  {
   "cell_type": "code",
   "execution_count": null,
   "id": "7469bcc5",
   "metadata": {
    "ExecuteTime": {
     "end_time": "2024-04-16T02:52:25.221550Z",
     "start_time": "2024-04-16T02:52:25.217304Z"
    }
   },
   "outputs": [],
   "source": [
    "#suppose it's correct:\n",
    "word = 'a....'\n",
    "used_letter_list = ['a']; #update used letter list\n",
    "avalible_letter_list = list(set(all_letter_list)- set(used_letter_list))"
   ]
  },
  {
   "cell_type": "code",
   "execution_count": null,
   "id": "0b876670",
   "metadata": {
    "ExecuteTime": {
     "end_time": "2024-04-13T12:58:47.632476Z",
     "start_time": "2024-04-13T12:58:47.616493Z"
    }
   },
   "outputs": [],
   "source": [
    "#we denote word as 'a1234', and we guess '1','2','3','4' separately"
   ]
  },
  {
   "cell_type": "code",
   "execution_count": null,
   "id": "7fd5fdc6",
   "metadata": {
    "ExecuteTime": {
     "end_time": "2024-04-13T12:58:47.649251Z",
     "start_time": "2024-04-13T12:58:47.633823Z"
    }
   },
   "outputs": [],
   "source": [
    "'''\n",
    "suppose we guess letter b, that we need to calculate prob(1,b) + prob(2,b) + prob(3,b) +prob(4,b)\n",
    "\n",
    "prob((2,3,4),b) can only come from unigram prob\n",
    "\n",
    "prob(1,b) comes from both bigram and unigram, so we combine them and give more weights to bigram\n",
    "'''"
   ]
  },
  {
   "cell_type": "code",
   "execution_count": null,
   "id": "c4c199c7",
   "metadata": {
    "ExecuteTime": {
     "end_time": "2024-04-15T12:18:25.354809Z",
     "start_time": "2024-04-15T12:18:24.128757Z"
    },
    "code_folding": [
     0
    ]
   },
   "outputs": [],
   "source": [
    "#calculate the bigram_dictionary once for all\n",
    "'''\n",
    "full_dictionary_bigram=[]\n",
    "\n",
    "for words in full_dictionary:\n",
    "    full_dictionary_bigram.append(slide_word(words,2))\n",
    "    \n",
    "full_dictionary_bigram = [item for sublist in full_dictionary_bigram for item in sublist]\n",
    "\n",
    "bigram_count = Counter(full_dictionary_bigram).most_common()\n",
    "'''"
   ]
  },
  {
   "cell_type": "code",
   "execution_count": null,
   "id": "24dae4df",
   "metadata": {},
   "outputs": [],
   "source": []
  },
  {
   "cell_type": "code",
   "execution_count": null,
   "id": "5e8097d4",
   "metadata": {
    "ExecuteTime": {
     "end_time": "2024-04-15T12:57:17.375189Z",
     "start_time": "2024-04-15T12:57:17.357810Z"
    }
   },
   "outputs": [],
   "source": []
  },
  {
   "cell_type": "code",
   "execution_count": null,
   "id": "84cbae53",
   "metadata": {
    "ExecuteTime": {
     "end_time": "2024-04-16T01:32:00.480108Z",
     "start_time": "2024-04-16T01:32:00.470055Z"
    },
    "code_folding": [
     1
    ]
   },
   "outputs": [],
   "source": [
    "''''\n",
    "def slide_word_with_pos(text: str, l: int = 5) -> list:\n",
    "    \n",
    "    newtext = '@' + text +'#'\n",
    "    newtext_len = len(newtext)\n",
    "    text_len = len(text)\n",
    "    # 使用切片操作生成滑动窗口\n",
    "    result = [text[i:i + l] + ' ' + ''.join((list(map(str,range(i,i + l))))) for i in range(text_len - l + 1)]\n",
    "    \n",
    "    left = ['@' + text[0:0 + l-1] +' '+ ''.join(list(map(str,range(0,l - 1))))]\n",
    "    \n",
    "    right = [text[text_len - l + 1 : text_len] + '#' + ' ' + ''.join(list(map(str,range(text_len - l + 1,text_len)))) ]\n",
    "    \n",
    "    return_list = left + result +right\n",
    "    return return_list\n",
    "''''"
   ]
  },
  {
   "cell_type": "code",
   "execution_count": null,
   "id": "b8127b48",
   "metadata": {
    "ExecuteTime": {
     "end_time": "2024-04-16T01:32:30.569054Z",
     "start_time": "2024-04-16T01:32:30.559365Z"
    },
    "code_folding": [
     1
    ]
   },
   "outputs": [],
   "source": [
    "''''\n",
    "def slide_word_with_pos(text: str, l: int = 5) -> list:\n",
    "    \n",
    "    newtext = '@' + text +'#'\n",
    "    newtext_len = len(newtext)\n",
    "    text_len = len(text)\n",
    "    # 使用切片操作生成滑动窗口\n",
    "    result = [(text[i:i + l] , tuple(range(i,i + l))) for i in range(text_len - l + 1)]\n",
    "    \n",
    "    left = [('@' + text[0:0 + l-1] , tuple(range(0,l - 1)) )]\n",
    "    \n",
    "    right = [(text[text_len - l + 1 : text_len] + '#',  tuple(range(text_len - l + 1,text_len)) )]\n",
    "    \n",
    "    return_list = left + result +right\n",
    "    return return_list\n",
    "''''"
   ]
  },
  {
   "cell_type": "code",
   "execution_count": null,
   "id": "3033fb7c",
   "metadata": {
    "ExecuteTime": {
     "end_time": "2024-04-16T02:57:11.741209Z",
     "start_time": "2024-04-16T02:57:11.733165Z"
    }
   },
   "outputs": [],
   "source": [
    "def slide_word_with_pos(text: str, l: int = 5) -> list:\n",
    "    \n",
    "    #newtext = '@' + text +'#'\n",
    "    #newtext_len = len(newtext)\n",
    "    text_len = len(text)\n",
    "    # 使用切片操作生成滑动窗口\n",
    "    result = [(tuple(range(i,i + l)), text[i:i + l] ) for i in range(text_len - l + 1)]\n",
    "    \n",
    "    #left = [('@' + text[0:0 + l-1] , tuple(range(0,l - 1)) )]\n",
    "    \n",
    "    #right = [(text[text_len - l + 1 : text_len] + '#',  tuple(range(text_len - l + 1,text_len)) )]\n",
    "    \n",
    "    return_list = result\n",
    "    return return_list"
   ]
  },
  {
   "cell_type": "code",
   "execution_count": null,
   "id": "65b25383",
   "metadata": {
    "ExecuteTime": {
     "end_time": "2024-04-16T02:57:13.087217Z",
     "start_time": "2024-04-16T02:57:13.076579Z"
    }
   },
   "outputs": [],
   "source": [
    "slide_word_with_pos(full_dictionary[5000],2)"
   ]
  },
  {
   "cell_type": "code",
   "execution_count": null,
   "id": "20969517",
   "metadata": {
    "ExecuteTime": {
     "end_time": "2024-04-16T02:54:57.224881Z",
     "start_time": "2024-04-16T02:54:57.216678Z"
    }
   },
   "outputs": [],
   "source": [
    "full_dictionary[5000]"
   ]
  },
  {
   "cell_type": "code",
   "execution_count": null,
   "id": "d843d7f4",
   "metadata": {
    "ExecuteTime": {
     "end_time": "2024-04-16T02:57:27.136976Z",
     "start_time": "2024-04-16T02:57:23.913054Z"
    },
    "scrolled": true
   },
   "outputs": [],
   "source": [
    "#calculate the bigram_dictionary once for all\n",
    "full_dictionary_bigram=[]\n",
    "\n",
    "for words in full_dictionary:\n",
    "    full_dictionary_bigram.append(slide_word_with_pos(words,2))\n",
    "    \n",
    "full_dictionary_bigram = [item for sublist in full_dictionary_bigram for item in sublist]\n",
    "\n",
    "bigram_count = Counter(full_dictionary_bigram).most_common()\n"
   ]
  },
  {
   "cell_type": "code",
   "execution_count": null,
   "id": "4dfd810a",
   "metadata": {
    "ExecuteTime": {
     "end_time": "2024-04-16T02:57:29.186203Z",
     "start_time": "2024-04-16T02:57:29.071256Z"
    }
   },
   "outputs": [],
   "source": [
    "bigram_count"
   ]
  },
  {
   "cell_type": "code",
   "execution_count": null,
   "id": "ad215fb1",
   "metadata": {
    "ExecuteTime": {
     "end_time": "2024-04-15T03:29:09.699614Z",
     "start_time": "2024-04-15T03:29:09.693508Z"
    },
    "code_folding": [
     1
    ]
   },
   "outputs": [],
   "source": [
    "#the prob(1,b) from bigram has such patter 'a.'\n",
    "def bigramprob(bigram_pattern, bigram_count):\n",
    "    '''\n",
    "    given a bigram_pattern 'a.', output the possibility for each letter in the masked letter \n",
    "    '''\n",
    "    \n",
    "    knownletter = re.sub('\\.','',bigram_pattern)\n",
    "    bigram_pattern_matched = list(filter(lambda x: ((re.match(bigram_pattern,x[0])) and ((not (re.match(knownletter+knownletter,x[0]))))),bigram_count))\n",
    "\n",
    "    bigramproblist = defaultdict(float);\n",
    "    total_len = sum([ii[1] for ii in bigram_pattern_matched]);\n",
    "    \n",
    "    for bigram , number in bigram_pattern_matched :\n",
    "        bigramproblist[re.sub(knownletter,'',bigram)] = number/total_len\n",
    "        \n",
    "    return bigramproblist"
   ]
  },
  {
   "cell_type": "code",
   "execution_count": null,
   "id": "bc710b1a",
   "metadata": {
    "ExecuteTime": {
     "end_time": "2024-04-16T03:00:27.117293Z",
     "start_time": "2024-04-16T03:00:27.111646Z"
    }
   },
   "outputs": [],
   "source": [
    "def bigramprob_with_pos(bigram_pattern_with_pos, bigram_count):\n",
    "    '''\n",
    "    given a bigram_pattern_with_pos '((1,2), 'a.')',\n",
    "    output the possibility for each letter in the masked letter \n",
    "    '''\n",
    "    pos = bigram_pattern_with_pos[0] #position tuple\n",
    "    bigram_pattern = bigram_pattern_with_pos[1] #pattern\n",
    "    \n",
    "    knownletter = re.sub('\\.','',bigram_pattern)\n",
    "    \n",
    "    \n",
    "    bigram_pattern_matched =list(filter(lambda x: (re.match(bigram_pattern,x[0][1])) and \\\n",
    "                                        (not (re.match(knownletter+knownletter,x[0][1]))) and \\\n",
    "                                        (pos == x[0][0]), bigram_count))\n",
    "    \n",
    "    bigramproblist = defaultdict(float);\n",
    "    total_len = sum([ii[1] for ii in bigram_pattern_matched]);\n",
    "    \n",
    "    for bigram , number in bigram_pattern_matched :\n",
    "        bigramproblist[re.sub(knownletter,'',bigram[1])] = number/total_len\n",
    "        \n",
    "    return bigramproblist"
   ]
  },
  {
   "cell_type": "code",
   "execution_count": null,
   "id": "74b15809",
   "metadata": {
    "ExecuteTime": {
     "end_time": "2024-04-16T03:00:28.729933Z",
     "start_time": "2024-04-16T03:00:28.702037Z"
    }
   },
   "outputs": [],
   "source": [
    "bigramprob_with_pos(((1,2),'a.'),bigram_count)"
   ]
  },
  {
   "cell_type": "code",
   "execution_count": null,
   "id": "994f0250",
   "metadata": {
    "ExecuteTime": {
     "end_time": "2024-04-16T02:59:24.701628Z",
     "start_time": "2024-04-16T02:59:24.694820Z"
    }
   },
   "outputs": [],
   "source": [
    "bigram_count[0][0][1]"
   ]
  },
  {
   "cell_type": "code",
   "execution_count": null,
   "id": "1308b5c4",
   "metadata": {},
   "outputs": [],
   "source": []
  },
  {
   "cell_type": "code",
   "execution_count": null,
   "id": "760a51c6",
   "metadata": {},
   "outputs": [],
   "source": []
  },
  {
   "cell_type": "code",
   "execution_count": null,
   "id": "2a24faf2",
   "metadata": {},
   "outputs": [],
   "source": []
  },
  {
   "cell_type": "code",
   "execution_count": null,
   "id": "9de74709",
   "metadata": {
    "ExecuteTime": {
     "end_time": "2024-04-15T03:29:12.478672Z",
     "start_time": "2024-04-15T03:29:12.469607Z"
    }
   },
   "outputs": [],
   "source": [
    "posi1_bigram_prob = bigramprob('a.',bigram_count)\n",
    "print(posi1_bigram_prob)"
   ]
  },
  {
   "cell_type": "code",
   "execution_count": null,
   "id": "4b9d3a6d",
   "metadata": {
    "ExecuteTime": {
     "end_time": "2024-04-16T03:00:56.968611Z",
     "start_time": "2024-04-16T03:00:56.958965Z"
    },
    "code_folding": [
     0,
     25
    ]
   },
   "outputs": [],
   "source": [
    "def possible_pattern_exact_pos(word,pos,n):\n",
    "    '''\n",
    "    give a masked word , and output all possible n-gram pattern for a exact masked letter \n",
    "    '''\n",
    "    shift = n-1\n",
    "    word_last_pos = len(word) - 1; \n",
    "    start = pos - shift;\n",
    "    start_list = list(range(start,start+n))\n",
    "    slice_list = [list(range(i,i+n)) for i in start_list ]\n",
    "    slice_list = list(filter((lambda x: x[0]>=0 and x[-1]<=word_last_pos) ,slice_list));\n",
    "    \n",
    "    pattern_list = []\n",
    "    for poslist in slice_list:\n",
    "        pattern = '';\n",
    "        for pos in poslist:\n",
    "            pattern += word[pos]\n",
    "        \n",
    "        pattern_list.append((tuple(poslist),pattern))\n",
    "        \n",
    "    pattern_list = list(filter(lambda x: x[1].count('.') == 1 ,pattern_list))\n",
    "    return pattern_list\n",
    "\n",
    "#for a given masked word, we anaylse each masked letter's possion n-gram \n",
    "\n",
    "\n",
    "def possible_pattern(word):\n",
    "    mask_id = [];\n",
    "    for i in range(len(word)):\n",
    "        if word[i] == '.':\n",
    "            mask_id.append(i)\n",
    "            \n",
    "    pattern_list_all = [[] for i in mask_id];\n",
    "    \n",
    "    for inx , i in enumerate(mask_id):\n",
    "        for n in range(1,3):\n",
    "            pattern_list = possible_pattern_exact_pos(word,i,n)\n",
    "            if pattern_list != []:\n",
    "                pattern_list_all[inx] += pattern_list\n",
    "                \n",
    "        #pattern_list_all[inx] = [(i,j) for j in pattern_list_all[inx]]\n",
    "            \n",
    "    return pattern_list_all"
   ]
  },
  {
   "cell_type": "code",
   "execution_count": null,
   "id": "e2c08494",
   "metadata": {
    "ExecuteTime": {
     "end_time": "2024-04-16T03:01:19.136375Z",
     "start_time": "2024-04-16T03:01:19.126562Z"
    }
   },
   "outputs": [],
   "source": [
    "possible_pattern_exact_pos('@a.b.a..#',2,3)"
   ]
  },
  {
   "cell_type": "code",
   "execution_count": null,
   "id": "63e11fc3",
   "metadata": {
    "ExecuteTime": {
     "end_time": "2024-04-16T03:01:47.456531Z",
     "start_time": "2024-04-16T03:01:47.446396Z"
    }
   },
   "outputs": [],
   "source": [
    "possible_pattern('@a.b.a..#')"
   ]
  },
  {
   "cell_type": "code",
   "execution_count": null,
   "id": "f63b7ece",
   "metadata": {},
   "outputs": [],
   "source": []
  },
  {
   "cell_type": "code",
   "execution_count": null,
   "id": "8c9bb829",
   "metadata": {
    "ExecuteTime": {
     "end_time": "2024-04-16T03:04:22.577661Z",
     "start_time": "2024-04-16T03:04:22.573919Z"
    }
   },
   "outputs": [],
   "source": [
    "word = '@a....#'"
   ]
  },
  {
   "cell_type": "code",
   "execution_count": null,
   "id": "b5bb1c3e",
   "metadata": {
    "ExecuteTime": {
     "end_time": "2024-04-16T03:04:30.046526Z",
     "start_time": "2024-04-16T03:04:30.022086Z"
    }
   },
   "outputs": [],
   "source": [
    "#update the unigram prob list\n",
    "unigram_prob_list = unigram_prob(dictionary_len5_string,used_letter_list)\n",
    "print(unigram_prob_list)"
   ]
  },
  {
   "cell_type": "code",
   "execution_count": null,
   "id": "8ad40146",
   "metadata": {
    "ExecuteTime": {
     "end_time": "2024-04-16T03:04:36.990201Z",
     "start_time": "2024-04-16T03:04:36.981344Z"
    }
   },
   "outputs": [],
   "source": [
    "allpattern = possible_pattern(word)\n",
    "print(allpattern)"
   ]
  },
  {
   "cell_type": "code",
   "execution_count": null,
   "id": "ecd6a345",
   "metadata": {
    "ExecuteTime": {
     "end_time": "2024-04-15T03:30:13.404178Z",
     "start_time": "2024-04-15T03:30:13.396693Z"
    },
    "code_folding": [
     0
    ]
   },
   "outputs": [],
   "source": [
    "#define a fucntion that can calculate the posibility for fix pos\n",
    "def prob_fix_pos(pattern_list:list ):\n",
    "    unigram_case = list(filter(lambda x: len(x[1])==1,pattern_list))\n",
    "    bigram_case = list(filter(lambda x: len(x[1])==2,pattern_list))\n",
    "    \n",
    "    bigram_prob_list = []\n",
    "    for i, pattern in bigram_case:\n",
    "        bigram_prob_list.append( bigramprob(pattern,bigram_count))\n",
    "    \n",
    "    ngram_prob_list = defaultdict(float);\n",
    "    bigram_prob_list_ave = defaultdict(float);\n",
    "    \n",
    "    if len(bigram_prob_list) == 1:\n",
    "        bigram_prob_list_ave = bigram_prob_list[0]\n",
    "        \n",
    "        \n",
    "    elif len(bigram_prob_list) > 1:\n",
    "        for key in bigram_prob_list[0]:\n",
    "            num = 0;\n",
    "            for i in range(len(bigram_prob_list)):\n",
    "                 num += bigram_prob_list[i][key]\n",
    "                    \n",
    "            bigram_prob_list_ave[key] = num/len(bigram_prob_list)\n",
    "                \n",
    "    if bigram_prob_list_ave == {}:\n",
    "        ngram_prob_list = unigram_prob_list\n",
    "        \n",
    "    else:\n",
    "        for key in unigram_prob_list.keys():\n",
    "            ngram_prob_list[key] = 0.3*unigram_prob_list[key] + 0.7*bigram_prob_list_ave[key]\n",
    "    \n",
    "    return ngram_prob_list\n",
    "\n",
    "\n",
    "def guess_letter(allpattern):\n",
    "    letter_prob_dic_list = [];\n",
    "    \n",
    "    for i in allpattern:\n",
    "        letter_prob_dic_list.append(prob_fix_pos(i))\n",
    "        \n",
    "    letter_prob_list = defaultdict(float);\n",
    "    \n",
    "    for key in letter_prob_dic_list[0].keys():\n",
    "        for i in range(len(letter_prob_dic_list)):\n",
    "            letter_prob_list[key] += letter_prob_dic_list[i][key]\n",
    "            \n",
    "    letter_prob_list = sorted(letter_prob_list.items(), key = lambda item: item[1],reverse=True)\n",
    "    \n",
    "    return letter_prob_list[0][0]"
   ]
  },
  {
   "cell_type": "code",
   "execution_count": null,
   "id": "f1751f0c",
   "metadata": {
    "ExecuteTime": {
     "end_time": "2024-04-16T03:13:01.975118Z",
     "start_time": "2024-04-16T03:13:01.967091Z"
    },
    "code_folding": [
     0
    ]
   },
   "outputs": [],
   "source": [
    "print('@a.b..#')\n",
    "possible_pattern('@a.b..#')"
   ]
  },
  {
   "cell_type": "code",
   "execution_count": null,
   "id": "c82d7446",
   "metadata": {
    "ExecuteTime": {
     "end_time": "2024-04-16T03:19:20.043909Z",
     "start_time": "2024-04-16T03:19:20.008630Z"
    }
   },
   "outputs": [],
   "source": [
    "prob_fix_pos([((2,), '.'), ((1, 2), 'a.'), ((2, 3), '.b')],unigram_prob_list,bigram_count)"
   ]
  },
  {
   "cell_type": "code",
   "execution_count": null,
   "id": "f8b3fc7e",
   "metadata": {
    "ExecuteTime": {
     "end_time": "2024-04-16T03:23:47.307661Z",
     "start_time": "2024-04-16T03:23:47.297596Z"
    },
    "code_folding": [
     1,
     36
    ]
   },
   "outputs": [],
   "source": [
    "#define a fucntion that can calculate the posibility for fix pos\n",
    "def prob_fix_pos(pattern_list:list, unigram_prob_list, bigram_count):\n",
    "    \n",
    "    unigram_case = list(filter(lambda x: len(x[1])==1,pattern_list))\n",
    "    bigram_case = list(filter(lambda x: len(x[1])==2,pattern_list)) \n",
    "    \n",
    "    bigram_prob_list = []\n",
    "    \n",
    "    for pattern in bigram_case:\n",
    "        bigram_prob_list.append( bigramprob_with_pos(pattern,bigram_count))\n",
    "    \n",
    "    ngram_prob_list = defaultdict(float);\n",
    "    bigram_prob_list_ave = defaultdict(float);\n",
    "    \n",
    "    if len(bigram_prob_list) == 1:\n",
    "        bigram_prob_list_ave = bigram_prob_list[0]\n",
    "        \n",
    "        \n",
    "    elif len(bigram_prob_list) > 1:\n",
    "        for key in bigram_prob_list[0]:\n",
    "            num = 0;\n",
    "            for i in range(len(bigram_prob_list)):\n",
    "                 num += bigram_prob_list[i][key]\n",
    "                \n",
    "            bigram_prob_list_ave[key] = num/len(bigram_prob_list)\n",
    "                \n",
    "    if bigram_prob_list_ave == {}:\n",
    "        ngram_prob_list = unigram_prob_list\n",
    "        \n",
    "    else:\n",
    "        for key in unigram_prob_list.keys():\n",
    "            ngram_prob_list[key] = 0.3*unigram_prob_list[key] + 0.7*bigram_prob_list_ave[key]\n",
    "    \n",
    "    return ngram_prob_list\n",
    "\n",
    "\n",
    "def guess_letter(allpattern,unigram_prob_list,bigram_count):\n",
    "    letter_prob_dic_list = [];\n",
    "    \n",
    "    for i in allpattern:\n",
    "        letter_prob_dic_list.append(prob_fix_pos(i,unigram_prob_list,bigram_count))\n",
    "        \n",
    "    letter_prob_list = defaultdict(float);\n",
    "    \n",
    "    for key in letter_prob_dic_list[0].keys():\n",
    "        for i in range(len(letter_prob_dic_list)):\n",
    "            letter_prob_list[key] += letter_prob_dic_list[i][key]\n",
    "            \n",
    "    letter_prob_list = sorted(letter_prob_list.items(), key = lambda item: item[1],reverse=True)\n",
    "    \n",
    "    return letter_prob_list[0][0]"
   ]
  },
  {
   "cell_type": "code",
   "execution_count": null,
   "id": "a7412df0",
   "metadata": {
    "ExecuteTime": {
     "end_time": "2024-04-16T03:23:48.367141Z",
     "start_time": "2024-04-16T03:23:48.352768Z"
    }
   },
   "outputs": [],
   "source": [
    "allpattern = possible_pattern(word)\n",
    "print(allpattern)"
   ]
  },
  {
   "cell_type": "code",
   "execution_count": null,
   "id": "c24c4721",
   "metadata": {
    "ExecuteTime": {
     "end_time": "2024-04-16T03:23:52.151734Z",
     "start_time": "2024-04-16T03:23:52.120771Z"
    }
   },
   "outputs": [],
   "source": [
    "#return the most possible letter\n",
    "guessedletter = guess_letter(allpattern, unigram_prob_list ,bigram_count)\n",
    "print(guessedletter)"
   ]
  },
  {
   "cell_type": "code",
   "execution_count": null,
   "id": "c7c5877f",
   "metadata": {
    "ExecuteTime": {
     "end_time": "2024-04-15T03:31:48.339594Z",
     "start_time": "2024-04-15T03:31:48.332934Z"
    }
   },
   "outputs": [],
   "source": [
    "word = 'a...e'\n",
    "used_letter_list = ['a','e']"
   ]
  },
  {
   "cell_type": "code",
   "execution_count": null,
   "id": "070de65e",
   "metadata": {
    "ExecuteTime": {
     "end_time": "2024-04-15T03:32:39.892779Z",
     "start_time": "2024-04-15T03:32:39.884070Z"
    }
   },
   "outputs": [],
   "source": [
    "unigram_prob_list = unigram_prob(dictionary_len5_string,used_letter_list)\n",
    "print(unigram_prob_list)"
   ]
  },
  {
   "cell_type": "code",
   "execution_count": null,
   "id": "591c5c90",
   "metadata": {
    "ExecuteTime": {
     "end_time": "2024-04-15T03:33:25.292610Z",
     "start_time": "2024-04-15T03:33:25.283080Z"
    }
   },
   "outputs": [],
   "source": [
    "sum(unigram_prob_list.values())"
   ]
  },
  {
   "cell_type": "code",
   "execution_count": null,
   "id": "8256f712",
   "metadata": {
    "ExecuteTime": {
     "end_time": "2024-04-15T03:32:17.069330Z",
     "start_time": "2024-04-15T03:32:17.055456Z"
    }
   },
   "outputs": [],
   "source": [
    "used_letter_list"
   ]
  },
  {
   "cell_type": "markdown",
   "id": "de3550c2",
   "metadata": {
    "ExecuteTime": {
     "end_time": "2024-04-13T12:58:48.168689Z",
     "start_time": "2024-04-13T12:58:48.168689Z"
    }
   },
   "source": [
    "# Test"
   ]
  },
  {
   "cell_type": "code",
   "execution_count": null,
   "id": "e59ef454",
   "metadata": {
    "ExecuteTime": {
     "end_time": "2024-04-15T12:15:55.946093Z",
     "start_time": "2024-04-15T12:15:55.857103Z"
    }
   },
   "outputs": [],
   "source": [
    "from N_gram_functions  import *"
   ]
  },
  {
   "cell_type": "code",
   "execution_count": null,
   "id": "cdfefea9",
   "metadata": {},
   "outputs": [],
   "source": []
  }
 ],
 "metadata": {
  "kernelspec": {
   "display_name": "Python 3 (ipykernel)",
   "language": "python",
   "name": "python3"
  },
  "language_info": {
   "codemirror_mode": {
    "name": "ipython",
    "version": 3
   },
   "file_extension": ".py",
   "mimetype": "text/x-python",
   "name": "python",
   "nbconvert_exporter": "python",
   "pygments_lexer": "ipython3",
   "version": "3.10.14"
  },
  "toc": {
   "base_numbering": 1,
   "nav_menu": {},
   "number_sections": true,
   "sideBar": true,
   "skip_h1_title": false,
   "title_cell": "Table of Contents",
   "title_sidebar": "Contents",
   "toc_cell": false,
   "toc_position": {},
   "toc_section_display": true,
   "toc_window_display": false
  }
 },
 "nbformat": 4,
 "nbformat_minor": 5
}
