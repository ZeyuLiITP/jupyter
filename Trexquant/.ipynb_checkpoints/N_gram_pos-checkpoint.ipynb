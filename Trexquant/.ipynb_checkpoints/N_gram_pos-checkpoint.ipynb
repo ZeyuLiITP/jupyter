{
 "cells": [
  {
   "cell_type": "code",
   "execution_count": 1,
   "id": "0bb5609b",
   "metadata": {
    "ExecuteTime": {
     "end_time": "2024-04-17T12:58:32.637170Z",
     "start_time": "2024-04-17T12:58:32.625907Z"
    },
    "code_folding": []
   },
   "outputs": [],
   "source": [
    "import urllib\n",
    "import re\n",
    "import random\n",
    "import string\n",
    "import operator\n",
    "from collections import Counter,defaultdict\n",
    "\n",
    "\n"
   ]
  },
  {
   "cell_type": "code",
   "execution_count": null,
   "id": "9a4f8399",
   "metadata": {
    "code_folding": [
     1,
     15
    ]
   },
   "outputs": [],
   "source": [
    "'''\n",
    "def text_filter(text: str) -> str:\n",
    "    \"\"\"\n",
    "    文本过滤器：过滤掉文本数据中的标点符号和其他特殊字符\n",
    "    :param text: 待过滤的文本\n",
    "    :return: 过滤后的文本\n",
    "    \"\"\"\n",
    "    # 使用正则表达式去除标点符号和其他特殊字符\n",
    "    cleaned_text = re.sub(r'[^\\w\\s]', '', text)\n",
    "    \n",
    "    # 将过滤后的文本转换为小写\n",
    "    cleaned_text = cleaned_text.lower()\n",
    "    \n",
    "    return cleaned_text\n",
    "\n",
    "def slide_word(text: str, l: int = 5) -> list:\n",
    "    \"\"\"\n",
    "    滑动取词器\n",
    "    Input: text='abcd',l=2\n",
    "    Output: ['ab','bc','cd']\n",
    "    :param text: 过滤后的文本 （只包含小写数字/字母）\n",
    "    :param l: 滑动窗口长度，默认为 5\n",
    "    :return:\n",
    "    \"\"\"\n",
    "    # 使用正则表达式去除标点符号和其他特殊字符\n",
    "    tf = re.sub(r'[^\\w\\s]', '', text)\n",
    "    \n",
    "    # 使用切片操作生成滑动窗口\n",
    "    result = [tf[i:i + l] for i in range(len(tf) - l + 1)]\n",
    "    \n",
    "    return result\n",
    "\n",
    "'''"
   ]
  },
  {
   "cell_type": "code",
   "execution_count": 2,
   "id": "31784933",
   "metadata": {
    "ExecuteTime": {
     "end_time": "2024-04-17T12:58:34.828809Z",
     "start_time": "2024-04-17T12:58:34.754767Z"
    }
   },
   "outputs": [],
   "source": [
    "# The train set\n",
    "text_file = open(\"words_250000_train.txt\",\"r\")\n",
    "full_dictionary = text_file.read().splitlines()\n",
    "for i in range(len(full_dictionary)):\n",
    "    full_dictionary[i] = '@' + full_dictionary[i] + '#'\n",
    "\n",
    "#select out the words in train set that has the same length with masked word.(take len = 5 as example)\n",
    "dictionary_len5 = [ii for ii in full_dictionary if len(ii) == (5+2) ]\n",
    "dictionary_len5_string = \"\".join(dictionary_len5)"
   ]
  },
  {
   "cell_type": "code",
   "execution_count": 3,
   "id": "a112712e",
   "metadata": {
    "ExecuteTime": {
     "end_time": "2024-04-17T12:58:36.525681Z",
     "start_time": "2024-04-17T12:58:36.512304Z"
    }
   },
   "outputs": [],
   "source": [
    "#given a masked word\n",
    "word = '@.....#';\n",
    "used_letter_list = [];\n",
    "all_letter_list ='a b c d e f g h i j k l m n o p q r s t u v w x y z'.split(' ')"
   ]
  },
  {
   "cell_type": "code",
   "execution_count": 4,
   "id": "1fca0b98",
   "metadata": {
    "ExecuteTime": {
     "end_time": "2024-04-17T12:58:37.804375Z",
     "start_time": "2024-04-17T12:58:37.795010Z"
    },
    "code_folding": [
     1
    ]
   },
   "outputs": [],
   "source": [
    "#function that calculates unigram prob:\n",
    "def unigram_prob(word_list_string, used_letter_list):\n",
    "    \n",
    "    deleted_string = re.sub('[@#]','',word_list_string) #delete @ and #\n",
    "    \n",
    "    for used_letter in used_letter_list:\n",
    "        #delete the letters which are used \n",
    "        deleted_string = re.sub(used_letter,'',deleted_string)\n",
    "        \n",
    "    deleted_string_len = len(deleted_string)\n",
    "    uniproblist = defaultdict(float);\n",
    "    count_letter = Counter(deleted_string).most_common();\n",
    "    \n",
    "    for letter , number in count_letter :\n",
    "        uniproblist[letter] = number/deleted_string_len\n",
    "        \n",
    "    return uniproblist"
   ]
  },
  {
   "cell_type": "code",
   "execution_count": 5,
   "id": "9bc0578f",
   "metadata": {
    "ExecuteTime": {
     "end_time": "2024-04-17T12:58:38.951322Z",
     "start_time": "2024-04-17T12:58:38.939390Z"
    }
   },
   "outputs": [
    {
     "name": "stdout",
     "output_type": "stream",
     "text": [
      "defaultdict(<class 'float'>, {'a': 0.11160191591271953, 'e': 0.09895334397729288, 's': 0.07411743835373426, 'o': 0.06696824552066702, 'r': 0.06583288983501863, 'i': 0.06521199219442966, 'l': 0.055525989001241796, 'n': 0.05375199574241618, 't': 0.048855774348057476, 'u': 0.039843888593223346, 'd': 0.035302465850629766, 'c': 0.0342380698953344, 'y': 0.03225119744544971, 'm': 0.03163029980486074, 'h': 0.029253148838034416, 'b': 0.026911477736384602, 'p': 0.026432499556501687, 'g': 0.0233102714209686, 'k': 0.022263615398261487, 'f': 0.014511264857193543, 'w': 0.013748447755898528, 'v': 0.01133581692389569, 'z': 0.006989533439772929, 'j': 0.005747738158594997, 'x': 0.004080184495298918, 'q': 0.0013304949441192123})\n"
     ]
    }
   ],
   "source": [
    "unigram_prob_list = unigram_prob(dictionary_len5_string,used_letter_list)\n",
    "print(unigram_prob_list)"
   ]
  },
  {
   "cell_type": "code",
   "execution_count": 6,
   "id": "199275a0",
   "metadata": {
    "ExecuteTime": {
     "end_time": "2024-04-17T12:58:40.804769Z",
     "start_time": "2024-04-17T12:58:40.793850Z"
    }
   },
   "outputs": [],
   "source": [
    "#suppose it's correct:\n",
    "word = '@a....#'\n",
    "used_letter_list = ['a']; #update used letter list\n",
    "avalible_letter_list = list(set(all_letter_list)- set(used_letter_list))"
   ]
  },
  {
   "cell_type": "code",
   "execution_count": 7,
   "id": "7219f3c5",
   "metadata": {
    "ExecuteTime": {
     "end_time": "2024-04-17T12:58:42.083621Z",
     "start_time": "2024-04-17T12:58:42.074538Z"
    }
   },
   "outputs": [],
   "source": [
    "def slide_word_with_pos(text: str, l: int = 5) -> list:\n",
    "    \n",
    "    text_len = len(text)\n",
    "    # 使用切片操作生成滑动窗口\n",
    "    result = [(tuple(range(i,i + l)), text[i:i + l] ) for i in range(text_len - l + 1)]\n",
    "    \n",
    "    return result"
   ]
  },
  {
   "cell_type": "code",
   "execution_count": 8,
   "id": "2823c376",
   "metadata": {
    "ExecuteTime": {
     "end_time": "2024-04-17T12:58:43.501042Z",
     "start_time": "2024-04-17T12:58:43.490127Z"
    }
   },
   "outputs": [
    {
     "name": "stdout",
     "output_type": "stream",
     "text": [
      "@alldeciding#\n"
     ]
    },
    {
     "data": {
      "text/plain": [
       "[((0, 1), '@a'),\n",
       " ((1, 2), 'al'),\n",
       " ((2, 3), 'll'),\n",
       " ((3, 4), 'ld'),\n",
       " ((4, 5), 'de'),\n",
       " ((5, 6), 'ec'),\n",
       " ((6, 7), 'ci'),\n",
       " ((7, 8), 'id'),\n",
       " ((8, 9), 'di'),\n",
       " ((9, 10), 'in'),\n",
       " ((10, 11), 'ng'),\n",
       " ((11, 12), 'g#')]"
      ]
     },
     "execution_count": 8,
     "metadata": {},
     "output_type": "execute_result"
    }
   ],
   "source": [
    "print(full_dictionary[5000])\n",
    "slide_word_with_pos(full_dictionary[5000],2)"
   ]
  },
  {
   "cell_type": "code",
   "execution_count": 9,
   "id": "b312077b",
   "metadata": {
    "ExecuteTime": {
     "end_time": "2024-04-17T12:58:48.161752Z",
     "start_time": "2024-04-17T12:58:46.058590Z"
    }
   },
   "outputs": [],
   "source": [
    "#calculate the bigram_dictionary once for all\n",
    "full_dictionary_bigram=[]\n",
    "\n",
    "for words in full_dictionary:\n",
    "    full_dictionary_bigram.append(slide_word_with_pos(words,2))\n",
    "    \n",
    "full_dictionary_bigram = [item for sublist in full_dictionary_bigram for item in sublist]\n",
    "\n",
    "bigram_count = Counter(full_dictionary_bigram).most_common()"
   ]
  },
  {
   "cell_type": "code",
   "execution_count": 10,
   "id": "345600ce",
   "metadata": {
    "ExecuteTime": {
     "end_time": "2024-04-17T12:58:51.800097Z",
     "start_time": "2024-04-17T12:58:49.362674Z"
    }
   },
   "outputs": [],
   "source": [
    "#calculate the bigram_dictionary once for all\n",
    "full_dictionary_trigram=[]\n",
    "\n",
    "for words in full_dictionary:\n",
    "    full_dictionary_trigram.append(slide_word_with_pos(words,3))\n",
    "    \n",
    "full_dictionary_trigram = [item for sublist in full_dictionary_trigram for item in sublist]\n",
    "\n",
    "trigram_count = Counter(full_dictionary_trigram).most_common()"
   ]
  },
  {
   "cell_type": "code",
   "execution_count": 11,
   "id": "b1772171",
   "metadata": {
    "ExecuteTime": {
     "end_time": "2024-04-17T12:58:57.384562Z",
     "start_time": "2024-04-17T12:58:54.899052Z"
    }
   },
   "outputs": [],
   "source": [
    "#calculate the bigram_dictionary once for all\n",
    "full_dictionary_fourgram=[]\n",
    "\n",
    "for words in full_dictionary:\n",
    "    full_dictionary_fourgram.append(slide_word_with_pos(words,4))\n",
    "    \n",
    "full_dictionary_fourgram = [item for sublist in full_dictionary_fourgram for item in sublist]\n",
    "\n",
    "fourgram_count = Counter(full_dictionary_fourgram).most_common()"
   ]
  },
  {
   "cell_type": "code",
   "execution_count": null,
   "id": "ad7c4470",
   "metadata": {
    "ExecuteTime": {
     "end_time": "2024-04-17T12:41:25.436182Z",
     "start_time": "2024-04-17T12:41:25.364793Z"
    }
   },
   "outputs": [],
   "source": [
    "fourgram_count"
   ]
  },
  {
   "cell_type": "code",
   "execution_count": 12,
   "id": "a42a56ea",
   "metadata": {
    "ExecuteTime": {
     "end_time": "2024-04-17T12:58:58.699188Z",
     "start_time": "2024-04-17T12:58:58.677343Z"
    },
    "code_folding": [
     0
    ]
   },
   "outputs": [],
   "source": [
    "def bigramprob_with_pos(bigram_pattern_with_pos, bigram_count):\n",
    "    '''\n",
    "    given a bigram_pattern_with_pos '((1,2), 'a.')',\n",
    "    output the possibility for each letter in the masked letter \n",
    "    '''\n",
    "    pos = bigram_pattern_with_pos[0] #position tuple\n",
    "    bigram_pattern = bigram_pattern_with_pos[1] #pattern\n",
    "    \n",
    "    knownletter = re.sub('\\.','',bigram_pattern)\n",
    "    \n",
    "    \n",
    "    bigram_pattern_matched =list(filter(lambda x: (re.match(bigram_pattern,x[0][1])) and \\\n",
    "                                        (not (re.match(knownletter+knownletter,x[0][1]))) and \\\n",
    "                                        (pos == x[0][0]), bigram_count))\n",
    "    \n",
    "    bigramproblist = defaultdict(float);\n",
    "    total_len = sum([ii[1] for ii in bigram_pattern_matched]);\n",
    "    \n",
    "    for bigram , number in bigram_pattern_matched :\n",
    "        bigramproblist[re.sub(knownletter,'',bigram[1])] = number/total_len\n",
    "        \n",
    "    return bigramproblist"
   ]
  },
  {
   "cell_type": "code",
   "execution_count": 18,
   "id": "a09dc979",
   "metadata": {
    "ExecuteTime": {
     "end_time": "2024-04-17T12:59:34.967316Z",
     "start_time": "2024-04-17T12:59:34.956534Z"
    },
    "code_folding": []
   },
   "outputs": [],
   "source": [
    "def trigramprob_with_pos(trigram_pattern_with_pos, trigram_count):\n",
    "    '''\n",
    "    given a trigram_pattern_with_pos '((1,2,3), 'ab.')',\n",
    "    output the possibility for each letter in the masked letter \n",
    "    '''\n",
    "    pos = trigram_pattern_with_pos[0] #position tuple\n",
    "    trigram_pattern = trigram_pattern_with_pos[1] #pattern\n",
    "    \n",
    "    knownletter = set(re.sub('\\.','',trigram_pattern))\n",
    "    \n",
    "    trigram_pattern_matched = list( filter(lambda x: (pos == x[0][0]) and \\\n",
    "                                           (re.match(trigram_pattern,x[0][1])) and \\\n",
    "                                           (not set(x[0][1]).issubset(knownletter) ) , trigram_count) )\n",
    "    trigramproblist = defaultdict(float);\n",
    "    total_len = sum([ii[1] for ii in trigram_pattern_matched]);\n",
    "    \n",
    "    for trigram , number in trigram_pattern_matched :\n",
    "        trigramproblist[re.sub(str(list(knownletter)) , '' ,trigram[1]) ] = number/total_len\n",
    "    \n",
    "    return trigramproblist"
   ]
  },
  {
   "cell_type": "code",
   "execution_count": 14,
   "id": "836e7741",
   "metadata": {
    "ExecuteTime": {
     "end_time": "2024-04-17T12:59:01.818937Z",
     "start_time": "2024-04-17T12:59:01.811606Z"
    },
    "code_folding": [
     0
    ]
   },
   "outputs": [],
   "source": [
    "def fourgramprob_with_pos(four_gram_pattern_with_pos, four_gram_count):\n",
    "    '''\n",
    "    given a fourgram_pattern_with_pos '((1,2,3,4), 'abc.')',\n",
    "    output the possibility for each letter in the masked letter \n",
    "    '''\n",
    "    pos = four_gram_pattern_with_pos[0] #position tuple\n",
    "    fourgram_pattern = four_gram_pattern_with_pos[1] #pattern\n",
    "    \n",
    "    knownletter = set(re.sub('\\.','',fourgram_pattern))\n",
    "    \n",
    "    fourgram_pattern_matched = list( filter(lambda x: (pos == x[0][0]) and \\\n",
    "                                           (re.match(fourgram_pattern,x[0][1])) and \\\n",
    "                                           (not set(x[0][1]).issubset(knownletter) ) , fourgram_count) )\n",
    "    \n",
    "    fourgramproblist = defaultdict(float);\n",
    "    total_len = sum([ii[1] for ii in fourgram_pattern_matched]);\n",
    "    \n",
    "    for fourgram , number in fourgram_pattern_matched :\n",
    "        fourgramproblist[re.sub(str(list(knownletter)) , '' ,fourgram[1]) ] = number/total_len\n",
    "    return fourgramproblist"
   ]
  },
  {
   "cell_type": "code",
   "execution_count": 21,
   "id": "cca3f296",
   "metadata": {
    "ExecuteTime": {
     "end_time": "2024-04-17T13:00:51.682949Z",
     "start_time": "2024-04-17T13:00:51.562213Z"
    }
   },
   "outputs": [
    {
     "data": {
      "text/plain": [
       "defaultdict(float,\n",
       "            {'i': 0.47368421052631576,\n",
       "             'r': 0.15789473684210525,\n",
       "             'd': 0.10526315789473684,\n",
       "             'l': 0.10526315789473684,\n",
       "             'k': 0.02631578947368421,\n",
       "             'u': 0.02631578947368421,\n",
       "             'm': 0.02631578947368421,\n",
       "             'e': 0.02631578947368421,\n",
       "             'f': 0.02631578947368421,\n",
       "             'c': 0.02631578947368421})"
      ]
     },
     "execution_count": 21,
     "metadata": {},
     "output_type": "execute_result"
    }
   ],
   "source": [
    "fourgramprob_with_pos( ((2,3,4,5),'ab.a') , fourgram_count)"
   ]
  },
  {
   "cell_type": "code",
   "execution_count": 22,
   "id": "bdb040f3",
   "metadata": {
    "ExecuteTime": {
     "end_time": "2024-04-17T13:01:00.355334Z",
     "start_time": "2024-04-17T13:01:00.313783Z"
    },
    "collapsed": true
   },
   "outputs": [
    {
     "data": {
      "text/plain": [
       "defaultdict(float,\n",
       "            {'s': 0.2323049001814882,\n",
       "             'o': 0.14337568058076225,\n",
       "             'r': 0.11978221415607986,\n",
       "             'e': 0.0925589836660617,\n",
       "             'i': 0.09074410163339383,\n",
       "             'd': 0.06533575317604355,\n",
       "             'l': 0.06352087114337568,\n",
       "             'u': 0.05989110707803993,\n",
       "             'n': 0.032667876588021776,\n",
       "             'j': 0.029038112522686024,\n",
       "             'y': 0.019963702359346643,\n",
       "             'h': 0.018148820326678767,\n",
       "             'k': 0.007259528130671506,\n",
       "             'c': 0.0054446460980036296,\n",
       "             't': 0.0054446460980036296,\n",
       "             'f': 0.003629764065335753,\n",
       "             'm': 0.003629764065335753,\n",
       "             'w': 0.003629764065335753,\n",
       "             'p': 0.0018148820326678765,\n",
       "             'v': 0.0018148820326678765})"
      ]
     },
     "execution_count": 22,
     "metadata": {},
     "output_type": "execute_result"
    }
   ],
   "source": [
    "trigramprob_with_pos( ((1,2,3),'ab.'), trigram_count)"
   ]
  },
  {
   "cell_type": "code",
   "execution_count": null,
   "id": "d94c5950",
   "metadata": {
    "ExecuteTime": {
     "end_time": "2024-04-17T07:38:48.521483Z",
     "start_time": "2024-04-17T07:38:48.491111Z"
    }
   },
   "outputs": [],
   "source": [
    "bigramprob_with_pos(((1,2),'a.'),bigram_count)"
   ]
  },
  {
   "cell_type": "code",
   "execution_count": null,
   "id": "49bf72ae",
   "metadata": {},
   "outputs": [],
   "source": []
  },
  {
   "cell_type": "code",
   "execution_count": 23,
   "id": "28d06604",
   "metadata": {
    "ExecuteTime": {
     "end_time": "2024-04-17T13:01:10.545090Z",
     "start_time": "2024-04-17T13:01:10.538628Z"
    },
    "code_folding": [
     0,
     25
    ]
   },
   "outputs": [],
   "source": [
    "def possible_pattern_exact_pos(word,pos,n):\n",
    "    '''\n",
    "    give a masked word , and output all possible n-gram pattern for a exact masked letter \n",
    "    '''\n",
    "    shift = n-1\n",
    "    word_last_pos = len(word) - 1; \n",
    "    start = pos - shift;\n",
    "    start_list = list(range(start,start+n))\n",
    "    slice_list = [list(range(i,i+n)) for i in start_list ]\n",
    "    slice_list = list(filter((lambda x: x[0]>=0 and x[-1]<=word_last_pos) ,slice_list));\n",
    "    \n",
    "    pattern_list = []\n",
    "    for poslist in slice_list:\n",
    "        pattern = '';\n",
    "        for pos in poslist:\n",
    "            pattern += word[pos]\n",
    "        \n",
    "        pattern_list.append((tuple(poslist),pattern))\n",
    "        \n",
    "    pattern_list = list(filter(lambda x: x[1].count('.') == 1 ,pattern_list))\n",
    "    return pattern_list\n",
    "\n",
    "#for a given masked word, we anaylse each masked letter's possion n-gram \n",
    "\n",
    "\n",
    "def possible_pattern(word):\n",
    "    mask_id = [];\n",
    "    for i in range(len(word)):\n",
    "        if word[i] == '.':\n",
    "            mask_id.append(i)\n",
    "            \n",
    "    pattern_list_all = [[] for i in mask_id];\n",
    "    \n",
    "    for inx , i in enumerate(mask_id):\n",
    "        for n in range(1,5):\n",
    "            pattern_list = possible_pattern_exact_pos(word,i,n)\n",
    "            if pattern_list != []:\n",
    "                pattern_list_all[inx] += pattern_list\n",
    "                \n",
    "        #pattern_list_all[inx] = [(i,j) for j in pattern_list_all[inx]]\n",
    "            \n",
    "    return pattern_list_all"
   ]
  },
  {
   "cell_type": "code",
   "execution_count": null,
   "id": "b05576f4",
   "metadata": {
    "ExecuteTime": {
     "end_time": "2024-04-17T12:54:58.311171Z",
     "start_time": "2024-04-17T12:54:58.301721Z"
    }
   },
   "outputs": [],
   "source": [
    "possible_pattern_exact_pos('@a.b.aus.#',2,4)"
   ]
  },
  {
   "cell_type": "code",
   "execution_count": 24,
   "id": "e12dd225",
   "metadata": {
    "ExecuteTime": {
     "end_time": "2024-04-17T13:01:12.153183Z",
     "start_time": "2024-04-17T13:01:12.145508Z"
    }
   },
   "outputs": [
    {
     "data": {
      "text/plain": [
       "[[((2,), '.'),\n",
       "  ((1, 2), 'a.'),\n",
       "  ((2, 3), '.b'),\n",
       "  ((0, 1, 2), '@a.'),\n",
       "  ((1, 2, 3), 'a.b'),\n",
       "  ((0, 1, 2, 3), '@a.b')],\n",
       " [((4,), '.'),\n",
       "  ((3, 4), 'b.'),\n",
       "  ((4, 5), '.a'),\n",
       "  ((3, 4, 5), 'b.a'),\n",
       "  ((4, 5, 6), '.au'),\n",
       "  ((3, 4, 5, 6), 'b.au'),\n",
       "  ((4, 5, 6, 7), '.aus')],\n",
       " [((8,), '.'),\n",
       "  ((7, 8), 's.'),\n",
       "  ((8, 9), '.#'),\n",
       "  ((6, 7, 8), 'us.'),\n",
       "  ((7, 8, 9), 's.#'),\n",
       "  ((5, 6, 7, 8), 'aus.'),\n",
       "  ((6, 7, 8, 9), 'us.#')]]"
      ]
     },
     "execution_count": 24,
     "metadata": {},
     "output_type": "execute_result"
    }
   ],
   "source": [
    "possible_pattern('@a.b.aus.#')"
   ]
  },
  {
   "cell_type": "code",
   "execution_count": 25,
   "id": "4996d0b9",
   "metadata": {
    "ExecuteTime": {
     "end_time": "2024-04-17T13:01:14.771913Z",
     "start_time": "2024-04-17T13:01:14.762659Z"
    }
   },
   "outputs": [
    {
     "name": "stdout",
     "output_type": "stream",
     "text": [
      "defaultdict(<class 'float'>, {'e': 0.11961743009092468, 's': 0.08959512780922971, 'o': 0.08095299365242752, 'r': 0.07958054554812147, 'i': 0.07882998799107908, 'l': 0.06712129010121805, 'n': 0.06497683993823984, 't': 0.05905815748841997, 'u': 0.04816435066049065, 'd': 0.04267455824326643, 'y': 0.0389861039629439, 'm': 0.03823554640590153, 'h': 0.03536198318751072, 'p': 0.03195230742837536, 'g': 0.028178075141533712, 'k': 0.026912849545376566, 'f': 0.017541602333161776, 'w': 0.016619488763081145, 'v': 0.013703036541430777, 'z': 0.008449133642134158, 'j': 0.006948018528049408, 'x': 0.004932235374849888, 'q': 0.0016083376222336594})\n"
     ]
    }
   ],
   "source": [
    "word = '@abc..#'\n",
    "used_letter_list = ['a','b','c'];\n",
    "#update the unigram prob list\n",
    "unigram_prob_list = unigram_prob(dictionary_len5_string,used_letter_list)\n",
    "print(unigram_prob_list)"
   ]
  },
  {
   "cell_type": "code",
   "execution_count": 26,
   "id": "190d952d",
   "metadata": {
    "ExecuteTime": {
     "end_time": "2024-04-17T13:01:16.938907Z",
     "start_time": "2024-04-17T13:01:16.931407Z"
    }
   },
   "outputs": [
    {
     "name": "stdout",
     "output_type": "stream",
     "text": [
      "[[((4,), '.'), ((3, 4), 'c.'), ((2, 3, 4), 'bc.'), ((1, 2, 3, 4), 'abc.')], [((5,), '.'), ((5, 6), '.#')]]\n"
     ]
    }
   ],
   "source": [
    "allpattern = possible_pattern(word)\n",
    "print(allpattern)"
   ]
  },
  {
   "cell_type": "code",
   "execution_count": 27,
   "id": "dfaf2b10",
   "metadata": {
    "ExecuteTime": {
     "end_time": "2024-04-17T13:09:41.556196Z",
     "start_time": "2024-04-17T13:09:41.541024Z"
    },
    "code_folding": [
     1,
     12,
     15,
     18,
     26,
     29,
     37,
     40,
     48,
     51,
     60,
     63,
     67,
     80
    ]
   },
   "outputs": [],
   "source": [
    "#define a fucntion that can calculate the posibility for fix pos\n",
    "def prob_fix_pos(pattern_list:list, unigram_prob_list, bigram_count ,trigram_count,fourgram_count):\n",
    "    \n",
    "    unigram_case = list(filter(lambda x: len(x[1])==1,pattern_list))\n",
    "    bigram_case = list(filter(lambda x: len(x[1])==2,pattern_list)) \n",
    "    trigram_case = list(filter(lambda x: len(x[1])==3,pattern_list))\n",
    "    fourgram_case = list(filter(lambda x: len(x[1])==4,pattern_list))\n",
    "    \n",
    "    bigram_prob_list = []\n",
    "    trigram_prob_list = []\n",
    "    fourgram_prob_list = []\n",
    "    \n",
    "    for pattern in bigram_case:\n",
    "        bigram_prob_list.append( bigramprob_with_pos(pattern,bigram_count))\n",
    "        \n",
    "    for pattern in trigram_case:\n",
    "        trigram_prob_list.append( trigramprob_with_pos(pattern,trigram_count))\n",
    "        \n",
    "    for pattern in fourgram_case:\n",
    "        fourgram_prob_list.append( fourgramprob_with_pos(pattern,trigram_count))\n",
    "    \n",
    "    ngram_prob_list = defaultdict(float);\n",
    "    bigram_prob_list_ave = defaultdict(float);\n",
    "    trigram_prob_list_ave = defaultdict(float);\n",
    "    fourgram_prob_list_ave = defaultdict(float);\n",
    "    \n",
    "    if len(bigram_prob_list) == 1:\n",
    "        bigram_prob_list_ave = bigram_prob_list[0]\n",
    "        \n",
    "    elif len(bigram_prob_list) > 1:\n",
    "        for key in bigram_prob_list[0]:\n",
    "            num = 0;\n",
    "            for i in range(len(bigram_prob_list)):\n",
    "                 num += bigram_prob_list[i][key]\n",
    "                \n",
    "            bigram_prob_list_ave[key] = num/len(bigram_prob_list)\n",
    "            \n",
    "    if len(trigram_prob_list) == 1:\n",
    "        trigram_prob_list_ave = trigram_prob_list[0]\n",
    "        \n",
    "    elif len(trigram_prob_list) > 1:\n",
    "        for key in trigram_prob_list[0]:\n",
    "            num = 0;\n",
    "            for i in range(len(trigram_prob_list)):\n",
    "                 num += trigram_prob_list[i][key]\n",
    "                \n",
    "            trigram_prob_list_ave[key] = num/len(trigram_prob_list)\n",
    "        \n",
    "    if len(fourgram_prob_list) == 1:\n",
    "        fourgram_prob_list_ave = fourgram_prob_list[0]\n",
    "        \n",
    "    elif len(fourgram_prob_list) > 1:\n",
    "        for key in fourgram_prob_list[0]:\n",
    "            num = 0;\n",
    "            for i in range(len(fourgram_prob_list)):\n",
    "                 num += fourgram_prob_list[i][key]\n",
    "                \n",
    "            fourgram_prob_list_ave[key] = num/len(fourgram_prob_list)\n",
    "                \n",
    "    \n",
    "    if bigram_prob_list_ave == {}:\n",
    "        ngram_prob_list = unigram_prob_list\n",
    "        \n",
    "    elif ((bigram_prob_list_ave) != {}) and ((trigram_prob_list_ave) == {}):\n",
    "        for key in unigram_prob_list.keys():\n",
    "            ngram_prob_list[key] = 0.3*unigram_prob_list[key] + 0.7*bigram_prob_list_ave[key]\n",
    "        \n",
    "    elif ((bigram_prob_list_ave) != {}) and ((trigram_prob_list_ave) != {}):\n",
    "        for key in unigram_prob_list.keys():\n",
    "            ngram_prob_list[key] = 0.1*unigram_prob_list[key] + 0.3*bigram_prob_list_ave[key] + \\\n",
    "                                                                0.6*trigram_prob_list_ave[key]\n",
    "            \n",
    "    elif ((fourgram_prob_list_ave) != {}):\n",
    "        for key in unigram_prob_list.keys():\n",
    "            ngram_prob_list[key] = 0.05*unigram_prob_list[key] + 0.15*bigram_prob_list_ave[key] + \\\n",
    "                                   0.3*trigram_prob_list_ave[key] + 0.5*fourgram_prob_list_ave[key]\n",
    "    \n",
    "    return ngram_prob_list\n",
    "\n",
    "\n",
    "def guess_letter(allpattern,unigram_prob_list,bigram_count, trigram_count ,fourgram_count):\n",
    "    letter_prob_dic_list = [];\n",
    "    \n",
    "    for i in allpattern:\n",
    "        letter_prob_dic_list.append(prob_fix_pos(i,unigram_prob_list,bigram_count,trigram_count,\n",
    "                                                 fourgram_count))\n",
    "        \n",
    "    letter_prob_list = defaultdict(float);\n",
    "    \n",
    "    for key in letter_prob_dic_list[0].keys():\n",
    "        for i in range(len(letter_prob_dic_list)):\n",
    "            letter_prob_list[key] += letter_prob_dic_list[i][key]\n",
    "            \n",
    "    letter_prob_list = sorted(letter_prob_list.items(), key = lambda item: item[1],reverse=True)\n",
    "    \n",
    "    return letter_prob_list[0][0]"
   ]
  },
  {
   "cell_type": "code",
   "execution_count": 32,
   "id": "76b0cd7b",
   "metadata": {
    "ExecuteTime": {
     "end_time": "2024-04-17T13:10:39.512425Z",
     "start_time": "2024-04-17T13:10:39.503889Z"
    }
   },
   "outputs": [
    {
     "data": {
      "text/plain": [
       "[((4,), '.'), ((3, 4), 'c.'), ((2, 3, 4), 'bc.'), ((1, 2, 3, 4), 'abc.')]"
      ]
     },
     "execution_count": 32,
     "metadata": {},
     "output_type": "execute_result"
    }
   ],
   "source": [
    "allpattern[0]"
   ]
  },
  {
   "cell_type": "code",
   "execution_count": 31,
   "id": "33502851",
   "metadata": {
    "ExecuteTime": {
     "end_time": "2024-04-17T13:10:35.335892Z",
     "start_time": "2024-04-17T13:10:35.207217Z"
    },
    "collapsed": true
   },
   "outputs": [
    {
     "data": {
      "text/plain": [
       "defaultdict(float,\n",
       "            {'e': 0.03479872778443595,\n",
       "             's': 0.059878562168223376,\n",
       "             'o': 0.21028616457133262,\n",
       "             'r': 0.03792463457709213,\n",
       "             'i': 0.07754508569104998,\n",
       "             'l': 0.0713333692626283,\n",
       "             'n': 0.0075559832882911215,\n",
       "             't': 0.025345102789317304,\n",
       "             'u': 0.022556873239090284,\n",
       "             'd': 0.05468520554582682,\n",
       "             'y': 0.006516508651028886,\n",
       "             'm': 0.00429700432495703,\n",
       "             'h': 0.04714926924337045,\n",
       "             'p': 0.0033901806128709567,\n",
       "             'g': 0.0029013574584534083,\n",
       "             'k': 0.043547207717255815,\n",
       "             'f': 0.001921260121916252,\n",
       "             'w': 0.001717648839174806,\n",
       "             'v': 0.0013981536355764236,\n",
       "             'z': 0.0009563132899467986,\n",
       "             'j': 0.0006948018528049409,\n",
       "             'x': 0.0004932235374849888,\n",
       "             'q': 0.0009406332423570459})"
      ]
     },
     "execution_count": 31,
     "metadata": {},
     "output_type": "execute_result"
    }
   ],
   "source": [
    "prob_fix_pos(allpattern[0], unigram_prob_list, bigram_count, trigram_count , fourgram_count)"
   ]
  },
  {
   "cell_type": "code",
   "execution_count": 33,
   "id": "97618b45",
   "metadata": {
    "ExecuteTime": {
     "end_time": "2024-04-17T13:11:31.403680Z",
     "start_time": "2024-04-17T13:11:31.264898Z"
    }
   },
   "outputs": [
    {
     "name": "stdout",
     "output_type": "stream",
     "text": [
      "o\n"
     ]
    }
   ],
   "source": [
    "#return the most possible letter\n",
    "guessedletter = guess_letter(allpattern, unigram_prob_list ,bigram_count,trigram_count,fourgram_count)\n",
    "print(guessedletter)"
   ]
  },
  {
   "cell_type": "code",
   "execution_count": null,
   "id": "4e315e9f",
   "metadata": {},
   "outputs": [],
   "source": []
  },
  {
   "cell_type": "code",
   "execution_count": null,
   "id": "841879ab",
   "metadata": {},
   "outputs": [],
   "source": []
  }
 ],
 "metadata": {
  "kernelspec": {
   "display_name": "Python 3 (ipykernel)",
   "language": "python",
   "name": "python3"
  },
  "language_info": {
   "codemirror_mode": {
    "name": "ipython",
    "version": 3
   },
   "file_extension": ".py",
   "mimetype": "text/x-python",
   "name": "python",
   "nbconvert_exporter": "python",
   "pygments_lexer": "ipython3",
   "version": "3.10.14"
  },
  "toc": {
   "base_numbering": 1,
   "nav_menu": {},
   "number_sections": true,
   "sideBar": true,
   "skip_h1_title": false,
   "title_cell": "Table of Contents",
   "title_sidebar": "Contents",
   "toc_cell": false,
   "toc_position": {},
   "toc_section_display": true,
   "toc_window_display": false
  }
 },
 "nbformat": 4,
 "nbformat_minor": 5
}
