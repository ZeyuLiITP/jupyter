{
 "cells": [
  {
   "cell_type": "markdown",
   "metadata": {},
   "source": [
    "# Trexquant Interview Project (The Hangman Game)\n",
    "\n",
    "* Copyright Trexquant Investment LP. All Rights Reserved. \n",
    "* Redistribution of this question without written consent from Trexquant is prohibited"
   ]
  },
  {
   "cell_type": "markdown",
   "metadata": {},
   "source": [
    "## Instruction:\n",
    "For this coding test, your mission is to write an algorithm that plays the game of Hangman through our API server. \n",
    "\n",
    "When a user plays Hangman, the server first selects a secret word at random from a list. The server then returns a row of underscores (space separated)—one for each letter in the secret word—and asks the user to guess a letter. If the user guesses a letter that is in the word, the word is redisplayed with all instances of that letter shown in the correct positions, along with any letters correctly guessed on previous turns. If the letter does not appear in the word, the user is charged with an incorrect guess. The user keeps guessing letters until either (1) the user has correctly guessed all the letters in the word\n",
    "or (2) the user has made six incorrect guesses.\n",
    "\n",
    "You are required to write a \"guess\" function that takes current word (with underscores) as input and returns a guess letter. You will use the API codes below to play 1,000 Hangman games. You have the opportunity to practice before you want to start recording your game results.\n",
    "\n",
    "Your algorithm is permitted to use a training set of approximately 250,000 dictionary words. Your algorithm will be tested on an entirely disjoint set of 250,000 dictionary words. Please note that this means the words that you will ultimately be tested on do NOT appear in the dictionary that you are given. You are not permitted to use any dictionary other than the training dictionary we provided. This requirement will be strictly enforced by code review.\n",
    "\n",
    "You are provided with a basic, working algorithm. This algorithm will match the provided masked string (e.g. a _ _ l e) to all possible words in the dictionary, tabulate the frequency of letters appearing in these possible words, and then guess the letter with the highest frequency of appearence that has not already been guessed. If there are no remaining words that match then it will default back to the character frequency distribution of the entire dictionary.\n",
    "\n",
    "This benchmark strategy is successful approximately 18% of the time. Your task is to design an algorithm that significantly outperforms this benchmark."
   ]
  },
  {
   "cell_type": "code",
   "execution_count": null,
   "metadata": {
    "ExecuteTime": {
     "end_time": "2024-04-17T13:21:05.779051Z",
     "start_time": "2024-04-17T13:21:05.695246Z"
    },
    "jupyter": {
     "outputs_hidden": true
    },
    "scrolled": true
   },
   "outputs": [],
   "source": [
    "import json\n",
    "import requests\n",
    "import random\n",
    "import string\n",
    "import secrets\n",
    "import time\n",
    "import re\n",
    "import collections\n",
    "\n",
    "from N_gram_pos_functions  import *\n",
    "\n",
    "try:\n",
    "    from urllib.parse import parse_qs, urlencode, urlparse\n",
    "except ImportError:\n",
    "    from urlparse import parse_qs, urlparse\n",
    "    from urllib import urlencode\n",
    "\n",
    "from requests.packages.urllib3.exceptions import InsecureRequestWarning\n",
    "\n",
    "requests.packages.urllib3.disable_warnings(InsecureRequestWarning)"
   ]
  },
  {
   "cell_type": "code",
   "execution_count": null,
   "metadata": {
    "ExecuteTime": {
     "end_time": "2024-04-10T13:01:22.731062Z",
     "start_time": "2024-04-10T13:01:22.336639Z"
    }
   },
   "outputs": [],
   "source": [
    "del HangmanAPI"
   ]
  },
  {
   "cell_type": "code",
   "execution_count": null,
   "metadata": {},
   "outputs": [],
   "source": []
  },
  {
   "cell_type": "code",
   "execution_count": null,
   "metadata": {
    "ExecuteTime": {
     "end_time": "2024-04-15T07:52:10.745198Z",
     "start_time": "2024-04-15T07:52:10.720402Z"
    },
    "code_folding": [
     0,
     1,
     15,
     33,
     99,
     105,
     159,
     216
    ],
    "jupyter": {
     "outputs_hidden": true
    }
   },
   "outputs": [],
   "source": [
    "class HangmanAPI(object):\n",
    "    def __init__(self, access_token=None, session=None, timeout=None):\n",
    "        self.hangman_url = self.determine_hangman_url()\n",
    "        self.access_token = access_token\n",
    "        self.session = session or requests.Session()\n",
    "        self.timeout = timeout\n",
    "        self.guessed_letters = []\n",
    "        \n",
    "        full_dictionary_location = \"words_250000_train.txt\"\n",
    "        self.full_dictionary = self.build_dictionary(full_dictionary_location)        \n",
    "        self.full_dictionary_common_letter_sorted = collections.Counter(\"\".join(self.full_dictionary)).most_common()\n",
    "        self.seccess_num = 0;\n",
    "        self.current_dictionary = []\n",
    "        \n",
    "    @staticmethod\n",
    "    def determine_hangman_url():\n",
    "        links = ['https://trexsim.com', 'https://sg.trexsim.com']\n",
    "\n",
    "        data = {link: 0 for link in links}\n",
    "\n",
    "        for link in links:\n",
    "\n",
    "            requests.get(link)\n",
    "\n",
    "            for i in range(10):\n",
    "                s = time.time()\n",
    "                requests.get(link)\n",
    "                data[link] = time.time() - s\n",
    "\n",
    "        link = sorted(data.items(), key=lambda x: x[1])[0][0]\n",
    "        link += '/trexsim/hangman'\n",
    "        return link\n",
    "\n",
    "    def guess(self, word): # word input example: \"_ p p _ e \"\n",
    "        ###############################################\n",
    "        # Replace with your own \"guess\" function here #\n",
    "        ###############################################\n",
    "\n",
    "        # clean the word so that we strip away the space characters\n",
    "        # replace \"_\" with \".\" as \".\" indicates any character in regular expressions\n",
    "        clean_word = word[::2].replace(\"_\",\".\")\n",
    "        \n",
    "        # find length of passed word\n",
    "        len_word = len(clean_word)\n",
    "        \n",
    "        # grab current dictionary of possible words from self object, initialize new possible words dictionary to empty\n",
    "        current_dictionary = self.current_dictionary\n",
    "        new_dictionary = []\n",
    "        \n",
    "        # iterate through all of the words in the old plausible dictionary\n",
    "        for dict_word in current_dictionary:\n",
    "            # continue if the word is not of the appropriate length\n",
    "            if len(dict_word) != len_word:\n",
    "                continue\n",
    "                \n",
    "            # if dictionary word is a possible match then add it to the current dictionary\n",
    "            if re.match(clean_word,dict_word):\n",
    "                new_dictionary.append(dict_word)\n",
    "        \n",
    "        if new_dictionary == []:\n",
    "            for dict_word in self.full_dictionary:\n",
    "                if re.match('.*'+clean_word+'.*',dict_word):\n",
    "                    new_dictionary.append(dict_word)\n",
    "            \n",
    "        \n",
    "        \n",
    "        # overwrite old possible words dictionary with updated version\n",
    "        self.current_dictionary = new_dictionary\n",
    "        \n",
    "        \n",
    "        # count occurrence of all characters in possible word matches\n",
    "        full_dict_string = \"\".join(new_dictionary)\n",
    "        \n",
    "        c = collections.Counter(full_dict_string)\n",
    "        sorted_letter_count = c.most_common()                   \n",
    "        \n",
    "        guess_letter = '!'\n",
    "        \n",
    "        # return most frequently occurring letter in all possible words that hasn't been guessed yet\n",
    "        for letter,instance_count in sorted_letter_count:\n",
    "            if letter not in self.guessed_letters:\n",
    "                guess_letter = letter\n",
    "                break\n",
    "            \n",
    "        # if no word matches in training dictionary, default back to ordering of full dictionary\n",
    "        if guess_letter == '!':\n",
    "            \n",
    "            sorted_letter_count = self.full_dictionary_common_letter_sorted\n",
    "            for letter,instance_count in sorted_letter_count:\n",
    "                if letter not in self.guessed_letters:\n",
    "                    guess_letter = letter\n",
    "                    break            \n",
    "        \n",
    "        return guess_letter\n",
    "\n",
    "    ##########################################################\n",
    "    # You'll likely not need to modify any of the code below #\n",
    "    ##########################################################\n",
    "    \n",
    "    def build_dictionary(self, dictionary_file_location):\n",
    "        text_file = open(dictionary_file_location,\"r\")\n",
    "        full_dictionary = text_file.read().splitlines()\n",
    "        text_file.close()\n",
    "        return full_dictionary\n",
    "                \n",
    "    def start_game(self, practice=True, verbose=True):\n",
    "        # reset guessed letters to empty set and current plausible dictionary to the full dictionary\n",
    "        self.guessed_letters = []\n",
    "        self.current_dictionary = self.full_dictionary\n",
    "                         \n",
    "        response = self.request(\"/new_game\", {\"practice\":practice})\n",
    "        if response.get('status')==\"approved\":\n",
    "            game_id = response.get('game_id')\n",
    "            word = response.get('word')\n",
    "            tries_remains = response.get('tries_remains')\n",
    "            if verbose:\n",
    "                print(\"Successfully start a new game! Game ID: {0}. # of tries remaining: {1}. Word: {2}.\".format(game_id, tries_remains, word))\n",
    "            while tries_remains>0:\n",
    "                # get guessed letter from user code\n",
    "                guess_letter = self.guess(word)\n",
    "                    \n",
    "                # append guessed letter to guessed letters field in hangman object\n",
    "                self.guessed_letters.append(guess_letter)\n",
    "                if verbose:\n",
    "                    print(\"Guessing letter: {0}\".format(guess_letter))\n",
    "                    \n",
    "                try:    \n",
    "                    res = self.request(\"/guess_letter\", {\"request\":\"guess_letter\", \"game_id\":game_id, \"letter\":guess_letter})\n",
    "                except HangmanAPIError:\n",
    "                    print('HangmanAPIError exception caught on request.')\n",
    "                    continue\n",
    "                except Exception as e:\n",
    "                    print('Other exception caught on request.')\n",
    "                    raise e\n",
    "               \n",
    "                if verbose:\n",
    "                    print(\"Sever response: {0}\".format(res))\n",
    "                status = res.get('status')\n",
    "                tries_remains = res.get('tries_remains')\n",
    "                if status==\"success\":\n",
    "                    if verbose:\n",
    "                        print(\"Successfully finished game: {0}\".format(game_id))\n",
    "                    self.seccess_num = 1\n",
    "                    return True\n",
    "                elif status==\"failed\":\n",
    "                    reason = res.get('reason', '# of tries exceeded!')\n",
    "                    if verbose:\n",
    "                        print(\"Failed game: {0}. Because of: {1}\".format(game_id, reason))\n",
    "                    return False\n",
    "                elif status==\"ongoing\":\n",
    "                    word = res.get('word')\n",
    "        else:\n",
    "            if verbose:\n",
    "                print(\"Failed to start a new game\")\n",
    "        return status==\"success\"\n",
    "        \n",
    "    def my_status(self):\n",
    "        return self.request(\"/my_status\", {})\n",
    "    \n",
    "    def request(\n",
    "            self, path, args=None, post_args=None, method=None):\n",
    "        if args is None:\n",
    "            args = dict()\n",
    "        if post_args is not None:\n",
    "            method = \"POST\"\n",
    "\n",
    "        # Add `access_token` to post_args or args if it has not already been\n",
    "        # included.\n",
    "        if self.access_token:\n",
    "            # If post_args exists, we assume that args either does not exists\n",
    "            # or it does not need `access_token`.\n",
    "            if post_args and \"access_token\" not in post_args:\n",
    "                post_args[\"access_token\"] = self.access_token\n",
    "            elif \"access_token\" not in args:\n",
    "                args[\"access_token\"] = self.access_token\n",
    "\n",
    "        time.sleep(0.2)\n",
    "\n",
    "        num_retry, time_sleep = 50, 2\n",
    "        for it in range(num_retry):\n",
    "            try:\n",
    "                response = self.session.request(\n",
    "                    method or \"GET\",\n",
    "                    self.hangman_url + path,\n",
    "                    timeout=self.timeout,\n",
    "                    params=args,\n",
    "                    data=post_args,\n",
    "                    verify=False\n",
    "                )\n",
    "                break\n",
    "            except requests.HTTPError as e:\n",
    "                response = json.loads(e.read())\n",
    "                raise HangmanAPIError(response)\n",
    "            except requests.exceptions.SSLError as e:\n",
    "                if it + 1 == num_retry:\n",
    "                    raise\n",
    "                time.sleep(time_sleep)\n",
    "\n",
    "        headers = response.headers\n",
    "        if 'json' in headers['content-type']:\n",
    "            result = response.json()\n",
    "        elif \"access_token\" in parse_qs(response.text):\n",
    "            query_str = parse_qs(response.text)\n",
    "            if \"access_token\" in query_str:\n",
    "                result = {\"access_token\": query_str[\"access_token\"][0]}\n",
    "                if \"expires\" in query_str:\n",
    "                    result[\"expires\"] = query_str[\"expires\"][0]\n",
    "            else:\n",
    "                raise HangmanAPIError(response.json())\n",
    "        else:\n",
    "            raise HangmanAPIError('Maintype was not text, or querystring')\n",
    "\n",
    "        if result and isinstance(result, dict) and result.get(\"error\"):\n",
    "            raise HangmanAPIError(result)\n",
    "        return result\n",
    "    \n",
    "class HangmanAPIError(Exception):\n",
    "    def __init__(self, result):\n",
    "        self.result = result\n",
    "        self.code = None\n",
    "        try:\n",
    "            self.type = result[\"error_code\"]\n",
    "        except (KeyError, TypeError):\n",
    "            self.type = \"\"\n",
    "\n",
    "        try:\n",
    "            self.message = result[\"error_description\"]\n",
    "        except (KeyError, TypeError):\n",
    "            try:\n",
    "                self.message = result[\"error\"][\"message\"]\n",
    "                self.code = result[\"error\"].get(\"code\")\n",
    "                if not self.type:\n",
    "                    self.type = result[\"error\"].get(\"type\", \"\")\n",
    "            except (KeyError, TypeError):\n",
    "                try:\n",
    "                    self.message = result[\"error_msg\"]\n",
    "                except (KeyError, TypeError):\n",
    "                    self.message = result\n",
    "\n",
    "        Exception.__init__(self, self.message)"
   ]
  },
  {
   "cell_type": "code",
   "execution_count": null,
   "metadata": {},
   "outputs": [],
   "source": []
  },
  {
   "cell_type": "code",
   "execution_count": null,
   "metadata": {
    "ExecuteTime": {
     "end_time": "2024-04-17T13:21:10.045898Z",
     "start_time": "2024-04-17T13:21:09.992422Z"
    }
   },
   "outputs": [],
   "source": [
    "# The train set\n",
    "text_file_out = open(\"words_250000_train.txt\",\"r\")\n",
    "full_dictionary_out = text_file_out.read().splitlines()\n",
    "for i in range(len(full_dictionary_out)):\n",
    "    full_dictionary_out[i] = '@' + full_dictionary_out[i] + '#'\n",
    "\n"
   ]
  },
  {
   "cell_type": "code",
   "execution_count": 2,
   "metadata": {
    "ExecuteTime": {
     "end_time": "2024-04-18T06:15:44.290772Z",
     "start_time": "2024-04-18T06:15:44.281133Z"
    }
   },
   "outputs": [
    {
     "data": {
      "text/plain": [
       "'aa'"
      ]
     },
     "execution_count": 2,
     "metadata": {},
     "output_type": "execute_result"
    }
   ],
   "source": [
    "'a'+'a'"
   ]
  },
  {
   "cell_type": "code",
   "execution_count": null,
   "metadata": {
    "ExecuteTime": {
     "end_time": "2024-04-16T06:03:21.558875Z",
     "start_time": "2024-04-16T06:03:21.533158Z"
    }
   },
   "outputs": [],
   "source": [
    "full_dictionary_out"
   ]
  },
  {
   "cell_type": "code",
   "execution_count": null,
   "metadata": {
    "ExecuteTime": {
     "end_time": "2024-04-17T13:21:13.696417Z",
     "start_time": "2024-04-17T13:21:11.583206Z"
    }
   },
   "outputs": [],
   "source": [
    "full_dictionary_bigram_out=[]\n",
    "\n",
    "for words in full_dictionary_out:\n",
    "    full_dictionary_bigram_out.append(slide_word_with_pos(words,2))\n",
    "    \n",
    "full_dictionary_bigram_out = [item for sublist in full_dictionary_bigram_out for item in sublist]\n",
    "\n",
    "bigram_count_out = Counter(full_dictionary_bigram_out).most_common()"
   ]
  },
  {
   "cell_type": "code",
   "execution_count": null,
   "metadata": {
    "ExecuteTime": {
     "end_time": "2024-04-17T13:21:18.113095Z",
     "start_time": "2024-04-17T13:21:15.592114Z"
    }
   },
   "outputs": [],
   "source": [
    "#calculate the bigram_dictionary once for all\n",
    "full_dictionary_trigram_out=[]\n",
    "\n",
    "for words in full_dictionary_out:\n",
    "    full_dictionary_trigram_out.append(slide_word_with_pos(words,3))\n",
    "    \n",
    "full_dictionary_trigram_out = [item for sublist in full_dictionary_trigram_out for item in sublist]\n",
    "\n",
    "trigram_count_out = Counter(full_dictionary_trigram_out).most_common()"
   ]
  },
  {
   "cell_type": "code",
   "execution_count": null,
   "metadata": {
    "ExecuteTime": {
     "end_time": "2024-04-17T13:21:22.065758Z",
     "start_time": "2024-04-17T13:21:19.616251Z"
    }
   },
   "outputs": [],
   "source": [
    "#calculate the bigram_dictionary once for all\n",
    "full_dictionary_fourgram_out=[]\n",
    "\n",
    "for words in full_dictionary_out:\n",
    "    full_dictionary_fourgram_out.append(slide_word_with_pos(words,4))\n",
    "    \n",
    "full_dictionary_fourgram_out = [item for sublist in full_dictionary_fourgram_out for item in sublist]\n",
    "\n",
    "fourgram_count_out = Counter(full_dictionary_fourgram_out).most_common()"
   ]
  },
  {
   "cell_type": "code",
   "execution_count": null,
   "metadata": {
    "ExecuteTime": {
     "end_time": "2024-04-17T13:19:53.377886Z",
     "start_time": "2024-04-17T13:19:53.307445Z"
    }
   },
   "outputs": [],
   "source": [
    "fourgram_count_out"
   ]
  },
  {
   "cell_type": "code",
   "execution_count": null,
   "metadata": {
    "ExecuteTime": {
     "end_time": "2024-04-17T12:21:03.495720Z",
     "start_time": "2024-04-17T12:21:03.417395Z"
    }
   },
   "outputs": [],
   "source": [
    "trigram_count_out"
   ]
  },
  {
   "cell_type": "code",
   "execution_count": 7,
   "metadata": {
    "ExecuteTime": {
     "end_time": "2024-04-18T06:23:15.150860Z",
     "start_time": "2024-04-18T06:23:15.137286Z"
    }
   },
   "outputs": [
    {
     "data": {
      "text/plain": [
       "2"
      ]
     },
     "execution_count": 7,
     "metadata": {},
     "output_type": "execute_result"
    }
   ],
   "source": [
    "'abdsfabfe'.count('ab')"
   ]
  },
  {
   "cell_type": "code",
   "execution_count": null,
   "metadata": {
    "ExecuteTime": {
     "end_time": "2024-04-17T13:21:25.094978Z",
     "start_time": "2024-04-17T13:21:25.056550Z"
    },
    "code_folding": [
     27,
     108,
     114,
     168,
     212,
     216,
     225
    ]
   },
   "outputs": [],
   "source": [
    "class my_HangmanAPI(object):\n",
    "    def __init__(self, access_token=None, session=None, timeout=None, bigram_count=None,\n",
    "                 trigram_count = None,fourgram_count = None):\n",
    "        self.hangman_url = self.determine_hangman_url()\n",
    "        self.access_token = access_token\n",
    "        self.session = session or requests.Session()\n",
    "        self.timeout = timeout\n",
    "        self.guessed_letters = []\n",
    "        full_dictionary_location = \"words_250000_train.txt\"\n",
    "        self.full_dictionary = self.build_dictionary(full_dictionary_location)\n",
    "        \n",
    "        self.full_dictionary_copy = []\n",
    "        for i in range(len(self.full_dictionary)):\n",
    "            self.full_dictionary_copy.append( '@' + self.full_dictionary[i] + '#')\n",
    "        \n",
    "        \n",
    "        self.full_dictionary_common_letter_sorted = collections.Counter(\"\".join(self.full_dictionary)).most_common()\n",
    "        self.seccess_num = 0;\n",
    "        self.current_dictionary = []\n",
    "        \n",
    "        self.dictionary_len =None;\n",
    "        self.dictionary_len_string = None;\n",
    "        \n",
    "        self.bigram_count = None;\n",
    "        self.trigram_count = trigram_count;\n",
    "        self.fourgram_count = fourgram_count;\n",
    "        \n",
    "        \n",
    "        \n",
    "    @staticmethod\n",
    "    def determine_hangman_url():\n",
    "        links = ['https://trexsim.com', 'https://sg.trexsim.com']\n",
    "\n",
    "        data = {link: 0 for link in links}\n",
    "\n",
    "        for link in links:\n",
    "\n",
    "            requests.get(link)\n",
    "\n",
    "            for i in range(10):\n",
    "                s = time.time()\n",
    "                requests.get(link)\n",
    "                data[link] = time.time() - s\n",
    "\n",
    "        link = sorted(data.items(), key=lambda x: x[1])[0][0]\n",
    "        link += '/trexsim/hangman'\n",
    "        return link\n",
    "\n",
    "    def handle_dic(self, len_word):\n",
    "        \n",
    "        self.dictionary_len = [ii for ii in self.full_dictionary_copy if len(ii) == (len_word)]\n",
    "        self.dictionary_len_string = \"\".join(self.dictionary_len)\n",
    "        \n",
    "    def generate_bigram_count(self):\n",
    "        full_dictionary_bigram=[]\n",
    "        \n",
    "        for words in self.dictionary_len:\n",
    "            full_dictionary_bigram.append(slide_word_with_pos(words,2))\n",
    "            \n",
    "        full_dictionary_bigram = [item for sublist in full_dictionary_bigram for item in sublist]\n",
    "        self.bigram_count = Counter(full_dictionary_bigram).most_common()\n",
    "        \n",
    "    def generate_trigram_count(self):\n",
    "        full_dictionary_trigram=[]\n",
    "        for words in self.dictionary_len:\n",
    "            full_dictionary_trigram.append(slide_word_with_pos(words,3))\n",
    "\n",
    "        full_dictionary_trigram = [item for sublist in full_dictionary_trigram for item in sublist]\n",
    "        self.trigram_count = Counter(full_dictionary_trigram).most_common()\n",
    "    \n",
    "    def guess(self, word): # word input example: \"_ p p _ e \"\n",
    "        ###############################################\n",
    "        # Replace with your own \"guess\" function here #\n",
    "        ###############################################\n",
    "\n",
    "        # clean the word so that we strip away the space characters\n",
    "        # replace \"_\" with \".\" as \".\" indicates any character in regular expressions\n",
    "        clean_word = '@' + word[::2].replace(\"_\",\".\") + '#'\n",
    "        \n",
    "        # find length of passed word\n",
    "        len_word = len(clean_word)\n",
    "        \n",
    "        \n",
    "        \n",
    "        \n",
    "        self.handle_dic(len_word)\n",
    "        \n",
    "        self.generate_bigram_count()\n",
    "            \n",
    "        #self.generate_trigram_count()\n",
    "\n",
    "        \n",
    "        guessletter = '!'\n",
    "        \n",
    "        if clean_word.count('.') == (len_word-2):\n",
    "            #this case only unigram\n",
    "            unigram_prob_list = unigram_prob(self.dictionary_len_string,self.guessed_letters)\n",
    "            guessletter = list(unigram_prob_list.keys())[0]\n",
    "            return guessletter\n",
    "        \n",
    "        else:\n",
    "            unigram_prob_list = unigram_prob(self.dictionary_len_string,self.guessed_letters)\n",
    "            allpattern = possible_pattern(clean_word)\n",
    "            guessletter = guess_letter(allpattern, unigram_prob_list,self.bigram_count,\n",
    "                                       self.trigram_count, self.fourgram_count)\n",
    "        \n",
    "        return guessletter\n",
    "\n",
    "    ##########################################################\n",
    "    # You'll likely not need to modify any of the code below #\n",
    "    ##########################################################\n",
    "    \n",
    "    def build_dictionary(self, dictionary_file_location):\n",
    "        text_file = open(dictionary_file_location,\"r\")\n",
    "        full_dictionary = text_file.read().splitlines()\n",
    "        text_file.close()\n",
    "        return full_dictionary\n",
    "                \n",
    "    def start_game(self, practice=True, verbose=True):\n",
    "        # reset guessed letters to empty set and current plausible dictionary to the full dictionary\n",
    "        self.guessed_letters = []\n",
    "        self.current_dictionary = self.full_dictionary\n",
    "                         \n",
    "        response = self.request(\"/new_game\", {\"practice\":practice})\n",
    "        if response.get('status')==\"approved\":\n",
    "            game_id = response.get('game_id')\n",
    "            word = response.get('word')\n",
    "            tries_remains = response.get('tries_remains')\n",
    "            if verbose:\n",
    "                print(\"Successfully start a new game! Game ID: {0}. # of tries remaining: {1}. Word: {2}.\".format(game_id, tries_remains, word))\n",
    "            while tries_remains>0:\n",
    "                # get guessed letter from user code\n",
    "                guess_letter = self.guess(word)\n",
    "                    \n",
    "                # append guessed letter to guessed letters field in hangman object\n",
    "                self.guessed_letters.append(guess_letter)\n",
    "                if verbose:\n",
    "                    print(\"Guessing letter: {0}\".format(guess_letter))\n",
    "                    \n",
    "                try:    \n",
    "                    res = self.request(\"/guess_letter\", {\"request\":\"guess_letter\", \"game_id\":game_id, \"letter\":guess_letter})\n",
    "                except HangmanAPIError:\n",
    "                    print('HangmanAPIError exception caught on request.')\n",
    "                    continue\n",
    "                except Exception as e:\n",
    "                    print('Other exception caught on request.')\n",
    "                    raise e\n",
    "               \n",
    "                if verbose:\n",
    "                    print(\"Sever response: {0}\".format(res))\n",
    "                status = res.get('status')\n",
    "                tries_remains = res.get('tries_remains')\n",
    "                if status==\"success\":\n",
    "                    if verbose:\n",
    "                        print(\"Successfully finished game: {0}\".format(game_id))\n",
    "                    self.seccess_num = 1\n",
    "                    return True\n",
    "                elif status==\"failed\":\n",
    "                    reason = res.get('reason', '# of tries exceeded!')\n",
    "                    if verbose:\n",
    "                        print(\"Failed game: {0}. Because of: {1}\".format(game_id, reason))\n",
    "                    return False\n",
    "                elif status==\"ongoing\":\n",
    "                    word = res.get('word')\n",
    "        else:\n",
    "            if verbose:\n",
    "                print(\"Failed to start a new game\")\n",
    "        return status==\"success\"\n",
    "        \n",
    "    def my_status(self):\n",
    "        return self.request(\"/my_status\", {})\n",
    "    \n",
    "    def request(\n",
    "            self, path, args=None, post_args=None, method=None):\n",
    "        if args is None:\n",
    "            args = dict()\n",
    "        if post_args is not None:\n",
    "            method = \"POST\"\n",
    "\n",
    "        # Add `access_token` to post_args or args if it has not already been\n",
    "        # included.\n",
    "        if self.access_token:\n",
    "            # If post_args exists, we assume that args either does not exists\n",
    "            # or it does not need `access_token`.\n",
    "            if post_args and \"access_token\" not in post_args:\n",
    "                post_args[\"access_token\"] = self.access_token\n",
    "            elif \"access_token\" not in args:\n",
    "                args[\"access_token\"] = self.access_token\n",
    "\n",
    "        time.sleep(0.2)\n",
    "\n",
    "        num_retry, time_sleep = 50, 2\n",
    "        for it in range(num_retry):\n",
    "            try:\n",
    "                response = self.session.request(\n",
    "                    method or \"GET\",\n",
    "                    self.hangman_url + path,\n",
    "                    timeout=self.timeout,\n",
    "                    params=args,\n",
    "                    data=post_args,\n",
    "                    verify=False\n",
    "                )\n",
    "                break\n",
    "            except requests.HTTPError as e:\n",
    "                response = json.loads(e.read())\n",
    "                raise HangmanAPIError(response)\n",
    "            except requests.exceptions.SSLError as e:\n",
    "                if it + 1 == num_retry:\n",
    "                    raise\n",
    "                time.sleep(time_sleep)\n",
    "\n",
    "        headers = response.headers\n",
    "        if 'json' in headers['content-type']:\n",
    "            result = response.json()\n",
    "        elif \"access_token\" in parse_qs(response.text):\n",
    "            query_str = parse_qs(response.text)\n",
    "            if \"access_token\" in query_str:\n",
    "                result = {\"access_token\": query_str[\"access_token\"][0]}\n",
    "                if \"expires\" in query_str:\n",
    "                    result[\"expires\"] = query_str[\"expires\"][0]\n",
    "            else:\n",
    "                raise HangmanAPIError(response.json())\n",
    "        else:\n",
    "            raise HangmanAPIError('Maintype was not text, or querystring')\n",
    "\n",
    "        if result and isinstance(result, dict) and result.get(\"error\"):\n",
    "            raise HangmanAPIError(result)\n",
    "        return result\n",
    "    \n",
    "class HangmanAPIError(Exception):\n",
    "    def __init__(self, result):\n",
    "        self.result = result\n",
    "        self.code = None\n",
    "        try:\n",
    "            self.type = result[\"error_code\"]\n",
    "        except (KeyError, TypeError):\n",
    "            self.type = \"\"\n",
    "\n",
    "        try:\n",
    "            self.message = result[\"error_description\"]\n",
    "        except (KeyError, TypeError):\n",
    "            try:\n",
    "                self.message = result[\"error\"][\"message\"]\n",
    "                self.code = result[\"error\"].get(\"code\")\n",
    "                if not self.type:\n",
    "                    self.type = result[\"error\"].get(\"type\", \"\")\n",
    "            except (KeyError, TypeError):\n",
    "                try:\n",
    "                    self.message = result[\"error_msg\"]\n",
    "                except (KeyError, TypeError):\n",
    "                    self.message = result\n",
    "\n",
    "        Exception.__init__(self, self.message)"
   ]
  },
  {
   "cell_type": "markdown",
   "metadata": {},
   "source": [
    "# API Usage Examples"
   ]
  },
  {
   "cell_type": "markdown",
   "metadata": {},
   "source": [
    "## To start a new game:\n",
    "1. Make sure you have implemented your own \"guess\" method.\n",
    "2. Use the access_token that we sent you to create your HangmanAPI object. \n",
    "3. Start a game by calling \"start_game\" method.\n",
    "4. If you wish to test your function without being recorded, set \"practice\" parameter to 1.\n",
    "5. Note: You have a rate limit of 20 new games per minute. DO NOT start more than 20 new games within one minute."
   ]
  },
  {
   "cell_type": "code",
   "execution_count": null,
   "metadata": {
    "ExecuteTime": {
     "end_time": "2024-04-15T07:52:44.111567Z",
     "start_time": "2024-04-15T07:52:15.191716Z"
    },
    "jupyter": {
     "outputs_hidden": true
    }
   },
   "outputs": [],
   "source": [
    "api = HangmanAPI(access_token=\"1f983bc861e566a4faf05de1c2cbf0\", timeout=2000)\n"
   ]
  },
  {
   "cell_type": "code",
   "execution_count": null,
   "metadata": {
    "ExecuteTime": {
     "end_time": "2024-04-17T13:22:06.473297Z",
     "start_time": "2024-04-17T13:21:37.784865Z"
    }
   },
   "outputs": [],
   "source": [
    "my_api = my_HangmanAPI(access_token=\"1f983bc861e566a4faf05de1c2cbf0\",timeout=2000,\n",
    "                      trigram_count=trigram_count_out ,fourgram_count=fourgram_count_out)"
   ]
  },
  {
   "cell_type": "code",
   "execution_count": null,
   "metadata": {},
   "outputs": [],
   "source": []
  },
  {
   "cell_type": "code",
   "execution_count": null,
   "metadata": {},
   "outputs": [],
   "source": []
  },
  {
   "cell_type": "code",
   "execution_count": null,
   "metadata": {
    "ExecuteTime": {
     "end_time": "2024-04-17T13:22:24.562950Z",
     "start_time": "2024-04-17T13:22:10.649955Z"
    }
   },
   "outputs": [],
   "source": [
    "my_api.start_game(practice=1,verbose=True)\n",
    "[total_practice_runs,total_recorded_runs,total_recorded_successes,total_practice_successes] = my_api.my_status() # Get my game stats: (# of tries, # of wins)\n",
    "practice_success_rate = total_practice_successes / total_practice_runs\n",
    "print('run %d practice games out of an allotted 100,000. practice success rate so far = %.3f' % (total_practice_runs, practice_success_rate))"
   ]
  },
  {
   "cell_type": "code",
   "execution_count": null,
   "metadata": {
    "ExecuteTime": {
     "end_time": "2024-04-17T12:26:53.050999Z",
     "start_time": "2024-04-17T12:26:53.017501Z"
    }
   },
   "outputs": [],
   "source": [
    "len(list(filter(lambda x: len(x) == 15,full_dictionary_out)))"
   ]
  },
  {
   "cell_type": "code",
   "execution_count": null,
   "metadata": {
    "ExecuteTime": {
     "end_time": "2024-04-16T06:27:08.016011Z",
     "start_time": "2024-04-16T06:27:08.006803Z"
    }
   },
   "outputs": [],
   "source": [
    "len(my_api.dictionary_len_string)"
   ]
  },
  {
   "cell_type": "code",
   "execution_count": null,
   "metadata": {
    "ExecuteTime": {
     "end_time": "2024-04-17T13:17:56.439244Z",
     "start_time": "2024-04-17T13:17:56.320433Z"
    }
   },
   "outputs": [],
   "source": [
    "my_api = my_HangmanAPI( timeout=2000 ,trigram_count=trigram_count_out,fourgram_count=fourgram_count_out)"
   ]
  },
  {
   "cell_type": "code",
   "execution_count": null,
   "metadata": {
    "ExecuteTime": {
     "end_time": "2024-04-16T06:02:13.271550Z",
     "start_time": "2024-04-16T06:02:13.174427Z"
    }
   },
   "outputs": [],
   "source": [
    "bigram_count_out"
   ]
  },
  {
   "cell_type": "code",
   "execution_count": null,
   "metadata": {
    "ExecuteTime": {
     "end_time": "2024-04-17T13:19:13.238590Z",
     "start_time": "2024-04-17T13:19:12.978459Z"
    }
   },
   "outputs": [],
   "source": [
    "my_api.guess('a _ _ l e')"
   ]
  },
  {
   "cell_type": "code",
   "execution_count": null,
   "metadata": {
    "ExecuteTime": {
     "end_time": "2024-04-17T01:39:51.815013Z",
     "start_time": "2024-04-17T01:39:51.795868Z"
    }
   },
   "outputs": [],
   "source": [
    "my_api.dictionary_len_string"
   ]
  },
  {
   "cell_type": "code",
   "execution_count": null,
   "metadata": {
    "ExecuteTime": {
     "end_time": "2024-04-17T13:19:09.130995Z",
     "start_time": "2024-04-17T13:19:09.117991Z"
    }
   },
   "outputs": [],
   "source": [
    "my_api.guessed_letters = ['a','e','r','l' ,'i' ,'o' ,'s','u']"
   ]
  },
  {
   "cell_type": "code",
   "execution_count": null,
   "metadata": {
    "ExecuteTime": {
     "end_time": "2024-04-15T07:41:54.974956Z",
     "start_time": "2024-04-15T07:41:54.970302Z"
    }
   },
   "outputs": [],
   "source": [
    "my_api.guessed_letters = ['a','e','r','l','n','t','i','o','s']"
   ]
  },
  {
   "cell_type": "code",
   "execution_count": null,
   "metadata": {
    "ExecuteTime": {
     "end_time": "2024-04-16T06:09:33.319939Z",
     "start_time": "2024-04-16T06:09:33.300445Z"
    }
   },
   "outputs": [],
   "source": [
    "possible_pattern('@...#')"
   ]
  },
  {
   "cell_type": "markdown",
   "metadata": {},
   "source": [
    "## Playing practice games:\n",
    "You can use the command below to play up to 100,000 practice games."
   ]
  },
  {
   "cell_type": "code",
   "execution_count": null,
   "metadata": {
    "ExecuteTime": {
     "end_time": "2024-04-11T13:58:04.206635Z",
     "start_time": "2024-04-11T13:57:54.343027Z"
    },
    "jupyter": {
     "outputs_hidden": true
    }
   },
   "outputs": [],
   "source": [
    "api.start_game(practice=1,verbose=True)\n",
    "[total_practice_runs,total_recorded_runs,total_recorded_successes,total_practice_successes] = api.my_status() # Get my game stats: (# of tries, # of wins)\n",
    "practice_success_rate = total_practice_successes / total_practice_runs\n",
    "print('run %d practice games out of an allotted 100,000. practice success rate so far = %.3f' % (total_practice_runs, practice_success_rate))\n"
   ]
  },
  {
   "cell_type": "code",
   "execution_count": null,
   "metadata": {
    "ExecuteTime": {
     "end_time": "2024-04-10T08:05:21.044393Z",
     "start_time": "2024-04-10T08:02:41.464476Z"
    }
   },
   "outputs": [],
   "source": [
    "for i in range(10):\n",
    "    api.start_game(practice=1,verbose=True)\n",
    "    [total_practice_runs,total_recorded_runs,total_recorded_successes,total_practice_successes] = api.my_status() # Get my game stats: (# of tries, # of wins)\n",
    "    practice_success_rate = total_practice_successes / total_practice_runs\n",
    "    print('run %d practice games out of an allotted 100,000. practice success rate so far = %.3f' % (total_practice_runs, practice_success_rate))"
   ]
  },
  {
   "cell_type": "code",
   "execution_count": null,
   "metadata": {
    "ExecuteTime": {
     "end_time": "2024-04-15T08:16:35.927176Z",
     "start_time": "2024-04-15T07:53:35.575814Z"
    }
   },
   "outputs": [],
   "source": [
    "succ_num = 0\n",
    "\n",
    "for i in range(200):\n",
    "    api.start_game(practice=1,verbose=False)\n",
    "    [total_practice_runs,total_recorded_runs,total_recorded_successes,total_practice_successes] = api.my_status() # Get my game stats: (# of tries, # of wins)\n",
    "    print(api.seccess_num)\n",
    "    succ_num += api.seccess_num\n",
    "    api.seccess_num = 0;\n",
    "    print(str(in) + ' / ' + str(succ_num))"
   ]
  },
  {
   "cell_type": "code",
   "execution_count": null,
   "metadata": {
    "ExecuteTime": {
     "end_time": "2024-04-15T08:17:00.412909Z",
     "start_time": "2024-04-15T08:17:00.400289Z"
    }
   },
   "outputs": [],
   "source": [
    "41/200"
   ]
  },
  {
   "cell_type": "code",
   "execution_count": null,
   "metadata": {
    "ExecuteTime": {
     "end_time": "2024-04-15T08:56:02.350473Z",
     "start_time": "2024-04-15T08:29:53.267225Z"
    }
   },
   "outputs": [],
   "source": [
    "succ_num = 0\n",
    "\n",
    "for i in range(200):\n",
    "    my_api.start_game(practice=1,verbose=False)\n",
    "    [total_practice_runs,total_recorded_runs,total_recorded_successes,total_practice_successes] = my_api.my_status() # Get my game stats: (# of tries, # of wins)\n",
    "    succ_num += my_api.seccess_num\n",
    "    my_api.seccess_num = 0;\n",
    "    print(str(i) + ' / ' + str(succ_num))"
   ]
  },
  {
   "cell_type": "code",
   "execution_count": null,
   "metadata": {
    "ExecuteTime": {
     "end_time": "2024-04-15T08:56:22.534627Z",
     "start_time": "2024-04-15T08:56:22.525421Z"
    }
   },
   "outputs": [],
   "source": [
    "47/200"
   ]
  },
  {
   "cell_type": "code",
   "execution_count": null,
   "metadata": {
    "ExecuteTime": {
     "end_time": "2024-04-17T13:45:03.951795Z",
     "start_time": "2024-04-17T13:23:57.966216Z"
    }
   },
   "outputs": [],
   "source": [
    "succ_num = 0\n",
    "\n",
    "for i in range(1,201):\n",
    "    my_api.start_game(practice=1,verbose=False)\n",
    "    [total_practice_runs,total_recorded_runs,total_recorded_successes,total_practice_successes] = my_api.my_status() # Get my game stats: (# of tries, # of wins)\n",
    "    succ_num += my_api.seccess_num\n",
    "    my_api.seccess_num = 0;\n",
    "    print(str(i) + ' / ' + str(succ_num) + ' / ' + str(succ_num/i))"
   ]
  },
  {
   "cell_type": "code",
   "execution_count": null,
   "metadata": {},
   "outputs": [],
   "source": [
    "0.285"
   ]
  },
  {
   "cell_type": "code",
   "execution_count": null,
   "metadata": {},
   "outputs": [],
   "source": [
    "0.247"
   ]
  },
  {
   "cell_type": "markdown",
   "metadata": {},
   "source": [
    "# Test "
   ]
  },
  {
   "cell_type": "code",
   "execution_count": null,
   "metadata": {
    "ExecuteTime": {
     "end_time": "2024-04-15T07:05:37.201021Z",
     "start_time": "2024-04-15T07:05:37.153406Z"
    }
   },
   "outputs": [],
   "source": [
    "# The train set\n",
    "text_file = open(\"words_250000_train.txt\",\"r\")\n",
    "full_dictionary = text_file.read().splitlines()\n",
    "\n",
    "#select out the words in train set that has the same length with masked word.(take len = 5 as example)\n",
    "dictionary_len5 = [ii for ii in full_dictionary if len(ii)==5]\n",
    "dictionary_len5_string = \"\".join(dictionary_len5)"
   ]
  },
  {
   "cell_type": "code",
   "execution_count": null,
   "metadata": {
    "ExecuteTime": {
     "end_time": "2024-04-15T07:05:39.030335Z",
     "start_time": "2024-04-15T07:05:39.019699Z"
    }
   },
   "outputs": [],
   "source": [
    "#given a masked word\n",
    "word = '.....';\n",
    "used_letter_list = [];\n",
    "all_letter_list ='a b c d e f g h i j k l m n o p q r s t u v w x y z'.split(' ')"
   ]
  },
  {
   "cell_type": "code",
   "execution_count": null,
   "metadata": {
    "ExecuteTime": {
     "end_time": "2024-04-15T07:05:40.029326Z",
     "start_time": "2024-04-15T07:05:40.016058Z"
    }
   },
   "outputs": [],
   "source": [
    "unigram_prob_list = unigram_prob(dictionary_len5_string,used_letter_list)\n",
    "print(unigram_prob_list)"
   ]
  },
  {
   "cell_type": "code",
   "execution_count": null,
   "metadata": {
    "ExecuteTime": {
     "end_time": "2024-04-15T07:08:23.795404Z",
     "start_time": "2024-04-15T07:08:23.786446Z"
    }
   },
   "outputs": [],
   "source": []
  },
  {
   "cell_type": "code",
   "execution_count": null,
   "metadata": {
    "ExecuteTime": {
     "end_time": "2024-04-15T07:05:43.655108Z",
     "start_time": "2024-04-15T07:05:43.651696Z"
    }
   },
   "outputs": [],
   "source": [
    "#suppose it's correct:\n",
    "word = 'a....'\n",
    "used_letter_list = ['a']; #update used letter list\n",
    "avalible_letter_list = list(set(all_letter_list)- set(used_letter_list))"
   ]
  },
  {
   "cell_type": "code",
   "execution_count": null,
   "metadata": {
    "ExecuteTime": {
     "end_time": "2024-04-15T06:32:06.395399Z",
     "start_time": "2024-04-15T06:32:06.387295Z"
    }
   },
   "outputs": [],
   "source": [
    "word"
   ]
  },
  {
   "cell_type": "code",
   "execution_count": null,
   "metadata": {
    "ExecuteTime": {
     "end_time": "2024-04-15T06:37:32.909538Z",
     "start_time": "2024-04-15T06:37:32.146943Z"
    }
   },
   "outputs": [],
   "source": [
    "#calculate the bigram_dictionary once for all\n",
    "full_dictionary_bigram=[]\n",
    "\n",
    "for words in full_dictionary:\n",
    "    full_dictionary_bigram.append(slide_word(words,2))\n",
    "    \n",
    "full_dictionary_bigram = [item for sublist in full_dictionary_bigram for item in sublist]\n",
    "bigram_count = Counter(full_dictionary_bigram).most_common()"
   ]
  },
  {
   "cell_type": "code",
   "execution_count": null,
   "metadata": {
    "ExecuteTime": {
     "end_time": "2024-04-15T06:36:35.521459Z",
     "start_time": "2024-04-15T06:36:35.507122Z"
    }
   },
   "outputs": [],
   "source": [
    "word"
   ]
  },
  {
   "cell_type": "code",
   "execution_count": null,
   "metadata": {
    "ExecuteTime": {
     "end_time": "2024-04-15T06:37:34.200620Z",
     "start_time": "2024-04-15T06:37:34.193633Z"
    }
   },
   "outputs": [],
   "source": [
    "#update the unigram prob list\n",
    "unigram_prob_list = unigram_prob(dictionary_len5_string,used_letter_list)\n",
    "print(unigram_prob_list)"
   ]
  },
  {
   "cell_type": "code",
   "execution_count": null,
   "metadata": {
    "ExecuteTime": {
     "end_time": "2024-04-15T06:37:35.514962Z",
     "start_time": "2024-04-15T06:37:35.506168Z"
    }
   },
   "outputs": [],
   "source": [
    "allpattern = possible_pattern(word)\n",
    "print(allpattern)"
   ]
  },
  {
   "cell_type": "code",
   "execution_count": null,
   "metadata": {
    "ExecuteTime": {
     "end_time": "2024-04-15T06:37:37.057485Z",
     "start_time": "2024-04-15T06:37:37.034466Z"
    }
   },
   "outputs": [],
   "source": [
    "bigram_count"
   ]
  },
  {
   "cell_type": "code",
   "execution_count": null,
   "metadata": {
    "ExecuteTime": {
     "end_time": "2024-04-15T06:37:47.520634Z",
     "start_time": "2024-04-15T06:37:47.514938Z"
    }
   },
   "outputs": [],
   "source": [
    "#return the most possible letter\n",
    "guessedletter = guess_letter(allpattern, unigram_prob_list,bigram_count)\n",
    "print(guessedletter)"
   ]
  },
  {
   "cell_type": "code",
   "execution_count": null,
   "metadata": {
    "ExecuteTime": {
     "end_time": "2024-04-15T06:27:47.795736Z",
     "start_time": "2024-04-15T06:27:47.767915Z"
    }
   },
   "outputs": [],
   "source": [
    "bigram_count"
   ]
  },
  {
   "cell_type": "code",
   "execution_count": null,
   "metadata": {
    "ExecuteTime": {
     "end_time": "2024-04-15T07:01:10.811145Z",
     "start_time": "2024-04-15T07:01:10.795319Z"
    }
   },
   "outputs": [],
   "source": [
    "test = '.....'"
   ]
  },
  {
   "cell_type": "code",
   "execution_count": null,
   "metadata": {
    "ExecuteTime": {
     "end_time": "2024-04-15T07:01:30.568040Z",
     "start_time": "2024-04-15T07:01:30.557808Z"
    }
   },
   "outputs": [],
   "source": [
    "test.count('.') == len(test)"
   ]
  },
  {
   "cell_type": "code",
   "execution_count": null,
   "metadata": {
    "ExecuteTime": {
     "end_time": "2024-04-16T06:07:18.713914Z",
     "start_time": "2024-04-16T06:07:18.708354Z"
    }
   },
   "outputs": [],
   "source": [
    "test = [1,2,3]\n",
    "test1=test.copy()"
   ]
  },
  {
   "cell_type": "code",
   "execution_count": null,
   "metadata": {
    "ExecuteTime": {
     "end_time": "2024-04-16T06:07:49.390729Z",
     "start_time": "2024-04-16T06:07:49.380967Z"
    }
   },
   "outputs": [],
   "source": [
    "test[0]=15"
   ]
  },
  {
   "cell_type": "code",
   "execution_count": null,
   "metadata": {
    "ExecuteTime": {
     "end_time": "2024-04-16T06:07:51.900043Z",
     "start_time": "2024-04-16T06:07:51.893194Z"
    }
   },
   "outputs": [],
   "source": [
    "test1"
   ]
  },
  {
   "cell_type": "code",
   "execution_count": null,
   "metadata": {},
   "outputs": [],
   "source": []
  }
 ],
 "metadata": {
  "kernelspec": {
   "display_name": "Python 3 (ipykernel)",
   "language": "python",
   "name": "python3"
  },
  "language_info": {
   "codemirror_mode": {
    "name": "ipython",
    "version": 3
   },
   "file_extension": ".py",
   "mimetype": "text/x-python",
   "name": "python",
   "nbconvert_exporter": "python",
   "pygments_lexer": "ipython3",
   "version": "3.10.14"
  },
  "toc": {
   "base_numbering": 1,
   "nav_menu": {},
   "number_sections": true,
   "sideBar": true,
   "skip_h1_title": false,
   "title_cell": "Table of Contents",
   "title_sidebar": "Contents",
   "toc_cell": false,
   "toc_position": {
    "height": "calc(100% - 180px)",
    "left": "10px",
    "top": "150px",
    "width": "165px"
   },
   "toc_section_display": true,
   "toc_window_display": false
  }
 },
 "nbformat": 4,
 "nbformat_minor": 4
}
