{
 "cells": [
  {
   "cell_type": "code",
   "execution_count": null,
   "id": "0bb5609b",
   "metadata": {
    "ExecuteTime": {
     "end_time": "2024-04-17T12:58:32.637170Z",
     "start_time": "2024-04-17T12:58:32.625907Z"
    },
    "code_folding": []
   },
   "outputs": [],
   "source": [
    "import urllib\n",
    "import re\n",
    "import random\n",
    "import string\n",
    "import operator\n",
    "from collections import Counter,defaultdict\n",
    "\n",
    "\n"
   ]
  },
  {
   "cell_type": "code",
   "execution_count": null,
   "id": "9a4f8399",
   "metadata": {
    "code_folding": [
     1,
     15
    ]
   },
   "outputs": [],
   "source": [
    "'''\n",
    "def text_filter(text: str) -> str:\n",
    "    \"\"\"\n",
    "    文本过滤器：过滤掉文本数据中的标点符号和其他特殊字符\n",
    "    :param text: 待过滤的文本\n",
    "    :return: 过滤后的文本\n",
    "    \"\"\"\n",
    "    # 使用正则表达式去除标点符号和其他特殊字符\n",
    "    cleaned_text = re.sub(r'[^\\w\\s]', '', text)\n",
    "    \n",
    "    # 将过滤后的文本转换为小写\n",
    "    cleaned_text = cleaned_text.lower()\n",
    "    \n",
    "    return cleaned_text\n",
    "\n",
    "def slide_word(text: str, l: int = 5) -> list:\n",
    "    \"\"\"\n",
    "    滑动取词器\n",
    "    Input: text='abcd',l=2\n",
    "    Output: ['ab','bc','cd']\n",
    "    :param text: 过滤后的文本 （只包含小写数字/字母）\n",
    "    :param l: 滑动窗口长度，默认为 5\n",
    "    :return:\n",
    "    \"\"\"\n",
    "    # 使用正则表达式去除标点符号和其他特殊字符\n",
    "    tf = re.sub(r'[^\\w\\s]', '', text)\n",
    "    \n",
    "    # 使用切片操作生成滑动窗口\n",
    "    result = [tf[i:i + l] for i in range(len(tf) - l + 1)]\n",
    "    \n",
    "    return result\n",
    "\n",
    "'''"
   ]
  },
  {
   "cell_type": "code",
   "execution_count": null,
   "id": "31784933",
   "metadata": {
    "ExecuteTime": {
     "end_time": "2024-04-17T12:58:34.828809Z",
     "start_time": "2024-04-17T12:58:34.754767Z"
    }
   },
   "outputs": [],
   "source": [
    "# The train set\n",
    "text_file = open(\"words_250000_train.txt\",\"r\")\n",
    "full_dictionary = text_file.read().splitlines()\n",
    "for i in range(len(full_dictionary)):\n",
    "    full_dictionary[i] = '@' + full_dictionary[i] + '#'\n",
    "\n",
    "#select out the words in train set that has the same length with masked word.(take len = 5 as example)\n",
    "dictionary_len5 = [ii for ii in full_dictionary if len(ii) == (5+2) ]\n",
    "dictionary_len5_string = \"\".join(dictionary_len5)"
   ]
  },
  {
   "cell_type": "code",
   "execution_count": null,
   "id": "a112712e",
   "metadata": {
    "ExecuteTime": {
     "end_time": "2024-04-17T12:58:36.525681Z",
     "start_time": "2024-04-17T12:58:36.512304Z"
    }
   },
   "outputs": [],
   "source": [
    "#given a masked word\n",
    "word = '@.....#';\n",
    "used_letter_list = [];\n",
    "all_letter_list ='a b c d e f g h i j k l m n o p q r s t u v w x y z'.split(' ')"
   ]
  },
  {
   "cell_type": "code",
   "execution_count": null,
   "id": "1fca0b98",
   "metadata": {
    "ExecuteTime": {
     "end_time": "2024-04-17T12:58:37.804375Z",
     "start_time": "2024-04-17T12:58:37.795010Z"
    },
    "code_folding": [
     1
    ]
   },
   "outputs": [],
   "source": [
    "#function that calculates unigram prob:\n",
    "def unigram_prob(word_list_string, used_letter_list):\n",
    "    \n",
    "    deleted_string = re.sub('[@#]','',word_list_string) #delete @ and #\n",
    "    \n",
    "    for used_letter in used_letter_list:\n",
    "        #delete the letters which are used \n",
    "        deleted_string = re.sub(used_letter,'',deleted_string)\n",
    "        \n",
    "    deleted_string_len = len(deleted_string)\n",
    "    uniproblist = defaultdict(float);\n",
    "    count_letter = Counter(deleted_string).most_common();\n",
    "    \n",
    "    for letter , number in count_letter :\n",
    "        uniproblist[letter] = number/deleted_string_len\n",
    "        \n",
    "    return uniproblist"
   ]
  },
  {
   "cell_type": "code",
   "execution_count": null,
   "id": "9bc0578f",
   "metadata": {
    "ExecuteTime": {
     "end_time": "2024-04-17T12:58:38.951322Z",
     "start_time": "2024-04-17T12:58:38.939390Z"
    }
   },
   "outputs": [],
   "source": [
    "unigram_prob_list = unigram_prob(dictionary_len5_string,used_letter_list)\n",
    "print(unigram_prob_list)"
   ]
  },
  {
   "cell_type": "code",
   "execution_count": null,
   "id": "199275a0",
   "metadata": {
    "ExecuteTime": {
     "end_time": "2024-04-17T12:58:40.804769Z",
     "start_time": "2024-04-17T12:58:40.793850Z"
    }
   },
   "outputs": [],
   "source": [
    "#suppose it's correct:\n",
    "word = '@a....#'\n",
    "used_letter_list = ['a']; #update used letter list\n",
    "avalible_letter_list = list(set(all_letter_list)- set(used_letter_list))"
   ]
  },
  {
   "cell_type": "code",
   "execution_count": null,
   "id": "7219f3c5",
   "metadata": {
    "ExecuteTime": {
     "end_time": "2024-04-17T12:58:42.083621Z",
     "start_time": "2024-04-17T12:58:42.074538Z"
    }
   },
   "outputs": [],
   "source": [
    "def slide_word_with_pos(text: str, l: int = 5) -> list:\n",
    "    \n",
    "    text_len = len(text)\n",
    "    # 使用切片操作生成滑动窗口\n",
    "    result = [(tuple(range(i,i + l)), text[i:i + l] ) for i in range(text_len - l + 1)]\n",
    "    \n",
    "    return result"
   ]
  },
  {
   "cell_type": "code",
   "execution_count": null,
   "id": "2823c376",
   "metadata": {
    "ExecuteTime": {
     "end_time": "2024-04-17T12:58:43.501042Z",
     "start_time": "2024-04-17T12:58:43.490127Z"
    }
   },
   "outputs": [],
   "source": [
    "print(full_dictionary[5000])\n",
    "slide_word_with_pos(full_dictionary[5000],2)"
   ]
  },
  {
   "cell_type": "code",
   "execution_count": null,
   "id": "b312077b",
   "metadata": {
    "ExecuteTime": {
     "end_time": "2024-04-17T12:58:48.161752Z",
     "start_time": "2024-04-17T12:58:46.058590Z"
    }
   },
   "outputs": [],
   "source": [
    "#calculate the bigram_dictionary once for all\n",
    "full_dictionary_bigram=[]\n",
    "\n",
    "for words in full_dictionary:\n",
    "    full_dictionary_bigram.append(slide_word_with_pos(words,2))\n",
    "    \n",
    "full_dictionary_bigram = [item for sublist in full_dictionary_bigram for item in sublist]\n",
    "\n",
    "bigram_count = Counter(full_dictionary_bigram).most_common()"
   ]
  },
  {
   "cell_type": "code",
   "execution_count": null,
   "id": "345600ce",
   "metadata": {
    "ExecuteTime": {
     "end_time": "2024-04-17T12:58:51.800097Z",
     "start_time": "2024-04-17T12:58:49.362674Z"
    }
   },
   "outputs": [],
   "source": [
    "#calculate the bigram_dictionary once for all\n",
    "full_dictionary_trigram=[]\n",
    "\n",
    "for words in full_dictionary:\n",
    "    full_dictionary_trigram.append(slide_word_with_pos(words,3))\n",
    "    \n",
    "full_dictionary_trigram = [item for sublist in full_dictionary_trigram for item in sublist]\n",
    "\n",
    "trigram_count = Counter(full_dictionary_trigram).most_common()"
   ]
  },
  {
   "cell_type": "code",
   "execution_count": null,
   "id": "b1772171",
   "metadata": {
    "ExecuteTime": {
     "end_time": "2024-04-17T12:58:57.384562Z",
     "start_time": "2024-04-17T12:58:54.899052Z"
    }
   },
   "outputs": [],
   "source": [
    "#calculate the bigram_dictionary once for all\n",
    "full_dictionary_fourgram=[]\n",
    "\n",
    "for words in full_dictionary:\n",
    "    full_dictionary_fourgram.append(slide_word_with_pos(words,4))\n",
    "    \n",
    "full_dictionary_fourgram = [item for sublist in full_dictionary_fourgram for item in sublist]\n",
    "\n",
    "fourgram_count = Counter(full_dictionary_fourgram).most_common()"
   ]
  },
  {
   "cell_type": "code",
   "execution_count": null,
   "id": "26a76f38",
   "metadata": {
    "ExecuteTime": {
     "end_time": "2024-04-17T12:41:25.436182Z",
     "start_time": "2024-04-17T12:41:25.364793Z"
    }
   },
   "outputs": [],
   "source": [
    "fourgram_count"
   ]
  },
  {
   "cell_type": "code",
   "execution_count": null,
   "id": "a42a56ea",
   "metadata": {
    "ExecuteTime": {
     "end_time": "2024-04-17T12:58:58.699188Z",
     "start_time": "2024-04-17T12:58:58.677343Z"
    },
    "code_folding": [
     0
    ]
   },
   "outputs": [],
   "source": [
    "def bigramprob_with_pos(bigram_pattern_with_pos, bigram_count):\n",
    "    '''\n",
    "    given a bigram_pattern_with_pos '((1,2), 'a.')',\n",
    "    output the possibility for each letter in the masked letter \n",
    "    '''\n",
    "    pos = bigram_pattern_with_pos[0] #position tuple\n",
    "    bigram_pattern = bigram_pattern_with_pos[1] #pattern\n",
    "    \n",
    "    knownletter = re.sub('\\.','',bigram_pattern)\n",
    "    \n",
    "    \n",
    "    bigram_pattern_matched =list(filter(lambda x: (re.match(bigram_pattern,x[0][1])) and \\\n",
    "                                        (not (re.match(knownletter+knownletter,x[0][1]))) and \\\n",
    "                                        (pos == x[0][0]), bigram_count))\n",
    "    \n",
    "    bigramproblist = defaultdict(float);\n",
    "    total_len = sum([ii[1] for ii in bigram_pattern_matched]);\n",
    "    \n",
    "    for bigram , number in bigram_pattern_matched :\n",
    "        bigramproblist[re.sub(knownletter,'',bigram[1])] = number/total_len\n",
    "        \n",
    "    return bigramproblist"
   ]
  },
  {
   "cell_type": "code",
   "execution_count": null,
   "id": "a09dc979",
   "metadata": {
    "ExecuteTime": {
     "end_time": "2024-04-17T12:59:34.967316Z",
     "start_time": "2024-04-17T12:59:34.956534Z"
    },
    "code_folding": [
     0
    ]
   },
   "outputs": [],
   "source": [
    "def trigramprob_with_pos(trigram_pattern_with_pos, trigram_count):\n",
    "    '''\n",
    "    given a trigram_pattern_with_pos '((1,2,3), 'ab.')',\n",
    "    output the possibility for each letter in the masked letter \n",
    "    '''\n",
    "    pos = trigram_pattern_with_pos[0] #position tuple\n",
    "    trigram_pattern = trigram_pattern_with_pos[1] #pattern\n",
    "    \n",
    "    knownletter = set(re.sub('\\.','',trigram_pattern))\n",
    "    \n",
    "    trigram_pattern_matched = list( filter(lambda x: (pos == x[0][0]) and \\\n",
    "                                           (re.match(trigram_pattern,x[0][1])) and \\\n",
    "                                           (not set(x[0][1]).issubset(knownletter) ) , trigram_count) )\n",
    "    trigramproblist = defaultdict(float);\n",
    "    total_len = sum([ii[1] for ii in trigram_pattern_matched]);\n",
    "    \n",
    "    for trigram , number in trigram_pattern_matched :\n",
    "        trigramproblist[re.sub(str(list(knownletter)) , '' ,trigram[1]) ] = number/total_len\n",
    "    \n",
    "    return trigramproblist"
   ]
  },
  {
   "cell_type": "code",
   "execution_count": null,
   "id": "0f04a87e",
   "metadata": {
    "ExecuteTime": {
     "end_time": "2024-04-17T12:59:01.818937Z",
     "start_time": "2024-04-17T12:59:01.811606Z"
    },
    "code_folding": [
     0
    ]
   },
   "outputs": [],
   "source": [
    "def fourgramprob_with_pos(four_gram_pattern_with_pos, four_gram_count):\n",
    "    '''\n",
    "    given a fourgram_pattern_with_pos '((1,2,3,4), 'abc.')',\n",
    "    output the possibility for each letter in the masked letter \n",
    "    '''\n",
    "    pos = four_gram_pattern_with_pos[0] #position tuple\n",
    "    fourgram_pattern = four_gram_pattern_with_pos[1] #pattern\n",
    "    \n",
    "    knownletter = set(re.sub('\\.','',fourgram_pattern))\n",
    "    \n",
    "    fourgram_pattern_matched = list( filter(lambda x: (pos == x[0][0]) and \\\n",
    "                                           (re.match(fourgram_pattern,x[0][1])) and \\\n",
    "                                           (not set(x[0][1]).issubset(knownletter) ) , fourgram_count) )\n",
    "    \n",
    "    fourgramproblist = defaultdict(float);\n",
    "    total_len = sum([ii[1] for ii in fourgram_pattern_matched]);\n",
    "    \n",
    "    for fourgram , number in fourgram_pattern_matched :\n",
    "        fourgramproblist[re.sub(str(list(knownletter)) , '' ,fourgram[1]) ] = number/total_len\n",
    "    return fourgramproblist"
   ]
  },
  {
   "cell_type": "code",
   "execution_count": null,
   "id": "398da1c9",
   "metadata": {
    "ExecuteTime": {
     "end_time": "2024-04-17T13:00:51.682949Z",
     "start_time": "2024-04-17T13:00:51.562213Z"
    }
   },
   "outputs": [],
   "source": [
    "fourgramprob_with_pos( ((2,3,4,5),'ab.a') , fourgram_count)"
   ]
  },
  {
   "cell_type": "code",
   "execution_count": null,
   "id": "bdb040f3",
   "metadata": {
    "ExecuteTime": {
     "end_time": "2024-04-17T13:01:00.355334Z",
     "start_time": "2024-04-17T13:01:00.313783Z"
    }
   },
   "outputs": [],
   "source": [
    "trigramprob_with_pos( ((1,2,3),'ab.'), trigram_count)"
   ]
  },
  {
   "cell_type": "code",
   "execution_count": null,
   "id": "d94c5950",
   "metadata": {
    "ExecuteTime": {
     "end_time": "2024-04-17T07:38:48.521483Z",
     "start_time": "2024-04-17T07:38:48.491111Z"
    }
   },
   "outputs": [],
   "source": [
    "bigramprob_with_pos(((1,2),'a.'),bigram_count)"
   ]
  },
  {
   "cell_type": "code",
   "execution_count": null,
   "id": "49bf72ae",
   "metadata": {},
   "outputs": [],
   "source": []
  },
  {
   "cell_type": "code",
   "execution_count": null,
   "id": "28d06604",
   "metadata": {
    "ExecuteTime": {
     "end_time": "2024-04-17T13:01:10.545090Z",
     "start_time": "2024-04-17T13:01:10.538628Z"
    },
    "code_folding": [
     0,
     25
    ]
   },
   "outputs": [],
   "source": [
    "def possible_pattern_exact_pos(word,pos,n):\n",
    "    '''\n",
    "    give a masked word , and output all possible n-gram pattern for a exact masked letter \n",
    "    '''\n",
    "    shift = n-1\n",
    "    word_last_pos = len(word) - 1; \n",
    "    start = pos - shift;\n",
    "    start_list = list(range(start,start+n))\n",
    "    slice_list = [list(range(i,i+n)) for i in start_list ]\n",
    "    slice_list = list(filter((lambda x: x[0]>=0 and x[-1]<=word_last_pos) ,slice_list));\n",
    "    \n",
    "    pattern_list = []\n",
    "    for poslist in slice_list:\n",
    "        pattern = '';\n",
    "        for pos in poslist:\n",
    "            pattern += word[pos]\n",
    "        \n",
    "        pattern_list.append((tuple(poslist),pattern))\n",
    "        \n",
    "    pattern_list = list(filter(lambda x: x[1].count('.') == 1 ,pattern_list))\n",
    "    return pattern_list\n",
    "\n",
    "#for a given masked word, we anaylse each masked letter's possion n-gram \n",
    "\n",
    "\n",
    "def possible_pattern(word):\n",
    "    mask_id = [];\n",
    "    for i in range(len(word)):\n",
    "        if word[i] == '.':\n",
    "            mask_id.append(i)\n",
    "            \n",
    "    pattern_list_all = [[] for i in mask_id];\n",
    "    \n",
    "    for inx , i in enumerate(mask_id):\n",
    "        for n in range(1,5):\n",
    "            pattern_list = possible_pattern_exact_pos(word,i,n)\n",
    "            if pattern_list != []:\n",
    "                pattern_list_all[inx] += pattern_list\n",
    "                \n",
    "        #pattern_list_all[inx] = [(i,j) for j in pattern_list_all[inx]]\n",
    "            \n",
    "    return pattern_list_all"
   ]
  },
  {
   "cell_type": "code",
   "execution_count": null,
   "id": "b05576f4",
   "metadata": {
    "ExecuteTime": {
     "end_time": "2024-04-17T12:54:58.311171Z",
     "start_time": "2024-04-17T12:54:58.301721Z"
    }
   },
   "outputs": [],
   "source": [
    "possible_pattern_exact_pos('@a.b.aus.#',2,4)"
   ]
  },
  {
   "cell_type": "code",
   "execution_count": null,
   "id": "e12dd225",
   "metadata": {
    "ExecuteTime": {
     "end_time": "2024-04-17T13:01:12.153183Z",
     "start_time": "2024-04-17T13:01:12.145508Z"
    }
   },
   "outputs": [],
   "source": [
    "possible_pattern('@a.b.aus.#')"
   ]
  },
  {
   "cell_type": "code",
   "execution_count": null,
   "id": "4996d0b9",
   "metadata": {
    "ExecuteTime": {
     "end_time": "2024-04-17T13:01:14.771913Z",
     "start_time": "2024-04-17T13:01:14.762659Z"
    }
   },
   "outputs": [],
   "source": [
    "word = '@abc..#'\n",
    "used_letter_list = ['a','b','c'];\n",
    "#update the unigram prob list\n",
    "unigram_prob_list = unigram_prob(dictionary_len5_string,used_letter_list)\n",
    "print(unigram_prob_list)"
   ]
  },
  {
   "cell_type": "code",
   "execution_count": null,
   "id": "190d952d",
   "metadata": {
    "ExecuteTime": {
     "end_time": "2024-04-17T13:01:16.938907Z",
     "start_time": "2024-04-17T13:01:16.931407Z"
    }
   },
   "outputs": [],
   "source": [
    "allpattern = possible_pattern(word)\n",
    "print(allpattern)"
   ]
  },
  {
   "cell_type": "code",
   "execution_count": null,
   "id": "dfaf2b10",
   "metadata": {
    "ExecuteTime": {
     "end_time": "2024-04-17T13:09:41.556196Z",
     "start_time": "2024-04-17T13:09:41.541024Z"
    },
    "code_folding": [
     1,
     12,
     15,
     18,
     26,
     29,
     37,
     40,
     48,
     51,
     60,
     63,
     67,
     80
    ]
   },
   "outputs": [],
   "source": [
    "#define a fucntion that can calculate the posibility for fix pos\n",
    "def prob_fix_pos(pattern_list:list, unigram_prob_list, bigram_count ,trigram_count,fourgram_count):\n",
    "    \n",
    "    unigram_case = list(filter(lambda x: len(x[1])==1,pattern_list))\n",
    "    bigram_case = list(filter(lambda x: len(x[1])==2,pattern_list)) \n",
    "    trigram_case = list(filter(lambda x: len(x[1])==3,pattern_list))\n",
    "    fourgram_case = list(filter(lambda x: len(x[1])==4,pattern_list))\n",
    "    \n",
    "    bigram_prob_list = []\n",
    "    trigram_prob_list = []\n",
    "    fourgram_prob_list = []\n",
    "    \n",
    "    for pattern in bigram_case:\n",
    "        bigram_prob_list.append( bigramprob_with_pos(pattern,bigram_count))\n",
    "        \n",
    "    for pattern in trigram_case:\n",
    "        trigram_prob_list.append( trigramprob_with_pos(pattern,trigram_count))\n",
    "        \n",
    "    for pattern in fourgram_case:\n",
    "        fourgram_prob_list.append( fourgramprob_with_pos(pattern,trigram_count))\n",
    "    \n",
    "    ngram_prob_list = defaultdict(float);\n",
    "    bigram_prob_list_ave = defaultdict(float);\n",
    "    trigram_prob_list_ave = defaultdict(float);\n",
    "    fourgram_prob_list_ave = defaultdict(float);\n",
    "    \n",
    "    if len(bigram_prob_list) == 1:\n",
    "        bigram_prob_list_ave = bigram_prob_list[0]\n",
    "        \n",
    "    elif len(bigram_prob_list) > 1:\n",
    "        for key in bigram_prob_list[0]:\n",
    "            num = 0;\n",
    "            for i in range(len(bigram_prob_list)):\n",
    "                 num += bigram_prob_list[i][key]\n",
    "                \n",
    "            bigram_prob_list_ave[key] = num/len(bigram_prob_list)\n",
    "            \n",
    "    if len(trigram_prob_list) == 1:\n",
    "        trigram_prob_list_ave = trigram_prob_list[0]\n",
    "        \n",
    "    elif len(trigram_prob_list) > 1:\n",
    "        for key in trigram_prob_list[0]:\n",
    "            num = 0;\n",
    "            for i in range(len(trigram_prob_list)):\n",
    "                 num += trigram_prob_list[i][key]\n",
    "                \n",
    "            trigram_prob_list_ave[key] = num/len(trigram_prob_list)\n",
    "        \n",
    "    if len(fourgram_prob_list) == 1:\n",
    "        fourgram_prob_list_ave = fourgram_prob_list[0]\n",
    "        \n",
    "    elif len(fourgram_prob_list) > 1:\n",
    "        for key in fourgram_prob_list[0]:\n",
    "            num = 0;\n",
    "            for i in range(len(fourgram_prob_list)):\n",
    "                 num += fourgram_prob_list[i][key]\n",
    "                \n",
    "            fourgram_prob_list_ave[key] = num/len(fourgram_prob_list)\n",
    "                \n",
    "    \n",
    "    if bigram_prob_list_ave == {}:\n",
    "        ngram_prob_list = unigram_prob_list\n",
    "        \n",
    "    elif ((bigram_prob_list_ave) != {}) and ((trigram_prob_list_ave) == {}):\n",
    "        for key in unigram_prob_list.keys():\n",
    "            ngram_prob_list[key] = 0.3*unigram_prob_list[key] + 0.7*bigram_prob_list_ave[key]\n",
    "        \n",
    "    elif ((bigram_prob_list_ave) != {}) and ((trigram_prob_list_ave) != {}):\n",
    "        for key in unigram_prob_list.keys():\n",
    "            ngram_prob_list[key] = 0.1*unigram_prob_list[key] + 0.3*bigram_prob_list_ave[key] + \\\n",
    "                                                                0.6*trigram_prob_list_ave[key]\n",
    "            \n",
    "    elif ((fourgram_prob_list_ave) != {}):\n",
    "        for key in unigram_prob_list.keys():\n",
    "            ngram_prob_list[key] = 0.05*unigram_prob_list[key] + 0.15*bigram_prob_list_ave[key] + \\\n",
    "                                   0.3*trigram_prob_list_ave[key] + 0.5*fourgram_prob_list_ave[key]\n",
    "    \n",
    "    return ngram_prob_list\n",
    "\n",
    "\n",
    "def guess_letter(allpattern,unigram_prob_list,bigram_count, trigram_count ,fourgram_count):\n",
    "    letter_prob_dic_list = [];\n",
    "    \n",
    "    for i in allpattern:\n",
    "        letter_prob_dic_list.append(prob_fix_pos(i,unigram_prob_list,bigram_count,trigram_count,\n",
    "                                                 fourgram_count))\n",
    "        \n",
    "    letter_prob_list = defaultdict(float);\n",
    "    \n",
    "    for key in letter_prob_dic_list[0].keys():\n",
    "        for i in range(len(letter_prob_dic_list)):\n",
    "            letter_prob_list[key] += letter_prob_dic_list[i][key]\n",
    "            \n",
    "    letter_prob_list = sorted(letter_prob_list.items(), key = lambda item: item[1],reverse=True)\n",
    "    \n",
    "    return letter_prob_list[0][0]"
   ]
  },
  {
   "cell_type": "code",
   "execution_count": null,
   "id": "7d2036f0",
   "metadata": {
    "ExecuteTime": {
     "end_time": "2024-04-17T13:10:39.512425Z",
     "start_time": "2024-04-17T13:10:39.503889Z"
    }
   },
   "outputs": [],
   "source": [
    "allpattern[0]"
   ]
  },
  {
   "cell_type": "code",
   "execution_count": null,
   "id": "33502851",
   "metadata": {
    "ExecuteTime": {
     "end_time": "2024-04-17T13:10:35.335892Z",
     "start_time": "2024-04-17T13:10:35.207217Z"
    }
   },
   "outputs": [],
   "source": [
    "prob_fix_pos(allpattern[0], unigram_prob_list, bigram_count, trigram_count , fourgram_count)"
   ]
  },
  {
   "cell_type": "code",
   "execution_count": null,
   "id": "97618b45",
   "metadata": {
    "ExecuteTime": {
     "end_time": "2024-04-17T13:11:31.403680Z",
     "start_time": "2024-04-17T13:11:31.264898Z"
    }
   },
   "outputs": [],
   "source": [
    "#return the most possible letter\n",
    "guessedletter = guess_letter(allpattern, unigram_prob_list ,bigram_count,trigram_count,fourgram_count)\n",
    "print(guessedletter)"
   ]
  },
  {
   "cell_type": "code",
   "execution_count": null,
   "id": "4e315e9f",
   "metadata": {},
   "outputs": [],
   "source": []
  },
  {
   "cell_type": "code",
   "execution_count": null,
   "id": "a319af86",
   "metadata": {},
   "outputs": [],
   "source": []
  }
 ],
 "metadata": {
  "kernelspec": {
   "display_name": "Python 3 (ipykernel)",
   "language": "python",
   "name": "python3"
  },
  "language_info": {
   "codemirror_mode": {
    "name": "ipython",
    "version": 3
   },
   "file_extension": ".py",
   "mimetype": "text/x-python",
   "name": "python",
   "nbconvert_exporter": "python",
   "pygments_lexer": "ipython3",
   "version": "3.10.14"
  },
  "toc": {
   "base_numbering": 1,
   "nav_menu": {},
   "number_sections": true,
   "sideBar": true,
   "skip_h1_title": false,
   "title_cell": "Table of Contents",
   "title_sidebar": "Contents",
   "toc_cell": false,
   "toc_position": {},
   "toc_section_display": true,
   "toc_window_display": false
  }
 },
 "nbformat": 4,
 "nbformat_minor": 5
}
