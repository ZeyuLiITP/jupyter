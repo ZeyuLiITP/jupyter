{
 "cells": [
  {
   "cell_type": "markdown",
   "id": "5dce7f4b",
   "metadata": {},
   "source": [
    "# Titanic"
   ]
  },
  {
   "cell_type": "code",
   "execution_count": null,
   "id": "4fad2e41",
   "metadata": {
    "ExecuteTime": {
     "end_time": "2024-04-23T13:00:45.080870Z",
     "start_time": "2024-04-23T13:00:44.810535Z"
    }
   },
   "outputs": [],
   "source": [
    "import numpy as np\n",
    "import pandas as pd"
   ]
  },
  {
   "cell_type": "code",
   "execution_count": null,
   "id": "2343112d",
   "metadata": {
    "ExecuteTime": {
     "end_time": "2024-04-23T13:00:46.735739Z",
     "start_time": "2024-04-23T13:00:46.715767Z"
    }
   },
   "outputs": [],
   "source": [
    "train_data = pd.read_csv('train.csv')\n",
    "train_data.set_index('PassengerId')\n",
    "train_data_survived = train_data['Survived']\n",
    "train_data.drop(['Name','Ticket','Survived'],axis=1,inplace=True)"
   ]
  },
  {
   "cell_type": "code",
   "execution_count": null,
   "id": "e3b69dcd",
   "metadata": {
    "ExecuteTime": {
     "end_time": "2024-04-23T12:36:29.723752Z",
     "start_time": "2024-04-23T12:36:29.716512Z"
    }
   },
   "outputs": [],
   "source": [
    "train_data['Cabin'] = train_data['Cabin'].astype(str)"
   ]
  },
  {
   "cell_type": "code",
   "execution_count": null,
   "id": "e1d0b194",
   "metadata": {
    "ExecuteTime": {
     "end_time": "2024-04-23T13:01:55.874806Z",
     "start_time": "2024-04-23T13:01:55.869191Z"
    }
   },
   "outputs": [],
   "source": [
    "#挑出'Sex'为'male'的那些行，并保留'Sex'列\n",
    "train_data.loc[train_data['Sex'] == 'male', 'Sex'] = 1\n",
    "train_data.loc[train_data['Sex'] == 'female', 'Sex'] = 2"
   ]
  },
  {
   "cell_type": "code",
   "execution_count": null,
   "id": "06399075",
   "metadata": {
    "ExecuteTime": {
     "end_time": "2024-04-23T13:22:32.897024Z",
     "start_time": "2024-04-23T13:22:32.844194Z"
    }
   },
   "outputs": [],
   "source": [
    "for i , cabin_number in enumerate(train_data['Cabin'].unique()):\n",
    "    train_data.loc[train_data['Cabin'] == cabin_number , 'Cabin'] = i "
   ]
  },
  {
   "cell_type": "code",
   "execution_count": null,
   "id": "bf943f50",
   "metadata": {
    "ExecuteTime": {
     "end_time": "2024-04-23T13:22:37.133664Z",
     "start_time": "2024-04-23T13:22:37.122267Z"
    }
   },
   "outputs": [],
   "source": [
    "train_data"
   ]
  },
  {
   "cell_type": "code",
   "execution_count": null,
   "id": "00f63a0a",
   "metadata": {
    "ExecuteTime": {
     "end_time": "2024-04-23T13:22:24.534365Z",
     "start_time": "2024-04-23T13:22:24.516643Z"
    }
   },
   "outputs": [],
   "source": [
    "train_data['Cabin'] == 'nan'"
   ]
  },
  {
   "cell_type": "code",
   "execution_count": null,
   "id": "bebb57ce",
   "metadata": {
    "ExecuteTime": {
     "end_time": "2024-04-23T12:59:32.320513Z",
     "start_time": "2024-04-23T12:59:32.313790Z"
    }
   },
   "outputs": [],
   "source": [
    "train_data_survived"
   ]
  },
  {
   "cell_type": "code",
   "execution_count": null,
   "id": "a9bc266a",
   "metadata": {},
   "outputs": [],
   "source": []
  }
 ],
 "metadata": {
  "kernelspec": {
   "display_name": "Python 3 (ipykernel)",
   "language": "python",
   "name": "python3"
  },
  "language_info": {
   "codemirror_mode": {
    "name": "ipython",
    "version": 3
   },
   "file_extension": ".py",
   "mimetype": "text/x-python",
   "name": "python",
   "nbconvert_exporter": "python",
   "pygments_lexer": "ipython3",
   "version": "3.10.14"
  },
  "toc": {
   "base_numbering": 1,
   "nav_menu": {},
   "number_sections": true,
   "sideBar": true,
   "skip_h1_title": false,
   "title_cell": "Table of Contents",
   "title_sidebar": "Contents",
   "toc_cell": false,
   "toc_position": {},
   "toc_section_display": true,
   "toc_window_display": false
  }
 },
 "nbformat": 4,
 "nbformat_minor": 5
}
