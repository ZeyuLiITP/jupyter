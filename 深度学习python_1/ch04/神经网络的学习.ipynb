{
 "cells": [
  {
   "cell_type": "code",
   "execution_count": 1,
   "id": "02f80afd",
   "metadata": {},
   "outputs": [],
   "source": [
    "def mean_squared_error(y,t):\n",
    "    return 0.5 * np.sum((y-t)**2)\n",
    "\n",
    "def cross_entropy_error(y,t):\n",
    "    delta = 1e-7;\n",
    "    return -np.sum(t*np.log(self.W.shape+delta))"
   ]
  },
  {
   "cell_type": "code",
   "execution_count": null,
   "id": "fa4b681a",
   "metadata": {},
   "outputs": [],
   "source": [
    "import sys, os\n",
    "sys.path.append(os.pardir)  # 为了导入父目录的文件而进行的设定\n",
    "import numpy as np\n",
    "import pickle\n",
    "from dataset.mnist import load_mnist"
   ]
  },
  {
   "cell_type": "code",
   "execution_count": null,
   "id": "87b8d302",
   "metadata": {},
   "outputs": [],
   "source": [
    "(x_train,t_train),(x_test,t_test) = load_mnist(normalize=True,flatten=True, one_hot_label=False)"
   ]
  },
  {
   "cell_type": "code",
   "execution_count": null,
   "id": "1b1c721f",
   "metadata": {},
   "outputs": [],
   "source": [
    "#随机抽取数据来进行 mini-batch 学习"
   ]
  },
  {
   "cell_type": "code",
   "execution_count": null,
   "id": "bb536a47",
   "metadata": {},
   "outputs": [],
   "source": [
    "train_size=x_train.shape[0]\n",
    "batch_size=10\n",
    "\n",
    "batch_mask=np.random.choice(train_size,batch_size)\n",
    "x_batch=x_train[batch_mask]\n",
    "t_batch=t_train[batch_mask]"
   ]
  },
  {
   "cell_type": "code",
   "execution_count": null,
   "id": "1a7e2d2a",
   "metadata": {},
   "outputs": [],
   "source": [
    "batch_mask.size"
   ]
  },
  {
   "cell_type": "code",
   "execution_count": 2,
   "id": "08d07a03",
   "metadata": {},
   "outputs": [],
   "source": [
    "def cross_entropy_error(y,t):\n",
    "    if y.ndim==1:\n",
    "        t=t.reshape(1,t.size);\n",
    "        y=t.reshape(1,y.size);\n",
    "    batch_size= y.shape[0];\n",
    "    return -np.sum(t* np.log(y+1e-7))/batch_size"
   ]
  },
  {
   "cell_type": "code",
   "execution_count": 3,
   "id": "fbd0f788",
   "metadata": {},
   "outputs": [],
   "source": [
    "def numerical_diff(f,x):\n",
    "    h=0.0001\n",
    "    return (f(x+h)-f(x-h))/(2*h)"
   ]
  },
  {
   "cell_type": "code",
   "execution_count": null,
   "id": "4f9ac33f",
   "metadata": {},
   "outputs": [],
   "source": [
    "def function_1(x):\n",
    "    return 0.01*x**2+0.1*x"
   ]
  },
  {
   "cell_type": "code",
   "execution_count": 5,
   "id": "b4100e09",
   "metadata": {},
   "outputs": [],
   "source": [
    "import matplotlib.pylab as plt\n",
    "import numpy as np"
   ]
  },
  {
   "cell_type": "code",
   "execution_count": null,
   "id": "7005ac75",
   "metadata": {},
   "outputs": [],
   "source": [
    "numerical_diff(function_1,5)"
   ]
  },
  {
   "cell_type": "code",
   "execution_count": null,
   "id": "aab94967",
   "metadata": {},
   "outputs": [],
   "source": [
    "x=np.arange(0,20,0.1)\n",
    "y=function_1(x)\n",
    "z=numerical_diff(function_1,5)*(x-5)+function_1(5)\n",
    "plt.plot(x,y)\n",
    "plt.plot(x,z)"
   ]
  },
  {
   "cell_type": "code",
   "execution_count": null,
   "id": "e0a39053",
   "metadata": {},
   "outputs": [],
   "source": [
    "def tangent_line(f, x):\n",
    "    d = numerical_diff(f, x)\n",
    "    print(d)\n",
    "    y = f(x) - d*x\n",
    "    return lambda t: d*t + y #返回一个输入参数是t的函数"
   ]
  },
  {
   "cell_type": "code",
   "execution_count": null,
   "id": "d09fc230",
   "metadata": {},
   "outputs": [],
   "source": [
    "tf = tangent_line(function_1, 5)\n",
    "y2 = tf(x)"
   ]
  },
  {
   "cell_type": "code",
   "execution_count": null,
   "id": "c69410a6",
   "metadata": {},
   "outputs": [],
   "source": [
    "plt.plot(x, y)\n",
    "plt.plot(x, y2)\n",
    "plt.show()"
   ]
  },
  {
   "cell_type": "code",
   "execution_count": 37,
   "id": "e1875c13",
   "metadata": {},
   "outputs": [
    {
     "data": {
      "text/plain": [
       "array([2, 3, 1, 2])"
      ]
     },
     "execution_count": 37,
     "metadata": {},
     "output_type": "execute_result"
    }
   ],
   "source": [
    "np.array([[2,3],[1,2]]).flatten()"
   ]
  },
  {
   "cell_type": "code",
   "execution_count": 39,
   "id": "17026f1d",
   "metadata": {},
   "outputs": [],
   "source": [
    "def numerical_gradient(f,x):\n",
    "    h=0.0001;\n",
    "    \n",
    "    grad = np.zeros_like(x);\n",
    "    \n",
    "    for idx in range(x.size):\n",
    "        tmp_val = x[idx]\n",
    "        x[idx] = float(tmp_val) + h;\n",
    "        fxh1 = f(x);\n",
    "        x[idx] = tmp_val - h;\n",
    "        fxh2 = f(x);\n",
    "        \n",
    "        grad[idx] = (fxh1-fxh2)/(2*h)\n",
    "        x[idx] = tmp_val;\n",
    "        \n",
    "    return grad"
   ]
  },
  {
   "cell_type": "code",
   "execution_count": 63,
   "id": "8d80e083",
   "metadata": {},
   "outputs": [],
   "source": [
    "del numerical_gradient"
   ]
  },
  {
   "cell_type": "code",
   "execution_count": 53,
   "id": "56a45387",
   "metadata": {},
   "outputs": [],
   "source": [
    "def numerical_gradient(f,x):\n",
    "    h=0.0001;\n",
    "    ximd=x.flatten()\n",
    "    grad = np.zeros_like(ximd);\n",
    "    \n",
    "    for idx in range(ximd.size):\n",
    "        tmp_val = ximd[idx]\n",
    "        ximd[idx] = float(tmp_val) + h;\n",
    "        fxh1 = f(ximd.reshape(x.shape));\n",
    "        ximd[idx] = tmp_val - h;\n",
    "        fxh2 = f(ximd.reshape(x.shape));\n",
    "        \n",
    "        grad[idx] = (fxh1-fxh2)/(2*h)\n",
    "        ximd[idx] = tmp_val;\n",
    "        \n",
    "    return grad.reshape(x.shape)\n",
    "        "
   ]
  },
  {
   "cell_type": "code",
   "execution_count": 65,
   "id": "a7bba0a3",
   "metadata": {},
   "outputs": [],
   "source": [
    "def _numerical_gradient_1d(f, x):\n",
    "    h = 1e-4 # 0.0001\n",
    "    grad = np.zeros_like(x)\n",
    "    \n",
    "    for idx in range(x.size):\n",
    "        tmp_val = x[idx]\n",
    "        x[idx] = float(tmp_val) + h\n",
    "        fxh1 = f(x) # f(x+h)\n",
    "        \n",
    "        x[idx] = tmp_val - h \n",
    "        fxh2 = f(x) # f(x-h)\n",
    "        grad[idx] = (fxh1 - fxh2) / (2*h)\n",
    "        \n",
    "        x[idx] = tmp_val # 还原值\n",
    "        \n",
    "    return grad\n",
    "\n",
    "\n",
    "def numerical_gradient_2d(f, X):\n",
    "    if X.ndim == 1:\n",
    "        return _numerical_gradient_1d(f, X)\n",
    "    else:\n",
    "        grad = np.zeros_like(X)\n",
    "        \n",
    "        for idx, x in enumerate(X):\n",
    "            grad[idx] = _numerical_gradient_1d(f, x)\n",
    "        \n",
    "        return grad\n",
    "    \n",
    "def numerical_gradient(f, x):\n",
    "    h = 1e-4 # 0.0001\n",
    "    grad = np.zeros_like(x)\n",
    "    \n",
    "    it = np.nditer(x, flags=['multi_index'], op_flags=['readwrite'])\n",
    "    while not it.finished:\n",
    "        idx = it.multi_index\n",
    "        tmp_val = x[idx]\n",
    "        x[idx] = float(tmp_val) + h\n",
    "        fxh1 = f(x) # f(x+h)\n",
    "        \n",
    "        x[idx] = tmp_val - h \n",
    "        fxh2 = f(x) # f(x-h)\n",
    "        grad[idx] = (fxh1 - fxh2) / (2*h)\n",
    "        \n",
    "        x[idx] = tmp_val # 还原值\n",
    "        it.iternext()   \n",
    "        \n",
    "    return grad"
   ]
  },
  {
   "cell_type": "code",
   "execution_count": null,
   "id": "e524f875",
   "metadata": {},
   "outputs": [],
   "source": []
  },
  {
   "cell_type": "code",
   "execution_count": null,
   "id": "519f2843",
   "metadata": {},
   "outputs": [],
   "source": []
  },
  {
   "cell_type": "code",
   "execution_count": 40,
   "id": "ba57f064",
   "metadata": {},
   "outputs": [],
   "source": [
    "def function_2(x):\n",
    "    return np.sum(x**2)"
   ]
  },
  {
   "cell_type": "code",
   "execution_count": 47,
   "id": "5b5decfc",
   "metadata": {},
   "outputs": [],
   "source": [
    "def function_3(x):\n",
    "    x1=np.array([0.6,0.9]);\n",
    "    return np.sum(np.dot(x1,x).flatten())"
   ]
  },
  {
   "cell_type": "code",
   "execution_count": 48,
   "id": "cd0f5932",
   "metadata": {},
   "outputs": [
    {
     "data": {
      "text/plain": [
       "18.9"
      ]
     },
     "execution_count": 48,
     "metadata": {},
     "output_type": "execute_result"
    }
   ],
   "source": [
    "function_3(np.array([[2,3,4],[4,5,6]]))"
   ]
  },
  {
   "cell_type": "code",
   "execution_count": 66,
   "id": "ffeb8be1",
   "metadata": {},
   "outputs": [
    {
     "data": {
      "text/plain": [
       "array([[0.6, 0.6, 0.6],\n",
       "       [0.9, 0.9, 0.9]])"
      ]
     },
     "execution_count": 66,
     "metadata": {},
     "output_type": "execute_result"
    }
   ],
   "source": [
    "numerical_gradient(function_3,np.array([[2.0,3.0,4.0],[4.0,5.0,6.0]]))\n",
    "numerical_gradient(function_3,np.array([[2.0,3.0,4.0],[4.0,5.0,6.0]]))"
   ]
  },
  {
   "cell_type": "code",
   "execution_count": 41,
   "id": "71d117be",
   "metadata": {},
   "outputs": [
    {
     "data": {
      "text/plain": [
       "array([6., 8.])"
      ]
     },
     "execution_count": 41,
     "metadata": {},
     "output_type": "execute_result"
    }
   ],
   "source": [
    "numerical_gradient(function_2,np.array([3.0,4.0]))"
   ]
  },
  {
   "cell_type": "code",
   "execution_count": null,
   "id": "463a420e",
   "metadata": {},
   "outputs": [],
   "source": [
    "_numerical_gradient_no_batch(function_2,np.array([3.0,4.0]))"
   ]
  },
  {
   "cell_type": "code",
   "execution_count": null,
   "id": "f2c8f2f5",
   "metadata": {},
   "outputs": [],
   "source": [
    "def gradiet_desent(f,init_x,lr=0.01,stp_num=100):\n",
    "    x=init_x;\n",
    "    \n",
    "    for i in range(stp_num):\n",
    "        grad=numerical_gradient(f,x);\n",
    "        x=x-lr*grad;\n",
    "        \n",
    "    return x\n",
    "        "
   ]
  },
  {
   "cell_type": "code",
   "execution_count": null,
   "id": "1f53e571",
   "metadata": {},
   "outputs": [],
   "source": [
    "gradiet_desent(function_2,np.array([-3.0,4.0]),lr=0.1,stp_num=100)"
   ]
  },
  {
   "cell_type": "code",
   "execution_count": 11,
   "id": "1ae51478",
   "metadata": {},
   "outputs": [],
   "source": [
    "def softmax(a):\n",
    "    c=np.max(a);\n",
    "    return np.exp(a-c)/(np.sum(np.exp(a-c)))"
   ]
  },
  {
   "cell_type": "code",
   "execution_count": 67,
   "id": "cf127ac4",
   "metadata": {},
   "outputs": [],
   "source": [
    "class simpleNet:\n",
    "    def __init__(self):\n",
    "        self.W=np.random.randn(2,3)\n",
    "        \n",
    "    def predict(self,x):\n",
    "        return np.dot(x,self.W)\n",
    "    \n",
    "    def loss(self,x,t):\n",
    "        z = self.predict(x);\n",
    "        y=softmax(z);\n",
    "        return cross_entropy_error(y,t)"
   ]
  },
  {
   "cell_type": "code",
   "execution_count": 13,
   "id": "fef4501d",
   "metadata": {},
   "outputs": [],
   "source": [
    "net=simpleNet()"
   ]
  },
  {
   "cell_type": "code",
   "execution_count": 16,
   "id": "0fcc29bb",
   "metadata": {},
   "outputs": [],
   "source": [
    "x=np.array([0.6,0.9])\n",
    "p=net.predict(x,)"
   ]
  },
  {
   "cell_type": "code",
   "execution_count": 19,
   "id": "6e974a3e",
   "metadata": {},
   "outputs": [],
   "source": [
    "t=np.array([0,0,1])"
   ]
  },
  {
   "cell_type": "code",
   "execution_count": 68,
   "id": "1505f3d4",
   "metadata": {},
   "outputs": [
    {
     "data": {
      "text/plain": [
       "16.11809565095832"
      ]
     },
     "execution_count": 68,
     "metadata": {},
     "output_type": "execute_result"
    }
   ],
   "source": [
    "net.loss(x,t)"
   ]
  },
  {
   "cell_type": "code",
   "execution_count": 69,
   "id": "3f16c0dd",
   "metadata": {},
   "outputs": [],
   "source": [
    "def f(w):\n",
    "    return net.loss(x,t)"
   ]
  },
  {
   "cell_type": "code",
   "execution_count": 70,
   "id": "5456bb5e",
   "metadata": {},
   "outputs": [
    {
     "data": {
      "text/plain": [
       "array([[0., 0., 0.],\n",
       "       [0., 0., 0.]])"
      ]
     },
     "execution_count": 70,
     "metadata": {},
     "output_type": "execute_result"
    }
   ],
   "source": [
    "numerical_gradient(f,net.W)"
   ]
  },
  {
   "cell_type": "code",
   "execution_count": 58,
   "id": "2413efc1",
   "metadata": {},
   "outputs": [
    {
     "data": {
      "text/plain": [
       "[(0, 0.6), (1, 0.9)]"
      ]
     },
     "execution_count": 58,
     "metadata": {},
     "output_type": "execute_result"
    }
   ],
   "source": [
    "list(enumerate(x))"
   ]
  },
  {
   "cell_type": "code",
   "execution_count": null,
   "id": "c985a8b3",
   "metadata": {},
   "outputs": [],
   "source": []
  }
 ],
 "metadata": {
  "kernelspec": {
   "display_name": "Python 3 (ipykernel)",
   "language": "python",
   "name": "python3"
  },
  "language_info": {
   "codemirror_mode": {
    "name": "ipython",
    "version": 3
   },
   "file_extension": ".py",
   "mimetype": "text/x-python",
   "name": "python",
   "nbconvert_exporter": "python",
   "pygments_lexer": "ipython3",
   "version": "3.10.9"
  }
 },
 "nbformat": 4,
 "nbformat_minor": 5
}
