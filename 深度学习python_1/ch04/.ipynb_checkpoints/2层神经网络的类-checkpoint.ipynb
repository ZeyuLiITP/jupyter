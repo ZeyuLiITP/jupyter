{
 "cells": [
  {
   "cell_type": "code",
   "execution_count": 1,
   "id": "eb9d66f6",
   "metadata": {},
   "outputs": [],
   "source": [
    "import sys, os\n",
    "sys.path.append(os.pardir)  # 为了导入父目录中的文件而进行的设定\n",
    "import numpy as np\n",
    "from common.functions import *\n",
    "from common.gradient import numerical_gradient"
   ]
  },
  {
   "cell_type": "code",
   "execution_count": 24,
   "id": "228f2897",
   "metadata": {},
   "outputs": [],
   "source": [
    "del TwoLayerNet"
   ]
  },
  {
   "cell_type": "code",
   "execution_count": 25,
   "id": "9e789076",
   "metadata": {},
   "outputs": [],
   "source": [
    "def numerical_gradient(f, x):\n",
    "    h = 1e-4 # 0.0001\n",
    "    grad = np.zeros_like(x)\n",
    "    \n",
    "    it = np.nditer(x, flags=['multi_index'], op_flags=['readwrite'])\n",
    "    while not it.finished:\n",
    "        idx = it.multi_index\n",
    "        tmp_val = x[idx]\n",
    "        x[idx] = float(tmp_val) + h\n",
    "        fxh1 = f(x) # f(x+h)\n",
    "        \n",
    "        x[idx] = tmp_val - h \n",
    "        fxh2 = f(x) # f(x-h)\n",
    "        grad[idx] = (fxh1 - fxh2) / (2*h)\n",
    "        \n",
    "        x[idx] = tmp_val # 还原值\n",
    "        it.iternext()   \n",
    "        \n",
    "    return grad\n",
    "\n",
    "class TwoLayerNet:\n",
    "\n",
    "    def __init__(self, input_size, hidden_size, output_size, weight_init_std=0.01):\n",
    "        # 初始化权重\n",
    "        self.params = {}\n",
    "        self.params['W1'] = weight_init_std * np.random.randn(input_size, hidden_size)\n",
    "        self.params['b1'] = np.zeros(hidden_size)\n",
    "        self.params['W2'] = weight_init_std * np.random.randn(hidden_size, output_size)\n",
    "        self.params['b2'] = np.zeros(output_size)\n",
    "\n",
    "    def predict(self, x):\n",
    "        W1, W2 = self.params['W1'], self.params['W2']\n",
    "        b1, b2 = self.params['b1'], self.params['b2']\n",
    "    \n",
    "        a1 = np.dot(x, W1) + b1\n",
    "        z1 = sigmoid(a1)\n",
    "        a2 = np.dot(z1, W2) + b2\n",
    "        y = softmax(a2)\n",
    "        \n",
    "        return y\n",
    "        \n",
    "    # x:输入数据, t:监督数据\n",
    "    def loss(self, x, t):\n",
    "        y = self.predict(x)\n",
    "        return cross_entropy_error(y, t)\n",
    "    \n",
    "    def accuracy(self, x, t):\n",
    "        y = self.predict(x)\n",
    "        y = np.argmax(y, axis=1)\n",
    "        t = np.argmax(t, axis=1)\n",
    "        \n",
    "        accuracy = np.sum(y == t) / float(x.shape[0])\n",
    "        return accuracy\n",
    "        \n",
    "    # x:输入数据, t:监督数据\n",
    "    def numerical_gradient(self, x, t):\n",
    "        loss_W = lambda W: self.loss(x, t)\n",
    "        grads = {}\n",
    "        grads['W1'] = numerical_gradient(loss_W, self.params['W1'])\n",
    "        grads['b1'] = numerical_gradient(loss_W, self.params['b1'])\n",
    "        grads['W2'] = numerical_gradient(loss_W, self.params['W2'])\n",
    "        grads['b2'] = numerical_gradient(loss_W, self.params['b2'])\n",
    "        \n",
    "        return grads\n",
    "        \n",
    "    def gradient(self, x, t):\n",
    "        W1, W2 = self.params['W1'], self.params['W2']\n",
    "        b1, b2 = self.params['b1'], self.params['b2']\n",
    "        grads = {}\n",
    "        \n",
    "        batch_num = x.shape[0]\n",
    "        \n",
    "        # forward\n",
    "        a1 = np.dot(x, W1) + b1\n",
    "        z1 = sigmoid(a1)\n",
    "        a2 = np.dot(z1, W2) + b2\n",
    "        y = softmax(a2)\n",
    "        \n",
    "        # backward\n",
    "        dy = (y - t) / batch_num\n",
    "        grads['W2'] = np.dot(z1.T, dy)\n",
    "        grads['b2'] = np.sum(dy, axis=0)\n",
    "        \n",
    "        da1 = np.dot(dy, W2.T)\n",
    "        dz1 = sigmoid_grad(a1) * da1\n",
    "        grads['W1'] = np.dot(x.T, dz1)\n",
    "        grads['b1'] = np.sum(dz1, axis=0)\n",
    "\n",
    "        return grads"
   ]
  },
  {
   "cell_type": "code",
   "execution_count": 26,
   "id": "3f1c5833",
   "metadata": {},
   "outputs": [],
   "source": [
    "net=TwoLayerNet(input_size=2,hidden_size=2,output_size=2)"
   ]
  },
  {
   "cell_type": "code",
   "execution_count": 27,
   "id": "49174d35",
   "metadata": {},
   "outputs": [
    {
     "data": {
      "text/plain": [
       "(2,)"
      ]
     },
     "execution_count": 27,
     "metadata": {},
     "output_type": "execute_result"
    }
   ],
   "source": [
    "net.params['b1'].shape"
   ]
  },
  {
   "cell_type": "code",
   "execution_count": 28,
   "id": "3e967c02",
   "metadata": {},
   "outputs": [],
   "source": [
    "x=np.random.rand(100,2)\n",
    "t=np.random.rand(100,2)"
   ]
  },
  {
   "cell_type": "code",
   "execution_count": 29,
   "id": "75c4c174",
   "metadata": {
    "collapsed": true
   },
   "outputs": [
    {
     "name": "stdout",
     "output_type": "stream",
     "text": [
      "[[-0.00761139 -0.00464226]\n",
      " [ 0.01035642 -0.01099192]]\n",
      "[[-0.00781139 -0.00464226]\n",
      " [ 0.01035642 -0.01099192]]\n",
      "[[-0.00771139 -0.00454226]\n",
      " [ 0.01035642 -0.01099192]]\n",
      "[[-0.00771139 -0.00474226]\n",
      " [ 0.01035642 -0.01099192]]\n",
      "[[-0.00771139 -0.00464226]\n",
      " [ 0.01045642 -0.01099192]]\n",
      "[[-0.00771139 -0.00464226]\n",
      " [ 0.01025642 -0.01099192]]\n",
      "[[-0.00771139 -0.00464226]\n",
      " [ 0.01035642 -0.01089192]]\n",
      "[[-0.00771139 -0.00464226]\n",
      " [ 0.01035642 -0.01109192]]\n",
      "[[-0.00771139 -0.00464226]\n",
      " [ 0.01035642 -0.01099192]]\n",
      "[[-0.00771139 -0.00464226]\n",
      " [ 0.01035642 -0.01099192]]\n",
      "[[-0.00771139 -0.00464226]\n",
      " [ 0.01035642 -0.01099192]]\n",
      "[[-0.00771139 -0.00464226]\n",
      " [ 0.01035642 -0.01099192]]\n",
      "[[-0.00771139 -0.00464226]\n",
      " [ 0.01035642 -0.01099192]]\n",
      "[[-0.00771139 -0.00464226]\n",
      " [ 0.01035642 -0.01099192]]\n",
      "[[-0.00771139 -0.00464226]\n",
      " [ 0.01035642 -0.01099192]]\n",
      "[[-0.00771139 -0.00464226]\n",
      " [ 0.01035642 -0.01099192]]\n",
      "[[-0.00771139 -0.00464226]\n",
      " [ 0.01035642 -0.01099192]]\n",
      "[[-0.00771139 -0.00464226]\n",
      " [ 0.01035642 -0.01099192]]\n",
      "[[-0.00771139 -0.00464226]\n",
      " [ 0.01035642 -0.01099192]]\n",
      "[[-0.00771139 -0.00464226]\n",
      " [ 0.01035642 -0.01099192]]\n",
      "[[-0.00771139 -0.00464226]\n",
      " [ 0.01035642 -0.01099192]]\n",
      "[[-0.00771139 -0.00464226]\n",
      " [ 0.01035642 -0.01099192]]\n",
      "[[-0.00771139 -0.00464226]\n",
      " [ 0.01035642 -0.01099192]]\n",
      "[[-0.00771139 -0.00464226]\n",
      " [ 0.01035642 -0.01099192]]\n"
     ]
    }
   ],
   "source": [
    "grads=net.numerical_gradient(x[0],t[0])"
   ]
  },
  {
   "cell_type": "code",
   "execution_count": null,
   "id": "189a6cc4",
   "metadata": {},
   "outputs": [],
   "source": [
    "grads['W2']"
   ]
  },
  {
   "cell_type": "code",
   "execution_count": null,
   "id": "79ef9f7d",
   "metadata": {},
   "outputs": [],
   "source": [
    "import matplotlib.pyplot as plt\n",
    "from dataset.mnist import load_mnist\n"
   ]
  },
  {
   "cell_type": "code",
   "execution_count": null,
   "id": "61db0c4d",
   "metadata": {},
   "outputs": [],
   "source": [
    "(x_train, t_train), (x_test, t_test) = load_mnist(normalize=True, one_hot_label=True)"
   ]
  },
  {
   "cell_type": "code",
   "execution_count": null,
   "id": "ed3a004b",
   "metadata": {},
   "outputs": [],
   "source": [
    "network = TwoLayerNet(input_size=784, hidden_size=50, output_size=10)"
   ]
  },
  {
   "cell_type": "code",
   "execution_count": null,
   "id": "949a8e43",
   "metadata": {},
   "outputs": [],
   "source": [
    "iters_num = 10000  # 适当设定循环的次数\n",
    "train_size = x_train.shape[0]\n",
    "batch_size = 100\n",
    "learning_rate = 0.1"
   ]
  },
  {
   "cell_type": "code",
   "execution_count": null,
   "id": "e789344a",
   "metadata": {},
   "outputs": [],
   "source": [
    "train_loss_list = []\n",
    "train_acc_list = []\n",
    "test_acc_list = []"
   ]
  },
  {
   "cell_type": "code",
   "execution_count": null,
   "id": "36e921f7",
   "metadata": {
    "scrolled": true
   },
   "outputs": [],
   "source": [
    "for i in range(iters_num):\n",
    "    batch_mask = np.random.choice(train_size, batch_size)\n",
    "    x_batch = x_train[batch_mask]\n",
    "    t_batch = t_train[batch_mask]\n",
    "    \n",
    "    #grad = network.numerical_gradient(x_batch, t_batch)\n",
    "    grad = network.gradient(x_batch, t_batch)\n",
    "    \n",
    "    for key in ('W1', 'b1', 'W2', 'b2'):\n",
    "        network.params[key] -= learning_rate * grad[key]\n",
    "        \n",
    "    loss = network.loss(x_batch,t_batch)\n",
    "    train_loss_list.append(loss)\n",
    "    print(i)"
   ]
  },
  {
   "cell_type": "code",
   "execution_count": null,
   "id": "c7e4192a",
   "metadata": {},
   "outputs": [],
   "source": [
    "xlist=np.arange(len(train_loss_list))\n",
    "plt.plot(xlist,train_loss_list)"
   ]
  },
  {
   "cell_type": "code",
   "execution_count": null,
   "id": "77f8fc98",
   "metadata": {},
   "outputs": [],
   "source": [
    "x=np.array([[1,2,3],[1,2,3]])\n",
    "it = np.nditer(x, flags=['multi_index'], op_flags=['readwrite'])"
   ]
  },
  {
   "cell_type": "code",
   "execution_count": null,
   "id": "a29f5e55",
   "metadata": {},
   "outputs": [],
   "source": [
    "it.finished"
   ]
  },
  {
   "cell_type": "code",
   "execution_count": 55,
   "id": "3cb51d67",
   "metadata": {},
   "outputs": [],
   "source": [
    "del numerical_gradient"
   ]
  },
  {
   "cell_type": "code",
   "execution_count": 51,
   "id": "34b3016e",
   "metadata": {},
   "outputs": [],
   "source": [
    "def numerical_gradient(f, x):\n",
    "    h = 1e-4 # 0.0001\n",
    "    grad = np.zeros_like(x)\n",
    "    \n",
    "    it = np.nditer(x, flags=['multi_index'], op_flags=['readwrite'])\n",
    "    while not it.finished:\n",
    "        idx = it.multi_index\n",
    "        tmp_val = x[idx]\n",
    "        x[idx] = float(tmp_val) + h\n",
    "        print(test)\n",
    "        fxh1 = f(x) # f(x+h)\n",
    "        \n",
    "        x[idx] = tmp_val - h \n",
    "        fxh2 = f(x) # f(x-h)\n",
    "        grad[idx] = (fxh1 - fxh2) / (2*h)\n",
    "        \n",
    "        x[idx] = tmp_val # 还原值\n",
    "        it.iternext()\n",
    "    x=x+1;\n",
    "    print(test)\n",
    "    return grad"
   ]
  },
  {
   "cell_type": "code",
   "execution_count": 74,
   "id": "62dc321c",
   "metadata": {},
   "outputs": [],
   "source": [
    "test=np.array([1.0,2.0,3.0,4.0,5.0])"
   ]
  },
  {
   "cell_type": "code",
   "execution_count": 35,
   "id": "8bd4f995",
   "metadata": {},
   "outputs": [],
   "source": [
    "def function_1(x):\n",
    "    return np.sum(x**2)"
   ]
  },
  {
   "cell_type": "code",
   "execution_count": 72,
   "id": "9eb2f350",
   "metadata": {},
   "outputs": [],
   "source": [
    "del f"
   ]
  },
  {
   "cell_type": "code",
   "execution_count": 73,
   "id": "1b564359",
   "metadata": {},
   "outputs": [],
   "source": [
    "def f(x):\n",
    "    it = np.nditer(x, flags=['multi_index'])\n",
    "    while not it.finished:\n",
    "        idx = it.multi_index;\n",
    "        x[idx]+=1\n",
    "        x[idx]-=1\n",
    "        it.iternext()"
   ]
  },
  {
   "cell_type": "code",
   "execution_count": 75,
   "id": "01c052a1",
   "metadata": {},
   "outputs": [
    {
     "name": "stdout",
     "output_type": "stream",
     "text": [
      "[1. 2. 3. 4. 5.]\n",
      "[1. 2. 3. 4. 5.]\n"
     ]
    }
   ],
   "source": [
    "print(test)\n",
    "f(test)\n",
    "print(test)"
   ]
  },
  {
   "cell_type": "code",
   "execution_count": 71,
   "id": "cc960958",
   "metadata": {},
   "outputs": [
    {
     "data": {
      "text/plain": [
       "array([3., 4., 5., 6., 7.])"
      ]
     },
     "execution_count": 71,
     "metadata": {},
     "output_type": "execute_result"
    }
   ],
   "source": [
    "test"
   ]
  },
  {
   "cell_type": "code",
   "execution_count": null,
   "id": "1911dd9e",
   "metadata": {},
   "outputs": [],
   "source": []
  }
 ],
 "metadata": {
  "kernelspec": {
   "display_name": "Python 3 (ipykernel)",
   "language": "python",
   "name": "python3"
  },
  "language_info": {
   "codemirror_mode": {
    "name": "ipython",
    "version": 3
   },
   "file_extension": ".py",
   "mimetype": "text/x-python",
   "name": "python",
   "nbconvert_exporter": "python",
   "pygments_lexer": "ipython3",
   "version": "3.10.9"
  }
 },
 "nbformat": 4,
 "nbformat_minor": 5
}
