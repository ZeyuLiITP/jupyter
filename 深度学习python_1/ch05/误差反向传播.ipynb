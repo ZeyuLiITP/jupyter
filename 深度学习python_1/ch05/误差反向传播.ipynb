{
 "cells": [
  {
   "cell_type": "code",
   "execution_count": null,
   "id": "1ce6e8fa",
   "metadata": {},
   "outputs": [],
   "source": [
    "import numpy as np"
   ]
  },
  {
   "cell_type": "code",
   "execution_count": null,
   "id": "6f6186c1",
   "metadata": {},
   "outputs": [],
   "source": [
    "class MulLayer:\n",
    "    def __init__(self):\n",
    "        self.x = None;\n",
    "        self.y = None;\n",
    "        \n",
    "    def forward(self,x,y):\n",
    "        self.x = x;\n",
    "        self.y = y;\n",
    "        out = x*y;\n",
    "        return out;\n",
    "    \n",
    "    def backward(self,dout):\n",
    "        dx = self.y * dout;\n",
    "        dy = self.x *dout;\n",
    "        return dx,dy"
   ]
  },
  {
   "cell_type": "code",
   "execution_count": null,
   "id": "0e819001",
   "metadata": {},
   "outputs": [],
   "source": [
    "apple=100\n",
    "apple_num = 2\n",
    "tax =1.1"
   ]
  },
  {
   "cell_type": "code",
   "execution_count": null,
   "id": "6fb99f24",
   "metadata": {},
   "outputs": [],
   "source": [
    "mul_apple_layer = MulLayer()\n",
    "mul_tax_layer = MulLayer()"
   ]
  },
  {
   "cell_type": "code",
   "execution_count": null,
   "id": "47f28cac",
   "metadata": {},
   "outputs": [],
   "source": [
    "apple_price = mul_apple_layer.forward(apple,apple_num)"
   ]
  },
  {
   "cell_type": "code",
   "execution_count": null,
   "id": "d1f0154b",
   "metadata": {},
   "outputs": [],
   "source": [
    "price = mul_tax_layer.forward(apple_price,tax)"
   ]
  },
  {
   "cell_type": "code",
   "execution_count": null,
   "id": "21bc47c2",
   "metadata": {},
   "outputs": [],
   "source": [
    "dprice =1 ;\n",
    "dapple_price , dtax = mul_tax_layer.backward(dprice)"
   ]
  },
  {
   "cell_type": "code",
   "execution_count": null,
   "id": "9cd00a6c",
   "metadata": {},
   "outputs": [],
   "source": [
    "class Relu:\n",
    "    def __init__(self):\n",
    "        self.mask = None;\n",
    "        \n",
    "    def forward(self,x):\n",
    "        self.mask = (x <= 0);\n",
    "        out = x.copy();\n",
    "        out[self.mask] = 0;\n",
    "        return out\n",
    "    \n",
    "    def backward(self,dout):\n",
    "        dout[self] = 0;\n",
    "        dx = out;\n",
    "        return dx"
   ]
  },
  {
   "cell_type": "code",
   "execution_count": null,
   "id": "3916e162",
   "metadata": {},
   "outputs": [],
   "source": [
    "class Sigmoid:\n",
    "    def __init__(self):\n",
    "        self.out = None;\n",
    "        \n",
    "    def forward(self,x):\n",
    "        self.out = 1/(1+np.exp(-x));\n",
    "        \n",
    "        return self.out\n",
    "    \n",
    "    def bacward(self,dout):\n",
    "        dx = dout * (1-self.out)*self.out\n",
    "        return dx"
   ]
  },
  {
   "cell_type": "code",
   "execution_count": null,
   "id": "5ee739ad",
   "metadata": {},
   "outputs": [],
   "source": [
    "sig = Sigmoid()"
   ]
  },
  {
   "cell_type": "code",
   "execution_count": null,
   "id": "14ef1d4c",
   "metadata": {},
   "outputs": [],
   "source": [
    "sig.forward(np.array([1,2,3]))"
   ]
  },
  {
   "cell_type": "code",
   "execution_count": null,
   "id": "6fd26dc7",
   "metadata": {},
   "outputs": [],
   "source": [
    "sig.bacward(1)"
   ]
  },
  {
   "cell_type": "code",
   "execution_count": null,
   "id": "b878cf5f",
   "metadata": {},
   "outputs": [],
   "source": [
    "class Affine:\n",
    "    def __init__(self,W,b):\n",
    "        self.W = W;\n",
    "        self.b = b;\n",
    "        self.x = None;\n",
    "        self.dW = None;\n",
    "        self.db = None;\n",
    "        \n",
    "    def forward(self,x):\n",
    "        self.x = x;\n",
    "        out = np.dot(x,self.W) + self.b;\n",
    "        return out\n",
    "        \n",
    "    def backward(self,dout):\n",
    "        dx = np.dot(dout,self.W.T);\n",
    "        self.dW = np.dot(self.x.T,dout)\n",
    "        self.db = np.sum(dout,axis = 0)\n",
    "        return dx\n",
    "        "
   ]
  },
  {
   "cell_type": "code",
   "execution_count": null,
   "id": "d8cc86af",
   "metadata": {},
   "outputs": [],
   "source": [
    "class SoftmaxWithLoss:\n",
    "    def __init__(self):\n",
    "        self.loss= None;\n",
    "        self.y= None;\n",
    "        self.t = None;\n",
    "        \n",
    "    def forward(self,x,t):\n",
    "        self.t = t;\n",
    "        self.y = softmax(x);\n",
    "        self.loss = cross_entropy_error(self.y,self.t);\n",
    "        \n",
    "        return self.loss\n",
    "    \n",
    "    def backward(self,dout = 1):\n",
    "        batch_size = self.t.shape[0];\n",
    "        \n",
    "        dx= (self.y - self.t)/batch_size;\n",
    "        return dx"
   ]
  },
  {
   "cell_type": "code",
   "execution_count": 1,
   "id": "54f29e82",
   "metadata": {},
   "outputs": [],
   "source": [
    "# coding: utf-8\n",
    "import sys, os\n",
    "sys.path.append(os.pardir)  # 为了导入父目录的文件而进行的设定\n",
    "import numpy as np\n",
    "from common.layers import *\n",
    "from common.gradient import numerical_gradient\n",
    "from collections import OrderedDict"
   ]
  },
  {
   "cell_type": "code",
   "execution_count": 20,
   "id": "fd096f7d",
   "metadata": {},
   "outputs": [],
   "source": [
    "del TwoLayerNet"
   ]
  },
  {
   "cell_type": "code",
   "execution_count": 2,
   "id": "4a7562ab",
   "metadata": {},
   "outputs": [],
   "source": [
    "class TwoLayerNet:\n",
    "\n",
    "    def __init__(self, input_size, hidden_size, output_size, weight_init_std = 0.01):\n",
    "        # 初始化权重\n",
    "        self.params = {}\n",
    "        self.params['W1'] = weight_init_std * np.random.randn(input_size, hidden_size)\n",
    "        self.params['b1'] = np.zeros(hidden_size)\n",
    "        self.params['W2'] = weight_init_std * np.random.randn(hidden_size, output_size) \n",
    "        self.params['b2'] = np.zeros(output_size)\n",
    "\n",
    "        # 生成层\n",
    "        self.layers = OrderedDict()\n",
    "        self.layers['Affine1'] = Affine(self.params['W1'], self.params['b1'])\n",
    "        self.layers['Relu1'] = Relu()\n",
    "        self.layers['Affine2'] = Affine(self.params['W2'], self.params['b2'])\n",
    "\n",
    "        self.lastLayer = SoftmaxWithLoss()\n",
    "        \n",
    "    def predict(self, x):\n",
    "        for layer in self.layers.values():\n",
    "            x = layer.forward(x)\n",
    "        \n",
    "        return x\n",
    "        \n",
    "    # x:输入数据, t:监督数据\n",
    "    def loss(self, x, t):\n",
    "        y = self.predict(x)\n",
    "        return self.lastLayer.forward(y, t)\n",
    "    \n",
    "    def accuracy(self, x, t):\n",
    "        y = self.predict(x)\n",
    "        y = np.argmax(y, axis=1)\n",
    "        if t.ndim != 1 : t = np.argmax(t, axis=1)\n",
    "        \n",
    "        accuracy = np.sum(y == t) / float(x.shape[0])\n",
    "        return accuracy\n",
    "    \n",
    "    def gradient(self, x, t):\n",
    "        # forward\n",
    "        self.loss(x, t)\n",
    "\n",
    "        # backward\n",
    "        dout = 1\n",
    "        dout = self.lastLayer.backward(dout)\n",
    "        \n",
    "        layers = list(self.layers.values())\n",
    "        layers.reverse()\n",
    "        for layer in layers:\n",
    "            dout = layer.backward(dout)\n",
    "\n",
    "        # 设定\n",
    "        grads = {}\n",
    "        grads['W1'], grads['b1'] = self.layers['Affine1'].dW, self.layers['Affine1'].db\n",
    "        grads['W2'], grads['b2'] = self.layers['Affine2'].dW, self.layers['Affine2'].db\n",
    "\n",
    "        return grads"
   ]
  },
  {
   "cell_type": "code",
   "execution_count": null,
   "id": "8c9af857",
   "metadata": {},
   "outputs": [],
   "source": [
    "class TwoLayerNet:\n",
    "    def __init__(self,input_size,hidden_size,out_size,weight_size_std=0.01):\n",
    "        self.params = {};\n",
    "        self.params['W1'] =weight_size_std * np.random.randn(input_size,hidden_size);\n",
    "        self.params['b1'] = np.zeros(hidden_size);\n",
    "        self.params['W2'] =weight_size_std * np.random.randn(hidden_size,out_size);\n",
    "        self.params['b2'] = np.zeros(hidden_size);\n",
    "        \n",
    "        self.layers = OrderedDict();\n",
    "        self.layers[\"Affine1\"] = Affine(self.params['W1'],self.params['b1']);\n",
    "        self.layers[\"Relu1\"] = Relu();\n",
    "        self.layers[\"Affine2\"] = Affine(self.params['W2'],self.params['b2']);\n",
    "        self.lastLayer = SoftmaxWithLoss();\n",
    "        \n",
    "        \n",
    "    def predict(self,x):\n",
    "        for layer in self.layers.values():\n",
    "            out = layer.forward(x)\n",
    "        return out\n",
    "    \n",
    "    def loss(self,x,t):\n",
    "        y = self.predict(x);\n",
    "        out = self.lastLayer.forward(y);\n",
    "        \n",
    "        return out\n",
    "    \n",
    "    \n",
    "        \n",
    "        \n",
    "        \n"
   ]
  },
  {
   "cell_type": "code",
   "execution_count": null,
   "id": "5d3e3ef5",
   "metadata": {},
   "outputs": [],
   "source": [
    "del Affine"
   ]
  },
  {
   "cell_type": "code",
   "execution_count": null,
   "id": "db7d2fe8",
   "metadata": {},
   "outputs": [],
   "source": [
    "class Affine:\n",
    "    def __init__(self, W, b):\n",
    "        self.W =W\n",
    "        self.b = b\n",
    "        \n",
    "        self.x = None\n",
    "        self.original_x_shape = None\n",
    "        # 权重和偏置参数的导数\n",
    "        self.dW = None\n",
    "        self.db = None\n",
    "\n",
    "    def forward(self, x):\n",
    "        # 对应张量\n",
    "        \n",
    "        self.x = x\n",
    "\n",
    "        out = np.dot(self.x, self.W) + self.b\n",
    "\n",
    "        return out\n",
    "\n",
    "    def backward(self, dout):\n",
    "        if self.x.ndim ==1:\n",
    "            x = self.x.reshape(1,self.x.size)\n",
    "            \n",
    "        if dout.ndim == 1:\n",
    "            dout = dout.reshape(1,dout.size)\n",
    "            \n",
    "        \n",
    "        dx = np.dot(dout, self.W.T).reshape(self.x.shape)\n",
    "        self.dW = np.dot(x.T, dout)\n",
    "        self.db = np.sum(dout, axis=0)\n",
    "          # 还原输入数据的形状（对应张量）\n",
    "        return dx"
   ]
  },
  {
   "cell_type": "code",
   "execution_count": null,
   "id": "18e4caf1",
   "metadata": {},
   "outputs": [],
   "source": [
    "del testpara,test"
   ]
  },
  {
   "cell_type": "code",
   "execution_count": null,
   "id": "ce485731",
   "metadata": {},
   "outputs": [],
   "source": [
    "testparaW = np.random.randn(3,4)\n",
    "testparab = np.zeros(4)"
   ]
  },
  {
   "cell_type": "code",
   "execution_count": null,
   "id": "a562589d",
   "metadata": {},
   "outputs": [],
   "source": [
    "testAffine = Affine(testparaW,testparab)"
   ]
  },
  {
   "cell_type": "code",
   "execution_count": null,
   "id": "c841dfc0",
   "metadata": {},
   "outputs": [],
   "source": [
    "xtest.shape"
   ]
  },
  {
   "cell_type": "code",
   "execution_count": null,
   "id": "4cd6db3a",
   "metadata": {},
   "outputs": [],
   "source": [
    "xtest = np.random.randn(3)\n",
    "ttest = np.random.randn(4)"
   ]
  },
  {
   "cell_type": "code",
   "execution_count": null,
   "id": "c6ccc58d",
   "metadata": {},
   "outputs": [],
   "source": [
    "testAffine.forward(xtest)"
   ]
  },
  {
   "cell_type": "code",
   "execution_count": null,
   "id": "394cdd73",
   "metadata": {},
   "outputs": [],
   "source": [
    "testAffine.backward(ttest)"
   ]
  },
  {
   "cell_type": "code",
   "execution_count": null,
   "id": "28ba4771",
   "metadata": {},
   "outputs": [],
   "source": [
    "testAffine.dW"
   ]
  },
  {
   "cell_type": "code",
   "execution_count": null,
   "id": "1fb27841",
   "metadata": {},
   "outputs": [],
   "source": []
  },
  {
   "cell_type": "code",
   "execution_count": null,
   "id": "8a7d2029",
   "metadata": {},
   "outputs": [],
   "source": [
    "test.predict(xtest)"
   ]
  },
  {
   "cell_type": "code",
   "execution_count": 3,
   "id": "a6469cb8",
   "metadata": {},
   "outputs": [],
   "source": [
    "testnetwork = TwoLayerNet(3,4,3)"
   ]
  },
  {
   "cell_type": "code",
   "execution_count": 16,
   "id": "e676c17a",
   "metadata": {},
   "outputs": [],
   "source": [
    "xtest = np.random.randn(1,3)\n",
    "ttest = np.random.randn(1,3)\n",
    "douttest = np.random.randn(1,3)"
   ]
  },
  {
   "cell_type": "code",
   "execution_count": 17,
   "id": "829bfcba",
   "metadata": {},
   "outputs": [
    {
     "data": {
      "text/plain": [
       "array([[-0.00056795,  0.00022167,  0.00075566]])"
      ]
     },
     "execution_count": 17,
     "metadata": {},
     "output_type": "execute_result"
    }
   ],
   "source": [
    "testnetwork.predict(xtest)"
   ]
  },
  {
   "cell_type": "code",
   "execution_count": 18,
   "id": "808ec04c",
   "metadata": {},
   "outputs": [
    {
     "data": {
      "text/plain": [
       "1.0979929353321451"
      ]
     },
     "execution_count": 18,
     "metadata": {},
     "output_type": "execute_result"
    }
   ],
   "source": [
    "testnetwork.loss(xtest,ttest)"
   ]
  },
  {
   "cell_type": "code",
   "execution_count": 19,
   "id": "8d462152",
   "metadata": {},
   "outputs": [
    {
     "data": {
      "text/plain": [
       "array([2], dtype=int64)"
      ]
     },
     "execution_count": 19,
     "metadata": {},
     "output_type": "execute_result"
    }
   ],
   "source": [
    "np.argmax(xtest,axis=1)"
   ]
  },
  {
   "cell_type": "code",
   "execution_count": null,
   "id": "8112460a",
   "metadata": {},
   "outputs": [],
   "source": []
  }
 ],
 "metadata": {
  "kernelspec": {
   "display_name": "Python 3 (ipykernel)",
   "language": "python",
   "name": "python3"
  },
  "language_info": {
   "codemirror_mode": {
    "name": "ipython",
    "version": 3
   },
   "file_extension": ".py",
   "mimetype": "text/x-python",
   "name": "python",
   "nbconvert_exporter": "python",
   "pygments_lexer": "ipython3",
   "version": "3.10.14"
  },
  "toc": {
   "base_numbering": 1,
   "nav_menu": {},
   "number_sections": true,
   "sideBar": true,
   "skip_h1_title": false,
   "title_cell": "Table of Contents",
   "title_sidebar": "Contents",
   "toc_cell": false,
   "toc_position": {},
   "toc_section_display": true,
   "toc_window_display": false
  }
 },
 "nbformat": 4,
 "nbformat_minor": 5
}
