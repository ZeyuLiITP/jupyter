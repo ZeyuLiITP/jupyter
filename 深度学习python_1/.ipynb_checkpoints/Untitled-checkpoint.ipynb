{
 "cells": [
  {
   "cell_type": "code",
   "execution_count": 1,
   "id": "aabb4378",
   "metadata": {},
   "outputs": [],
   "source": [
    "import numpy as np"
   ]
  },
  {
   "cell_type": "code",
   "execution_count": 2,
   "id": "ab971404",
   "metadata": {},
   "outputs": [],
   "source": [
    "def step_function(x):\n",
    "    if x>0:\n",
    "        return 1\n",
    "    else:\n",
    "        return 0"
   ]
  },
  {
   "cell_type": "code",
   "execution_count": 10,
   "id": "4e10be6b",
   "metadata": {},
   "outputs": [],
   "source": [
    "def step_function(x):\n",
    "    y= x>0;\n",
    "    return y.astype(int)"
   ]
  },
  {
   "cell_type": "code",
   "execution_count": 11,
   "id": "92e1b25b",
   "metadata": {},
   "outputs": [],
   "source": [
    "def sigmoid(x):\n",
    "    return 1/(1+np.exp(-x))"
   ]
  },
  {
   "cell_type": "code",
   "execution_count": 14,
   "id": "7d1edbd8",
   "metadata": {},
   "outputs": [],
   "source": [
    "def identity_function(x):\n",
    "    return x"
   ]
  },
  {
   "cell_type": "code",
   "execution_count": 13,
   "id": "780a9e28",
   "metadata": {},
   "outputs": [
    {
     "data": {
      "text/plain": [
       "0.2689414213699951"
      ]
     },
     "execution_count": 13,
     "metadata": {},
     "output_type": "execute_result"
    }
   ],
   "source": [
    "sigmoid(-1)"
   ]
  },
  {
   "cell_type": "code",
   "execution_count": 13,
   "id": "db70d5ec",
   "metadata": {},
   "outputs": [
    {
     "data": {
      "text/plain": [
       "array([1, 0, 0, 1])"
      ]
     },
     "execution_count": 13,
     "metadata": {},
     "output_type": "execute_result"
    }
   ],
   "source": [
    "step_function(np.array([1,0,-1,2]))"
   ]
  },
  {
   "cell_type": "code",
   "execution_count": 14,
   "id": "722540b1",
   "metadata": {},
   "outputs": [],
   "source": [
    "import matplotlib.pylab as plt"
   ]
  },
  {
   "cell_type": "code",
   "execution_count": 15,
   "id": "f8601afc",
   "metadata": {},
   "outputs": [],
   "source": [
    "x=np.arange(-5.0,5.0,0.1)"
   ]
  },
  {
   "cell_type": "code",
   "execution_count": 17,
   "id": "c115d9bc",
   "metadata": {},
   "outputs": [],
   "source": [
    "y=step_function(x)"
   ]
  },
  {
   "cell_type": "code",
   "execution_count": 22,
   "id": "c2f0ed19",
   "metadata": {},
   "outputs": [
    {
     "data": {
      "image/png": "[encoded data removed]",
      "text/plain": [
       "<Figure size 640x480 with 1 Axes>"
      ]
     },
     "metadata": {},
     "output_type": "display_data"
    }
   ],
   "source": [
    "plt.plot(x,y)\n",
    "plt.ylim(-0.1,1.11)\n",
    "plt.show()"
   ]
  },
  {
   "cell_type": "code",
   "execution_count": 2,
   "id": "64f12ca9",
   "metadata": {},
   "outputs": [],
   "source": [
    "def init_network():\n",
    "    network={};\n",
    "    network['W1']=np.array([[0.1,0.3,0.5],[0.2,0.4,0.6]]);\n",
    "    network['b1']=np.array([0.1,0.2,0.3]);\n",
    "    network['W2']=np.array([[0.1,0.4],[0.2,0.5],[0.3,0.6]]);\n",
    "    network['b2']=np.array([0.1,0.2]);\n",
    "    network['W3']=np.array([[0.1,0.3],[0.2,0.4]]);\n",
    "    network['b3']=np.array([0.1,0.2]);\n",
    "    return network"
   ]
  },
  {
   "cell_type": "code",
   "execution_count": 7,
   "id": "50bed75b",
   "metadata": {},
   "outputs": [
    {
     "data": {
      "text/plain": [
       "array([0.1, 0.2, 0.3])"
      ]
     },
     "execution_count": 7,
     "metadata": {},
     "output_type": "execute_result"
    }
   ],
   "source": [
    "init_network()['b1']"
   ]
  },
  {
   "cell_type": "code",
   "execution_count": 17,
   "id": "21a58a24",
   "metadata": {},
   "outputs": [],
   "source": [
    "def forward(network,x):\n",
    "    W1,W2,W3=network['W1'],network['W2'],network['W3'];\n",
    "    b1,b2,b3=network['b1'],network['b2'],network['b3'];\n",
    "    \n",
    "    a1=np.dot(x,W1)+b1;\n",
    "    z1=sigmoid(a1);\n",
    "    a2=np.dot(z1,W2)+b2;\n",
    "    z2=sigmoid(a2);\n",
    "    a3=np.dot(z2,W3)+b3;\n",
    "    y=identity_function(a3)\n",
    "    return y"
   ]
  },
  {
   "cell_type": "code",
   "execution_count": 18,
   "id": "9d7aca91",
   "metadata": {},
   "outputs": [],
   "source": [
    "network=init_network();\n",
    "x=np.array([1.0,0.5]);\n",
    "y=forward(network,x)"
   ]
  },
  {
   "cell_type": "code",
   "execution_count": 19,
   "id": "164ec709",
   "metadata": {},
   "outputs": [
    {
     "name": "stdout",
     "output_type": "stream",
     "text": [
      "[0.31682708 0.69627909]\n"
     ]
    }
   ],
   "source": [
    "print(y)"
   ]
  },
  {
   "cell_type": "code",
   "execution_count": 22,
   "id": "106b23b8",
   "metadata": {},
   "outputs": [
    {
     "data": {
      "text/plain": [
       "74.1221542101633"
      ]
     },
     "execution_count": 22,
     "metadata": {},
     "output_type": "execute_result"
    }
   ],
   "source": [
    "a=np.array([0.3,2.9,4.0]);\n",
    "(np.sum(np.exp(a)))"
   ]
  },
  {
   "cell_type": "code",
   "execution_count": 23,
   "id": "75cc9864",
   "metadata": {},
   "outputs": [
    {
     "data": {
      "text/plain": [
       "array([0.01821127, 0.24519181, 0.73659691])"
      ]
     },
     "execution_count": 23,
     "metadata": {},
     "output_type": "execute_result"
    }
   ],
   "source": [
    "np.exp(a)/(np.sum(np.exp(a)))"
   ]
  },
  {
   "cell_type": "code",
   "execution_count": 30,
   "id": "b8987e6b",
   "metadata": {},
   "outputs": [],
   "source": [
    "def softmax(a):\n",
    "    c=np.max(a);\n",
    "    return np.exp(a-c)/(np.sum(np.exp(a-c)))"
   ]
  },
  {
   "cell_type": "code",
   "execution_count": 26,
   "id": "bfc4df87",
   "metadata": {},
   "outputs": [],
   "source": [
    "a=np.array([1010,1000,990])\n",
    "c=np.max(a)"
   ]
  },
  {
   "cell_type": "code",
   "execution_count": 29,
   "id": "e75e9ef6",
   "metadata": {},
   "outputs": [
    {
     "data": {
      "text/plain": [
       "array([9.99954600e-01, 4.53978686e-05, 2.06106005e-09])"
      ]
     },
     "execution_count": 29,
     "metadata": {},
     "output_type": "execute_result"
    }
   ],
   "source": [
    "np.exp(a-c)/np.sum(np.exp(a-c))"
   ]
  },
  {
   "cell_type": "code",
   "execution_count": null,
   "id": "e3428d6b",
   "metadata": {},
   "outputs": [],
   "source": []
  }
 ],
 "metadata": {
  "kernelspec": {
   "display_name": "Python 3 (ipykernel)",
   "language": "python",
   "name": "python3"
  },
  "language_info": {
   "codemirror_mode": {
    "name": "ipython",
    "version": 3
   },
   "file_extension": ".py",
   "mimetype": "text/x-python",
   "name": "python",
   "nbconvert_exporter": "python",
   "pygments_lexer": "ipython3",
   "version": "3.10.9"
  }
 },
 "nbformat": 4,
 "nbformat_minor": 5
}
