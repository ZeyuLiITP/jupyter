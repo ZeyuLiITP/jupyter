{
 "cells": [
  {
   "cell_type": "code",
   "execution_count": 4,
   "id": "3edaf3eb",
   "metadata": {},
   "outputs": [],
   "source": [
    "import sys , os\n",
    "sys.path.append(os.pardir)\n",
    "from common.util import im2col"
   ]
  },
  {
   "cell_type": "code",
   "execution_count": 5,
   "id": "d1956d61",
   "metadata": {},
   "outputs": [],
   "source": [
    "import numpy as np"
   ]
  },
  {
   "cell_type": "code",
   "execution_count": 38,
   "id": "e2a5abae",
   "metadata": {},
   "outputs": [],
   "source": [
    "x1= np.random.randn(1,3,7,7)"
   ]
  },
  {
   "cell_type": "code",
   "execution_count": null,
   "id": "ce538d07",
   "metadata": {},
   "outputs": [],
   "source": [
    "class Convolution:\n",
    "    def __init__(self,W,b,stride=1,pad = 0):\n",
    "        self.W = W;\n",
    "        self.b = b;\n",
    "        self.stride = stride;\n",
    "        self.pad = pad;\n",
    "        \n",
    "    def forward(self,x):\n",
    "        FN,C,FH,FW = self.W.shape;\n",
    "        N,C,H,W = x.shape;\n",
    "        out_h = int(1+ (H +2*self.pad - FH)/self.stride);\n",
    "        out_w = int(1+(W + 2* self.pad -FW)/self.stride);\n",
    "        \n",
    "        col = im2col(x,FH,FW,self.stride,self.pad);\n",
    "        col_W = self.W.reshape(FN,-1).T\n",
    "        out = np.dot(col,col_W) + self.b"
   ]
  },
  {
   "cell_type": "code",
   "execution_count": 43,
   "id": "9dacc137",
   "metadata": {},
   "outputs": [],
   "source": [
    "x1= np.random.randn(3,3)"
   ]
  },
  {
   "cell_type": "code",
   "execution_count": 50,
   "id": "af427448",
   "metadata": {},
   "outputs": [
    {
     "data": {
      "text/plain": [
       "array([[ 1.01836031, -1.40517303, -0.23488143],\n",
       "       [ 1.68685709,  1.05179691, -1.40205073],\n",
       "       [-1.67816053,  0.51291222,  1.49429644]])"
      ]
     },
     "execution_count": 50,
     "metadata": {},
     "output_type": "execute_result"
    }
   ],
   "source": [
    "x1 "
   ]
  },
  {
   "cell_type": "code",
   "execution_count": null,
   "id": "75de6851",
   "metadata": {},
   "outputs": [],
   "source": []
  }
 ],
 "metadata": {
  "kernelspec": {
   "display_name": "Python 3 (ipykernel)",
   "language": "python",
   "name": "python3"
  },
  "language_info": {
   "codemirror_mode": {
    "name": "ipython",
    "version": 3
   },
   "file_extension": ".py",
   "mimetype": "text/x-python",
   "name": "python",
   "nbconvert_exporter": "python",
   "pygments_lexer": "ipython3",
   "version": "3.10.9"
  }
 },
 "nbformat": 4,
 "nbformat_minor": 5
}
