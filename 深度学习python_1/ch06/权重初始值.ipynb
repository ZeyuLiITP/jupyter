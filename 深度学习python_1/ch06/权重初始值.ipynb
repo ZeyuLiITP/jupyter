{
 "cells": [
  {
   "cell_type": "code",
   "execution_count": null,
   "id": "976fb15e",
   "metadata": {},
   "outputs": [],
   "source": [
    "import numpy as np\n",
    "import matplotlib.pyplot as plt\n",
    "\n",
    "\n",
    "def sigmoid(x):\n",
    "    return 1 / (1 + np.exp(-x))\n",
    "\n",
    "\n",
    "def ReLU(x):\n",
    "    return np.maximum(0, x)\n",
    "\n",
    "\n",
    "def tanh(x):\n",
    "    return np.tanh(x)"
   ]
  },
  {
   "cell_type": "code",
   "execution_count": null,
   "id": "1ba52698",
   "metadata": {},
   "outputs": [],
   "source": [
    "input_data = np.random.randn(1000, 100)  # 1000个数据\n",
    "node_num = 100  # 各隐藏层的节点（神经元）数\n",
    "hidden_layer_size = 5  # 隐藏层有5层\n",
    "activations = {}  # 激活值的结果保存在这里\n",
    "x = input_data"
   ]
  },
  {
   "cell_type": "code",
   "execution_count": null,
   "id": "1cbad4b2",
   "metadata": {},
   "outputs": [],
   "source": []
  },
  {
   "cell_type": "code",
   "execution_count": null,
   "id": "9f60169c",
   "metadata": {},
   "outputs": [],
   "source": [
    "#w = np.random.randn(node_num, node_num) * 1\n",
    "    #w = np.random.randn(node_num, node_num) * 0.01\n",
    "    #w = np.random.randn(node_num, node_num) * np.sqrt(1.0 / node_num)\n",
    "    # w = np.random.randn(node_num, node_num) * np.sqrt(2.0 / node_num)"
   ]
  },
  {
   "cell_type": "code",
   "execution_count": null,
   "id": "c0dc0e17",
   "metadata": {},
   "outputs": [],
   "source": [
    "for i in range(hidden_layer_size):\n",
    "    if i != 0:\n",
    "        x = activations[i-1]\n",
    "\n",
    "    # 改变初始值进行实验！\n",
    "    w = np.random.randn(node_num, node_num) * np.sqrt(1.0 / node_num)\n",
    "\n",
    "\n",
    "    a = np.dot(x, w)\n",
    "\n",
    "\n",
    "    # 将激活函数的种类也改变，来进行实验！\n",
    "    #z = sigmoid(a)\n",
    "    z = ReLU(a)\n",
    "    # z = tanh(a)\n",
    "\n",
    "    activations[i] = z\n",
    "\n",
    "    \n",
    "# 绘制直方图\n",
    "for i, a in activations.items():\n",
    "    plt.subplot(1, len(activations), i+1)\n",
    "    plt.title(str(i+1) + \"-layer\")\n",
    "    if i != 0: plt.yticks([], [])\n",
    "    # plt.xlim(0.1, 1)\n",
    "    # plt.ylim(0, 7000)\n",
    "    plt.hist(a.flatten(), 30, range=(0,1))\n",
    "plt.show()\n"
   ]
  },
  {
   "cell_type": "code",
   "execution_count": null,
   "id": "685c2eb3",
   "metadata": {},
   "outputs": [],
   "source": []
  },
  {
   "cell_type": "code",
   "execution_count": 1,
   "id": "d73e9416",
   "metadata": {},
   "outputs": [],
   "source": [
    "import os\n",
    "import sys\n",
    "sys.path.append(os.pardir)  # 为了导入父目录的文件而进行的设定\n",
    "import matplotlib.pyplot as plt\n",
    "from dataset.mnist import load_mnist\n",
    "from common.util import smooth_curve\n",
    "from common.multi_layer_net import MultiLayerNet\n",
    "from common.optimizer import *"
   ]
  },
  {
   "cell_type": "code",
   "execution_count": 2,
   "id": "52c66b35",
   "metadata": {},
   "outputs": [],
   "source": [
    "#导入训练集\n",
    "(x_train, t_train), (x_test, t_test) = load_mnist(normalize=True)\n",
    "\n",
    "train_size = x_train.shape[0]\n",
    "batch_size = 128  #批量训练个数\n",
    "max_iterations = 2000  #总共的训练次数"
   ]
  },
  {
   "cell_type": "code",
   "execution_count": 3,
   "id": "231d7d57",
   "metadata": {},
   "outputs": [],
   "source": [
    "#初始化神经网络\n",
    "\n",
    "weigth_init_method ={}; #要使用的不同初始化方案的名字\n",
    "weigth_init_method['std'] = 0.01\n",
    "weigth_init_method['xavier'] ='xavier'\n",
    "weigth_init_method['he'] ='he'\n",
    "\n",
    "train_loss = {}"
   ]
  },
  {
   "cell_type": "code",
   "execution_count": 4,
   "id": "5385a2f1",
   "metadata": {},
   "outputs": [],
   "source": [
    "networks = {};\n",
    "for key,value in weigth_init_method.items():\n",
    "    networks[key] = MultiLayerNet(input_size=784, hidden_size_list=[100, 100, 100, 100],\n",
    "        output_size=10,weight_init_std= value)\n",
    "    train_loss[key] = [];"
   ]
  },
  {
   "cell_type": "code",
   "execution_count": 5,
   "id": "1c32af5c",
   "metadata": {},
   "outputs": [],
   "source": [
    "; #初始化 loss 值\n",
    "optimizers = SGD();"
   ]
  },
  {
   "cell_type": "code",
   "execution_count": 6,
   "id": "66373283",
   "metadata": {
    "collapsed": true
   },
   "outputs": [
    {
     "name": "stdout",
     "output_type": "stream",
     "text": [
      "===========iteration:0===========\n",
      "std:2.302463330145461\n",
      "xavier:2.300850728347045\n",
      "he:2.557168084064249\n",
      "===========iteration:100===========\n",
      "std:2.3014313098210892\n",
      "xavier:2.2406336004073664\n",
      "he:1.5904480272632293\n",
      "===========iteration:200===========\n",
      "std:2.303305697624879\n",
      "xavier:2.1257364164183983\n",
      "he:0.9908574725304842\n",
      "===========iteration:300===========\n",
      "std:2.30370653829723\n",
      "xavier:1.8649020145857371\n",
      "he:0.6305210074078829\n",
      "===========iteration:400===========\n",
      "std:2.3030344237190468\n",
      "xavier:1.335366054711084\n",
      "he:0.5086020434103685\n",
      "===========iteration:500===========\n",
      "std:2.29766982884747\n",
      "xavier:0.894385859511651\n",
      "he:0.44812396692006023\n",
      "===========iteration:600===========\n",
      "std:2.3008199211251608\n",
      "xavier:0.6238313409266765\n",
      "he:0.27736839841428257\n",
      "===========iteration:700===========\n",
      "std:2.3010509931540852\n",
      "xavier:0.5579896675814924\n",
      "he:0.2896415039564361\n",
      "===========iteration:800===========\n",
      "std:2.301434987704108\n",
      "xavier:0.459252709430352\n",
      "he:0.2238827178450316\n",
      "===========iteration:900===========\n",
      "std:2.3005477959850102\n",
      "xavier:0.4602357063802359\n",
      "he:0.31618862104924184\n",
      "===========iteration:1000===========\n",
      "std:2.3027761783894407\n",
      "xavier:0.3906359399295092\n",
      "he:0.2620529703904079\n",
      "===========iteration:1100===========\n",
      "std:2.302556990199069\n",
      "xavier:0.5115228920158547\n",
      "he:0.3861384492315608\n",
      "===========iteration:1200===========\n",
      "std:2.3007786619274446\n",
      "xavier:0.4342305515521568\n",
      "he:0.2822185511148832\n",
      "===========iteration:1300===========\n",
      "std:2.3016406223943293\n",
      "xavier:0.3137483112381433\n",
      "he:0.15764420578595284\n",
      "===========iteration:1400===========\n",
      "std:2.294598578650412\n",
      "xavier:0.30483527703350677\n",
      "he:0.17496156025710147\n",
      "===========iteration:1500===========\n",
      "std:2.301444372114781\n",
      "xavier:0.3317479865068156\n",
      "he:0.286372175065597\n",
      "===========iteration:1600===========\n",
      "std:2.2978152504468654\n",
      "xavier:0.3581961519920172\n",
      "he:0.2613964999705327\n",
      "===========iteration:1700===========\n",
      "std:2.3014866401505767\n",
      "xavier:0.1913349742438923\n",
      "he:0.0972955304050707\n",
      "===========iteration:1800===========\n",
      "std:2.3091787758235016\n",
      "xavier:0.3973833932312042\n",
      "he:0.25277462521649113\n",
      "===========iteration:1900===========\n",
      "std:2.3021677358703965\n",
      "xavier:0.22800399461724735\n",
      "he:0.1334830273313126\n"
     ]
    }
   ],
   "source": [
    "for i in range(2000):\n",
    "    choiceidx = np.random.choice(train_size,batch_size)\n",
    "    x_batch = x_train[choiceidx];\n",
    "    t_batch = t_train[choiceidx]\n",
    "    \n",
    "    for key in weigth_init_method.keys():\n",
    "        grads = networks[key].gradient(x_batch,t_batch);\n",
    "        \n",
    "        optimizers.update(networks[key].params, grads)\n",
    "        \n",
    "        train_loss[key].append(networks[key].loss(x_batch,t_batch));\n",
    "    \n",
    "    if i % 100 == 0:\n",
    "        print( \"===========\" + \"iteration:\" + str(i) + \"===========\")\n",
    "        for key in weigth_init_method.keys():\n",
    "            loss = networks[key].loss(x_batch, t_batch)\n",
    "            print(key + \":\" + str(loss))\n",
    "    "
   ]
  },
  {
   "cell_type": "code",
   "execution_count": 7,
   "id": "59214e7e",
   "metadata": {},
   "outputs": [
    {
     "data": {
      "image/png": "[encoded data removed]",
      "text/plain": [
       "<Figure size 640x480 with 1 Axes>"
      ]
     },
     "metadata": {},
     "output_type": "display_data"
    }
   ],
   "source": [
    "markers = {\"std\": \"o\", \"xavier\": \"x\", \"he\": \"s\"}\n",
    "x = np.arange(2000)\n",
    "for key in weigth_init_method.keys():\n",
    "    plt.plot(x, smooth_curve(train_loss[key]), marker=markers[key], markevery=100, label=key)\n",
    "plt.xlabel(\"iterations\")\n",
    "plt.ylabel(\"loss\")\n",
    "plt.ylim(0, 3)\n",
    "plt.legend()\n",
    "plt.show()"
   ]
  },
  {
   "cell_type": "code",
   "execution_count": null,
   "id": "cee41af3",
   "metadata": {},
   "outputs": [],
   "source": [
    "del "
   ]
  }
 ],
 "metadata": {
  "kernelspec": {
   "display_name": "Python 3 (ipykernel)",
   "language": "python",
   "name": "python3"
  },
  "language_info": {
   "codemirror_mode": {
    "name": "ipython",
    "version": 3
   },
   "file_extension": ".py",
   "mimetype": "text/x-python",
   "name": "python",
   "nbconvert_exporter": "python",
   "pygments_lexer": "ipython3",
   "version": "3.10.9"
  }
 },
 "nbformat": 4,
 "nbformat_minor": 5
}
