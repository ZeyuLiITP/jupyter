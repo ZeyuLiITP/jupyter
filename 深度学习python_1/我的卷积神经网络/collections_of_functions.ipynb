{
 "cells": [
  {
   "cell_type": "code",
   "execution_count": null,
   "id": "b34f8d11",
   "metadata": {},
   "outputs": [],
   "source": [
    "def Start_point(x_h, x_w, f_h,f_w): #给定数据的长宽和滤波器的长宽，输出卷卷积起始点\n",
    "    o_h = int( (x_h + 2*0 -f_h)/1 + 1 )\n",
    "    o_w = int( (x_w + 2*0 -f_w)/1 + 1 )\n",
    "    pointlist = [(x, y) for x in range(o_h) for y in range(o_w)];\n",
    "    \n",
    "    return pointlist\n",
    "\n",
    "\n",
    "def my_im2col(x , filter_h , filter_w): #先默认stride =1 ,pad = 0\n",
    "    N , C, H, W = x.shape;\n",
    "    col = []; #压缩后的list\n",
    "    startpoint_list = Start_point(H,W,filter_h,filter_w); #给出每一个\n",
    "    \n",
    "    for n in range(N):\n",
    "        for (i , j) in startpoint_list:\n",
    "            x_slice_fat = [];\n",
    "            for c in range(C):\n",
    "                x_test = x[n,c];\n",
    "                x_slice = x_test[i:i+filter_h , j:j+filter_w].ravel();\n",
    "                x_slice_fat = np.concatenate((x_slice_fat, x_slice), axis=0)\n",
    "            col.append(x_slice_fat)\n",
    "    \n",
    "    return np.array(col)"
   ]
  },
  {
   "cell_type": "code",
   "execution_count": null,
   "id": "3a8614bd",
   "metadata": {},
   "outputs": [],
   "source": [
    "class my_conv:\n",
    "    def __init__(self,x,FN, FH, FW): \n",
    "        self.N, self.C , self.H, self.W = x.shape; #根据输入数据决定\n",
    "        self.FN = FN;\n",
    "        self.FH = FH;\n",
    "        self.FW = FW;\n",
    "        \n",
    "        self.params={};\n",
    "        self.params['W'] = math.sqrt(2.0/(self.FN*self.C*self.FH*self.FW))* np.random.randn(self.FN,self.C,self.FH,self.FW);\n",
    "        self.params['b'] = np.zeros((self.FN,1,1))\n",
    "        \n",
    "    def forward(self,x):\n",
    "        \n",
    "        OH = int( (self.H + 2*0 -self.FH)/1 + 1 );\n",
    "        OW = int( (self.W + 2*0 -self.FW)/1 + 1 );\n",
    "        \n",
    "        x_col = im2col(x,self.FH,self.FW ,stride=1,pad=0);\n",
    "        filter_flat = self.params['W'].reshape(self.FN , -1).T;\n",
    "        \n",
    "        x_aftercov = np.dot(x_col,filter_flat)\n",
    "        x_aftercov = (x_aftercov.T.reshape(self.FN,self.N,OH,OW).transpose(1,0,2,3)) + self.params['b']\n",
    "        return x_aftercov"
   ]
  },
  {
   "cell_type": "code",
   "execution_count": null,
   "id": "87bdfd75",
   "metadata": {},
   "outputs": [],
   "source": [
    "class my_pool_v1:\n",
    "    def __init__(self,pool_h, pool_w ,stride = 1, pad = 0):\n",
    "        self.pool_h = pool_h;\n",
    "        self.pool_w = pool_w;\n",
    "        self.stride = stride;\n",
    "        self.pad = pad;\n",
    "        \n",
    "    def forward(self,x):\n",
    "        N, C , H, W = x.shape;\n",
    "        OH = int( (H + 2*self.pad -self.pool_h)/self.stride + 1 );\n",
    "        OW = int( (W + 2*self.pad -self.pool_w)/self.stride + 1 );\n",
    "        \n",
    "        x_col = im2col(x,self.pool_h,self.pool_w ,stride=self.stride,pad=0);\n",
    "        x_col = x_col.reshape(N,OH,OW,C,-1).transpose(0,3,1,2,4).reshape(-1,self.pool_h*self.pool_w);\n",
    "        \n",
    "        out = np.max(x_col,axis=1).reshape(N,C,OH,OW);\n",
    "        \n",
    "        return out"
   ]
  },
  {
   "cell_type": "code",
   "execution_count": null,
   "id": "5d414ad5",
   "metadata": {},
   "outputs": [],
   "source": [
    "class my_Affine: #自己的affine层，根据输入的数据的形状初始化相应的权重，书本是直接把初始化好的权重输入给affine层\n",
    "    def __init__(self,x,hidden_size):\n",
    "        N =(x.shape)[0];\n",
    "        self.x = x.reshape(N,-1);\n",
    "        input_node_size = self.x.shape[1]\n",
    "        self.W = math.sqrt(2.0/ input_node_size) * np.random.randn(input_node_size,hidden_size);\n",
    "        self.b = np.zeros(hidden_size)\n",
    "        \n",
    "    def forward(self):\n",
    "        out = np.dot(self.x , self.W) + self.b;\n",
    "        return out"
   ]
  }
 ],
 "metadata": {
  "kernelspec": {
   "display_name": "Python 3 (ipykernel)",
   "language": "python",
   "name": "python3"
  },
  "language_info": {
   "codemirror_mode": {
    "name": "ipython",
    "version": 3
   },
   "file_extension": ".py",
   "mimetype": "text/x-python",
   "name": "python",
   "nbconvert_exporter": "python",
   "pygments_lexer": "ipython3",
   "version": "3.10.14"
  },
  "toc": {
   "base_numbering": 1,
   "nav_menu": {},
   "number_sections": true,
   "sideBar": true,
   "skip_h1_title": false,
   "title_cell": "Table of Contents",
   "title_sidebar": "Contents",
   "toc_cell": false,
   "toc_position": {},
   "toc_section_display": true,
   "toc_window_display": false
  }
 },
 "nbformat": 4,
 "nbformat_minor": 5
}
