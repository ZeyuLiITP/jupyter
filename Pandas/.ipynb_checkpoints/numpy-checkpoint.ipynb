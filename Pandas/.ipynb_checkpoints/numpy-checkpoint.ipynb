{
 "cells": [
  {
   "cell_type": "code",
   "execution_count": null,
   "id": "39bf4e0f",
   "metadata": {
    "ExecuteTime": {
     "end_time": "2024-05-02T07:26:02.784718Z",
     "start_time": "2024-05-02T07:26:01.625772Z"
    }
   },
   "outputs": [],
   "source": [
    "import numpy as np"
   ]
  },
  {
   "cell_type": "code",
   "execution_count": null,
   "id": "3b9c3f34",
   "metadata": {
    "ExecuteTime": {
     "end_time": "2024-05-02T07:28:58.248780Z",
     "start_time": "2024-05-02T07:28:58.236240Z"
    }
   },
   "outputs": [],
   "source": [
    "np.ones((3,3),dtype=bool)\n",
    "np.full((3,3),True,)"
   ]
  },
  {
   "cell_type": "code",
   "execution_count": null,
   "id": "c8b6172b",
   "metadata": {
    "ExecuteTime": {
     "end_time": "2024-05-02T07:31:07.616117Z",
     "start_time": "2024-05-02T07:31:07.596001Z"
    }
   },
   "outputs": [],
   "source": [
    "arr = np.array([0, 1, 2, 3, 4, 5, 6, 7, 8, 9])\n",
    "arr[arr % 2 == 1 ]\n",
    "np.where(arr % 2 ==1)"
   ]
  },
  {
   "cell_type": "code",
   "execution_count": null,
   "id": "dd4477f6",
   "metadata": {
    "ExecuteTime": {
     "end_time": "2024-05-02T07:32:10.496119Z",
     "start_time": "2024-05-02T07:32:10.490877Z"
    }
   },
   "outputs": [],
   "source": [
    "arr = np.array([0, 1, 2, 3, 4, 5, 6, 7, 8, 9])\n",
    "arr[arr % 2 == 1 ] = -1"
   ]
  },
  {
   "cell_type": "code",
   "execution_count": null,
   "id": "1c71994f",
   "metadata": {},
   "outputs": [],
   "source": []
  }
 ],
 "metadata": {
  "kernelspec": {
   "display_name": "Python 3 (ipykernel)",
   "language": "python",
   "name": "python3"
  },
  "language_info": {
   "codemirror_mode": {
    "name": "ipython",
    "version": 3
   },
   "file_extension": ".py",
   "mimetype": "text/x-python",
   "name": "python",
   "nbconvert_exporter": "python",
   "pygments_lexer": "ipython3",
   "version": "3.10.14"
  },
  "toc": {
   "base_numbering": 1,
   "nav_menu": {},
   "number_sections": true,
   "sideBar": true,
   "skip_h1_title": false,
   "title_cell": "Table of Contents",
   "title_sidebar": "Contents",
   "toc_cell": false,
   "toc_position": {},
   "toc_section_display": true,
   "toc_window_display": false
  }
 },
 "nbformat": 4,
 "nbformat_minor": 5
}
