{
 "cells": [
  {
   "cell_type": "markdown",
   "id": "8e827f1c",
   "metadata": {},
   "source": [
    "# Series"
   ]
  },
  {
   "cell_type": "code",
   "execution_count": 1,
   "id": "623b2be5",
   "metadata": {
    "ExecuteTime": {
     "end_time": "2024-04-25T11:20:28.261004Z",
     "start_time": "2024-04-25T11:20:27.314414Z"
    }
   },
   "outputs": [],
   "source": [
    "import numpy as np\n",
    "import pandas as pd"
   ]
  },
  {
   "cell_type": "code",
   "execution_count": null,
   "id": "090ae059",
   "metadata": {
    "ExecuteTime": {
     "end_time": "2024-04-20T12:18:02.328753Z",
     "start_time": "2024-04-20T12:18:02.310681Z"
    }
   },
   "outputs": [],
   "source": [
    "my_series = pd.Series(data = np.random.randint(10,20,size = 3),index= list('ABC'),name= 'age',dtype = np.float32)"
   ]
  },
  {
   "cell_type": "code",
   "execution_count": null,
   "id": "e6df7718",
   "metadata": {
    "ExecuteTime": {
     "end_time": "2024-04-20T12:20:51.959372Z",
     "start_time": "2024-04-20T12:20:51.951140Z"
    }
   },
   "outputs": [],
   "source": [
    "list(my_series.index)"
   ]
  },
  {
   "cell_type": "code",
   "execution_count": null,
   "id": "abb1f4c4",
   "metadata": {
    "ExecuteTime": {
     "end_time": "2024-04-20T12:21:04.643591Z",
     "start_time": "2024-04-20T12:21:04.626317Z"
    }
   },
   "outputs": [],
   "source": [
    "my_series.values"
   ]
  },
  {
   "cell_type": "code",
   "execution_count": null,
   "id": "6d178319",
   "metadata": {
    "ExecuteTime": {
     "end_time": "2024-04-20T12:24:57.771353Z",
     "start_time": "2024-04-20T12:24:57.763784Z"
    }
   },
   "outputs": [],
   "source": [
    "my_dataframe = pd.DataFrame(my_series,columns=['age'])"
   ]
  },
  {
   "cell_type": "code",
   "execution_count": null,
   "id": "c49a970f",
   "metadata": {
    "ExecuteTime": {
     "end_time": "2024-04-20T12:27:41.986079Z",
     "start_time": "2024-04-20T12:27:41.968039Z"
    }
   },
   "outputs": [],
   "source": [
    "copy = my_series.to_frame(name='xxx')"
   ]
  },
  {
   "cell_type": "code",
   "execution_count": null,
   "id": "56603408",
   "metadata": {
    "ExecuteTime": {
     "end_time": "2024-04-20T12:27:46.217519Z",
     "start_time": "2024-04-20T12:27:46.200353Z"
    }
   },
   "outputs": [],
   "source": []
  },
  {
   "cell_type": "markdown",
   "id": "84ab50f8",
   "metadata": {},
   "source": [
    "# DataFrame"
   ]
  },
  {
   "cell_type": "code",
   "execution_count": null,
   "id": "fffba4cd",
   "metadata": {
    "ExecuteTime": {
     "end_time": "2024-04-24T11:07:02.855109Z",
     "start_time": "2024-04-24T11:07:02.847934Z"
    }
   },
   "outputs": [],
   "source": [
    "data = [('ad',23,'dfd'),('dfdf',34,'efdf'),('creg',345,'fdsfae')]"
   ]
  },
  {
   "cell_type": "code",
   "execution_count": null,
   "id": "e8a55524",
   "metadata": {
    "ExecuteTime": {
     "end_time": "2024-04-24T11:07:03.843339Z",
     "start_time": "2024-04-24T11:07:03.819974Z"
    }
   },
   "outputs": [],
   "source": [
    "df = pd.DataFrame(data,columns=['a','b','c'])\n",
    "df"
   ]
  },
  {
   "cell_type": "code",
   "execution_count": null,
   "id": "8bf84855",
   "metadata": {
    "ExecuteTime": {
     "end_time": "2024-04-21T11:35:11.433217Z",
     "start_time": "2024-04-21T11:35:11.425399Z"
    }
   },
   "outputs": [],
   "source": [
    "data = np.random.randn(3,3)"
   ]
  },
  {
   "cell_type": "code",
   "execution_count": null,
   "id": "38ac6bc6",
   "metadata": {
    "ExecuteTime": {
     "end_time": "2024-04-21T11:35:51.926601Z",
     "start_time": "2024-04-21T11:35:51.912245Z"
    }
   },
   "outputs": [],
   "source": [
    "pd.DataFrame(data,columns=['1','2','2'])"
   ]
  },
  {
   "cell_type": "code",
   "execution_count": null,
   "id": "65bf1afa",
   "metadata": {
    "ExecuteTime": {
     "end_time": "2024-04-21T11:42:35.406634Z",
     "start_time": "2024-04-21T11:42:35.399185Z"
    }
   },
   "outputs": [],
   "source": [
    "df = pd.DataFrame(np.random.randint(0,151,size=(100,3)),columns=['Python','Math','En'])\n",
    "df.to_csv('output.csv',index = True,sep = '\\t')"
   ]
  },
  {
   "cell_type": "code",
   "execution_count": null,
   "id": "68a3bbe2",
   "metadata": {
    "ExecuteTime": {
     "end_time": "2024-04-21T11:47:46.525325Z",
     "start_time": "2024-04-21T11:47:46.358403Z"
    }
   },
   "outputs": [],
   "source": [
    "df = pd.DataFrame(np.random.randint(0,151,size=(100,3)),columns=['Python','Math','En'])\n",
    "df.to_excel('output.xlsx',index = False)"
   ]
  },
  {
   "cell_type": "code",
   "execution_count": null,
   "id": "17798f88",
   "metadata": {
    "ExecuteTime": {
     "end_time": "2024-04-21T11:50:34.863015Z",
     "start_time": "2024-04-21T11:50:34.853907Z"
    }
   },
   "outputs": [],
   "source": [
    "df = pd.DataFrame(np.random.randint(0,151,size=(100,3)),columns=['Python','Math','En'])\n",
    "df.to_json('output.json', orient='split')"
   ]
  },
  {
   "cell_type": "code",
   "execution_count": null,
   "id": "a42ea613",
   "metadata": {
    "ExecuteTime": {
     "end_time": "2024-04-21T11:52:19.073636Z",
     "start_time": "2024-04-21T11:52:19.061045Z"
    }
   },
   "outputs": [],
   "source": [
    "pd.read_csv('./output.csv',sep='\\t')"
   ]
  },
  {
   "cell_type": "code",
   "execution_count": null,
   "id": "7130d202",
   "metadata": {
    "ExecuteTime": {
     "end_time": "2024-04-21T11:52:47.433120Z",
     "start_time": "2024-04-21T11:52:47.409635Z"
    }
   },
   "outputs": [],
   "source": []
  },
  {
   "cell_type": "code",
   "execution_count": null,
   "id": "1100160f",
   "metadata": {
    "ExecuteTime": {
     "end_time": "2024-04-21T11:53:31.903398Z",
     "start_time": "2024-04-21T11:53:31.882221Z"
    }
   },
   "outputs": [],
   "source": [
    "pd.read_json('./output.json',orient='split')"
   ]
  },
  {
   "cell_type": "code",
   "execution_count": null,
   "id": "b176f083",
   "metadata": {
    "ExecuteTime": {
     "end_time": "2024-04-24T11:03:21.244537Z",
     "start_time": "2024-04-24T11:03:20.885128Z"
    }
   },
   "outputs": [],
   "source": [
    "df1 = pd.read_excel('./output.xlsx')\n",
    "df2 = pd.read_json('./output.json',orient='split')"
   ]
  },
  {
   "cell_type": "code",
   "execution_count": null,
   "id": "952261c8",
   "metadata": {
    "ExecuteTime": {
     "end_time": "2024-04-22T11:49:37.843306Z",
     "start_time": "2024-04-22T11:49:37.774161Z"
    }
   },
   "outputs": [],
   "source": [
    "with pd.ExcelWriter('./多表.xlsx',engine='openpyxl') as ew:\n",
    "    df1.to_excel(ew,sheet_name='sheet1',index=False)\n",
    "    df2.to_excel(ew,sheet_name='表二',index=False)"
   ]
  },
  {
   "cell_type": "code",
   "execution_count": null,
   "id": "3aaa45a7",
   "metadata": {
    "ExecuteTime": {
     "end_time": "2024-04-22T12:10:58.446742Z",
     "start_time": "2024-04-22T12:10:58.416661Z"
    }
   },
   "outputs": [],
   "source": [
    "index_labels = pd.MultiIndex.from_product([[1,2,3,4],['a','b']],names=['Name','Exam'])\n",
    "df = pd.DataFrame(data = np.random.randint(80,151,size=(8,2)) ,index=index_labels,columns=['Python','Math'])"
   ]
  },
  {
   "cell_type": "code",
   "execution_count": null,
   "id": "51227d1d",
   "metadata": {
    "ExecuteTime": {
     "end_time": "2024-04-22T12:11:02.163771Z",
     "start_time": "2024-04-22T12:11:02.149218Z"
    }
   },
   "outputs": [],
   "source": [
    "df"
   ]
  },
  {
   "cell_type": "code",
   "execution_count": null,
   "id": "203b5e27",
   "metadata": {
    "ExecuteTime": {
     "end_time": "2024-04-23T11:00:44.498499Z",
     "start_time": "2024-04-23T11:00:44.469906Z"
    }
   },
   "outputs": [],
   "source": [
    "index_labels = pd.MultiIndex.from_product([[1,2,3,4],['a','b']],names=['Name','Exam'])\n",
    "df = pd.DataFrame(data = np.random.randint(80,151,size=(8,2)) ,index=index_labels,columns=['Python','Math'])"
   ]
  },
  {
   "cell_type": "code",
   "execution_count": null,
   "id": "ab749c50",
   "metadata": {
    "ExecuteTime": {
     "end_time": "2024-04-23T11:01:15.632009Z",
     "start_time": "2024-04-23T11:01:15.589525Z"
    }
   },
   "outputs": [],
   "source": [
    "df.to_csv('./multi_index.csv')"
   ]
  },
  {
   "cell_type": "code",
   "execution_count": null,
   "id": "f59fc48e",
   "metadata": {
    "ExecuteTime": {
     "end_time": "2024-04-23T11:01:31.810246Z",
     "start_time": "2024-04-23T11:01:31.541022Z"
    }
   },
   "outputs": [],
   "source": [
    "df.to_excel('./multi_index.xlsx')"
   ]
  },
  {
   "cell_type": "code",
   "execution_count": null,
   "id": "5830d216",
   "metadata": {
    "ExecuteTime": {
     "end_time": "2024-04-23T11:04:34.827310Z",
     "start_time": "2024-04-23T11:04:34.812796Z"
    }
   },
   "outputs": [],
   "source": [
    "pd.read_csv('./multi_index.csv', index_col = ['Name','Exam'])"
   ]
  },
  {
   "cell_type": "code",
   "execution_count": null,
   "id": "8424ec29",
   "metadata": {
    "ExecuteTime": {
     "end_time": "2024-04-23T11:05:41.194621Z",
     "start_time": "2024-04-23T11:05:41.165439Z"
    }
   },
   "outputs": [],
   "source": [
    "pd.read_excel('./multi_index.xlsx', index_col = [0,1])"
   ]
  },
  {
   "cell_type": "code",
   "execution_count": null,
   "id": "e66b02bb",
   "metadata": {
    "ExecuteTime": {
     "end_time": "2024-04-24T11:10:18.436174Z",
     "start_time": "2024-04-24T11:10:18.426111Z"
    }
   },
   "outputs": [],
   "source": [
    "print(df)\n",
    "df.melt(id_vars='a',var_name='x', value_name='y')"
   ]
  },
  {
   "cell_type": "code",
   "execution_count": null,
   "id": "a6848556",
   "metadata": {
    "ExecuteTime": {
     "end_time": "2024-04-24T11:18:23.031142Z",
     "start_time": "2024-04-24T11:18:23.017367Z"
    }
   },
   "outputs": [],
   "source": [
    "numbers = [23, 56, 12, 89]\n",
    "\n",
    "ser = pd.Series(numbers, index=[*'abcd'])"
   ]
  },
  {
   "cell_type": "code",
   "execution_count": null,
   "id": "9821ce46",
   "metadata": {
    "ExecuteTime": {
     "end_time": "2024-04-24T11:20:34.845008Z",
     "start_time": "2024-04-24T11:20:34.832152Z"
    }
   },
   "outputs": [],
   "source": [
    "info = [('Alice', 25),\n",
    "        ('Bob', 30),\n",
    "        ('Charlie', 35),\n",
    "        ('David', 40)]"
   ]
  },
  {
   "cell_type": "code",
   "execution_count": null,
   "id": "e31fbef3",
   "metadata": {
    "ExecuteTime": {
     "end_time": "2024-04-24T11:22:54.440736Z",
     "start_time": "2024-04-24T11:22:54.430894Z"
    }
   },
   "outputs": [],
   "source": [
    "index=[info[i][0] for i in range(len(info))]\n",
    "value = [info[i][1] for i in range(len(info))]"
   ]
  },
  {
   "cell_type": "code",
   "execution_count": null,
   "id": "a766c02f",
   "metadata": {
    "ExecuteTime": {
     "end_time": "2024-04-24T11:23:33.429968Z",
     "start_time": "2024-04-24T11:23:33.422791Z"
    }
   },
   "outputs": [],
   "source": [
    "pd.Series(value,index = index, name='age')"
   ]
  },
  {
   "cell_type": "code",
   "execution_count": null,
   "id": "dde10a70",
   "metadata": {
    "ExecuteTime": {
     "end_time": "2024-04-24T11:25:50.315800Z",
     "start_time": "2024-04-24T11:25:50.311001Z"
    }
   },
   "outputs": [],
   "source": [
    "dict(info)"
   ]
  },
  {
   "cell_type": "code",
   "execution_count": null,
   "id": "a2b860cd",
   "metadata": {
    "ExecuteTime": {
     "end_time": "2024-04-24T11:32:07.704627Z",
     "start_time": "2024-04-24T11:32:07.694859Z"
    }
   },
   "outputs": [],
   "source": [
    "d = {'a': 1, 'b': 2, 'c': 3, 'd': 4}"
   ]
  },
  {
   "cell_type": "code",
   "execution_count": null,
   "id": "2899c110",
   "metadata": {
    "ExecuteTime": {
     "end_time": "2024-04-24T11:35:49.909286Z",
     "start_time": "2024-04-24T11:35:49.900288Z"
    }
   },
   "outputs": [],
   "source": [
    "pd.Series(d,index=['a','c'])"
   ]
  },
  {
   "cell_type": "code",
   "execution_count": 2,
   "id": "02e025ff",
   "metadata": {
    "ExecuteTime": {
     "end_time": "2024-04-25T11:20:35.916499Z",
     "start_time": "2024-04-25T11:20:35.902357Z"
    }
   },
   "outputs": [],
   "source": [
    "data = [82, 43, 64, 23]"
   ]
  },
  {
   "cell_type": "code",
   "execution_count": 4,
   "id": "8c0c7e9c",
   "metadata": {
    "ExecuteTime": {
     "end_time": "2024-04-25T11:21:09.586963Z",
     "start_time": "2024-04-25T11:21:09.567551Z"
    }
   },
   "outputs": [
    {
     "data": {
      "text/plain": [
       "0    82.0\n",
       "1    43.0\n",
       "2    64.0\n",
       "3    23.0\n",
       "dtype: float32"
      ]
     },
     "execution_count": 4,
     "metadata": {},
     "output_type": "execute_result"
    }
   ],
   "source": [
    "pd.Series(data,dtype='f')"
   ]
  },
  {
   "cell_type": "code",
   "execution_count": 5,
   "id": "55611e60",
   "metadata": {
    "ExecuteTime": {
     "end_time": "2024-04-25T11:22:21.213627Z",
     "start_time": "2024-04-25T11:22:21.199022Z"
    }
   },
   "outputs": [],
   "source": [
    "import pandas as pd\n",
    "\n",
    "ser = pd.Series([1, 2, 3, 4],\n",
    "                index=['a', 'b', 'c', 'd'],\n",
    "                name='age',\n",
    "                dtype='float'\n",
    "               )"
   ]
  },
  {
   "cell_type": "code",
   "execution_count": 15,
   "id": "fd89ec6c",
   "metadata": {
    "ExecuteTime": {
     "end_time": "2024-04-25T11:28:25.174547Z",
     "start_time": "2024-04-25T11:28:25.160965Z"
    }
   },
   "outputs": [
    {
     "data": {
      "text/plain": [
       "a       1\n",
       "b       3\n",
       "cccc    5\n",
       "dtype: int64"
      ]
     },
     "execution_count": 15,
     "metadata": {},
     "output_type": "execute_result"
    }
   ],
   "source": [
    "ser = pd.Series([1, 3, 5],\n",
    "                index=['a', 'b', 'cccc'])\n",
    "ser"
   ]
  },
  {
   "cell_type": "code",
   "execution_count": 17,
   "id": "c99a3711",
   "metadata": {
    "ExecuteTime": {
     "end_time": "2024-04-25T11:28:35.989700Z",
     "start_time": "2024-04-25T11:28:35.981341Z"
    }
   },
   "outputs": [
    {
     "data": {
      "text/plain": [
       "5"
      ]
     },
     "execution_count": 17,
     "metadata": {},
     "output_type": "execute_result"
    }
   ],
   "source": [
    "ser.cccc"
   ]
  },
  {
   "cell_type": "code",
   "execution_count": null,
   "id": "3fae2125",
   "metadata": {},
   "outputs": [],
   "source": []
  }
 ],
 "metadata": {
  "kernelspec": {
   "display_name": "Python 3 (ipykernel)",
   "language": "python",
   "name": "python3"
  },
  "language_info": {
   "codemirror_mode": {
    "name": "ipython",
    "version": 3
   },
   "file_extension": ".py",
   "mimetype": "text/x-python",
   "name": "python",
   "nbconvert_exporter": "python",
   "pygments_lexer": "ipython3",
   "version": "3.10.14"
  },
  "toc": {
   "base_numbering": 1,
   "nav_menu": {},
   "number_sections": true,
   "sideBar": true,
   "skip_h1_title": false,
   "title_cell": "Table of Contents",
   "title_sidebar": "Contents",
   "toc_cell": false,
   "toc_position": {
    "height": "calc(100% - 180px)",
    "left": "10px",
    "top": "150px",
    "width": "253.679px"
   },
   "toc_section_display": true,
   "toc_window_display": false
  }
 },
 "nbformat": 4,
 "nbformat_minor": 5
}
