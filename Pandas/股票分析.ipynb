{
 "cells": [
  {
   "cell_type": "code",
   "execution_count": null,
   "id": "40ee0edd",
   "metadata": {
    "ExecuteTime": {
     "end_time": "2024-04-23T11:14:05.375932Z",
     "start_time": "2024-04-23T11:14:04.949941Z"
    }
   },
   "outputs": [],
   "source": [
    "import tushare as ts\n",
    "import pandas as pd\n",
    "from pandas import DataFrame, Series\n",
    "import numpy as np"
   ]
  },
  {
   "cell_type": "code",
   "execution_count": null,
   "id": "e67900f8",
   "metadata": {
    "ExecuteTime": {
     "end_time": "2024-04-21T12:08:57.454387Z",
     "start_time": "2024-04-21T12:08:57.441990Z"
    }
   },
   "outputs": [],
   "source": [
    "ts.set_token('54117eeab6bad713fb508d8cab7314409838de8d31253e3ef70e1b79')"
   ]
  },
  {
   "cell_type": "code",
   "execution_count": null,
   "id": "c7adbf58",
   "metadata": {
    "ExecuteTime": {
     "end_time": "2024-04-21T12:09:20.517983Z",
     "start_time": "2024-04-21T12:09:20.493792Z"
    }
   },
   "outputs": [],
   "source": [
    "pro = ts.pro_api()"
   ]
  },
  {
   "cell_type": "code",
   "execution_count": null,
   "id": "bdde9510",
   "metadata": {
    "ExecuteTime": {
     "end_time": "2024-04-22T11:27:37.044963Z",
     "start_time": "2024-04-22T11:27:30.180111Z"
    }
   },
   "outputs": [],
   "source": [
    "df = ts.get_k_data(code='600519',start='2000-01-01')"
   ]
  },
  {
   "cell_type": "code",
   "execution_count": null,
   "id": "759f8d6c",
   "metadata": {
    "ExecuteTime": {
     "end_time": "2024-04-23T11:14:34.969322Z",
     "start_time": "2024-04-23T11:14:34.939353Z"
    }
   },
   "outputs": [],
   "source": [
    "df = pd.read_csv('./maotai.csv')\n",
    "df.head() #显示前5行\n",
    "df.drop(labels='Unnamed: 0' ,axis=1,inplace=True)\n",
    "df['date'] = pd.to_datetime(df['date'])\n",
    "df.set_index('date',inplace=True)"
   ]
  },
  {
   "cell_type": "code",
   "execution_count": null,
   "id": "fcaca06c",
   "metadata": {
    "ExecuteTime": {
     "end_time": "2024-04-21T12:30:33.508962Z",
     "start_time": "2024-04-21T12:30:33.470178Z"
    }
   },
   "outputs": [],
   "source": [
    "df.to_csv('./maotai.csv')"
   ]
  },
  {
   "cell_type": "code",
   "execution_count": null,
   "id": "79a048a2",
   "metadata": {
    "ExecuteTime": {
     "end_time": "2024-04-22T12:17:58.627481Z",
     "start_time": "2024-04-22T12:17:58.607453Z"
    }
   },
   "outputs": [],
   "source": []
  },
  {
   "cell_type": "code",
   "execution_count": null,
   "id": "2020ac6c",
   "metadata": {
    "ExecuteTime": {
     "end_time": "2024-04-23T11:14:37.185748Z",
     "start_time": "2024-04-23T11:14:37.162847Z"
    }
   },
   "outputs": [],
   "source": [
    "df.head()"
   ]
  },
  {
   "cell_type": "code",
   "execution_count": null,
   "id": "02e9962d",
   "metadata": {
    "ExecuteTime": {
     "end_time": "2024-04-23T11:15:09.230295Z",
     "start_time": "2024-04-23T11:15:09.225776Z"
    }
   },
   "outputs": [],
   "source": [
    "series = (df['close'] - df['open']) / df['open'] > 0.03"
   ]
  },
  {
   "cell_type": "code",
   "execution_count": null,
   "id": "fe74eaac",
   "metadata": {
    "ExecuteTime": {
     "end_time": "2024-04-23T11:21:38.051797Z",
     "start_time": "2024-04-23T11:21:38.041163Z"
    }
   },
   "outputs": [],
   "source": [
    "df.loc[(df['open'] - df['close'].shift(1)) / df['open'] < -0.02].index"
   ]
  },
  {
   "cell_type": "code",
   "execution_count": null,
   "id": "60954467",
   "metadata": {
    "ExecuteTime": {
     "end_time": "2024-04-23T11:33:13.491637Z",
     "start_time": "2024-04-23T11:33:13.486491Z"
    }
   },
   "outputs": [],
   "source": [
    "df1 = df.loc['2010-01':]"
   ]
  },
  {
   "cell_type": "code",
   "execution_count": null,
   "id": "ac4e0662",
   "metadata": {
    "ExecuteTime": {
     "end_time": "2024-04-23T11:40:55.062821Z",
     "start_time": "2024-04-23T11:40:55.039578Z"
    }
   },
   "outputs": [],
   "source": [
    "df1.head(2)"
   ]
  },
  {
   "cell_type": "code",
   "execution_count": null,
   "id": "387a739e",
   "metadata": {
    "ExecuteTime": {
     "end_time": "2024-04-23T11:41:51.094765Z",
     "start_time": "2024-04-23T11:41:51.088618Z"
    }
   },
   "outputs": [],
   "source": [
    "df_monthly = df1.resample('ME').first()"
   ]
  },
  {
   "cell_type": "code",
   "execution_count": null,
   "id": "3940af10",
   "metadata": {
    "ExecuteTime": {
     "end_time": "2024-04-23T11:43:21.626567Z",
     "start_time": "2024-04-23T11:43:21.620411Z"
    }
   },
   "outputs": [],
   "source": [
    "cost = df_monthly['open'].sum() * 100"
   ]
  },
  {
   "cell_type": "code",
   "execution_count": null,
   "id": "155e120b",
   "metadata": {
    "ExecuteTime": {
     "end_time": "2024-04-23T11:46:53.157740Z",
     "start_time": "2024-04-23T11:46:53.153759Z"
    }
   },
   "outputs": [],
   "source": [
    "df_year = df1.resample('YE').last().iloc[:-1]"
   ]
  },
  {
   "cell_type": "code",
   "execution_count": null,
   "id": "70345ee7",
   "metadata": {
    "ExecuteTime": {
     "end_time": "2024-04-23T11:47:42.331423Z",
     "start_time": "2024-04-23T11:47:42.326274Z"
    }
   },
   "outputs": [],
   "source": [
    "df_year['open'].sum() * 1200"
   ]
  },
  {
   "cell_type": "code",
   "execution_count": null,
   "id": "054d3750",
   "metadata": {},
   "outputs": [],
   "source": []
  }
 ],
 "metadata": {
  "kernelspec": {
   "display_name": "Python 3 (ipykernel)",
   "language": "python",
   "name": "python3"
  },
  "language_info": {
   "codemirror_mode": {
    "name": "ipython",
    "version": 3
   },
   "file_extension": ".py",
   "mimetype": "text/x-python",
   "name": "python",
   "nbconvert_exporter": "python",
   "pygments_lexer": "ipython3",
   "version": "3.10.14"
  },
  "toc": {
   "base_numbering": 1,
   "nav_menu": {},
   "number_sections": true,
   "sideBar": true,
   "skip_h1_title": false,
   "title_cell": "Table of Contents",
   "title_sidebar": "Contents",
   "toc_cell": false,
   "toc_position": {},
   "toc_section_display": true,
   "toc_window_display": false
  }
 },
 "nbformat": 4,
 "nbformat_minor": 5
}
